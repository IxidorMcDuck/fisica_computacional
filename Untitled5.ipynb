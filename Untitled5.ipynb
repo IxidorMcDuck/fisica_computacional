{
 "metadata": {
  "name": "",
  "signature": "sha256:f0e7dea9143009f6f100000172e4ba902f7bb44e4a9de56bb4595e869e4c3b6e"
 },
 "nbformat": 3,
 "nbformat_minor": 0,
 "worksheets": [
  {
   "cells": [
    {
     "cell_type": "markdown",
     "metadata": {},
     "source": [
      "Cuenta:\n",
      "\n",
      "est2\n",
      "\n",
      "Clave:\n",
      "\n",
      "est2dGeV2WkX"
     ]
    }
   ],
   "metadata": {}
  }
 ]
}