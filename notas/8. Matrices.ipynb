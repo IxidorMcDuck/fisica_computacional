{
 "metadata": {
  "language": "Julia",
  "name": "",
  "signature": "sha256:cbd995e5f5ef797fc07e2b9715acd9a843f8ee1666bfa6312a1319db919ef722"
 },
 "nbformat": 3,
 "nbformat_minor": 0,
 "worksheets": [
  {
   "cells": [
    {
     "cell_type": "heading",
     "level": 1,
     "metadata": {},
     "source": [
      "Matrices"
     ]
    },
    {
     "cell_type": "markdown",
     "metadata": {},
     "source": [
      "Las matrices son importantes en muchas \u00e1reas de la f\u00edsica y del c\u00f3mputo; veremos muchos ejemplos. Para comenzar, necesitamos saber manipular matrices en Julia."
     ]
    },
    {
     "cell_type": "markdown",
     "metadata": {},
     "source": [
      "Las matrices se pueden definir a mano con una extensi\u00f3n de la sintaxis para vectores:"
     ]
    },
    {
     "cell_type": "code",
     "collapsed": false,
     "input": [
      "M = [1 2; 3 4]"
     ],
     "language": "python",
     "metadata": {},
     "outputs": [
      {
       "metadata": {},
       "output_type": "pyout",
       "prompt_number": 1,
       "text": [
        "2x2 Array{Int64,2}:\n",
        " 1  2\n",
        " 3  4"
       ]
      }
     ],
     "prompt_number": 1
    },
    {
     "cell_type": "markdown",
     "metadata": {},
     "source": [
      "Nota que no hay comas, y que hay un punto y coma para separar las l\u00edneas."
     ]
    },
    {
     "cell_type": "markdown",
     "metadata": {},
     "source": [
      "Una manera interesante de construir una matriz es con una comprensi\u00f3n doble:"
     ]
    },
    {
     "cell_type": "code",
     "collapsed": false,
     "input": [
      "M = [i+j for i in 1:3, j in 1:3]"
     ],
     "language": "python",
     "metadata": {},
     "outputs": [
      {
       "metadata": {},
       "output_type": "pyout",
       "prompt_number": 2,
       "text": [
        "3x3 Array{Int64,2}:\n",
        " 2  3  4\n",
        " 3  4  5\n",
        " 4  5  6"
       ]
      }
     ],
     "prompt_number": 2
    },
    {
     "cell_type": "markdown",
     "metadata": {},
     "source": [
      "Hay funciones para definir tipos especiales de matriz:"
     ]
    },
    {
     "cell_type": "markdown",
     "metadata": {},
     "source": [
      "[1] \u00bfQu\u00e9 hace la funci\u00f3n `zeros`? \n",
      "\n",
      "[2] \u00bfQu\u00e9 hace la funci\u00f3n `ones`?\n",
      "\n",
      "[3] \u00bfQu\u00e9 hace la funci\u00f3n `eye`?"
     ]
    },
    {
     "cell_type": "markdown",
     "metadata": {},
     "source": [
      "[4] \u00bfQu\u00e9 pasa si intentas acceder a elementos de una matriz? \u00bfC\u00f3mo se accede al elemento $M_{2,1}$ de una matriz $M$?"
     ]
    },
    {
     "cell_type": "heading",
     "level": 2,
     "metadata": {},
     "source": [
      "Operaciones con matrices"
     ]
    },
    {
     "cell_type": "markdown",
     "metadata": {},
     "source": [
      "[5] Investiga cu\u00e1les operaciones b\u00e1sicas est\u00e1n disponibles para matrices."
     ]
    }
   ],
   "metadata": {}
  }
 ]
}