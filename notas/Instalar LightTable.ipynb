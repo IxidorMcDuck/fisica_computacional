{
 "metadata": {
  "language": "Julia",
  "name": "",
  "signature": "sha256:4171a67abfa3e7068e82e527a0433c71b9f52f9903ad0dcb0f418d0b25354e41"
 },
 "nbformat": 3,
 "nbformat_minor": 0,
 "worksheets": [
  {
   "cells": [
    {
     "cell_type": "code",
     "collapsed": false,
     "input": [
      ";cd"
     ],
     "language": "python",
     "metadata": {},
     "outputs": [
      {
       "output_type": "stream",
       "stream": "stdout",
       "text": [
        "/home/csar\n"
       ]
      }
     ],
     "prompt_number": 11
    },
    {
     "cell_type": "code",
     "collapsed": false,
     "input": [
      ";cd Descargas"
     ],
     "language": "python",
     "metadata": {},
     "outputs": [
      {
       "output_type": "stream",
       "stream": "stdout",
       "text": [
        "/home/csar/Descargas\n"
       ]
      }
     ],
     "prompt_number": 12
    },
    {
     "cell_type": "code",
     "collapsed": false,
     "input": [
      ";tar zxvf LightTableLinux64.tar.gz > /dev/null"
     ],
     "language": "python",
     "metadata": {},
     "outputs": [],
     "prompt_number": 16
    },
    {
     "cell_type": "code",
     "collapsed": false,
     "input": [
      ";gksudo mv LightTable /opt"
     ],
     "language": "python",
     "metadata": {},
     "outputs": [],
     "prompt_number": 10
    },
    {
     "cell_type": "code",
     "collapsed": false,
     "input": [
      ";gksudo \"apt-get install gnome-panel --no-install-recommends -y > /dev/null\""
     ],
     "language": "python",
     "metadata": {},
     "outputs": [
      {
       "output_type": "stream",
       "stream": "stderr",
       "text": [
        "GNOME_SUDO_PASS\n",
        "GNOME_SUDO_PASS\n",
        "Sorry, try again.\n",
        "GNOME_SUDO_PASS\n",
        "GNOME_SUDO_PASS\n",
        "Sorry, try again.\n",
        "sudo: 3 intentos de contrase\u00f1a incorrectos\n"
       ]
      },
      {
       "output_type": "stream",
       "stream": "stdout",
       "text": [
        "Leyendo lista de paquetes..."
       ]
      },
      {
       "output_type": "stream",
       "stream": "stdout",
       "text": [
        "\n",
        "Creando \u00e1rbol de dependencias..."
       ]
      },
      {
       "output_type": "stream",
       "stream": "stdout",
       "text": [
        "\n",
        "Leyendo la informaci\u00f3n de estado..."
       ]
      },
      {
       "output_type": "stream",
       "stream": "stdout",
       "text": [
        "\n"
       ]
      }
     ],
     "prompt_number": 19
    },
    {
     "cell_type": "code",
     "collapsed": false,
     "input": [
      ";gksudo \"ln -sf /lib/i386-linux-gnu/libudev.so.1 /lib/i386-linux-gnu/libudev.so.0\""
     ],
     "language": "python",
     "metadata": {},
     "outputs": [],
     "prompt_number": 21
    },
    {
     "cell_type": "code",
     "collapsed": false,
     "input": [
      ";gksudo \"gnome-desktop-item-edit /usr/share/applications/ --create-new\""
     ],
     "language": "python",
     "metadata": {},
     "outputs": [
      {
       "output_type": "stream",
       "stream": "stderr",
       "text": [
        "\n",
        "(gnome-desktop-item-edit:4268): Gtk-WARNING **: Attempting to set the permissions of `/root/.local/share/recently-used.xbel', but failed: No existe el archivo o el directorio\n",
        "\n",
        "(gnome-desktop-item-edit:4268): Gtk-WARNING **: Attempting to store changes in"
       ]
      },
      {
       "output_type": "stream",
       "stream": "stderr",
       "text": [
        "to `/root/.local/share/recently-used.xbel', but failed: Fall\u00f3 al crear el archivo \u00ab/root/.local/share/recently-used.xbel.LAQ9MX\u00bb: No existe el archivo o el directorio\n",
        "\n",
        "(gnome-desktop-item-edit:4268): Gtk-WARNING **: Attempting to set the permissions of `/root/.local/share/recently-used.xbel', but failed: No existe el archivo o el directorio\n"
       ]
      }
     ],
     "prompt_number": 22
    },
    {
     "cell_type": "markdown",
     "metadata": {},
     "source": [
      "![lanzador](LightTable.png)"
     ]
    },
    {
     "cell_type": "markdown",
     "metadata": {},
     "source": [
      "El \u00edcono est\u00e1 en `/opt/LightTable/LightTable/core/img/lticon.png`"
     ]
    },
    {
     "cell_type": "code",
     "collapsed": false,
     "input": [],
     "language": "python",
     "metadata": {},
     "outputs": []
    }
   ],
   "metadata": {}
  }
 ]
}