{
 "metadata": {
  "name": "",
  "signature": "sha256:6b2e20f94553438fc12e1995b5d2ac515d2c3d499c3174fc8e3c12d03d936ac7"
 },
 "nbformat": 3,
 "nbformat_minor": 0,
 "worksheets": [
  {
   "cells": [
    {
     "cell_type": "heading",
     "level": 1,
     "metadata": {},
     "source": [
      "Instalaci\u00f3n de IPython y IPython Notebook"
     ]
    },
    {
     "cell_type": "markdown",
     "metadata": {},
     "source": [
      "Realmente la manera m\u00e1s sencilla de tener todos los paquetes necesarios para usar el IPython Notebook de manera compatible es descargar [Anaconda](http://continuum.io/downloads), que es una \"distribuci\u00f3n\" que contiene Python y una gran variedad de paquetes de Python para c\u00f3mputo cient\u00edfico. Ah\u00ed basta que seleccionen su sistema operativo y su versi\u00f3n de 32/64 bits.\n",
      "\n",
      "Nota para Ubunteros: Para saber la versi\u00f3n que tienen de Ubuntu (probablemente sea 32 bits, pero m\u00e1s vale checar) den click en *Acerca de este equipo* que aparece como primera opci\u00f3n cuando abren el men\u00fa principal, *i.e.* el men\u00fa donde apagan, bloquean, etc. el equipo."
     ]
    },
    {
     "cell_type": "heading",
     "level": 3,
     "metadata": {},
     "source": [
      "Ubuntu"
     ]
    },
    {
     "cell_type": "markdown",
     "metadata": {},
     "source": [
      "En caso de que ya hubieran descargado todos estos paquetes hace tiempo y no tengan una versi\u00f3n actualizada, pueden adquirir la versi\u00f3n m\u00e1s reciente usando\n",
      "```\n",
      "conda update conda\n",
      "conda update anaconda\n",
      "conda update ipython\n",
      "```"
     ]
    },
    {
     "cell_type": "heading",
     "level": 3,
     "metadata": {},
     "source": [
      "Mac"
     ]
    },
    {
     "cell_type": "markdown",
     "metadata": {},
     "source": [
      "Los usuarios de Mac deben agregar estas l\u00edneas a su archivo `.bash_profile` (o crearlo con ellas si es que no lo tienen):\n",
      "```\n",
      "export LANG=en_US.UTF-8\n",
      "export LC_ALL=en_US.UTF-8\n",
      "```\n"
     ]
    },
    {
     "cell_type": "markdown",
     "metadata": {},
     "source": [
      "Despu\u00e9s de esto ya deben tener todos los paquetes funcionando; pueden probar tecleando\n",
      "\n",
      "`ipython notebook`\n",
      "\n",
      "desde una terminal (todos necesitamos terminales)."
     ]
    },
    {
     "cell_type": "heading",
     "level": 1,
     "metadata": {},
     "source": [
      "Instalaci\u00f3n de Julia"
     ]
    },
    {
     "cell_type": "markdown",
     "metadata": {},
     "source": [
      "**Nota importante**: si ya ten\u00edan una versi\u00f3n previa de Julia, borren el directorio `.julia` de tu directorio hogar, para que las actualizaciones se hagan correctamente."
     ]
    },
    {
     "cell_type": "markdown",
     "metadata": {},
     "source": [
      "Todos los paquetes necesarios los pueden encontrar en la secci\u00f3n de [downloads](http://julialang.org/downloads/) de <http://julialang.org/>, la p\u00e1gina hogar del lenguaje Julia. Ah\u00ed encuentran los paquetes de la versi\u00f3n \u201cestable\u201d o sea, la versi\u00f3n 0.2 (ya vieja) y la del *release candidate*, versi\u00f3n 0.3.0-rc1 (pronto 0.3.0-rc2 o 0.3.0). **\u00c9sta \u00faltima es la que necesitamos para el curso, la versi\u00f3n 0.3.0**\n",
      "\n",
      "Escogen la versi\u00f3n para tu sistema. M\u00e1s abajo en la p\u00e1gina vienen las instrucciones de instalaci\u00f3n.\n",
      "\n",
      "Igual, para Ubuntu les sugiero que si a\u00f1adiendo los repositorios de la versi\u00f3n 0.2 no funciona, **Eliminen el repositorio que agregaron** (versi\u00f3n estable) y luego prueben con un simple\n",
      "\n",
      "`sudo apt-get install julia`\n",
      "\n",
      "Al menos yo [Rafael] tuve que hacerlo as\u00ed para que instalara los paquetes completos. Ya con eso se puede instalar la versi\u00f3n 0.3.0-rc1 sin problema."
     ]
    },
    {
     "cell_type": "markdown",
     "metadata": {},
     "source": [
      "Finalmente, verifiquen que tienen Julia funcionando tecleando `julia` desde una terminal. \n",
      "\n",
      "Deber\u00eda aparecer algo as\u00ed:\n",
      "\n",
      "```\n",
      "               _\n",
      "   _       _ _(_)_     |  A fresh approach to technical computing\n",
      "  (_)     | (_) (_)    |  Documentation: http://docs.julialang.org\n",
      "   _ _   _| |_  __ _   |  Type \"help()\" for help.\n",
      "  | | | | | | |/ _` |  |\n",
      "  | | |_| | | | (_| |  |  Version 0.3.0-rc2+5 (2014-08-06 12:11 UTC)\n",
      " _/ |\\__'_|_|_|\\__'_|  |  Commit 3563d8d (0 days old master)\n",
      "|__/                   |  x86_64-apple-darwin13.0.0\n",
      "\n",
      "julia>\n",
      "```\n",
      "La informaci\u00f3n de la versi\u00f3n exacta y del sistema cambiar\u00e1n dependiendo de exactamente cu\u00e1l versi\u00f3n instalaste."
     ]
    },
    {
     "cell_type": "heading",
     "level": 2,
     "metadata": {},
     "source": [
      "Instalaci\u00f3n de IJulia"
     ]
    },
    {
     "cell_type": "markdown",
     "metadata": {},
     "source": [
      "Para agregar la interfaz del *IJulia Notebook*, entra al int\u00e9rprete con Julia (poniendo `julia` en una terminal, como arriba), y ejecuta el comando\n",
      "\n",
      "`julia> Pkg.add(\"IJulia\")`\n",
      "\n",
      "\u00a1Ten cuidado con las may\u00fasculas! (Puedes copiar y pegar el comando directamente desde aqu\u00ed.)\n",
      "\n",
      "\u00a1Ya con eso est\u00e1n finalmente listos!\n",
      "\n",
      "Verifiquen que todo funcione ejecutando desde una terminal\n",
      "\n",
      "`ipython notebook --profile julia`\n",
      "\n",
      "Eso deber\u00eda abrir una interfaz igual al IPython Notebook, pero con el logo de Julia en la parte superior izquierda."
     ]
    },
    {
     "cell_type": "heading",
     "level": 4,
     "metadata": {},
     "source": [
      "Sugerencia para ahorrarse teclazos cada vez que quieran abrir IJulia"
     ]
    },
    {
     "cell_type": "markdown",
     "metadata": {},
     "source": [
      "Hay un gran truco (y tambi\u00e9n muy sencillo) para no tener que teclear `ipython notebook --profile julia` cada vez que quieran abrir un notebook: crear un alias.\n",
      "\n",
      "Si a\u00f1aden las l\u00edneas\n",
      "\n",
      "```\n",
      "# shortcut for opening IJulia notebook\n",
      "alias ijulia=\"ipython notebook --profile julia\" \n",
      "```\n",
      "\n",
      "al archivo `.bashrc` (en Linux) o `.bash_profile` (en Mac), simplemente pueden escribir `ijulia` (o el nombre que prefieran, modificando el alias) y se abrir\u00e1 la interfaz del Notebook en Julia.\n",
      "Todos agradezc\u00e1mosle a David que haga del conocimiento p\u00fablico esos trucos tan sencillos y \u00fatiles. [Gracias, Rafael :) ]"
     ]
    }
   ],
   "metadata": {}
  }
 ]
}