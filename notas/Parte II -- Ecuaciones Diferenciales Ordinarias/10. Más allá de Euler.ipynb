{
 "metadata": {
  "language": "Julia",
  "name": "",
  "signature": "sha256:f99a2060667ae83709132d5a751f899a02603ba1ea1c2045fd1517a5fdda7810"
 },
 "nbformat": 3,
 "nbformat_minor": 0,
 "worksheets": [
  {
   "cells": [
    {
     "cell_type": "heading",
     "level": 1,
     "metadata": {},
     "source": [
      "El error del m\u00e9todo de Euler"
     ]
    },
    {
     "cell_type": "markdown",
     "metadata": {},
     "source": [
      "Recordemos que el m\u00e9todo de Euler resuelve una ecuaci\u00f3n diferencial $\\dot{x}(t) = f(x(t),t)$ con una simple iteraci\u00f3n en el tiempo, el cual proviene de utilizar una aproximaci\u00f3n para la derivada $\\dot{x}(t)$.\n",
      "\n",
      "[1] Expande la funci\u00f3n $x(t)$ en una serie de Taylor para encontrar el tama\u00f1o del error *local*, es decir, el error que se comete en cada paso al utilizar el m\u00e9todo de Euler. Se dice que el m\u00e9todo de Euler es de *orden 1*.\n",
      "\n",
      "[2] Considera el m\u00e9todo de Euler para el oscilador arm\u00f3nico. Int\u00e9gralo para un tiempo $T$ de tu elecci\u00f3n. Calcula el *error global*, que se puede medir como la m\u00e1xima diferencia entre el resultado calculado y el anal\u00edtico, para distintos tama\u00f1os de paso $h$. \u00bfC\u00f3mo cambia con $h$? \u00bfTiene sentido?"
     ]
    },
    {
     "cell_type": "heading",
     "level": 1,
     "metadata": {},
     "source": [
      "Euler puede fracasar"
     ]
    },
    {
     "cell_type": "markdown",
     "metadata": {},
     "source": [
      "En la tarea 3, vimos num\u00e9ricamente que el m\u00e9todo de Euler puede fracasar, no s\u00f3lo cuantitativamente, sino tambi\u00e9n cualitativamente.\n",
      "\n",
      "Para entender qu\u00e9 podr\u00eda estar pasando, consideremos la ecuaci\u00f3n del p\u00e9ndulo para \u00e1ngulos peque\u00f1os, que hace movimiento arm\u00f3nico simple. \n",
      "\n",
      "[1] Escribe la ecuaci\u00f3n de movimiento de este sistema, en t\u00e9rminos del \u00e1ngulo $\\theta$ y la velocidad angular $\\omega$.\n",
      "\n",
      "[2] Escribe las ecuaciones del m\u00e9todo de Euler para este problema.\n",
      "\n",
      "[3] Este sistema tiene una propiedad especial -- \u00bfcu\u00e1l es? Utiliza esto para investigar c\u00f3mo cambia una cantidad importante del sistema bajo el m\u00e9todo de Euler."
     ]
    },
    {
     "cell_type": "heading",
     "level": 1,
     "metadata": {},
     "source": [
      "El m\u00e9todo de Euler-Cromer"
     ]
    },
    {
     "cell_type": "markdown",
     "metadata": {},
     "source": [
      "Un cambio aparentemente insignificativo al m\u00e9todo puede dar resultados mucho mejores para ciertas clases de sistema, que tienen posiciones y velocidades (\u00bfa qu\u00e9 tipo de sistema nos referimos?):\n",
      "actualizar primero la velocidad, y utiliza esta *nueva* velocidad para actualizar la posici\u00f3n.\n",
      "Esto da el llamado m\u00e9todo de Euler-Cromer.\n",
      "\n",
      "[4] Aplica el m\u00e9todo de Euler-Cromer al oscilador arm\u00f3nico.\n",
      "\n",
      "[5] Apl\u00edcalo al p\u00e9ndulo simple y dibuja el espacio fase completo. Describe f\u00edsicamente lo que se observa."
     ]
    },
    {
     "cell_type": "heading",
     "level": 1,
     "metadata": {},
     "source": [
      "M\u00e1s all\u00e1 de Euler"
     ]
    },
    {
     "cell_type": "markdown",
     "metadata": {},
     "source": [
      "\u00bfQu\u00e9 tan bueno es el m\u00e9todo de Euler? Una manera de responder a esta pregunta es indagar al respecto del *error* que se comete *en cada paso*, el llamado *error local*.\n",
      "\n",
      "Un m\u00e9todo que usaremos muy a menudo durante todo el curso es el de *series de Taylor*."
     ]
    },
    {
     "cell_type": "markdown",
     "metadata": {},
     "source": [
      "[6] Piensa en la ecuaci\u00f3n $\\dot{x} = f(x, t)$. Desarrolla $x(t)$ en una serie de Taylor alrededor del punto $x_0$ para encontrar qu\u00e9 tan grande (en t\u00e9rminos del tama\u00f1o $h$ del paso) es el error en un paso del m\u00e9todo de Euler.\n",
      "\n",
      "[7] \u00bfPodr\u00edamos extender esta idea para encontrar un mejor m\u00e9todo?"
     ]
    },
    {
     "cell_type": "heading",
     "level": 1,
     "metadata": {},
     "source": [
      "M\u00e9todos tipo Runge-Kutta"
     ]
    },
    {
     "cell_type": "markdown",
     "metadata": {},
     "source": [
      "Una clase de m\u00e9todos muy utilizados actualmente son los m\u00e9todos tipo Runge-Kutta.\n",
      "Para entender la motivaci\u00f3n detr\u00e1s de estos m\u00e9todos, una manera es el considerar la versi\u00f3n *integral* de una ecuaci\u00f3n diferencial.\n",
      "\n",
      "Al integrar la EDO\n",
      "\n",
      "$$\\dot{x}(t) = f(x(t), t)$$\n",
      "\n",
      "para $t$ entre $t_0$ y $t_0+h$  (cambiando la variable de integraci\u00f3n a $t'$), obtenemos\n",
      "\n",
      "$$x(t_0+h) - x(t_0) = \\int_{t_0}^{t_0+h} f(x(t'), t') dt',$$\n",
      "\n",
      "es decir\n",
      "\n",
      "$$x(t_0+h) = x(t_0) + \\int_{t_0}^{t_0+h} f(x(t'), t') dt',$$\n",
      "\n",
      "[8] \u00bfC\u00f3mo podemos obtener el m\u00e9todo de Euler de esta formulaci\u00f3n?\n",
      "\n",
      "[9] \u00bfC\u00f3mo podemos mejorar a Euler? \u00bfCu\u00e1l es el problema? \u00bfSe te ocurre una soluci\u00f3n?\n",
      "\n",
      "[10] Demuestra que tu soluci\u00f3n es correcta a *segundo* orden, es decir que el error local es un orden de magnitud m\u00e1s chica en $h$."
     ]
    }
   ],
   "metadata": {}
  }
 ]
}