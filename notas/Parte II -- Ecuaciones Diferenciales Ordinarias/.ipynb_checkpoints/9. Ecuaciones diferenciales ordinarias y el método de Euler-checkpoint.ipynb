{
 "metadata": {
  "language": "Julia",
  "name": "",
  "signature": "sha256:a101932b7a6351c4e25c7a52ec449d2e1d56f1f8ec6496528680e9d3d7ea8838"
 },
 "nbformat": 3,
 "nbformat_minor": 0,
 "worksheets": [
  {
   "cells": [
    {
     "cell_type": "heading",
     "level": 1,
     "metadata": {},
     "source": [
      "Ecuaciones diferenciales ordinarias"
     ]
    },
    {
     "cell_type": "markdown",
     "metadata": {},
     "source": [
      "Recordemos que son las ecuaciones diferenciales ordinarias (EDOs).\n",
      "La EDO m\u00e1s simple no-trivial y f\u00edsicamente relevante en una variable es \n",
      "\n",
      "$$\\dot{x} := \\textstyle \\frac{d}{dt} x = -\\alpha x.$$\n",
      "\n",
      "Una soluci\u00f3n a esta ecuaci\u00f3n es un objeto $x$ tal que cuando la derivamos con respecto al tiempo, nos da $-\\alpha$ veces el mismo objeto. Impl\u00edcitamente est\u00e1 claro que $x$ depende de $t$, por lo cual realmente $x$ se refiere a una funci\u00f3n de $t$, es decir $x: \\mathbb{R} \\to \\mathbb{R}$, con $x: t \\mapsto x(t)$. Y esta ecuaci\u00f3n es una ecuaci\u00f3n *funcional*, es decir, una igualdad de funciones. La podemos explicitar:\n",
      "\n",
      "$$\\dot{x}(t) = -\\alpha x(t) \\qquad \\text{para cada } t \\in \\mathbb{R}.$$\n",
      "\n",
      "En mi opini\u00f3n, en esta forma est\u00e1 mucho m\u00e1s claro qu\u00e9 es lo que est\u00e1 pasando.\n",
      "\n",
      "\n",
      "La forma general de una EDO en una variable es\n",
      "\n",
      "$$\\dot{x} = f(x, t),$$\n",
      "\n",
      "o sea\n",
      "\n",
      "$$\\dot{x}(t) = f(x(t), t) \\qquad \\text{para cada } t \\in \\mathbb{R}.$$\n",
      "\n",
      "Recordemos que debe ir acompa\u00f1ada por una condici\u00f3n inicial $x(t_0) = x_0$ para formar un problema bien posado (*problema de valores iniciales*, o *problema de Cauchy*).\n",
      "\n",
      "As\u00ed que la soluci\u00f3n de una tal ecuaci\u00f3n ser\u00e1 una *funci\u00f3n* $x(t)$ que satisface esta relaci\u00f3n para cualquier $t$.\n",
      "\n",
      "En el caso de la primera ecuaci\u00f3n, conocemos anal\u00edticament la soluci\u00f3n, pero para las ecuaciones de inter\u00e9s para la f\u00edsica, esto *casi nunca ocurre*, una situaci\u00f3n que \u00a1suele pasar desapercibida durante la carrera! En estos casos, debemos aplicar distintas t\u00e9cnicas de *aproximaci\u00f3n* de la soluci\u00f3n, entre las cuales se destacan los *m\u00e9todos num\u00e9ricos*.\n"
     ]
    },
    {
     "cell_type": "heading",
     "level": 1,
     "metadata": {},
     "source": [
      "M\u00e9todo de Euler"
     ]
    },
    {
     "cell_type": "markdown",
     "metadata": {},
     "source": [
      "Para resolver una EDO num\u00e9ricamente en la computadora, tendremos que *aproximar* la soluci\u00f3n continua $x: t \\mapsto x(t)$ con una versi\u00f3n con una cantidad finita de informaci\u00f3n, es decir, *discretizarla* de alguna forma.\n",
      "\n",
      "La manera m\u00e1s sencilla de hacerla es usando *diferencias finitas*: la derivada, que es una \"diferencia infinitesimal\", se reemplaza por una aproximaci\u00f3n \"finita\".\n",
      "\n",
      "[1] \u00bfCu\u00e1l es la aproximaci\u00f3n m\u00e1s sencilla de la derivada $\\dot{x}(t)$, en t\u00e9rminos de una distancia peque\u00f1a $h$?\n",
      "\n",
      "[2] Aplica esto para obtener una expresi\u00f3n para $x(t+h)$, es decir el valor *predicho* en el siguiente *paso* de tiempo, en t\u00e9rminos del valor ya conocido $x(t)$.\n",
      "\n",
      "[3] Implementa este *m\u00e9todo de Euler* en una funci\u00f3n. Para hacerlo, crea un arreglo `t` de los tiempos en los cuales se evaluar\u00e1 la funci\u00f3n. Luego crea otro arreglo, usando `zeros`, inicialmente cero. (Si pasas el arreglo `t` como argumento a esta funci\u00f3n, crear\u00e1 un arreglo del mismo tama\u00f1o autom\u00e1ticamente.) Ahora implementa el algoritmo iterativo del paso [2] para actualizar los valores en el nuevo arreglo.\n",
      "\n",
      "[4] Utiliza tu funci\u00f3n para resolver la ecuaci\u00f3n $\\dot{x} = -\\alpha x$ y compara con la soluci\u00f3n anal\u00edtica. \u00bfQu\u00e9 pasa al variar el paso de tiempo? \u00bfCu\u00e1l herramienta ser\u00eda bueno aplicar aqu\u00ed?\n",
      "\n",
      "[5] \u00bfC\u00f3mo se puede tratar la ecuaci\u00f3n de ca\u00edda libre, $\\ddot{y} = -g$? Compara la soluci\u00f3n con el resultado anal\u00edtico.\n",
      "\n",
      "\n"
     ]
    },
    {
     "cell_type": "heading",
     "level": 1,
     "metadata": {},
     "source": [
      "Varias variables"
     ]
    },
    {
     "cell_type": "markdown",
     "metadata": {},
     "source": [
      "Recordemos que *cualquier* EDO se puede escribir en la forma\n",
      "$$\\dot{\\mathbf{x}} = \\mathbf{f}(\\mathbf{x}, t),$$\n",
      "\n",
      "es decir\n",
      "\n",
      "$$\\dot{\\mathbf{x}}(t) = \\mathbf{f}(\\mathbf{x}(t), t),$$\n",
      "\n",
      "donde ahora $\\mathbf{x} = (x_1, \\ldots, x_n) \\in \\mathbb{R}^n$ es un vector y $\\mathbf{f}: \\mathbb{R}^n \\to \\mathbb{R}^n$ es una funci\u00f3n vectorial.\n",
      "\n"
     ]
    },
    {
     "cell_type": "markdown",
     "metadata": {},
     "source": [
      "[1] Escribe una funci\u00f3n para hacer un paso del m\u00e9todo de Euler en este caso. El c\u00f3digo deber\u00e1 ser *gen\u00e9rico*, es decir, funcionar para cualquier $\\mathbf{x}$ y $\\mathbf{f}$ de cualquier dimensi\u00f3n.\n",
      "\n",
      "[2] Escribe el m\u00e9todo de Euler completo. \n",
      "\n",
      "[3] \u00dasalo para resolver la ca\u00edda libre y una ca\u00edda con fricci\u00f3n lineal en la velocidad. Compara con el resultado exacto."
     ]
    }
   ],
   "metadata": {}
  }
 ]
}