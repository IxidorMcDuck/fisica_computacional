{
 "metadata": {
  "language": "Julia",
  "name": "",
  "signature": "sha256:d05bdfe0512236418947bbdda406384e6fe9b510f773669ffc9fadcc17975b7f"
 },
 "nbformat": 3,
 "nbformat_minor": 0,
 "worksheets": [
  {
   "cells": [
    {
     "cell_type": "heading",
     "level": 1,
     "metadata": {},
     "source": [
      "La ecuaci\u00f3n de Poisson"
     ]
    },
    {
     "cell_type": "markdown",
     "metadata": {},
     "source": [
      "Resolveremos la *ecuaci\u00f3n de Poisson* en 2D,\n",
      "\n",
      "$$ \\nabla^2 \\phi(\\mathbf{x}) = f(\\mathbf{x}), $$\n",
      "\n",
      "para encontrar el potencial y campo el\u00e9ctrico debido a una carga puntual, en una caja cuadrada. Extenderemos la misma idea que aplicamos en 1D."
     ]
    },
    {
     "cell_type": "markdown",
     "metadata": {},
     "source": [
      "[1] Pensemos en dividir la caja en una malla cuadrada con distancia $h$ entre los puntos de la malla, tanto en la direcci\u00f3n $x$ como $y$. \n",
      "Encuentra una aproximaci\u00f3n en diferencias finitas para $\\nabla^2 \\phi(x_i, y_j)$ en el punto $(x_i, y_j)$ de la malla.\n",
      "\n",
      "[2] Para seguir la idea del caso 1D, es necesario escribir estas ecuaciones simult\u00e1neas como *una sola ecuaci\u00f3n matricial*. Es decir, \n",
      "\u00a1debemos recolectar todas las $\\phi(x_i, y_j)$ en *un solo vector*! Inventa una manera de hacer esto (es decir, enlistar los puntos $(x_i, y_j)$ de una forma coherente), y escribe funciones correspondientes para pasar de la posici\u00f3n dada por $(i, j)$ a la posici\u00f3n $k$ en tu lista, y vice versa.\n",
      "\n",
      "[3] Para puntos $(x_i, y_j)$ en la frontera de la malla, tomemos la condici\u00f3n de frontera $\\phi(x_i, y_j) = 0$, que representa el campo a una distancia grande del campo. Para puntos en el interior, usaremos la ecuaci\u00f3n que sale de la aproximaci\u00f3n de $\\nabla^2$.\n",
      "\n",
      "As\u00ed, formula el problema matricialmente. \u00bfCu\u00e1les propiedades tiene la matriz resultante?\n",
      "\n",
      "[4] Resuelve el problema para encontrar el campo escalar de potencial $\\phi$. Dib\u00fajalo.\n",
      "\n",
      "[5] Encuentra las componentes del campo el\u00e9ctrico $\\mathbf{E} = -\\nabla \\phi$. Dibuja el campo vectorial usando la funci\u00f3n `quiver` de `PyPlot`."
     ]
    }
   ],
   "metadata": {}
  }
 ]
}