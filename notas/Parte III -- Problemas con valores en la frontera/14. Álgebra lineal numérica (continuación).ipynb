{
 "metadata": {
  "language": "Julia",
  "name": "",
  "signature": "sha256:2d214c0a32e4987f4b960526f8d23abec91ecba026087e3692d9cd581ad78cb6"
 },
 "nbformat": 3,
 "nbformat_minor": 0,
 "worksheets": [
  {
   "cells": [
    {
     "cell_type": "markdown",
     "metadata": {},
     "source": [
      "[1] Plantea el sistema de ecuaciones que proviene de la ecuaci\u00f3n de Poisson en 1D para un capacitor,\n",
      "\n",
      "$$\\frac{d^2 V}{dx^2} = 0,$$\n",
      "\n",
      "con condiciones de frontera $V(a) = V_1$ y $V(b) = V_2$, al discretizarla con diferencias finitas.\n",
      "\n",
      "\u00bfC\u00f3mo se traducen las condiciones de frontera?\n",
      "\n",
      "[2] Resuelve el sistema de ecuaciones y dibuja el resultado. \u00bfCoincide con lo esperado?\n",
      "\n",
      "[3] \u00bfC\u00f3mo queda la matriz resultante de hacer eliminaci\u00f3n gaussiana? \u00bfC\u00f3mo se compara con la matriz inicial? \u00bfTe parece razonable? Si no, \u00bfse te ocurre alguna soluci\u00f3n?\n",
      "\n",
      "[4] Ahora considera el problema de una carga puntual en el centro del sistema, con condiciones de frontera $0$. Resuelve la ecuaci\u00f3n\n",
      "\n",
      "$$\\frac{d^2 V}{dx^2} = f(x),$$ \n",
      "\n",
      "con condiciones de frontera $0$. \u00bfTiene sentido?"
     ]
    },
    {
     "cell_type": "markdown",
     "metadata": {},
     "source": [
      "[5] Implementa eliminaci\u00f3n gaussiana con pivoteo parcial."
     ]
    },
    {
     "cell_type": "code",
     "collapsed": false,
     "input": [],
     "language": "python",
     "metadata": {},
     "outputs": []
    }
   ],
   "metadata": {}
  }
 ]
}