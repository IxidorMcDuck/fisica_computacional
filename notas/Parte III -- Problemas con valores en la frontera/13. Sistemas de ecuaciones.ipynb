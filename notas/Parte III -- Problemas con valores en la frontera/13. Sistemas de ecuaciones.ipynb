{
 "metadata": {
  "language": "Julia",
  "name": "",
  "signature": "sha256:567021d05f7c5973c8a6ac0e38203cb92eab7525fbb822048ec58841c9d7b64b"
 },
 "nbformat": 3,
 "nbformat_minor": 0,
 "worksheets": [
  {
   "cells": [
    {
     "cell_type": "heading",
     "level": 1,
     "metadata": {},
     "source": [
      "Eliminaci\u00f3n gaussiana"
     ]
    },
    {
     "cell_type": "markdown",
     "metadata": {},
     "source": [
      "Considera el sistema de ecuaciones lineales\n",
      "\n",
      "$$ \\mathsf{A} \\cdot \\mathbf{x} = \\mathbf{b} \\qquad (1)$$\n",
      "\n",
      "Aqu\u00ed, $\\mathsf{A}$ es una matriz cuadrada conocida de $n \\times n$; $\\mathbf{b}$ es un vector conocido en $\\mathbb{R}^n$; y $\\mathbf{x}$ es un vector en $\\mathbb{R}^n$ desconocido.\n",
      "\n",
      "Recuerda que podemos resolver este sistema usando el m\u00e9todo de eliminaci\u00f3n gaussiana, que consiste en llevar a cabo operaciones de rengl\u00f3n, tanto para la matriz $\\mathsf{A}$ como el vector $\\mathbf{b}$, para reducir $\\mathsf{A}$ a una forma triangular."
     ]
    },
    {
     "cell_type": "markdown",
     "metadata": {},
     "source": [
      "[1] Escribe la ecuaci\u00f3n (1) usando \u00edndices.\n",
      "\n",
      "[2] Considera la ecuaci\u00f3n $\\mathsf{U} \\cdot \\mathbf{x} = \\mathbf{c}$, en la cual $\\mathsf{U}$ es una matriz triangular superior (\"*U*pper triangular\") \u00bfCu\u00e1l es la condici\u00f3n para que una matriz sea triangular superior? \u00bfC\u00f3mo se puede resolver esta ecuaci\u00f3n?\n",
      "\n",
      "[3] Escribe el m\u00e9todo de eliminaci\u00f3n gaussiana para una matriz de $2 \\times 2$. Sup\u00f3n (por el momento) que no hay problemas con dividir por cero. \n",
      "\n",
      "[4] Implementa esto num\u00e9ricamente. Usa tu c\u00f3digo para resolver las ecuaciones\n",
      "\n",
      "\\begin{align} \n",
      "    3x + 7y &= 1; \\\\\n",
      "    2x + 4y &= 1. \\\\\n",
      "\\end{align}\n",
      "   \n",
      "Verifica que la soluci\u00f3n que encuentres realmente s\u00ed sea soluci\u00f3n de la ecuaci\u00f3n.\n",
      "\n",
      "[5] Escribe el m\u00e9todo para una matriz de $3 \\times 3$ y generaliza a $n \\times n$. \n",
      "\n",
      "[6] Implementa el m\u00e9todo para una matriz de $n \\times n$ para resolver una ecuaci\u00f3n del tipo (1), suponiendo que no haya divisiones por $0$. Verifica que s\u00ed funcione, resolviendo las ecuaciones\n",
      "\n",
      "\\begin{align}\n",
      "    2x + y -  z &=   8; \\\\\n",
      "   -3x - y + 2z &= -11; \\\\\n",
      "   -2x = y + 2x &=  -3.\n",
      "\\end{align}"
     ]
    },
    {
     "cell_type": "markdown",
     "metadata": {},
     "source": [
      "[7] Una operaci\u00f3n de rengl\u00f3n sobre una matriz $\\mathsf{A}$ se puede escribir como una multiplicaci\u00f3n de $\\mathsf{A}$ con otra matriz $\\mathsf{L}$. \u00bfCu\u00e1l? \u00bfQu\u00e9 propiedad tiene $\\mathsf{L}$?\n",
      "\n",
      "[8] Considerando que el m\u00e9todo de eliminaci\u00f3n gaussiana consiste en una secuencia de operaciones de rengl\u00f3n, y que produce una matriz triangular superior, \u00bfde qu\u00e9 forma se puede escribir $\\mathsf{A}$? [Piensa en t\u00e9rminos abstractos sobre la forma que tienen las matrices involucradas. No es evidente la respuesta.]"
     ]
    }
   ],
   "metadata": {}
  }
 ]
}