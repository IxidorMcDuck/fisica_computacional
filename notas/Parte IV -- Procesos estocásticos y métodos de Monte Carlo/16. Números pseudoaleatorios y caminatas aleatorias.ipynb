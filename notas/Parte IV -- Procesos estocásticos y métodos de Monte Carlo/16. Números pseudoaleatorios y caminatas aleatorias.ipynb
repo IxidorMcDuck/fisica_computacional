{
 "metadata": {
  "language": "Julia",
  "name": "",
  "signature": "sha256:cd816bfbedaf983e5be19c48493f6db0e5fc88ff7056bb76fd06e7b027c3b748"
 },
 "nbformat": 3,
 "nbformat_minor": 0,
 "worksheets": [
  {
   "cells": [
    {
     "cell_type": "heading",
     "level": 1,
     "metadata": {},
     "source": [
      "Procesos estoc\u00e1sticos"
     ]
    },
    {
     "cell_type": "markdown",
     "metadata": {},
     "source": [
      "El concepto de *aleatoriedad* o *estocasticidad* juega un papel importante en la f\u00edsica. Se tratan de procesos, por ejemplo, el decaimiento radioactivo, que son *aleatorios* o *estoc\u00e1sticos*.\n",
      "\n",
      "Para modelar estos procesos en la computadora, necesitamos poder generar *n\u00fameros aleatorios* en la computadora. Hay un solo problema: no se puede, ya que \u00a1la computadora es, por naturaleza, un bicho determinista! [Pero se pueden captar datos de procesos aleatorios reales, o de la misma computadara. Ver e.g. <http://www.random.org/> ]\n",
      "\n"
     ]
    },
    {
     "cell_type": "heading",
     "level": 1,
     "metadata": {},
     "source": [
      "N\u00fameros pseudoaleatorios"
     ]
    },
    {
     "cell_type": "markdown",
     "metadata": {},
     "source": [
      "Podemos producir secuencias de n\u00fameros que *parecen ser* aleatorios, usando iteraciones deterministas suficientemente complicadas. Pero tienen que dise\u00f1arse con mucho cuidado.\n",
      "\n",
      "Un ejemplo que antes se usaba, pero que *ya no se utiliza*, ya que no es tan bueno, son los generadores congruenciales lineales:\n",
      "\n",
      "$$X_{n+1} = \\left( a X_n + c \\right)~~\\bmod~~m$$\n",
      "\n",
      "[1] Implementa esta recurrencia con $a = 6364136223846793005$ y $c=\t1442695040888963407$. Tomamos $m=2^64$, es decir, usamos enteros *unsigned*:\n",
      "\n",
      "    a = uint64(6364136223846793005)\n",
      "    \n",
      "Los n\u00fameros resultantes caen entre 0 y $2^{64} - 1$.\n",
      "\n",
      "[2] Utiliza esto para hacer una funci\u00f3n `mi_rand` que genere n\u00fameros aleatorios reales entre 0 y 1.\n",
      "\n",
      "[3] En Julia, existe la funci\u00f3n `rand()` que [actualmente] ocupa un generador moderno, llamado Mersenne Twister.\n",
      "Al darle un argumento `N`, genera un vector de `N` n\u00fameros de este tipo.\n",
      "\n",
      "[4] Genera muchos n\u00fameros aleatorios. Haz un histograma de los datos usando la funci\u00f3n `PyPlot.hist` en el paquete `PyPlot`.\n",
      "Se ven uniformemente distribuidos?\n"
     ]
    },
    {
     "cell_type": "heading",
     "level": 1,
     "metadata": {},
     "source": [
      "Caminatas aleatorias"
     ]
    },
    {
     "cell_type": "markdown",
     "metadata": {},
     "source": [
      "Uno de los procesos estoc\u00e1sticos m\u00e1s fundamentales e importantes en la f\u00edsica es el *movimiento Browniano*. Un acercamiento inicial a este p|roblema se da a trav\u00e9s de las *caminatas aleatorias*, que modela una part\u00edcula que recibe impactos al azar, que hacen que brinque en direcciones aleatorias."
     ]
    },
    {
     "cell_type": "markdown",
     "metadata": {},
     "source": [
      "[5] Piensa en una caminata aleatoria en una dimensi\u00f3n. Vive en los enteros, y en cada paso de tiempo brinca a la derecha con probabilidad $\\frac{1}{2}$ y a la izquierda con probabilidad $\\frac{1}{2}$.\n",
      "\n",
      "Utiliza la funci\u00f3n `mi_rand` o `rand` para generar el tama\u00f1o del brinco: $+1$ o $-1$, cada uno con probabilidad $\\frac{1}{2}$."
     ]
    },
    {
     "cell_type": "markdown",
     "metadata": {},
     "source": [
      "[6] Haz una funci\u00f3n que calcule la trayectoria de una caminata aleatoria que empiece en $0$ y toma $N$ pasos al azar. Dibuja varias trayectorias en una misma gr\u00e1fica. \u00bfQu\u00e9 observas?\n",
      "\n",
      "[7] Modifica tu funci\u00f3n para que brinque a la derecha con probabilidad $p$ y a la izquierda con probabilidad $q := 1-p$. Dibuja las trayectorias para varios valores de $p$. \u00bfQu\u00e9 observas?"
     ]
    },
    {
     "cell_type": "markdown",
     "metadata": {},
     "source": [
      "[8] \u00bfC\u00f3mo podemos caracterizar la posici\u00f3n de la(s) caminata(s) despu\u00e9s de $N$ pasos? Hazlo. \u00bfC\u00f3mo evoluciona en el tiempo? Si es demasiado trivial, piensa en otra caracterizaci\u00f3n."
     ]
    },
    {
     "cell_type": "heading",
     "level": 1,
     "metadata": {},
     "source": [
      "Caminatas aleatorias en 2D"
     ]
    },
    {
     "cell_type": "markdown",
     "metadata": {},
     "source": [
      "[9] Una part\u00edcula grande inmersa en un fluido lleva a cabo una caminata aleatoria / movimiento Browniano. Simula una part\u00edcula que vive en una red cuadrada con coordenadas enteras y puede brincar en cualquiera de las 4 direcciones m\u00e1s cercanas con igual probabilidad. Dibuja unas trayectorias."
     ]
    },
    {
     "cell_type": "markdown",
     "metadata": {},
     "source": [
      "[10] Para acercarnos a un movimiento Browniano, podemos hacer que los brincos sean de distintos tama\u00f1os. Piensa en varias formas de hacerlo, implementarlas, y dibuja las trayectorias correspondientes. \u00bfC\u00f3mo se pueden caracterizar los comportamientos resultantes?"
     ]
    }
   ],
   "metadata": {}
  }
 ]
}