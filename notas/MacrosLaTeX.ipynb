{
 "metadata": {
  "language": "Julia",
  "name": "",
  "signature": "sha256:5cad0ab55757031740487ffd7fb4c90eb378c70274a7d4695e5c544efc55195e"
 },
 "nbformat": 3,
 "nbformat_minor": 0,
 "worksheets": [
  {
   "cells": [
    {
     "cell_type": "heading",
     "level": 1,
     "metadata": {},
     "source": [
      "C\u00f3mo definir macros de LaTeX para usar en Markdown (en Linux y Mac)"
     ]
    },
    {
     "cell_type": "markdown",
     "metadata": {},
     "source": [
      "`$\\red{Hola}$` no funciona. $\\red{Hola}$"
     ]
    },
    {
     "cell_type": "code",
     "collapsed": false,
     "input": [
      "path=chomp(readall(`pwd` |> `sed 's/\\/notas$//'`))"
     ],
     "language": "python",
     "metadata": {},
     "outputs": [
      {
       "metadata": {},
       "output_type": "pyout",
       "prompt_number": 1,
       "text": [
        "\"/home/marduk/Profesional/Docencia/Ayudante/Fisica_Computacional_2015-1/fisica_computacional\""
       ]
      }
     ],
     "prompt_number": 1
    },
    {
     "cell_type": "code",
     "collapsed": false,
     "input": [
      ";cd"
     ],
     "language": "python",
     "metadata": {},
     "outputs": [
      {
       "output_type": "stream",
       "stream": "stdout",
       "text": [
        "/home/marduk\n"
       ]
      }
     ],
     "prompt_number": 2
    },
    {
     "cell_type": "code",
     "collapsed": false,
     "input": [
      "home=chomp(readall(`pwd`))\n",
      "custom=\"$home/.ipython/profile_julia/static/custom\""
     ],
     "language": "python",
     "metadata": {},
     "outputs": [
      {
       "metadata": {},
       "output_type": "pyout",
       "prompt_number": 3,
       "text": [
        "\"/home/marduk/.ipython/profile_julia/static/custom\""
       ]
      }
     ],
     "prompt_number": 3
    },
    {
     "cell_type": "code",
     "collapsed": false,
     "input": [
      "# Agregamos esta l\u00ednea al final de custom.js\n",
      "linea=\"\\$.getScript('/static/custom/math_macros.js')\""
     ],
     "language": "python",
     "metadata": {},
     "outputs": [
      {
       "metadata": {},
       "output_type": "pyout",
       "prompt_number": 5,
       "text": [
        "\"\\$.getScript('/static/custom/math_macros.js')\""
       ]
      }
     ],
     "prompt_number": 5
    },
    {
     "cell_type": "code",
     "collapsed": false,
     "input": [
      ";echo $linea >> $custom/custom.js"
     ],
     "language": "python",
     "metadata": {},
     "outputs": [],
     "prompt_number": 6
    },
    {
     "cell_type": "code",
     "collapsed": false,
     "input": [
      "run(`cp $path/math_macros.js $custom`)"
     ],
     "language": "python",
     "metadata": {},
     "outputs": [],
     "prompt_number": 7
    },
    {
     "cell_type": "markdown",
     "metadata": {},
     "source": [
      "Cierra ipython notebook. Es decir, en la terminal donde lo ejecutaste presiona `Control-C` y vuelve a ejecutarlo."
     ]
    },
    {
     "cell_type": "markdown",
     "metadata": {},
     "source": [
      "`$\\red{Hola}$` ya funciona. $\\red{Hola}$"
     ]
    }
   ],
   "metadata": {}
  }
 ]
}