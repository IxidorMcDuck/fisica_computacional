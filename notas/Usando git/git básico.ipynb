{
 "metadata": {
  "language": "Julia",
  "name": "",
  "signature": "sha256:a2ae8abf5ffbec3c04fb4f93ea116bea622d3f3838166c302b42d6ab795255ac"
 },
 "nbformat": 3,
 "nbformat_minor": 0,
 "worksheets": [
  {
   "cells": [
    {
     "cell_type": "heading",
     "level": 1,
     "metadata": {},
     "source": [
      "\u00bfQu\u00e9 son git y GitHub?"
     ]
    },
    {
     "cell_type": "markdown",
     "metadata": {},
     "source": [
      "`git` es:\n",
      "- un programa (que se puede usar desde la terminal / l\u00ednea de comandos)\n",
      "- rastrea el historial completo de un proyecto \n",
      "- permite regresar a versiones anteriores de tu vida (\"Ctrl-Z\"-sote)\n",
      "- un DropBox mejorado\n",
      "- un \"sistema de control de versiones\" (version control system)"
     ]
    },
    {
     "cell_type": "markdown",
     "metadata": {},
     "source": [
      "GitHub es:\n",
      "- un sitio web\n",
      "- red social para colaborar sobre proyectos\n",
      "- un lugar en la nube en donde guardar cosas "
     ]
    },
    {
     "cell_type": "markdown",
     "metadata": {},
     "source": [
      "`git` se puede utilizar de manera local en tu m\u00e1quina; la mayor parte de tiempo as\u00ed se usa."
     ]
    },
    {
     "cell_type": "markdown",
     "metadata": {},
     "source": [
      "Les recuerdo que desde IJulia, se pueden comandos a `bash` con `;`"
     ]
    },
    {
     "cell_type": "code",
     "collapsed": false,
     "input": [
      ";ls"
     ],
     "language": "python",
     "metadata": {},
     "outputs": [
      {
       "output_type": "stream",
       "stream": "stdout",
       "text": [
        "Intro a git.ipynb\n"
       ]
      }
     ],
     "prompt_number": 1
    },
    {
     "cell_type": "code",
     "collapsed": false,
     "input": [
      ";pwd"
     ],
     "language": "python",
     "metadata": {},
     "outputs": [
      {
       "output_type": "stream",
       "stream": "stdout",
       "text": [
        "/Users/david/Dropbox/docencia/fisica_computacional/intro_a_git\n"
       ]
      }
     ],
     "prompt_number": 1
    },
    {
     "cell_type": "heading",
     "level": 1,
     "metadata": {},
     "source": [
      "`git`"
     ]
    },
    {
     "cell_type": "markdown",
     "metadata": {},
     "source": [
      "`git` maneja *repositorios* -- un lugar donde guardar cosas\n",
      "\n",
      "Un repositorio es un directorio especial.\n",
      "\n",
      "\u00bfC\u00f3mo saber si mi directorio actual forma parte de un repo de `git`?"
     ]
    },
    {
     "cell_type": "code",
     "collapsed": false,
     "input": [
      ";git status"
     ],
     "language": "python",
     "metadata": {},
     "outputs": [
      {
       "output_type": "stream",
       "stream": "stderr",
       "text": [
        "fatal: Not a git repository (or any of the parent directories): .git\n"
       ]
      }
     ],
     "prompt_number": 2
    },
    {
     "cell_type": "markdown",
     "metadata": {},
     "source": [
      "Convertirlo en un repositorio de `git`:"
     ]
    },
    {
     "cell_type": "code",
     "collapsed": false,
     "input": [
      ";git init   "
     ],
     "language": "python",
     "metadata": {},
     "outputs": [
      {
       "output_type": "stream",
       "stream": "stdout",
       "text": [
        "Initialized empty Git repository in /Users/david/Dropbox/docencia/fisica_computacional/intro_a_git/.git/\n"
       ]
      }
     ],
     "prompt_number": 4
    },
    {
     "cell_type": "code",
     "collapsed": false,
     "input": [
      ";ls"
     ],
     "language": "python",
     "metadata": {},
     "outputs": [
      {
       "output_type": "stream",
       "stream": "stdout",
       "text": [
        "Intro a git.ipynb\n"
       ]
      }
     ],
     "prompt_number": 5
    },
    {
     "cell_type": "code",
     "collapsed": false,
     "input": [
      ";ls -a"
     ],
     "language": "python",
     "metadata": {},
     "outputs": [
      {
       "output_type": "stream",
       "stream": "stdout",
       "text": [
        ".\n",
        "..\n",
        ".git\n",
        ".ipynb_checkpoints\n",
        "Intro a git.ipynb\n"
       ]
      }
     ],
     "prompt_number": 6
    },
    {
     "cell_type": "code",
     "collapsed": false,
     "input": [
      ";ls .git"
     ],
     "language": "python",
     "metadata": {},
     "outputs": [
      {
       "output_type": "stream",
       "stream": "stdout",
       "text": [
        "HEAD\n",
        "config\n",
        "description\n",
        "hooks\n",
        "info\n",
        "objects\n",
        "refs\n"
       ]
      }
     ],
     "prompt_number": 7
    },
    {
     "cell_type": "code",
     "collapsed": false,
     "input": [
      ";git config --global user.name \"David P. Sanders\""
     ],
     "language": "python",
     "metadata": {},
     "outputs": [],
     "prompt_number": 8
    },
    {
     "cell_type": "code",
     "collapsed": false,
     "input": [
      ";git config --global user.email \"dpsanders@gmail.com\""
     ],
     "language": "python",
     "metadata": {},
     "outputs": [],
     "prompt_number": 9
    },
    {
     "cell_type": "code",
     "collapsed": false,
     "input": [
      ";git status"
     ],
     "language": "python",
     "metadata": {},
     "outputs": [
      {
       "output_type": "stream",
       "stream": "stdout",
       "text": [
        "On branch master\n",
        "\n",
        "Initial commit\n",
        "\n",
        "Untracked files:\n",
        "  (use \"git add <file>...\" to include in what will be committed)\n",
        "\n",
        "\t.ipynb_checkpoints/\n",
        "\tIntro a git.ipynb\n",
        "\n",
        "nothing added to commit but untracked files present (use \"git add\" to track)\n"
       ]
      }
     ],
     "prompt_number": 10
    },
    {
     "cell_type": "code",
     "collapsed": false,
     "input": [
      ";touch clase_git.txt"
     ],
     "language": "python",
     "metadata": {},
     "outputs": [],
     "prompt_number": 11
    },
    {
     "cell_type": "code",
     "collapsed": false,
     "input": [
      ";ls"
     ],
     "language": "python",
     "metadata": {},
     "outputs": [
      {
       "output_type": "stream",
       "stream": "stdout",
       "text": [
        "Intro a git.ipynb\n",
        "clase_git.txt\n"
       ]
      }
     ],
     "prompt_number": 12
    },
    {
     "cell_type": "code",
     "collapsed": false,
     "input": [
      ";git status"
     ],
     "language": "python",
     "metadata": {},
     "outputs": [
      {
       "output_type": "stream",
       "stream": "stdout",
       "text": [
        "On branch master\n",
        "\n",
        "Initial commit\n",
        "\n",
        "Untracked files:\n",
        "  (use \"git add <file>...\" to include in what will be committed)\n",
        "\n",
        "\t.ipynb_checkpoints/\n",
        "\tIntro a git.ipynb\n",
        "\tclase_git.txt\n",
        "\n",
        "nothing added to commit but untracked files present (use \"git add\" to track)\n"
       ]
      }
     ],
     "prompt_number": 13
    },
    {
     "cell_type": "markdown",
     "metadata": {},
     "source": [
      "Darle a conocer a `git` que quiero rastrear el archivo `clase_git.txt`:"
     ]
    },
    {
     "cell_type": "code",
     "collapsed": false,
     "input": [
      ";git add clase_git.txt"
     ],
     "language": "python",
     "metadata": {},
     "outputs": [],
     "prompt_number": 14
    },
    {
     "cell_type": "code",
     "collapsed": false,
     "input": [
      ";git status"
     ],
     "language": "python",
     "metadata": {},
     "outputs": [
      {
       "output_type": "stream",
       "stream": "stdout",
       "text": [
        "On branch master\n",
        "\n",
        "Initial commit\n",
        "\n",
        "Changes to be committed:\n",
        "  (use \"git rm --cached <file>...\" to unstage)\n",
        "\n",
        "\tnew file:   clase_git.txt\n",
        "\n",
        "Untracked files:\n",
        "  (use \"git add <file>...\" to include in what will be committed)\n",
        "\n",
        "\t.ipynb_checkpoints/\n",
        "\tIntro a git.ipynb\n",
        "\n"
       ]
      }
     ],
     "prompt_number": 15
    },
    {
     "cell_type": "markdown",
     "metadata": {},
     "source": [
      "Grabar los cambios:"
     ]
    },
    {
     "cell_type": "code",
     "collapsed": false,
     "input": [
      ";git commit -m \"Grabaci\u00f3n (commit) inicial: agregu\u00e9 clase_git.txt\""
     ],
     "language": "python",
     "metadata": {},
     "outputs": [
      {
       "output_type": "stream",
       "stream": "stdout",
       "text": [
        "[master (root-commit) 790e507] Grabaci\u00f3n (commit) inicial: agregu\u00e9 clase_git.txt\n",
        " 1 file changed, 0 insertions(+), 0 deletions(-)\n",
        " create mode 100644 clase_git.txt\n"
       ]
      }
     ],
     "prompt_number": 16
    },
    {
     "cell_type": "markdown",
     "metadata": {},
     "source": [
      "Ver la bit\u00e1cora (*log*) de lo que ha pasado:"
     ]
    },
    {
     "cell_type": "code",
     "collapsed": false,
     "input": [
      ";git log"
     ],
     "language": "python",
     "metadata": {},
     "outputs": [
      {
       "output_type": "stream",
       "stream": "stdout",
       "text": [
        "commit 790e507d8d19ee0ef8cd1f73097c3869ed043555\n",
        "Author: David P. Sanders <dpsanders@gmail.com>\n",
        "Date:   Thu Sep 25 11:43:40 2014 -0500\n",
        "\n",
        "    Grabaci\u00f3n (commit) inicial: agregu\u00e9 clase_git.txt\n"
       ]
      }
     ],
     "prompt_number": 17
    },
    {
     "cell_type": "markdown",
     "metadata": {},
     "source": [
      "Modifiquemos el archivo clase_git.txt"
     ]
    },
    {
     "cell_type": "code",
     "collapsed": false,
     "input": [
      ";git status"
     ],
     "language": "python",
     "metadata": {},
     "outputs": [
      {
       "output_type": "stream",
       "stream": "stdout",
       "text": [
        "On branch master\n",
        "Changes not staged for commit:\n",
        "  (use \"git add <file>...\" to update what will be committed)\n",
        "  (use \"git checkout -- <file>...\" to discard changes in working directory)\n",
        "\n",
        "\tmodified:   clase_git.txt\n",
        "\n",
        "Untracked files:\n",
        "  (use \"git add <file>...\" to include in what will be committed)\n",
        "\n",
        "\t.ipynb_checkpoints/\n",
        "\tIntro a git.ipynb\n",
        "\n",
        "no changes added to commit (use \"git add\" and/or \"git commit -a\")\n"
       ]
      }
     ],
     "prompt_number": 18
    },
    {
     "cell_type": "markdown",
     "metadata": {},
     "source": [
      "\"staged\": preparado\n",
      "\n",
      "\"commit\": foto del estado actual"
     ]
    },
    {
     "cell_type": "markdown",
     "metadata": {},
     "source": [
      "Crear otro archivo:"
     ]
    },
    {
     "cell_type": "code",
     "collapsed": false,
     "input": [
      ";touch mas_sobre_git.txt"
     ],
     "language": "python",
     "metadata": {},
     "outputs": [],
     "prompt_number": 19
    },
    {
     "cell_type": "code",
     "collapsed": false,
     "input": [
      ";git status"
     ],
     "language": "python",
     "metadata": {},
     "outputs": [
      {
       "output_type": "stream",
       "stream": "stdout",
       "text": [
        "On branch master\n",
        "Changes not staged for commit:\n",
        "  (use \"git add <file>...\" to update what will be committed)\n",
        "  (use \"git checkout -- <file>...\" to discard changes in working directory)\n",
        "\n",
        "\tmodified:   clase_git.txt\n",
        "\n",
        "Untracked files:\n",
        "  (use \"git add <file>...\" to include in what will be committed)\n",
        "\n",
        "\t.ipynb_checkpoints/\n",
        "\tIntro a git.ipynb\n",
        "\tmas_sobre_git.txt\n",
        "\n",
        "no changes added to commit (use \"git add\" and/or \"git commit -a\")\n"
       ]
      }
     ],
     "prompt_number": 20
    },
    {
     "cell_type": "code",
     "collapsed": false,
     "input": [
      ";git config --global color.ui \"auto\""
     ],
     "language": "python",
     "metadata": {},
     "outputs": [],
     "prompt_number": 21
    },
    {
     "cell_type": "code",
     "collapsed": false,
     "input": [
      ";git status"
     ],
     "language": "python",
     "metadata": {},
     "outputs": [
      {
       "output_type": "stream",
       "stream": "stdout",
       "text": [
        "On branch master\n",
        "Changes not staged for commit:\n",
        "  (use \"git add <file>...\" to update what will be committed)\n",
        "  (use \"git checkout -- <file>...\" to discard changes in working directory)\n",
        "\n",
        "\tmodified:   clase_git.txt\n",
        "\n",
        "Untracked files:\n",
        "  (use \"git add <file>...\" to include in what will be committed)\n",
        "\n",
        "\t.ipynb_checkpoints/\n",
        "\tIntro a git.ipynb\n",
        "\tmas_sobre_git.txt\n",
        "\n",
        "no changes added to commit (use \"git add\" and/or \"git commit -a\")\n"
       ]
      }
     ],
     "prompt_number": 23
    },
    {
     "cell_type": "code",
     "collapsed": false,
     "input": [
      ";git add mas_sobre_git.txt"
     ],
     "language": "python",
     "metadata": {},
     "outputs": [],
     "prompt_number": 24
    },
    {
     "cell_type": "code",
     "collapsed": false,
     "input": [
      ";git status"
     ],
     "language": "python",
     "metadata": {},
     "outputs": [
      {
       "output_type": "stream",
       "stream": "stdout",
       "text": [
        "On branch master\n",
        "Changes to be committed:\n",
        "  (use \"git reset HEAD <file>...\" to unstage)\n",
        "\n",
        "\tnew file:   mas_sobre_git.txt\n",
        "\n",
        "Changes not staged for commit:\n",
        "  (use \"git add <file>...\" to update what will be committed)\n",
        "  (use \"git checkout -- <file>...\" to discard changes in working directory)\n",
        "\n",
        "\tmodified:   clase_git.txt\n",
        "\n",
        "Untracked files:\n",
        "  (use \"git add <file>...\" to include in what will be committed)\n",
        "\n",
        "\t.ipynb_checkpoints/\n",
        "\tIntro a git.ipynb\n",
        "\n"
       ]
      }
     ],
     "prompt_number": 25
    },
    {
     "cell_type": "code",
     "collapsed": false,
     "input": [
      ";git commit -m \"Agregu\u00e9 otro archivo\""
     ],
     "language": "python",
     "metadata": {},
     "outputs": [
      {
       "output_type": "stream",
       "stream": "stdout",
       "text": [
        "[master e15c1d9] Agregu\u00e9 otro archivo\n",
        " 1 file changed, 0 insertions(+), 0 deletions(-)\n",
        " create mode 100644 mas_sobre_git.txt\n"
       ]
      }
     ],
     "prompt_number": 26
    },
    {
     "cell_type": "code",
     "collapsed": false,
     "input": [
      ";git status"
     ],
     "language": "python",
     "metadata": {},
     "outputs": [
      {
       "output_type": "stream",
       "stream": "stdout",
       "text": [
        "On branch master\n",
        "Changes not staged for commit:\n",
        "  (use \"git add <file>...\" to update what will be committed)\n",
        "  (use \"git checkout -- <file>...\" to discard changes in working directory)\n",
        "\n",
        "\tmodified:   clase_git.txt\n",
        "\n",
        "Untracked files:\n",
        "  (use \"git add <file>...\" to include in what will be committed)\n",
        "\n",
        "\t.ipynb_checkpoints/\n",
        "\tIntro a git.ipynb\n",
        "\n",
        "no changes added to commit (use \"git add\" and/or \"git commit -a\")\n"
       ]
      }
     ],
     "prompt_number": 27
    },
    {
     "cell_type": "markdown",
     "metadata": {},
     "source": [
      "Los cambios de `clase_git.txt` no se grabaron, porque no le decimos que grabara los cambios. Hag\u00e1moslo:"
     ]
    },
    {
     "cell_type": "code",
     "collapsed": false,
     "input": [
      ";git add clase_git.txt"
     ],
     "language": "python",
     "metadata": {},
     "outputs": [],
     "prompt_number": 29
    },
    {
     "cell_type": "markdown",
     "metadata": {},
     "source": [
      "(Si te deja adentro de `vim`, usa `Esc :q` para salir.)"
     ]
    },
    {
     "cell_type": "code",
     "collapsed": false,
     "input": [
      ";git commit -m \"Agregu\u00e9 texto a clase_git.txt\""
     ],
     "language": "python",
     "metadata": {},
     "outputs": [
      {
       "output_type": "stream",
       "stream": "stdout",
       "text": [
        "[master c4ed95f] Agregu\u00e9 texto a clase_git.txt\n",
        " 1 file changed, 1 insertion(+)\n"
       ]
      }
     ],
     "prompt_number": 1
    },
    {
     "cell_type": "code",
     "collapsed": false,
     "input": [
      ";git status"
     ],
     "language": "python",
     "metadata": {},
     "outputs": [
      {
       "output_type": "stream",
       "stream": "stdout",
       "text": [
        "On branch master\n",
        "Untracked files:\n",
        "  (use \"git add <file>...\" to include in what will be committed)\n",
        "\n",
        "\t.ipynb_checkpoints/\n",
        "\tIntro a git.ipynb\n",
        "\n",
        "nothing added to commit but untracked files present (use \"git add\" to track)\n"
       ]
      }
     ],
     "prompt_number": 2
    },
    {
     "cell_type": "code",
     "collapsed": false,
     "input": [
      ";git log"
     ],
     "language": "python",
     "metadata": {},
     "outputs": [
      {
       "output_type": "stream",
       "stream": "stdout",
       "text": [
        "commit c4ed95fda753bcc1fcb2f7343c0bc953bb206236\n",
        "Author: David P. Sanders <dpsanders@gmail.com>\n",
        "Date:   Thu Sep 25 11:59:10 2014 -0500\n",
        "\n",
        "    Agregu\u00e9 texto a clase_git.txt\n",
        "\n",
        "commit e15c1d964efbf9e63b26b59acf25d5f4d1c57190\n",
        "Author: David P. Sanders <dpsanders@gmail.com>\n",
        "Date:   Thu Sep 25 11:55:07 2014 -0500\n",
        "\n",
        "    Agregu\u00e9 otro archivo\n",
        "\n",
        "commit 790e507d8d19ee0ef8cd1f73097c3869ed043555\n",
        "Author: David P. Sanders <dpsanders@gmail.com>\n",
        "Date:   Thu Sep 25 11:43:40 2014 -0500\n",
        "\n",
        "    Grabaci\u00f3n (commit) inicial: agregu\u00e9 clase_git.txt\n"
       ]
      }
     ],
     "prompt_number": 3
    },
    {
     "cell_type": "markdown",
     "metadata": {},
     "source": [
      "[Si quieres grabar *todos* los cambios nuevos:\n",
      "\n",
      "`git commit -am \"Mensaje aqui\"`\n",
      "\n",
      "\u00a1No lo utilicen!]"
     ]
    },
    {
     "cell_type": "heading",
     "level": 2,
     "metadata": {},
     "source": [
      "Ciclo b\u00e1sico de `git`:"
     ]
    },
    {
     "cell_type": "markdown",
     "metadata": {},
     "source": [
      "    git status   # ver cu\u00e1l es la situaci\u00f3n\n",
      "    \n",
      "    [Modificar archivos]\n",
      "    \n",
      "    git status \n",
      "    \n",
      "    git add   # prepara los archivos que se cambiaron\n",
      "    \n",
      "    git commit -m \"Mensaje\"  # grabar s\u00f3lo estos cambios"
     ]
    },
    {
     "cell_type": "markdown",
     "metadata": {},
     "source": [
      "Cambiar otra vez clase_git.txt"
     ]
    },
    {
     "cell_type": "code",
     "collapsed": false,
     "input": [
      ";git status"
     ],
     "language": "python",
     "metadata": {},
     "outputs": [
      {
       "output_type": "stream",
       "stream": "stdout",
       "text": [
        "On branch master\n",
        "Changes not staged for commit:\n",
        "  (use \"git add <file>...\" to update what will be committed)\n",
        "  (use \"git checkout -- <file>...\" to discard changes in working directory)\n",
        "\n",
        "\tmodified:   clase_git.txt\n",
        "\n",
        "Untracked files:\n",
        "  (use \"git add <file>...\" to include in what will be committed)\n",
        "\n",
        "\t.ipynb_checkpoints/\n",
        "\tIntro a git.ipynb\n",
        "\n",
        "no changes added to commit (use \"git add\" and/or \"git commit -a\")\n"
       ]
      }
     ],
     "prompt_number": 4
    },
    {
     "cell_type": "code",
     "collapsed": false,
     "input": [
      ";git add clase_git.txt"
     ],
     "language": "python",
     "metadata": {},
     "outputs": [],
     "prompt_number": 6
    },
    {
     "cell_type": "code",
     "collapsed": false,
     "input": [
      ";git rm --cached clase_git.txt"
     ],
     "language": "python",
     "metadata": {},
     "outputs": [
      {
       "output_type": "stream",
       "stream": "stdout",
       "text": [
        "rm 'clase_git.txt'\n"
       ]
      }
     ],
     "prompt_number": 9
    },
    {
     "cell_type": "code",
     "collapsed": false,
     "input": [
      ";cat clase_git.txt"
     ],
     "language": "python",
     "metadata": {},
     "outputs": [
      {
       "output_type": "stream",
       "stream": "stdout",
       "text": [
        "En esta clase estamos aprendiendo git.\n",
        "\n",
        "\u00c9sta es una nueva l\u00ednea."
       ]
      }
     ],
     "prompt_number": 10
    },
    {
     "cell_type": "markdown",
     "metadata": {},
     "source": [
      "\u00bfQu\u00e9 ha cambiado?"
     ]
    },
    {
     "cell_type": "code",
     "collapsed": false,
     "input": [
      ";git status"
     ],
     "language": "python",
     "metadata": {},
     "outputs": [
      {
       "output_type": "stream",
       "stream": "stdout",
       "text": [
        "On branch master\n",
        "Changes to be committed:\n",
        "  (use \"git reset HEAD <file>...\" to unstage)\n",
        "\n",
        "\tdeleted:    clase_git.txt\n",
        "\n",
        "Untracked files:\n",
        "  (use \"git add <file>...\" to include in what will be committed)\n",
        "\n",
        "\t.ipynb_checkpoints/\n",
        "\tIntro a git.ipynb\n",
        "\tclase_git.txt\n",
        "\n"
       ]
      }
     ],
     "prompt_number": 14
    },
    {
     "cell_type": "code",
     "collapsed": false,
     "input": [
      ";git add clase_git.txt"
     ],
     "language": "python",
     "metadata": {},
     "outputs": [],
     "prompt_number": 15
    },
    {
     "cell_type": "code",
     "collapsed": false,
     "input": [
      ";git status"
     ],
     "language": "python",
     "metadata": {},
     "outputs": [
      {
       "output_type": "stream",
       "stream": "stdout",
       "text": [
        "On branch master\n",
        "Changes to be committed:\n",
        "  (use \"git reset HEAD <file>...\" to unstage)\n",
        "\n",
        "\tmodified:   clase_git.txt\n",
        "\n",
        "Untracked files:\n",
        "  (use \"git add <file>...\" to include in what will be committed)\n",
        "\n",
        "\t.ipynb_checkpoints/\n",
        "\tIntro a git.ipynb\n",
        "\n"
       ]
      }
     ],
     "prompt_number": 16
    },
    {
     "cell_type": "code",
     "collapsed": false,
     "input": [
      ";git diff"
     ],
     "language": "python",
     "metadata": {},
     "outputs": [],
     "prompt_number": 17
    },
    {
     "cell_type": "code",
     "collapsed": false,
     "input": [
      ";git diff --staged"
     ],
     "language": "python",
     "metadata": {},
     "outputs": [
      {
       "output_type": "stream",
       "stream": "stdout",
       "text": [
        "diff --git a/clase_git.txt b/clase_git.txt\n",
        "index d67d0e5..b1512b8 100644\n",
        "--- a/clase_git.txt\n",
        "+++ b/clase_git.txt\n",
        "@@ -1 +1,3 @@\n",
        " En esta clase estamos aprendiendo git.\n",
        "+\n",
        "+\u00c9sta es una nueva l\u00ednea.\n",
        "\\ No newline at end of file\n"
       ]
      }
     ],
     "prompt_number": 18
    },
    {
     "cell_type": "code",
     "collapsed": false,
     "input": [
      ";git diff --staged clase_git.txt"
     ],
     "language": "python",
     "metadata": {},
     "outputs": [
      {
       "output_type": "stream",
       "stream": "stdout",
       "text": [
        "diff --git a/clase_git.txt b/clase_git.txt\n",
        "index d67d0e5..b1512b8 100644\n",
        "--- a/clase_git.txt\n",
        "+++ b/clase_git.txt\n",
        "@@ -1 +1,3 @@\n",
        " En esta clase estamos aprendiendo git.\n",
        "+\n",
        "+\u00c9sta es una nueva l\u00ednea.\n",
        "\\ No newline at end of file\n"
       ]
      }
     ],
     "prompt_number": 19
    },
    {
     "cell_type": "code",
     "collapsed": false,
     "input": [
      ";git commit -m \"M\u00e1s cambios\""
     ],
     "language": "python",
     "metadata": {},
     "outputs": [
      {
       "output_type": "stream",
       "stream": "stdout",
       "text": [
        "[master 61f1156] M\u00e1s cambios\n",
        " 1 file changed, 2 insertions(+)\n"
       ]
      }
     ],
     "prompt_number": 20
    },
    {
     "cell_type": "code",
     "collapsed": false,
     "input": [
      ";git log"
     ],
     "language": "python",
     "metadata": {},
     "outputs": [
      {
       "output_type": "stream",
       "stream": "stdout",
       "text": [
        "commit 61f115668a1d4175827b2a3e0481e1671774d8cf\n",
        "Author: David P. Sanders <dpsanders@gmail.com>\n",
        "Date:   Thu Sep 25 12:14:07 2014 -0500\n",
        "\n",
        "    M\u00e1s cambios\n"
       ]
      },
      {
       "output_type": "stream",
       "stream": "stdout",
       "text": [
        "\n",
        "commit c4ed95fda753bcc1fcb2f7343c0bc953bb206236\n",
        "Author: David P. Sanders <dpsanders@gmail.com>\n",
        "Date:   Thu Sep 25 11:59:10 2014 -0500\n",
        "\n",
        "    Agregu\u00e9 texto a clase_git.txt\n",
        "\n",
        "commit e15c1d964efbf9e63b26b59acf25d5f4d1c57190\n",
        "Author: David P. Sanders <dpsanders@gmail.com>\n",
        "Date:   Thu Sep 25 11:55:07 2014 -0500\n",
        "\n",
        "    Agregu\u00e9 otro archivo\n",
        "\n",
        "commit 790e507d8d19ee0ef8cd1f73097c3869ed043555\n",
        "Author: David P. Sanders <dpsanders@gmail.com>\n",
        "Date:   Thu Sep 25 11:43:40 2014 -0500\n",
        "\n",
        "    Grabaci\u00f3n (commit) inicial: agregu\u00e9 clase_git.txt\n"
       ]
      }
     ],
     "prompt_number": 21
    },
    {
     "cell_type": "code",
     "collapsed": false,
     "input": [
      ";git diff 790e507d c4ed95f "
     ],
     "language": "python",
     "metadata": {},
     "outputs": [
      {
       "output_type": "stream",
       "stream": "stdout",
       "text": [
        "diff --git a/clase_git.txt b/clase_git.txt\n",
        "index e69de29..d67d0e5 100644\n",
        "--- a/clase_git.txt\n",
        "+++ b/clase_git.txt\n",
        "@@ -0,0 +1 @@\n",
        "+En esta clase estamos aprendiendo git.\n",
        "diff --git a/mas_sobre_git.txt b/mas_sobre_git.txt\n",
        "new file mode 100644\n",
        "index 0000000..e69de29\n"
       ]
      }
     ],
     "prompt_number": 23
    },
    {
     "cell_type": "code",
     "collapsed": false,
     "input": [
      ";git checkout c4ed95fda clase_git.txt"
     ],
     "language": "python",
     "metadata": {},
     "outputs": [],
     "prompt_number": 24
    },
    {
     "cell_type": "code",
     "collapsed": false,
     "input": [
      ";cat clase_git.txt"
     ],
     "language": "python",
     "metadata": {},
     "outputs": [
      {
       "output_type": "stream",
       "stream": "stdout",
       "text": [
        "En esta clase estamos aprendiendo git.\n"
       ]
      }
     ],
     "prompt_number": 25
    },
    {
     "cell_type": "code",
     "collapsed": false,
     "input": [
      ";git checkout HEAD clase_git.txt"
     ],
     "language": "python",
     "metadata": {},
     "outputs": [],
     "prompt_number": 26
    },
    {
     "cell_type": "code",
     "collapsed": false,
     "input": [
      ";cat clase_git.txt"
     ],
     "language": "python",
     "metadata": {},
     "outputs": [
      {
       "output_type": "stream",
       "stream": "stdout",
       "text": [
        "En esta clase estamos aprendiendo git.\n",
        "\n",
        "\u00c9sta es una nueva l\u00ednea."
       ]
      }
     ],
     "prompt_number": 27
    },
    {
     "cell_type": "code",
     "collapsed": false,
     "input": [
      ";git log"
     ],
     "language": "python",
     "metadata": {},
     "outputs": [
      {
       "output_type": "stream",
       "stream": "stdout",
       "text": [
        "commit 61f115668a1d4175827b2a3e0481e1671774d8cf\n",
        "Author: David P. Sanders <dpsanders@gmail.com>\n",
        "Date:   Thu Sep 25 12:14:07 2014 -0500\n",
        "\n",
        "    M\u00e1s cambios\n",
        "\n",
        "commit c4ed95fda753bcc1fcb2f7343c0bc953bb206236\n",
        "Author: David P. Sanders <dpsanders@gmail.com>\n",
        "Date:   Thu Sep 25 11:59:10 2014 -0500\n",
        "\n",
        "    Agregu\u00e9 texto a clase_git.txt\n",
        "\n",
        "commit e15c1d964efbf9e63b26b59acf25d5f4d1c57190\n",
        "Author: David P. Sanders <dpsanders@gmail.com>\n",
        "Date:   Thu Sep 25 11:55:07 2014 -0500\n",
        "\n",
        "    Agregu\u00e9 otro archivo\n"
       ]
      },
      {
       "output_type": "stream",
       "stream": "stdout",
       "text": [
        "\n",
        "commit 790e507d8d19ee0ef8cd1f73097c3869ed043555\n",
        "Author: David P. Sanders <dpsanders@gmail.com>\n",
        "Date:   Thu Sep 25 11:43:40 2014 -0500\n",
        "\n",
        "    Grabaci\u00f3n (commit) inicial: agregu\u00e9 clase_git.txt\n"
       ]
      }
     ],
     "prompt_number": 28
    },
    {
     "cell_type": "code",
     "collapsed": false,
     "input": [
      ";git checkout HEAD~2 clase_git.txt"
     ],
     "language": "python",
     "metadata": {},
     "outputs": [],
     "prompt_number": 29
    },
    {
     "cell_type": "code",
     "collapsed": false,
     "input": [
      ";cat clase_git.txt"
     ],
     "language": "python",
     "metadata": {},
     "outputs": [],
     "prompt_number": 30
    },
    {
     "cell_type": "code",
     "collapsed": false,
     "input": [
      ";git checkout HEAD~1 clase_git.txt"
     ],
     "language": "python",
     "metadata": {},
     "outputs": [],
     "prompt_number": 31
    },
    {
     "cell_type": "code",
     "collapsed": false,
     "input": [
      ";cat clase_git.txt"
     ],
     "language": "python",
     "metadata": {},
     "outputs": [
      {
       "output_type": "stream",
       "stream": "stdout",
       "text": [
        "En esta clase estamos aprendiendo git.\n"
       ]
      }
     ],
     "prompt_number": 32
    },
    {
     "cell_type": "code",
     "collapsed": false,
     "input": [
      ";git checkout HEAD clase_git.txt"
     ],
     "language": "python",
     "metadata": {},
     "outputs": [],
     "prompt_number": 33
    },
    {
     "cell_type": "markdown",
     "metadata": {},
     "source": [
      "Si ahora modifico clase_git.txt, no lo grabo, e intento sacar una versi\u00f3n anterior:"
     ]
    },
    {
     "cell_type": "code",
     "collapsed": false,
     "input": [
      ";git status"
     ],
     "language": "python",
     "metadata": {},
     "outputs": [
      {
       "output_type": "stream",
       "stream": "stdout",
       "text": [
        "On branch master\n",
        "Changes not staged for commit:\n",
        "  (use \"git add <file>...\" to update what will be committed)\n",
        "  (use \"git checkout -- <file>...\" to discard changes in working directory)\n",
        "\n",
        "\tmodified:   clase_git.txt\n",
        "\n",
        "Untracked files:\n",
        "  (use \"git add <file>...\" to include in what will be committed)\n",
        "\n",
        "\t.ipynb_checkpoints/\n",
        "\tIntro a git.ipynb\n",
        "\n",
        "no changes added to commit (use \"git add\" and/or \"git commit -a\")\n"
       ]
      }
     ],
     "prompt_number": 34
    },
    {
     "cell_type": "code",
     "collapsed": false,
     "input": [
      ";git checkout HEAD~2 clase_git.txt"
     ],
     "language": "python",
     "metadata": {},
     "outputs": [],
     "prompt_number": 37
    },
    {
     "cell_type": "code",
     "collapsed": false,
     "input": [
      ";git checkout HEAD clase_git.txt"
     ],
     "language": "python",
     "metadata": {},
     "outputs": [],
     "prompt_number": 38
    },
    {
     "cell_type": "code",
     "collapsed": false,
     "input": [
      ";cat clase_git.txt"
     ],
     "language": "python",
     "metadata": {},
     "outputs": [
      {
       "output_type": "stream",
       "stream": "stdout",
       "text": [
        "En esta clase estamos aprendiendo git.\n",
        "\n",
        "\u00c9sta es una nueva l\u00ednea."
       ]
      }
     ],
     "prompt_number": 39
    },
    {
     "cell_type": "code",
     "collapsed": false,
     "input": [
      ";git status"
     ],
     "language": "python",
     "metadata": {},
     "outputs": [
      {
       "output_type": "stream",
       "stream": "stdout",
       "text": [
        "On branch master\n",
        "Untracked files:\n",
        "  (use \"git add <file>...\" to include in what will be committed)\n",
        "\n",
        "\t.ipynb_checkpoints/\n",
        "\tIntro a git.ipynb\n",
        "\n",
        "nothing added to commit but untracked files present (use \"git add\" to track)\n"
       ]
      }
     ],
     "prompt_number": 40
    },
    {
     "cell_type": "code",
     "collapsed": false,
     "input": [
      ";git add Intro\\ a\\ git.ipynb"
     ],
     "language": "python",
     "metadata": {},
     "outputs": []
    }
   ],
   "metadata": {}
  }
 ]
}