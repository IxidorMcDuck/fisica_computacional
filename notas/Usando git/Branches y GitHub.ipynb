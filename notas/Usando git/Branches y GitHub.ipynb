{
 "metadata": {
  "language": "Julia",
  "name": "",
  "signature": "sha256:a567f4f5ff6a6b96d57380e3f9bf7a2134b4b6778dd11f2a9a54ba251292d9d3"
 },
 "nbformat": 3,
 "nbformat_minor": 0,
 "worksheets": [
  {
   "cells": [
    {
     "cell_type": "heading",
     "level": 2,
     "metadata": {},
     "source": [
      "Flujo de trabajo b\u00e1sico con `git`:"
     ]
    },
    {
     "cell_type": "markdown",
     "metadata": {},
     "source": [
      "    git init   # inicializar\n",
      "    git add    # darle a conocer un archivo a git\n",
      "    git status # ver qu\u00e9 piensa git en ese momento\n",
      "    git commit # grabar una \"foto\" instant\u00e1nea\n",
      "    git push   # mandar los cambios a una copia remota"
     ]
    },
    {
     "cell_type": "heading",
     "level": 1,
     "metadata": {},
     "source": [
      "Ramas: branches"
     ]
    },
    {
     "cell_type": "markdown",
     "metadata": {},
     "source": [
      "Una *rama* (*branch*) es una corriente de trabajo en paralelo: puedo tener dos o m\u00e1s copias de un proyecto que existen al *mismo* tiempo, y \u00a1en el *mismo* lugar!"
     ]
    },
    {
     "cell_type": "code",
     "collapsed": false,
     "input": [
      ";pwd"
     ],
     "language": "python",
     "metadata": {},
     "outputs": [
      {
       "output_type": "stream",
       "stream": "stdout",
       "text": [
        "/Users/david/Dropbox/docencia/fisica_computacional/intro_a_git\n"
       ]
      }
     ],
     "prompt_number": 1
    },
    {
     "cell_type": "code",
     "collapsed": false,
     "input": [
      ";git status"
     ],
     "language": "python",
     "metadata": {},
     "outputs": [
      {
       "output_type": "stream",
       "stream": "stdout",
       "text": [
        "On branch master\n",
        "Your branch is up-to-date with 'origin/master'.\n",
        "\n",
        "Changes not staged for commit:\n",
        "  (use \"git add <file>...\" to update what will be committed)\n",
        "  (use \"git checkout -- <file>...\" to discard changes in working directory)\n",
        "\n",
        "\tmodified:   Intro a git.ipynb\n",
        "\n",
        "Untracked files:\n",
        "  (use \"git add <file>...\" to include in what will be committed)\n",
        "\n",
        "\t.ipynb_checkpoints/\n",
        "\t\"M\\303\\241s git.ipynb\"\n",
        "\n",
        "no changes added to commit (use \"git add\" and/or \"git commit -a\")\n"
       ]
      }
     ],
     "prompt_number": 2
    },
    {
     "cell_type": "code",
     "collapsed": false,
     "input": [
      ";git branch"
     ],
     "language": "python",
     "metadata": {},
     "outputs": [
      {
       "output_type": "stream",
       "stream": "stdout",
       "text": [
        "* master\n"
       ]
      }
     ],
     "prompt_number": 3
    },
    {
     "cell_type": "code",
     "collapsed": false,
     "input": [
      ";git branch secundario"
     ],
     "language": "python",
     "metadata": {},
     "outputs": [],
     "prompt_number": 5
    },
    {
     "cell_type": "code",
     "collapsed": false,
     "input": [
      ";git branch"
     ],
     "language": "python",
     "metadata": {},
     "outputs": [
      {
       "output_type": "stream",
       "stream": "stdout",
       "text": [
        "* master\n",
        "  secundario\n"
       ]
      }
     ],
     "prompt_number": 6
    },
    {
     "cell_type": "code",
     "collapsed": false,
     "input": [
      ";git status"
     ],
     "language": "python",
     "metadata": {},
     "outputs": [
      {
       "output_type": "stream",
       "stream": "stdout",
       "text": [
        "On branch master\n",
        "Your branch is up-to-date with 'origin/master'.\n",
        "\n",
        "Changes not staged for commit:\n",
        "  (use \"git add <file>...\" to update what will be committed)\n",
        "  (use \"git checkout -- <file>...\" to discard changes in working directory)\n",
        "\n",
        "\tmodified:   Intro a git.ipynb\n",
        "\n",
        "Untracked files:\n",
        "  (use \"git add <file>...\" to include in what will be committed)\n",
        "\n",
        "\t.ipynb_checkpoints/\n",
        "\t\"M\\303\\241s git.ipynb\"\n",
        "\n",
        "no changes added to commit (use \"git add\" and/or \"git commit -a\")\n"
       ]
      }
     ],
     "prompt_number": 7
    },
    {
     "cell_type": "markdown",
     "metadata": {},
     "source": [
      "Cambiar a la otra rama:"
     ]
    },
    {
     "cell_type": "code",
     "collapsed": false,
     "input": [
      ";git checkout secundario"
     ],
     "language": "python",
     "metadata": {},
     "outputs": [
      {
       "output_type": "stream",
       "stream": "stderr",
       "text": [
        "Switched to branch 'secundario'\n"
       ]
      },
      {
       "output_type": "stream",
       "stream": "stdout",
       "text": [
        "M\tIntro a git.ipynb\n"
       ]
      }
     ],
     "prompt_number": 8
    },
    {
     "cell_type": "code",
     "collapsed": false,
     "input": [
      ";git status"
     ],
     "language": "python",
     "metadata": {},
     "outputs": [
      {
       "output_type": "stream",
       "stream": "stdout",
       "text": [
        "On branch secundario\n",
        "Changes not staged for commit:\n",
        "  (use \"git add <file>...\" to update what will be committed)\n",
        "  (use \"git checkout -- <file>...\" to discard changes in working directory)\n",
        "\n",
        "\tmodified:   Intro a git.ipynb\n",
        "\n",
        "Untracked files:\n",
        "  (use \"git add <file>...\" to include in what will be committed)\n",
        "\n",
        "\t.ipynb_checkpoints/\n",
        "\t\"M\\303\\241s git.ipynb\"\n",
        "\tnuevo.txt\n",
        "\n",
        "no changes added to commit (use \"git add\" and/or \"git commit -a\")\n"
       ]
      }
     ],
     "prompt_number": 9
    },
    {
     "cell_type": "code",
     "collapsed": false,
     "input": [
      ";git add nuevo.txt"
     ],
     "language": "python",
     "metadata": {},
     "outputs": [],
     "prompt_number": 10
    },
    {
     "cell_type": "code",
     "collapsed": false,
     "input": [
      ";git commit -m \"Agregue el archivo nuevo.txt\""
     ],
     "language": "python",
     "metadata": {},
     "outputs": [
      {
       "output_type": "stream",
       "stream": "stdout",
       "text": [
        "[secundario cdfe0de] Agregue el archivo nuevo.txt\n",
        " 1 file changed, 0 insertions(+), 0 deletions(-)\n",
        " create mode 100644 nuevo.txt\n"
       ]
      }
     ],
     "prompt_number": 12
    },
    {
     "cell_type": "code",
     "collapsed": false,
     "input": [
      ";git log"
     ],
     "language": "python",
     "metadata": {},
     "outputs": [
      {
       "output_type": "stream",
       "stream": "stdout",
       "text": [
        "commit cdfe0de2372f37f6b2de3c9653f6b3678d896446\n",
        "Author: David P. Sanders <dpsanders@gmail.com>\n",
        "Date:   Tue Sep 30 11:36:47 2014 -0500\n",
        "\n",
        "    Agregue el archivo nuevo.txt\n"
       ]
      },
      {
       "output_type": "stream",
       "stream": "stdout",
       "text": [
        "\n",
        "commit 7f99ac3bb068cb614b0dd1943cc1b22129c061cd\n",
        "Author: David P. Sanders <dpsanders@gmail.com>\n",
        "Date:   Thu Sep 25 12:36:52 2014 -0500\n",
        "\n",
        "    Agregue otro archivo\n",
        "\n",
        "commit f0b84981f1f952e395d6424cd88a0f053d42ad87\n",
        "Author: David P. Sanders <dpsanders@gmail.com>\n",
        "Date:   Thu Sep 25 12:27:23 2014 -0500\n",
        "\n",
        "    Agregue el notebook\n",
        "\n",
        "commit 61f115668a1d4175827b2a3e0481e1671774d8cf\n",
        "Author: David P. Sanders <dpsanders@gmail.com>\n",
        "Date:   Thu Sep 25 12:14:07 2014 -0500\n",
        "\n",
        "    M\u00e1s cambios\n",
        "\n",
        "commit c4ed95fda753bcc1fcb2f7343c0bc953bb206236\n",
        "Author: David P. Sanders <dpsanders@gmail.com>\n",
        "Date:   Thu Sep 25 11:59:10 2014 -0500\n",
        "\n",
        "    Agregu\u00e9 texto a clase_git.txt\n",
        "\n",
        "commit e15c1d964efbf9e63b26b59acf25d5f4d1c57190\n",
        "Author: David P. Sanders <dpsanders@gmail.com>\n",
        "Date:   Thu Sep 25 11:55:07 2014 -0500\n",
        "\n",
        "    Agregu\u00e9 otro archivo\n",
        "\n",
        "commit 790e507d8d19ee0ef8cd1f73097c3869ed043555\n",
        "Author: David P. Sanders <dpsanders@gmail.com>\n",
        "Date:   Thu Sep 25 11:43:40 2014 -0500\n",
        "\n",
        "    Grabaci\u00f3n (commit) inicial: agregu\u00e9 clase_git.txt\n"
       ]
      }
     ],
     "prompt_number": 13
    },
    {
     "cell_type": "code",
     "collapsed": false,
     "input": [
      ";git status"
     ],
     "language": "python",
     "metadata": {},
     "outputs": [
      {
       "output_type": "stream",
       "stream": "stdout",
       "text": [
        "On branch secundario\n",
        "Changes not staged for commit:\n",
        "  (use \"git add <file>...\" to update what will be committed)\n",
        "  (use \"git checkout -- <file>...\" to discard changes in working directory)\n",
        "\n",
        "\tmodified:   Intro a git.ipynb\n",
        "\n",
        "Untracked files:\n",
        "  (use \"git add <file>...\" to include in what will be committed)\n",
        "\n",
        "\t.ipynb_checkpoints/\n",
        "\t\"M\\303\\241s git.ipynb\"\n",
        "\n",
        "no changes added to commit (use \"git add\" and/or \"git commit -a\")\n"
       ]
      }
     ],
     "prompt_number": 14
    },
    {
     "cell_type": "code",
     "collapsed": false,
     "input": [
      ";ls"
     ],
     "language": "python",
     "metadata": {},
     "outputs": [
      {
       "output_type": "stream",
       "stream": "stdout",
       "text": [
        "Intro a git.ipynb\n",
        "Ma\u0301s git.ipynb\n",
        "clase_git.txt\n",
        "mas_sobre_git.txt\n",
        "nuevo.txt\n",
        "otro_archivo.txt\n"
       ]
      }
     ],
     "prompt_number": 15
    },
    {
     "cell_type": "code",
     "collapsed": false,
     "input": [
      ";git checkout master"
     ],
     "language": "python",
     "metadata": {},
     "outputs": [
      {
       "output_type": "stream",
       "stream": "stderr",
       "text": [
        "Switched to branch 'master'\n"
       ]
      },
      {
       "output_type": "stream",
       "stream": "stdout",
       "text": [
        "M\tIntro a git.ipynb\n",
        "Your branch is up-to-date with 'origin/master'.\n"
       ]
      }
     ],
     "prompt_number": 16
    },
    {
     "cell_type": "code",
     "collapsed": false,
     "input": [
      ";ls"
     ],
     "language": "python",
     "metadata": {},
     "outputs": [
      {
       "output_type": "stream",
       "stream": "stdout",
       "text": [
        "Intro a git.ipynb\n",
        "Ma\u0301s git.ipynb\n",
        "clase_git.txt\n",
        "mas_sobre_git.txt\n",
        "otro_archivo.txt\n"
       ]
      }
     ],
     "prompt_number": 17
    },
    {
     "cell_type": "code",
     "collapsed": false,
     "input": [
      ";git checkout secundario"
     ],
     "language": "python",
     "metadata": {},
     "outputs": [
      {
       "output_type": "stream",
       "stream": "stderr",
       "text": [
        "Switched to branch 'secundario'\n"
       ]
      },
      {
       "output_type": "stream",
       "stream": "stdout",
       "text": [
        "M\tIntro a git.ipynb\n"
       ]
      }
     ],
     "prompt_number": 18
    },
    {
     "cell_type": "code",
     "collapsed": false,
     "input": [
      ";ls"
     ],
     "language": "python",
     "metadata": {},
     "outputs": [
      {
       "output_type": "stream",
       "stream": "stdout",
       "text": [
        "Intro a git.ipynb\n",
        "Ma\u0301s git.ipynb\n",
        "clase_git.txt\n",
        "mas_sobre_git.txt\n",
        "nuevo.txt\n",
        "otro_archivo.txt\n"
       ]
      }
     ],
     "prompt_number": 19
    },
    {
     "cell_type": "code",
     "collapsed": false,
     "input": [
      ";git checkout master"
     ],
     "language": "python",
     "metadata": {},
     "outputs": [
      {
       "output_type": "stream",
       "stream": "stderr",
       "text": [
        "Already on 'master'\n"
       ]
      },
      {
       "output_type": "stream",
       "stream": "stdout",
       "text": [
        "Your branch is up-to-date with 'origin/master'.\n"
       ]
      }
     ],
     "prompt_number": 20
    },
    {
     "cell_type": "code",
     "collapsed": false,
     "input": [
      ";git merge secundario"
     ],
     "language": "python",
     "metadata": {},
     "outputs": [
      {
       "output_type": "stream",
       "stream": "stdout",
       "text": [
        "Updating 7f99ac3..cdfe0de\n",
        "Fast-forward\n"
       ]
      },
      {
       "output_type": "stream",
       "stream": "stdout",
       "text": [
        " nuevo.txt | 0\n",
        " 1 file changed, 0 insertions(+), 0 deletions(-)\n",
        " create mode 100644 nuevo.txt\n"
       ]
      }
     ],
     "prompt_number": 21
    },
    {
     "cell_type": "markdown",
     "metadata": {},
     "source": [
      "Borrar el branch una vez incorporada (o cuando ya no sirve):"
     ]
    },
    {
     "cell_type": "code",
     "collapsed": false,
     "input": [
      ";git branch -d secundario"
     ],
     "language": "python",
     "metadata": {},
     "outputs": [
      {
       "output_type": "stream",
       "stream": "stdout",
       "text": [
        "Deleted branch secundario (was cdfe0de).\n"
       ]
      }
     ],
     "prompt_number": 22
    },
    {
     "cell_type": "code",
     "collapsed": false,
     "input": [
      ";git branch"
     ],
     "language": "python",
     "metadata": {},
     "outputs": [
      {
       "output_type": "stream",
       "stream": "stdout",
       "text": [
        "* master\n"
       ]
      }
     ],
     "prompt_number": 23
    },
    {
     "cell_type": "code",
     "collapsed": false,
     "input": [
      ";git branch secundario"
     ],
     "language": "python",
     "metadata": {},
     "outputs": [],
     "prompt_number": 24
    },
    {
     "cell_type": "code",
     "collapsed": false,
     "input": [
      ";git branch"
     ],
     "language": "python",
     "metadata": {},
     "outputs": [
      {
       "output_type": "stream",
       "stream": "stdout",
       "text": [
        "* master\n",
        "  secundario\n"
       ]
      }
     ],
     "prompt_number": 26
    },
    {
     "cell_type": "code",
     "collapsed": false,
     "input": [
      ";touch nuevo_en_master.txt"
     ],
     "language": "python",
     "metadata": {},
     "outputs": [],
     "prompt_number": 27
    },
    {
     "cell_type": "code",
     "collapsed": false,
     "input": [
      ";git add nuevo_en_master.txt"
     ],
     "language": "python",
     "metadata": {},
     "outputs": [],
     "prompt_number": 28
    },
    {
     "cell_type": "code",
     "collapsed": false,
     "input": [
      ";git commit -m \"Nuevo_en_master\""
     ],
     "language": "python",
     "metadata": {},
     "outputs": [
      {
       "output_type": "stream",
       "stream": "stdout",
       "text": [
        "[master 23b4c10] Nuevo_en_master\n",
        " 1 file changed, 2 insertions(+)\n",
        " create mode 100644 nuevo_en_master.txt\n"
       ]
      }
     ],
     "prompt_number": 29
    },
    {
     "cell_type": "code",
     "collapsed": false,
     "input": [
      ";git checkout secundario"
     ],
     "language": "python",
     "metadata": {},
     "outputs": [
      {
       "output_type": "stream",
       "stream": "stderr",
       "text": [
        "Switched to branch 'secundario'\n"
       ]
      }
     ],
     "prompt_number": 30
    },
    {
     "cell_type": "code",
     "collapsed": false,
     "input": [
      ";ls"
     ],
     "language": "python",
     "metadata": {},
     "outputs": [
      {
       "output_type": "stream",
       "stream": "stdout",
       "text": [
        "Intro a git.ipynb\n",
        "Ma\u0301s git.ipynb\n",
        "clase_git.txt\n",
        "mas_sobre_git.txt\n",
        "nuevo.txt\n",
        "otro_archivo.txt\n"
       ]
      }
     ],
     "prompt_number": 31
    },
    {
     "cell_type": "code",
     "collapsed": false,
     "input": [
      ";git merge master"
     ],
     "language": "python",
     "metadata": {},
     "outputs": [
      {
       "output_type": "stream",
       "stream": "stdout",
       "text": [
        "Updating cdfe0de..23b4c10\n",
        "Fast-forward\n"
       ]
      },
      {
       "output_type": "stream",
       "stream": "stdout",
       "text": [
        " nuevo_en_master.txt | 2 ++\n",
        " 1 file changed, 2 insertions(+)\n",
        " create mode 100644 nuevo_en_master.txt\n"
       ]
      }
     ],
     "prompt_number": 32
    },
    {
     "cell_type": "code",
     "collapsed": false,
     "input": [
      ";ls"
     ],
     "language": "python",
     "metadata": {},
     "outputs": [
      {
       "output_type": "stream",
       "stream": "stdout",
       "text": [
        "Intro a git.ipynb\n",
        "Ma\u0301s git.ipynb\n",
        "clase_git.txt\n",
        "mas_sobre_git.txt\n",
        "nuevo.txt\n",
        "nuevo_en_master.txt\n",
        "otro_archivo.txt\n"
       ]
      }
     ],
     "prompt_number": 33
    },
    {
     "cell_type": "code",
     "collapsed": false,
     "input": [
      ";git checkout master"
     ],
     "language": "python",
     "metadata": {},
     "outputs": [
      {
       "output_type": "stream",
       "stream": "stderr",
       "text": [
        "Switched to branch 'master'\n"
       ]
      },
      {
       "output_type": "stream",
       "stream": "stdout",
       "text": [
        "Your branch is ahead of 'origin/master' by 2 commits.\n",
        "  (use \"git push\" to publish your local commits)\n"
       ]
      }
     ],
     "prompt_number": 34
    },
    {
     "cell_type": "code",
     "collapsed": false,
     "input": [
      ";git add nuevo_en_master.txt"
     ],
     "language": "python",
     "metadata": {},
     "outputs": [],
     "prompt_number": 35
    },
    {
     "cell_type": "code",
     "collapsed": false,
     "input": [
      ";git commit -m \"De nuevo\""
     ],
     "language": "python",
     "metadata": {},
     "outputs": [
      {
       "output_type": "stream",
       "stream": "stdout",
       "text": [
        "[master d9423a4] De nuevo\n",
        " 1 file changed, 1 insertion(+)\n"
       ]
      }
     ],
     "prompt_number": 36
    },
    {
     "cell_type": "code",
     "collapsed": false,
     "input": [
      ";git merge secundario"
     ],
     "language": "python",
     "metadata": {},
     "outputs": [
      {
       "output_type": "stream",
       "stream": "stdout",
       "text": [
        "Already up-to-date.\n"
       ]
      }
     ],
     "prompt_number": 37
    },
    {
     "cell_type": "code",
     "collapsed": false,
     "input": [
      ";git checkout master"
     ],
     "language": "python",
     "metadata": {},
     "outputs": [
      {
       "output_type": "stream",
       "stream": "stderr",
       "text": [
        "Already on 'master'\n"
       ]
      },
      {
       "output_type": "stream",
       "stream": "stdout",
       "text": [
        "Your branch is ahead of 'origin/master' by 3 commits.\n",
        "  (use \"git push\" to publish your local commits)\n"
       ]
      }
     ],
     "prompt_number": 38
    },
    {
     "cell_type": "code",
     "collapsed": false,
     "input": [
      ";git checkout secundario"
     ],
     "language": "python",
     "metadata": {},
     "outputs": [
      {
       "output_type": "stream",
       "stream": "stderr",
       "text": [
        "Switched to branch 'secundario'\n"
       ]
      }
     ],
     "prompt_number": 39
    },
    {
     "cell_type": "code",
     "collapsed": false,
     "input": [
      ";git branch secundario"
     ],
     "language": "python",
     "metadata": {},
     "outputs": [
      {
       "output_type": "stream",
       "stream": "stderr",
       "text": [
        "fatal: A branch named 'secundario' already exists.\n"
       ]
      }
     ],
     "prompt_number": 40
    },
    {
     "cell_type": "code",
     "collapsed": false,
     "input": [
      ";git checkout secundario"
     ],
     "language": "python",
     "metadata": {},
     "outputs": [
      {
       "output_type": "stream",
       "stream": "stderr",
       "text": [
        "Already on 'secundario'\n"
       ]
      },
      {
       "output_type": "stream",
       "stream": "stdout",
       "text": [
        "M\tnuevo_en_master.txt\n"
       ]
      }
     ],
     "prompt_number": 41
    },
    {
     "cell_type": "code",
     "collapsed": false,
     "input": [
      ";git add nuevo_en_master.txt"
     ],
     "language": "python",
     "metadata": {},
     "outputs": [],
     "prompt_number": 42
    },
    {
     "cell_type": "code",
     "collapsed": false,
     "input": [
      ";git commit -m \"Grabado en secundario\""
     ],
     "language": "python",
     "metadata": {},
     "outputs": [
      {
       "output_type": "stream",
       "stream": "stdout",
       "text": [
        "[secundario 5261c15] Grabado en secundario\n",
        " 1 file changed, 1 insertion(+), 1 deletion(-)\n"
       ]
      }
     ],
     "prompt_number": 43
    },
    {
     "cell_type": "code",
     "collapsed": false,
     "input": [
      ";git checkout master"
     ],
     "language": "python",
     "metadata": {},
     "outputs": [
      {
       "output_type": "stream",
       "stream": "stderr",
       "text": [
        "Switched to branch 'master'\n"
       ]
      },
      {
       "output_type": "stream",
       "stream": "stdout",
       "text": [
        "Your branch is ahead of 'origin/master' by 3 commits.\n",
        "  (use \"git push\" to publish your local commits)\n"
       ]
      }
     ],
     "prompt_number": 44
    },
    {
     "cell_type": "code",
     "collapsed": false,
     "input": [
      ";git merge secundario"
     ],
     "language": "python",
     "metadata": {},
     "outputs": [
      {
       "output_type": "stream",
       "stream": "stdout",
       "text": [
        "Auto-merging nuevo_en_master.txt\n",
        "CONFLICT (content): Merge conflict in nuevo_en_master.txt\n",
        "Automatic merge failed; fix conflicts and then commit the result.\n"
       ]
      }
     ],
     "prompt_number": 45
    },
    {
     "cell_type": "markdown",
     "metadata": {},
     "source": [
      "Resuelves el conflicto a mano y luego..."
     ]
    },
    {
     "cell_type": "code",
     "collapsed": false,
     "input": [
      ";git status"
     ],
     "language": "python",
     "metadata": {},
     "outputs": [
      {
       "output_type": "stream",
       "stream": "stdout",
       "text": [
        "On branch master\n",
        "Your branch is ahead of 'origin/master' by 3 commits.\n",
        "  (use \"git push\" to publish your local commits)\n",
        "\n",
        "You have unmerged paths.\n",
        "  (fix conflicts and run \"git commit\")\n",
        "\n",
        "Unmerged paths:\n",
        "  (use \"git add <file>...\" to mark resolution)\n",
        "\n",
        "\tboth modified:   nuevo_en_master.txt\n",
        "\n",
        "Untracked files:\n",
        "  (use \"git add <file>...\" to include in what will be committed)\n",
        "\n",
        "\t.ipynb_checkpoints/\n",
        "\t\"M\\303\\241s git.ipynb\"\n",
        "\n",
        "no changes added to commit (use \"git add\" and/or \"git commit -a\")\n"
       ]
      }
     ],
     "prompt_number": 46
    },
    {
     "cell_type": "code",
     "collapsed": false,
     "input": [
      ";git add nuevo_en_master.txt"
     ],
     "language": "python",
     "metadata": {},
     "outputs": [],
     "prompt_number": 47
    },
    {
     "cell_type": "code",
     "collapsed": false,
     "input": [
      ";git commit -m \"Resolvi el conflicto\""
     ],
     "language": "python",
     "metadata": {},
     "outputs": [
      {
       "output_type": "stream",
       "stream": "stdout",
       "text": [
        "[master 9d0fe5c] Resolvi el conflicto\n"
       ]
      }
     ],
     "prompt_number": 48
    },
    {
     "cell_type": "code",
     "collapsed": false,
     "input": [
      ";git status"
     ],
     "language": "python",
     "metadata": {},
     "outputs": [
      {
       "output_type": "stream",
       "stream": "stdout",
       "text": [
        "On branch master\n",
        "Your branch is ahead of 'origin/master' by 5 commits.\n",
        "  (use \"git push\" to publish your local commits)\n",
        "\n",
        "Untracked files:\n",
        "  (use \"git add <file>...\" to include in what will be committed)\n",
        "\n",
        "\t.ipynb_checkpoints/\n",
        "\t\"M\\303\\241s git.ipynb\"\n",
        "\n",
        "nothing added to commit but untracked files present (use \"git add\" to track)\n"
       ]
      }
     ],
     "prompt_number": 49
    },
    {
     "cell_type": "code",
     "collapsed": false,
     "input": [
      ";git log"
     ],
     "language": "python",
     "metadata": {},
     "outputs": [
      {
       "output_type": "stream",
       "stream": "stdout",
       "text": [
        "commit 9d0fe5c55257a3d3b283d5c89c8ac419c95d08d4\n",
        "Merge: d9423a4 5261c15\n",
        "Author: David P. Sanders <dpsanders@gmail.com>\n",
        "Date:   Tue Sep 30 12:00:51 2014 -0500\n",
        "\n",
        "    Resolvi el conflicto\n"
       ]
      },
      {
       "output_type": "stream",
       "stream": "stdout",
       "text": [
        "\n",
        "commit 5261c15a6aee609b8ce49a1ed65893f46d011276\n",
        "Author: David P. Sanders <dpsanders@gmail.com>\n",
        "Date:   Tue Sep 30 11:57:20 2014 -0500\n",
        "\n",
        "    Grabado en secundario\n",
        "\n",
        "commit d9423a459f74878b605a8401fc36eb258f080a13\n",
        "Author: David P. Sanders <dpsanders@gmail.com>\n",
        "Date:   Tue Sep 30 11:54:28 2014 -0500\n",
        "\n",
        "    De nuevo\n",
        "\n",
        "commit 23b4c10dc359f40eba34717aa4b264142419510b\n",
        "Author: David P. Sanders <dpsanders@gmail.com>\n",
        "Date:   Tue Sep 30 11:52:44 2014 -0500\n",
        "\n",
        "    Nuevo_en_master\n",
        "\n",
        "commit cdfe0de2372f37f6b2de3c9653f6b3678d896446\n",
        "Author: David P. Sanders <dpsanders@gmail.com>\n",
        "Date:   Tue Sep 30 11:36:47 2014 -0500\n",
        "\n",
        "    Agregue el archivo nuevo.txt\n",
        "\n",
        "commit 7f99ac3bb068cb614b0dd1943cc1b22129c061cd\n",
        "Author: David P. Sanders <dpsanders@gmail.com>\n",
        "Date:   Thu Sep 25 12:36:52 2014 -0500\n",
        "\n",
        "    Agregue otro archivo\n",
        "\n",
        "commit f0b84981f1f952e395d6424cd88a0f053d42ad87\n",
        "Author: David P. Sanders <dpsanders@gmail.com>\n",
        "Date:   Thu Sep 25 12:27:23 2014 -0500\n",
        "\n",
        "    Agregue el notebook\n",
        "\n",
        "commit 61f115668a1d4175827b2a3e0481e1671774d8cf\n",
        "Author: David P. Sanders <dpsanders@gmail.com>\n",
        "Date:   Thu Sep 25 12:14:07 2014 -0500\n",
        "\n",
        "    M\u00e1s cambios\n",
        "\n",
        "commit c4ed95fda753bcc1fcb2f7343c0bc953bb206236\n",
        "Author: David P. Sanders <dpsanders@gmail.com>\n",
        "Date:   Thu Sep 25 11:59:10 2014 -0500\n",
        "\n",
        "    Agregu\u00e9 texto a clase_git.txt\n",
        "\n",
        "commit e15c1d964efbf9e63b26b59acf25d5f4d1c57190\n",
        "Author: David P. Sanders <dpsanders@gmail.com>\n",
        "Date:   Thu Sep 25 11:55:07 2014 -0500\n",
        "\n",
        "    Agregu\u00e9 otro archivo\n",
        "\n",
        "commit 790e507d8d19ee0ef8cd1f73097c3869ed043555\n",
        "Author: David P. Sanders <dpsanders@gmail.com>\n",
        "Date:   Thu Sep 25 11:43:40 2014 -0500\n",
        "\n",
        "    Grabaci\u00f3n (commit) inicial: agregu\u00e9 clase_git.txt\n"
       ]
      }
     ],
     "prompt_number": 50
    },
    {
     "cell_type": "code",
     "collapsed": false,
     "input": [
      ";git checkout secundario"
     ],
     "language": "python",
     "metadata": {},
     "outputs": [
      {
       "output_type": "stream",
       "stream": "stderr",
       "text": [
        "Switched to branch 'secundario'\n"
       ]
      }
     ],
     "prompt_number": 51
    },
    {
     "cell_type": "code",
     "collapsed": false,
     "input": [
      ";cat nuevo_en_master.txt"
     ],
     "language": "python",
     "metadata": {},
     "outputs": [
      {
       "output_type": "stream",
       "stream": "stdout",
       "text": [
        "Estoy en master\n",
        "SECUNDARIO\n"
       ]
      }
     ],
     "prompt_number": 52
    },
    {
     "cell_type": "code",
     "collapsed": false,
     "input": [
      ";git branch"
     ],
     "language": "python",
     "metadata": {},
     "outputs": [
      {
       "output_type": "stream",
       "stream": "stdout",
       "text": [
        "  master\n",
        "* secundario\n"
       ]
      }
     ],
     "prompt_number": 53
    },
    {
     "cell_type": "code",
     "collapsed": false,
     "input": [
      ";git checkout master"
     ],
     "language": "python",
     "metadata": {},
     "outputs": [
      {
       "output_type": "stream",
       "stream": "stderr",
       "text": [
        "Switched to branch 'master'\n"
       ]
      },
      {
       "output_type": "stream",
       "stream": "stdout",
       "text": [
        "Your branch is ahead of 'origin/master' by 5 commits.\n",
        "  (use \"git push\" to publish your local commits)\n"
       ]
      }
     ],
     "prompt_number": 54
    },
    {
     "cell_type": "heading",
     "level": 1,
     "metadata": {},
     "source": [
      "Flujo de trabajo colaborativo con `git` y `GitHub`"
     ]
    },
    {
     "cell_type": "markdown",
     "metadata": {},
     "source": [
      "- Crear un repositorio local de `git` en tu m\u00e1quina\n",
      "- Crear un repositorio en GitHub\n",
      "- Empujar los cambios de tu repositorio local a tu repositorio en GitHub"
     ]
    },
    {
     "cell_type": "heading",
     "level": 2,
     "metadata": {},
     "source": [
      "Hacer una copia del repositorio de alguien"
     ]
    },
    {
     "cell_type": "markdown",
     "metadata": {},
     "source": [
      "- Ve a la p\u00e1gina del repositorio de alguien\n",
      "- Haz clic sobre el bot\u00f3n \"Fork\"\n",
      "- Esto crear\u00e1 una copia del repositorio ajeno en *tu* cuenta de GitHub\n",
      "\n",
      "- Clonea este repositorio desde tu cuenta hacia tu m\u00e1quina con\n",
      "    \n",
      "        git clone direccion/de/tu/copia/remota\n",
      "        "
     ]
    },
    {
     "cell_type": "heading",
     "level": 2,
     "metadata": {},
     "source": [
      "Modificar tu versi\u00f3n local con los cambios que quieres"
     ]
    },
    {
     "cell_type": "markdown",
     "metadata": {},
     "source": [
      "- Crea un branch nuevo en tu repositorio local\n",
      "- Usa `git push origin MI_BRANCH` para mandar los commits locales a *tu* versi\u00f3n remota, donde reemplazas `MI_BRANCH` con el nombre de tu branch nuevo."
     ]
    },
    {
     "cell_type": "heading",
     "level": 2,
     "metadata": {},
     "source": [
      "Sugerirle a la otra persona que incorpore tus cambios"
     ]
    },
    {
     "cell_type": "markdown",
     "metadata": {},
     "source": [
      "- Cambia a tu rama nueva en *tu* copia local (donde dice `master`)\n",
      "- Haz clic sobre el bot\u00f3n de *Pull Request*"
     ]
    },
    {
     "cell_type": "heading",
     "level": 1,
     "metadata": {},
     "source": [
      "Que no te moleste GitHub con tus claves todo el tiempo:"
     ]
    },
    {
     "cell_type": "code",
     "collapsed": false,
     "input": [
      ";ssh-keygen"
     ],
     "language": "python",
     "metadata": {},
     "outputs": []
    },
    {
     "cell_type": "markdown",
     "metadata": {},
     "source": [
      "Te genera claves en el directorio `.ssh` en tu directorio hogar."
     ]
    },
    {
     "cell_type": "code",
     "collapsed": false,
     "input": [
      ";ls ~/.ssh\n"
     ],
     "language": "python",
     "metadata": {},
     "outputs": [
      {
       "output_type": "stream",
       "stream": "stdout",
       "text": [
        "id_rsa\n",
        "id_rsa.pub\n",
        "known_hosts\n"
       ]
      }
     ],
     "prompt_number": 1
    },
    {
     "cell_type": "markdown",
     "metadata": {},
     "source": [
      "Copia la clave *p\u00fablica*:"
     ]
    },
    {
     "cell_type": "code",
     "collapsed": false,
     "input": [
      ";pbcopy < ~/.ssh/id_rsa.pub"
     ],
     "language": "python",
     "metadata": {},
     "outputs": []
    },
    {
     "cell_type": "markdown",
     "metadata": {},
     "source": [
      "- Ve a GitHub a tu cuenta, escoger settings (lado derecho, arriba)\n",
      "- Escoger 'SSH keys'\n",
      "- Agregar una clave nueva y pegar lo que copiaste\n",
      "- Ya deber\u00edas poder hacer transacciones con GitHub sin problemas"
     ]
    },
    {
     "cell_type": "code",
     "collapsed": false,
     "input": [],
     "language": "python",
     "metadata": {},
     "outputs": []
    }
   ],
   "metadata": {}
  }
 ]
}