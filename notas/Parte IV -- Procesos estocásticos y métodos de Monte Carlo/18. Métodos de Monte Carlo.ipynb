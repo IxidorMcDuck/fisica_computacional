{
 "metadata": {
  "language": "Julia",
  "name": "",
  "signature": "sha256:1d391877df3d4fc0d8efcf2ba7be6992afd3b40d3441e84c444b782f843a01ef"
 },
 "nbformat": 3,
 "nbformat_minor": 0,
 "worksheets": [
  {
   "cells": [
    {
     "cell_type": "heading",
     "level": 1,
     "metadata": {},
     "source": [
      "M\u00e9todos de Monte Carlo"
     ]
    },
    {
     "cell_type": "markdown",
     "metadata": {},
     "source": [
      "El t\u00e9rmino \"m\u00e9todo de Monte Carlo\" se aplica en general a cualquier m\u00e9todo num\u00e9rico que emplea n\u00fameros aleatorios. Una clase importante de m\u00e9todos de este tipo se utiliza para calcular integrales de distintas \u00edndoles."
     ]
    },
    {
     "cell_type": "heading",
     "level": 1,
     "metadata": {},
     "source": [
      "Calcular $\\pi$"
     ]
    },
    {
     "cell_type": "markdown",
     "metadata": {},
     "source": [
      "\u00bfC\u00f3mo podemos calcular $\\pi$ num\u00e9ricamente? Por supuesto Julia tiene eso integrado: al teclear `\\pi<TAB>`, produce \u03c0, y nos dice"
     ]
    },
    {
     "cell_type": "code",
     "collapsed": false,
     "input": [
      "\u03c0"
     ],
     "language": "python",
     "metadata": {},
     "outputs": [
      {
       "metadata": {},
       "output_type": "pyout",
       "prompt_number": 2,
       "text": [
        "\u03c0 = 3.1415926535897..."
       ]
      }
     ],
     "prompt_number": 2
    },
    {
     "cell_type": "markdown",
     "metadata": {},
     "source": [
      "[1] Esto es un objeto de un tipo especial en Julia --ch\u00e9calo con `typeof`."
     ]
    },
    {
     "cell_type": "markdown",
     "metadata": {},
     "source": [
      "Pero de no conocer el valor de $\\pi$ (que alguien calcul\u00f3 una vez), \u00bfc\u00f3mo lo podr\u00edamos calcular?"
     ]
    },
    {
     "cell_type": "markdown",
     "metadata": {},
     "source": [
      "[2] Piensa en varias definiciones y propiedades de $\\pi$. \u00bfCu\u00e1l se podr\u00eda utilizar para calcular $\\pi$? \u00a1Hazlo!"
     ]
    },
    {
     "cell_type": "markdown",
     "metadata": {},
     "source": [
      "Una definici\u00f3n de $\\pi$ es la raz\u00f3n entre la circunferencia $C$ de un c\u00edrculo y su di\u00e1metro, o sea $C = 2\\pi r$."
     ]
    },
    {
     "cell_type": "markdown",
     "metadata": {},
     "source": [
      "[3] Utiliza esto para mostrar que el *\u00e1rea* de un c\u00edrculo es $\\pi r^2$. [Pista: cu\u00e1l es la relaci\u00f3n entre el \u00e1rea de un disco y su circunferencia?]"
     ]
    },
    {
     "cell_type": "markdown",
     "metadata": {},
     "source": [
      "Utilizaremos esto con un m\u00e9todo de Monte Carlo para determinar $\\pi$."
     ]
    },
    {
     "cell_type": "markdown",
     "metadata": {},
     "source": [
      "[4] Dibuja un c\u00edrculo de radio $r=1$. Dibuja un cuadrado que lo contiene. Genera muchos puntos distribuidos uniformemente en el cuadrado y dib\u00fajalos. Utiliza esto para determinar el \u00e1rea del c\u00edrculo, y de ah\u00ed el valor de $\\pi$."
     ]
    },
    {
     "cell_type": "heading",
     "level": 1,
     "metadata": {},
     "source": [
      "C\u00e1lculo de integrales"
     ]
    },
    {
     "cell_type": "markdown",
     "metadata": {},
     "source": [
      "[5] Este tipo de m\u00e9todos se pueden ocupar para calcular integrales complicadas. Por ejemplo, considera la funci\u00f3n complicada (patol\u00f3gica)\n",
      "\n",
      "$$f(x) = \\sin^2 (\\textstyle \\frac{1}{x}).$$\n",
      "\n",
      "Dibuja la funci\u00f3n para $x$ entre $-2$ y $2$.\n",
      "\n",
      "[6] Sea $I(x) := \\int_0^x f(x') dx'$. Sabemos que $0 < I(x) < x$ para toda $x$, pero no est\u00e1 f\u00e1cil calcular su valor, ni siquiera con m\u00e9todos num\u00e9ricos est\u00e1ndares, debido a la naturaleza de la funci\u00f3n cerca de $x = 0$.\n",
      "\n",
      "Utiliza un m\u00e9todo parecido al que usamos para calcular $\\pi$ para calcular $I(x)$ para un valor de $x$ dado. Dibuja la funci\u00f3n $I(x)$."
     ]
    },
    {
     "cell_type": "heading",
     "level": 1,
     "metadata": {},
     "source": [
      "Decaimiento radioactivo"
     ]
    },
    {
     "cell_type": "markdown",
     "metadata": {},
     "source": [
      "Otra clase grande de m\u00e9todos de Monte Carlo son procesos estoc\u00e1sticos; ya hemos visto caminatas aleatorias. Consideremos ahora el decaimiento radioactivo. \n",
      "\n",
      "El decaimiento radioactivo de se suele modelar con la ecuaci\u00f3n famosa\n",
      "\n",
      "$$\\frac{dN(t)}{dt} = -\\lambda N(t),$$\n",
      "\n",
      "donde $N(t)$ es el n\u00famero de n\u00facleos radioactivos al tiempo $t$, y $\\lambda$ es un misterioso \"tasas de decaimiento\".\n",
      "\n",
      "que se supone es evidente para todo mundo. [No lo es para m\u00ed...]\n",
      "\n",
      "Esto es una visi\u00f3n *macrosc\u00f3pica*. Podemos pensar m\u00e1s bien *microsc\u00f3picamente*: \u00bfcu\u00e1ndo decaer\u00e1 cada n\u00facleo individual?"
     ]
    },
    {
     "cell_type": "markdown",
     "metadata": {},
     "source": [
      "[1] Para facilitar las cosas, pensemos en el caso de tiempo discreto. [Para el caso de tiempo continuo, \u00a1ven a mi optativa el semestre que entra!] Sup\u00f3n que hay $N_0$ n\u00facleos inicialmente y que en cada paso, cada n\u00facleo tiene probabilidad $p$ de decaer.\n",
      "\n",
      "Programa esto y dibuja la funci\u00f3n $N(t)$ resultante como funci\u00f3n del tiempo, para distintos valores de $p$. "
     ]
    },
    {
     "cell_type": "markdown",
     "metadata": {},
     "source": [
      "**[2] \u00bfC\u00f3mo se relaciona esto con la visi\u00f3n determinista a trav\u00e9s de la ecuaci\u00f3n diferencial?\n"
     ]
    }
   ],
   "metadata": {}
  }
 ]
}