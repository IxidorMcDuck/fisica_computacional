{
 "metadata": {
  "language": "Julia",
  "name": "",
  "signature": "sha256:c28b876c7a9693e2ee07d901f006f01b62177e6bd59e43627c3238964575183e"
 },
 "nbformat": 3,
 "nbformat_minor": 0,
 "worksheets": [
  {
   "cells": [
    {
     "cell_type": "heading",
     "level": 4,
     "metadata": {},
     "source": [
      "[ipy_table](http://nbviewer.ipython.org/github/epmoyer/ipy_table/blob/master/ipy_table-Introduction.ipynb) is a supporting module for IP[y]:Notebook which makes it easy to create richly formatted data tables. "
     ]
    },
    {
     "cell_type": "code",
     "collapsed": false,
     "input": [
      ";gksudo pip install ipy_table"
     ],
     "language": "python",
     "metadata": {},
     "outputs": []
    },
    {
     "cell_type": "code",
     "collapsed": false,
     "input": [
      "using PyCall"
     ],
     "language": "python",
     "metadata": {},
     "outputs": [],
     "prompt_number": 1
    },
    {
     "cell_type": "code",
     "collapsed": false,
     "input": [
      "@pyimport ipy_table as pytab"
     ],
     "language": "python",
     "metadata": {},
     "outputs": [],
     "prompt_number": 2
    },
    {
     "cell_type": "code",
     "collapsed": false,
     "input": [
      "planets = [[\"Planet\" \"Mass\"];\n",
      "    [\"Mercury\" 3.3022E23];\n",
      "    [\"Venus\" 4.896E24]]"
     ],
     "language": "python",
     "metadata": {},
     "outputs": [
      {
       "metadata": {},
       "output_type": "pyout",
       "prompt_number": 9,
       "text": [
        "3x2 Array{Any,2}:\n",
        " \"Planet\"    \"Mass\"  \n",
        " \"Mercury\"  3.3022e23\n",
        " \"Venus\"    4.896e24 "
       ]
      }
     ],
     "prompt_number": 9
    },
    {
     "cell_type": "code",
     "collapsed": false,
     "input": [
      "pytab.make_table(planets)\n",
      "pytab.apply_theme(\"basic\")\n",
      "pytab.set_global_style(float_format=\"%0.3E\")"
     ],
     "language": "python",
     "metadata": {},
     "outputs": [
      {
       "html": [
        "<table border=\"1\" cellpadding=\"3\" cellspacing=\"0\"  style=\"border:1px solid black;border-collapse:collapse;\"><tr><td  style=\"background-color:LightGray;\"><b>Planet</b></td><td  style=\"background-color:LightGray;\"><b>Mass</b></td></tr><tr><td  style=\"background-color:Ivory;\">Mercury</td><td  style=\"background-color:Ivory;\">3.302E+23</td></tr><tr><td  style=\"background-color:AliceBlue;\">Venus</td><td  style=\"background-color:AliceBlue;\">4.896E+24</td></tr>"
       ],
       "metadata": {},
       "output_type": "pyout",
       "prompt_number": 13,
       "text": [
        "PyObject <IPython.core.display.HTML object at 0x7fb0d5f9b410>"
       ]
      }
     ],
     "prompt_number": 13
    },
    {
     "cell_type": "code",
     "collapsed": false,
     "input": [],
     "language": "python",
     "metadata": {},
     "outputs": []
    }
   ],
   "metadata": {}
  }
 ]
}