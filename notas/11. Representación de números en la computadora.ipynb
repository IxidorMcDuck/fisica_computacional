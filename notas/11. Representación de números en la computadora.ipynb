{
 "metadata": {
  "language": "Julia",
  "name": "",
  "signature": "sha256:119016403ea7c0f6ba4eb2cc6e3461bc1b8c2aab16704f555ff57f3d4f731ade"
 },
 "nbformat": 3,
 "nbformat_minor": 0,
 "worksheets": [
  {
   "cells": [
    {
     "cell_type": "heading",
     "level": 1,
     "metadata": {},
     "source": [
      "\u00bfC\u00f3mo se representan los n\u00fameros en la computadora?"
     ]
    },
    {
     "cell_type": "heading",
     "level": 2,
     "metadata": {},
     "source": [
      "N\u00fameros enteros"
     ]
    },
    {
     "cell_type": "markdown",
     "metadata": {},
     "source": [
      "[1] Cuando escribimos un n\u00famero entero como 3754, \u00bfqu\u00e9 representa esta notaci\u00f3n?\n",
      "\n",
      "[2] En las computadoras, un m\u00e9todo parecido se utiliza para representar los n\u00fameros, en binario (base 2). Encuentra a mano la expansi\u00f3n en binario del n\u00famero 11.\n",
      "\n",
      "[3] Escribe una funci\u00f3n que toma un entero positivo y calcula su expansi\u00f3n en base $\\beta \\in \\mathbb{N}$. Checa que da correctamente la expansi\u00f3n de 11.\n",
      "\n",
      "[4] \u00bfC\u00f3mo se podr\u00eda representar un n\u00famero negativo?  \n",
      "\n",
      "\u00bfC\u00f3mo se pueden multiplicar por 2 y dividir por 2 con esta representaci\u00f3n?"
     ]
    },
    {
     "cell_type": "heading",
     "level": 3,
     "metadata": {},
     "source": [
      "Bits"
     ]
    },
    {
     "cell_type": "markdown",
     "metadata": {},
     "source": [
      "Un \"bit\" (d\u00edgito binario, * **bi**nary digi**t** * en ingl\u00e9s) es la cantidad m\u00ednima de informaci\u00f3n que se puede representar: un 1 o un 0 (prendido / apagado). La informaci\u00f3n en las computadoras se mide en t\u00e9rminos del n\u00famero de bits que se ocupan para guardarlo.\n",
      "\n",
      "8 bits forman un *byte*. Cantidades m\u00e1s grandes de informaci\u00f3n se miden en t\u00e9rminos de megabytes, gigabytes, etc."
     ]
    },
    {
     "cell_type": "markdown",
     "metadata": {},
     "source": [
      "En Julia, hay enteros de distintos n\u00fameros de bits, como se puede ver con `Int<TAB>`.\n",
      "Se crean con \n",
      "   \n",
      "    a = int8(7)\n",
      "    \n",
      "etc.\n",
      "\n",
      "La representaci\u00f3n binaria de un n\u00famero se puede obtener con la funci\u00f3n `bits()`.\n",
      "   "
     ]
    },
    {
     "cell_type": "markdown",
     "metadata": {},
     "source": [
      "[5] Crea el n\u00famero 11 como `Int8`, `Int16`, etc., y checa c\u00f3mo se guarda en t\u00e9rminos de bits.\n",
      "\n",
      "[6] Haz lo mismo para -11. \u00bfC\u00f3mo se representan los n\u00fameros negativos?\n",
      "\n",
      "[7] \u00bfCu\u00e1les son los n\u00fameros m\u00e1ximos y m\u00ednimos que se pueden representar con cada tipo de entero?\n"
     ]
    },
    {
     "cell_type": "heading",
     "level": 2,
     "metadata": {},
     "source": [
      "N\u00fameros reales"
     ]
    },
    {
     "cell_type": "heading",
     "level": 3,
     "metadata": {},
     "source": [
      "Expansi\u00f3n decimal"
     ]
    },
    {
     "cell_type": "markdown",
     "metadata": {},
     "source": [
      "Un n\u00famero $x \\in \\mathbb{R}$ se suele representar en *base 10* como\n",
      "\n",
      "$$\n",
      "x = (d_n d_{n-1}\\cdots d_0\\cdot d_{-1} d_{-2}\\cdots) _{10}\n",
      "= d_n 10^n+d_{n-1} 10^{n-1} +\\cdots + d_0 10^0 + d_{-1} 10^{-1}+\\cdots\n",
      "= \\sum_{i=-\\infty}^{n} d_i 10^i\n",
      "$$\n",
      "\u00c9sta es la *expansi\u00f3n decimal* del n\u00famero $x$. Aqu\u00ed, $d_i$ son n\u00fameros enteros entre 0 y 9 (ya que estamos en base 10). Esta expansi\u00f3n es *casi* \u00fanica; la no-unicidad viene por las famosas colas decimales de 9's."
     ]
    },
    {
     "cell_type": "markdown",
     "metadata": {},
     "source": [
      "[8] Demuestra que $0.99999\\cdots = 1$."
     ]
    },
    {
     "cell_type": "heading",
     "level": 3,
     "metadata": {},
     "source": [
      "Racionales e irracionales"
     ]
    },
    {
     "cell_type": "markdown",
     "metadata": {},
     "source": [
      "Podemos distinguir, en t\u00e9rminos de la expansi\u00f3n decimal, entre dos categor\u00edas de los n\u00fameros.  Los *racionales* $\\mathbb{Q}$ son aqu\u00e9llos que se pueden escibir como el cociente de dos enteros y cuya expansi\u00f3n decimal es peri\u00f3dica. Por ejemplo,\n",
      "$1/7 = 0.142857\\ 142857\\ 14285\\cdots = 0.\\overline{142857}$, donde la barra implica la parte decimal que se repite. El conjunto de los racionales es un conjunto infinito, pero *numerable*."
     ]
    },
    {
     "cell_type": "markdown",
     "metadata": {},
     "source": [
      "Por otra parte, est\u00e1n los n\u00fameros irracionales, cuya expansi\u00f3n decimal es aperi\u00f3dica. Un ejemplo es:\n",
      "$$\n",
      "0.10\\ 110\\ 1110\\ 11110\\ 111110\\cdots\n",
      "$$\n",
      "Otros ejemplos son $e$ y $\\pi$, aunque la demostraci\u00f3n que sean irracionales es complicada en el caso de $e$, y muy dif\u00edcil para $\\pi$.\n",
      "El conjunto de los irracionales es infinito, pero *no numerable*."
     ]
    },
    {
     "cell_type": "markdown",
     "metadata": {},
     "source": [
      "[9] Encuentra la expansi\u00f3n en binario de 0.1."
     ]
    },
    {
     "cell_type": "heading",
     "level": 2,
     "metadata": {},
     "source": [
      "Representaci\u00f3n en la computadora"
     ]
    },
    {
     "cell_type": "markdown",
     "metadata": {},
     "source": [
      "Para representar un n\u00famero real $x\\in \\mathbb{R}$ en base $\\beta$, escribimos\n",
      "\n",
      "$$\n",
      "x = (-1)^\\sigma (b_n b_{n-1}\\cdots b_0\\cdot b_{-1}\\cdots)_\\beta,\n",
      "$$\n",
      "\n",
      "donde $\\beta\\ge 2$ es un entero, $b_i=0,\\ldots, \\beta-1$, y $\\sigma=\\pm 1$ sirve para definir el signo.\n",
      "\n",
      "En la computadora, tenemos una limitaci\u00f3n fuerte, que impone el hecho de tener una cantidad de  memoria finita: s\u00f3lo podemos guardar un n\u00famero *finito* de d\u00edgitos para representar un n\u00famero dado."
     ]
    },
    {
     "cell_type": "markdown",
     "metadata": {},
     "source": [
      "La idea de los n\u00fameros de punto flotante es utilizar el mismo n\u00famero de d\u00edgitos para representar cualquier n\u00famero real. Pero dejamos que el punto (el equivalente del punto decimal para base $\\beta$ \"flote\", en el sentido de que el punto se puede mover, al multiplicar el n\u00famero por potencias de $\\beta$. As\u00ed, ahora representamos a $x$ como\n",
      "\n",
      "$$ x = (-1)^\\sigma \\times \\beta^e \\times m. $$\n",
      "\n",
      "Aqu\u00ed, $m$ se llama *mantisa*, $e$ es un entero llamado *exponente*, y \\sigma$ es el signo.\n",
      "\n",
      "Por ejemplo, tenemos\n",
      "\n",
      "$$\n",
      "2.34 = (2.34)_{10} \\times 10^0 = (0.0234)_{10} \\times 10^{2} = \\cdots\n",
      "$$\n",
      "\n",
      "Entonces, definimos al conjunto \n",
      "\n",
      "$$\n",
      "{\\cal F}_{\\beta, p} = \\{ (-1)^\\sigma m \\beta^e , \n",
      "m=(b_0\\cdot b_{-1} b_{-2} \\cdots b_{-(p-1)})_\\beta \\},\n",
      "$$\n",
      "\n",
      "con una precisi\u00f3n *finita* $n$, el n\u00famero de d\u00edgitos en la mantisa."
     ]
    },
    {
     "cell_type": "markdown",
     "metadata": {},
     "source": [
      "Para la computadora, *truncamos* este conjunto a cierto n\u00famero de d\u00edgitos significativos. As\u00ed, definimos\n",
      "\n",
      "$$\n",
      "{\\cal F}_{\\beta,p} := \\{ (-1)^\\sigma m \\beta^e: m=(b_0\\cdot b_{-1} b_{-2} \\cdots b_{-(p-1)})_\\beta;\\  \\sigma=\\pm 1;\\  b_{-i}=0,\\ldots, \\beta-1 \\} .\n",
      "$$\n"
     ]
    },
    {
     "cell_type": "markdown",
     "metadata": {},
     "source": [
      "Adem\u00e1s, restringimos el exponente a estar en cierto rango:\n",
      "$$\n",
      "{\\cal F}_{\\beta,p}^{\\check{e},\\hat{e}} := \\{ x\\in {\\cal F}_{\\beta,p};\\ \\check{e}\\le e \\le \\hat{e} \\} .\n",
      "$$\n",
      "Este conjunto es *finito*, y se llama el *conjunto de n\u00fameros de punto flotante*."
     ]
    },
    {
     "cell_type": "markdown",
     "metadata": {},
     "source": [
      "[10] Investiga c\u00f3mo se representan los n\u00fameros flotantes en Julia: los `Float16`, `Float32` y `Float64`:\n",
      "\u00bfcu\u00e1l es la representaci\u00f3n de 1, 0.5, 0.25, etc.? \u00bfDe 0.1? \u00bfDe 0.05? \u00bfDe 0.2? \u00bfDe 1? \u00bfDe 2? \u00bfDe 4? \u00bfDe 4.1? \u00bfQu\u00e9 concluyes acerca de la representaci\u00f3n interna?\n",
      "\n",
      "[N\u00f3tese que en Julia 0.3, cualquier operaci\u00f3n matem\u00e1tica fuerza al resultado a ser del tama\u00f1o natural de la m\u00e1quina (32 o 64 bits); esto ya cambi\u00f3 en Julia 0.4.]"
     ]
    },
    {
     "cell_type": "markdown",
     "metadata": {},
     "source": [
      "|\n",
      "\n",
      "Vac\u00edo a prop\u00f3sito. \u00a1No mires abajo todav\u00eda, por favor!\n",
      "\n",
      "|\n",
      "\n",
      "|\n",
      "\n",
      "|\n",
      "\n",
      "|\n",
      "\n",
      "|\n",
      "\n",
      "|\n",
      "\n",
      "|\n",
      "\n",
      "|\n",
      "\n",
      "|\n",
      "\n",
      "|\n",
      "\n",
      "|\n",
      "\n",
      "|\n",
      "\n",
      "|\n",
      "\n",
      "|\n",
      "\n",
      "|\n",
      "\n",
      "|\n",
      "\n",
      "\n",
      "\n",
      "\n",
      "\n",
      "\n",
      "\n",
      "\n",
      "\n",
      "\n",
      "\n",
      "\n",
      "\n",
      "\n",
      "\n",
      "\n",
      "\n",
      "\n"
     ]
    },
    {
     "cell_type": "heading",
     "level": 3,
     "metadata": {},
     "source": [
      "Est\u00e1ndar IEEE 754"
     ]
    },
    {
     "cell_type": "markdown",
     "metadata": {},
     "source": [
      "La implementaci\u00f3n est\u00e1ndar de este conjunto es el llamado *est\u00e1ndar IEEE 754*. Para la precisi\u00f3n doble de 64 bits, tenemos que:\n",
      "\n",
      "- $\\beta=2$, sistema binario (*bits*)\n",
      "- $\\sigma$: 1 bit (0,1)\n",
      "- $e$: 11 bits\n",
      "- $m$: 52 bits, pero la precisi\u00f3n corresponde a 53 bits (n\u00fameros *normalizados*), ya que el primer bit, por definici\u00f3n, es 1\n",
      "\n",
      "El exponente tiene 11 bits, y por lo tanto $e$ es un n\u00famero entre 0 y $2^{11}-1=2047$. Para tener *exponentes negativos* restamos un *sesgo*:\n",
      "$ B = 2^{E-1}-1$. Para $E=11$, entonces el exponente va desde $-1024$ hasta $1023$.\n",
      "\n"
     ]
    },
    {
     "cell_type": "markdown",
     "metadata": {},
     "source": [
      "IEEE 754 interpreta $x=(\\sigma,e,m)$ como:\n",
      "\n",
      "- $e=2^E-1$ (valor m\u00e1ximo posible del exponente); si $m\\neq 0$ $\\Rightarrow x = {NaN}$ (infonito con signo)\n",
      "- $e=2^E-1, m=0 \\Rightarrow x = (-1)^\\sigma {\\rm Inf}$\n",
      "- $0<e<2^E-1 \\Rightarrow x = (-1)^\\sigma (1\\cdot m)_\\beta \\times 2^{e-B}$\n",
      "- $e=0, m\\neq 0 \\Rightarrow x=(-1)^\\sigma (0\\cdot m)_\\beta \\times 2^{1-B}$\n",
      "- $e=0, m=0 \\Rightarrow x=(-1)^\\sigma \\times 0$ (cero con signo)"
     ]
    },
    {
     "cell_type": "markdown",
     "metadata": {},
     "source": [
      "El n\u00famero $\\epsilon_M = \\beta^{-(p-1)}$, el *epsil\u00f3n de la m\u00e1quina*, es la diferencia entre el 1 y el siguiente n\u00famero representable."
     ]
    },
    {
     "cell_type": "markdown",
     "metadata": {},
     "source": [
      "[10] \u00bfCu\u00e1les es el n\u00famero m\u00e1s grande y el n\u00famero m\u00e1s chico que se pueden representar?\n",
      "\n",
      "[11] \u00bfCu\u00e1nto vale el siguiente n\u00famero que se puede representar m\u00e1s grande que 1?\n",
      "\n",
      "[12] \u00bfCu\u00e1l n\u00famero realmente est\u00e1 representado cuando tecleas 0.1?"
     ]
    },
    {
     "cell_type": "markdown",
     "metadata": {},
     "source": [
      "Julia tiene functiones `eps(x)` que indica el valor m\u00e1s peque\u00f1o que se le puede sumar a `x` para dar un n\u00famero distinto de `x`, y `nextfloat` y `prevfloat`, que indican el n\u00famero flotante subsecuente y precedente.\n",
      "\n",
      "Tambi\u00e9n tiene funciones `typemin` y `typemax` que dan los valores m\u00ednimos y m\u00e1ximos que se pueden representar."
     ]
    }
   ],
   "metadata": {}
  }
 ]
}