{
 "metadata": {
  "language": "Julia",
  "name": "",
  "signature": "sha256:ff3c338a1f3d5e4d58c9697cfbbb1f5c698a3bd1a5828c901e53f13783b89921"
 },
 "nbformat": 3,
 "nbformat_minor": 0,
 "worksheets": [
  {
   "cells": [
    {
     "cell_type": "heading",
     "level": 3,
     "metadata": {},
     "source": [
      "Fecha *l\u00edmite* de entrega: **s\u00e1bado 4 de octubre a las 12 am**. Es decir a la medianoche entre el s\u00e1bado y el domingo."
     ]
    },
    {
     "cell_type": "markdown",
     "metadata": {},
     "source": [
      "Resuelve los siguientes problemas con ayuda de SymPy. Es decir, usa SymPy para obtener todas las expresiones que resultan de una manipulaci\u00f3n algebraica de una expresi\u00f3n matem\u00e1tica que t\u00fa das. La idea es aprender a automatizar los c\u00e1lculos para ahorrar tiempo y reducir los errores de dedo."
     ]
    },
    {
     "cell_type": "markdown",
     "metadata": {},
     "source": [
      "**1. P\u00e9ndulo doble**\n",
      "\n",
      "Un p\u00e9ndulo doble consiste de una masa $m_1$ suspendida de un punto fijo mediante una varilla sin masa, de longitud $\\ell_1$ y una masa $m_2$ suspendidad de $m_1$ mediante una varilla sin masa, de longitud $\\ell_2$.\n",
      "\n",
      "- Escribe la lagrangiana del sistema en coordenadas cartesianas y despu\u00e9s cambia a un sistema de coordenadas m\u00e1s adecuado.\n",
      "\n",
      "- Deduce las ecuaciones de Euler-Lagrange.\n",
      "\n",
      "- Integra las ecuaciones usando el m\u00e9todo de Euler-Cromer. Para usar las ecuaciones del inciso anterior para c\u00e1lculos num\u00e9ricos define una funci\u00f3n para cada ecuaci\u00f3n, cuyos argumentos sean n\u00fameros de Julia y el resultado sea un n\u00famero de Julia, no de SymPy. Las funciones deben ser aptas para d\u00e1rselas a Euler-Cromer, es decir, s\u00f3lo deben pedir cantidades din\u00e1micas. Los par\u00e1metros del sistema los puedes poner con `subs` al definir la funci\u00f3n.\n",
      "\n",
      "- Grafica un corte del espacio fase, correspondiente a las coordenadas de los dos p\u00e9ndulos, para distintas condiciones iniciales. \u00bfQu\u00e9 observas?.\n"
     ]
    },
    {
     "cell_type": "markdown",
     "metadata": {},
     "source": [
      "**2. Modos normales**\n",
      "\n",
      "Considera un sistema compuesto por cuatro carritos de masa $m$, acoplados con resortes sobre una pista recta. El carrito en cada extremo est\u00e1 acoplado mediante un resorte a una pared. Todos los resortes obedecen la ley de Hooke con la misma constante $k$.\n",
      "\n",
      "- Deduce las ecuaciones de movimiento a partir de la segunda ley de Newton y escr\u00edbelas en forma matricial. \n",
      "\n",
      "- Para resolver el sistema de ecuaciones proponemos la soluci\u00f3n\n",
      "\n",
      "$$\n",
      "\\vec{x}(t) = \\Re\\vec{z}(t), \\quad \\vec{z}(t) = \\vec{a}e^{i\\omega t},\n",
      "$$\n",
      "donde $\\vec{a}$ es un vector complejo que tiene la informaci\u00f3n de la amplitud y la fase de las oscilaciones, que dependen de las condiciones iniciales. Las frecuencias normales del sistema son las ra\u00edces positivas de la ecuaci\u00f3n caracter\u00edstica de la matriz $\\mathbb{K} - \\omega^2\\mathbb{M}$ y los modos normales son los vectores propios de la ecuaci\u00f3n de autovalores $(\\mathbb{K} - \\omega^2\\mathbb{M})\\vec{a} = 0$. El movimiento del sistema est\u00e1 dado por la superposici\u00f3n de todos los modos normales.\n",
      "\n",
      "\n",
      "- Calcula las frecuencias normales y los modos normales del sistema.\n",
      "\n",
      "- Usando `subplot` grafica, para cada modo normal, la posici\u00f3n de los carritos como funci\u00f3n del tiempo. Describe cada modo normal en t\u00e9rminos del movimiento de cada carrito. \n",
      "\n",
      "- Usando `subplot` grafica el movimiento de cada carrito. En esta representaci\u00f3n es dif\u00edcil ver c\u00f3mo se mueven los carritos. Haz una animaci\u00f3n. Para dibujar un punto puedes usar `plot([x1],[y1],\"ks\")`. Si en tu computadora no se ven los `mp4` en el cuaderno, usa `GIF`. No batalles con eso."
     ]
    }
   ],
   "metadata": {}
  }
 ]
}