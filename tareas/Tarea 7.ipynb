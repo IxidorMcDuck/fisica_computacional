{
 "metadata": {
  "language": "Julia",
  "name": "",
  "signature": "sha256:b13f8dbed18325994648997bc7f5a6be02a0a03a07b66221cf22f3260cfd7005"
 },
 "nbformat": 3,
 "nbformat_minor": 0,
 "worksheets": [
  {
   "cells": [
    {
     "cell_type": "heading",
     "level": 1,
     "metadata": {},
     "source": [
      "Tarea 7"
     ]
    },
    {
     "cell_type": "heading",
     "level": 3,
     "metadata": {},
     "source": [
      "Fecha *l\u00edmite* de entrega: martes 18 de noviembre a las 01:00."
     ]
    },
    {
     "cell_type": "markdown",
     "metadata": {},
     "source": [
      "En el cuaderno [Laplace equation](../notas/Laplace equation.ipynb) se ha implementado la soluci\u00f3n num\u00e9rica de la ecuaci\u00f3n de Laplace en 2D con base en el [art\u00edculo de Cornock](../notas/Cornock1954.pdf)."
     ]
    },
    {
     "cell_type": "markdown",
     "metadata": {},
     "source": [
      "**1.** Revisa el art\u00edculo y utiliza el c\u00f3digo del cuaderno de arriba como punto de partida para resolver la ecuaci\u00f3n de Laplace en una regi\u00f3n rectangular irregular. Puede ser una L, una placa con un hueco en el centro, una U, etc.\n",
      "\n",
      "Para definir la regi\u00f3n rectangular la debes dibujar en [gimp](http://www.gimp.org/):\n",
      "\n",
      "1. Abre gimp y crea un documento de 16 x 16 px.\n",
      "\n",
      "2. Con la herramienta de selecci\u00f3n rectangular dibuja un rect\u00e1ngulo.\n",
      "\n",
      "3. En el men\u00fa **Select** escoge **Selection Editor**.\n",
      "\n",
      "4. En la barra de la izquierda aparece un recuadro donde puedes especificar la posici\u00f3n y el tama\u00f1o de la selecci\u00f3n en p\u00edxeles.\n",
      "\n",
      "5. Cuando la selecci\u00f3n est\u00e9 lista, en la barra de la izquierda, donde est\u00e1n los iconitos, selecciona la cubeta y rellena la selecci\u00f3n rectangular de negro.\n",
      "\n",
      "6. En el men\u00fa **File** selecciona **Export as**. Guarda la imagen en un archivo sin acentos y sin espacios, con extensi\u00f3n **.pbm**.\n",
      "\n",
      "7. Aparece un recuadro que dice **Data Formatting**. Selecciona **ASCII**."
     ]
    }
   ],
   "metadata": {}
  }
 ]
}