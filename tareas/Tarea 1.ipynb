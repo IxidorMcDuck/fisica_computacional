{
 "metadata": {
  "language": "Julia",
  "name": "",
  "signature": "sha256:7340bd8757141a097879ef869b8ad50e51aa89f8a554d90af125f2f754c53e22"
 },
 "nbformat": 3,
 "nbformat_minor": 0,
 "worksheets": [
  {
   "cells": [
    {
     "cell_type": "markdown",
     "metadata": {},
     "source": [
      "1. Implementa una funci\u00f3n `mi_sin` usando recursi\u00f3n.\n",
      "Puedes utilizar el operador `%`, que calcula el resto de una divis\u00edon (ver abajo).\n",
      "\n",
      "2. Implementa una funci\u00f3n `mi_sin2` que utiliza un arreglo.\n",
      "\n",
      "3. Implementa una funci\u00f3n `mi_sin3` que utiliza la f\u00f3rmula de Euler.\n",
      "\n",
      "4. \u00bfFuncionan estas funciones con argumentos que sean n\u00fameros complejos?\n",
      "\n",
      "5. \u00bfC\u00f3mo podr\u00edas implementar `mi_cos` sin mayor dificultad? Hazlo.\n",
      "\n",
      "6. Verifica unas relaciones trigonom\u00e9tricas con tus funciones."
     ]
    },
    {
     "cell_type": "markdown",
     "metadata": {},
     "source": [
      "Ejemplo del uso del operador `%`:"
     ]
    },
    {
     "cell_type": "code",
     "collapsed": false,
     "input": [
      "5 % 3"
     ],
     "language": "python",
     "metadata": {},
     "outputs": [
      {
       "metadata": {},
       "output_type": "pyout",
       "prompt_number": 1,
       "text": [
        "2"
       ]
      }
     ],
     "prompt_number": 1
    }
   ],
   "metadata": {}
  }
 ]
}