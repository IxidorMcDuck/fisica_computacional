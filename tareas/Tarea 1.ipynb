{
 "metadata": {
  "language": "Julia",
  "name": "",
  "signature": "sha256:2a5afab27164ac4c6813f2b04d1257ed9cdfb8353f571a5a14ab1a812286f0ce"
 },
 "nbformat": 3,
 "nbformat_minor": 0,
 "worksheets": [
  {
   "cells": [
    {
     "cell_type": "markdown",
     "metadata": {},
     "source": [
      "1. Implementa una funci\u00f3n `mi_sin` usando recursi\u00f3n.\n",
      "Puedes utilizar el operador `%`, que calcula el resto de una divis\u00edon (ver abajo).\n",
      "\n",
      "2. Implementa una funci\u00f3n `mi_sin2` que utiliza la f\u00f3rmula de Euler.\n",
      "\n",
      "3. \u00bfFunciona `mi_sin2` con n\u00fameros complejos?\n",
      "\n",
      "4. \u00bfC\u00f3mo podr\u00edas implementar `mi_cos` sin mayor dificultad? Hazlo.\n",
      "\n",
      "5. Verifica unas relaciones trigonom\u00e9tricas con tus funciones."
     ]
    },
    {
     "cell_type": "code",
     "collapsed": false,
     "input": [
      "5 % 3"
     ],
     "language": "python",
     "metadata": {},
     "outputs": [
      {
       "metadata": {},
       "output_type": "pyout",
       "prompt_number": 1,
       "text": [
        "2"
       ]
      }
     ],
     "prompt_number": 1
    }
   ],
   "metadata": {}
  }
 ]
}