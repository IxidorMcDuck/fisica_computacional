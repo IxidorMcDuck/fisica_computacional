{
 "metadata": {
  "language": "Julia",
  "name": "",
  "signature": "sha256:b0569c316a221c774d1db2470476903c5dbaf4093a11545367768aff4f0e1e55"
 },
 "nbformat": 3,
 "nbformat_minor": 0,
 "worksheets": [
  {
   "cells": [
    {
     "cell_type": "heading",
     "level": 1,
     "metadata": {},
     "source": [
      "Tarea 3"
     ]
    },
    {
     "cell_type": "heading",
     "level": 3,
     "metadata": {},
     "source": [
      "Fecha *l\u00edmite* de entrega: **jueves 4 de septiembre a las 11am**"
     ]
    },
    {
     "cell_type": "markdown",
     "metadata": {},
     "source": [
      "[1]\n",
      "(a) Considera el m\u00e9todo de Newton para funciones de n\u00fameros *complejos* $z$. \n",
      "Implem\u00e9ntalo para funciones $f: \\mathbb{C} \\to \\mathbb{C}$.\n",
      "Considera la funci\u00f3n particular $f: z \\mapsto z^3 -1$.  Nota que para algunos valores de $z$, el m\u00e9todo de Newton *no converge*; por lo tanto, debes aseg\u00farate de  salir de la funci\u00f3n despu\u00e9s de un n\u00famero m\u00e1ximo de iterados.\n",
      "\n",
      "(b) Genera una matriz que contiene el resultado de aplicar el m\u00e9todo de Newton a esta funci\u00f3n $f$ para cada n\u00famero complejo en una regi\u00f3n cuadrada alrededor de $z=0$ del plano complejo. Los resultados son los n\u00fameros complejos a los cuales converge el m\u00e9todo. (\u00bfCu\u00e1les deber\u00edan ser? Es cierto?). \n",
      "\n",
      "(c) Usa la funci\u00f3n gr\u00e1fica `imshow` para graficar el resultado: `imshow` dibuja una matriz como pixeles coloreados, en los cuales los colores utilizados corresponden a los valores almacenados en las entradas correspondientes de la matriz. \u00bfQu\u00e9 ves? \u00bfCu\u00e1l es la interpretaci\u00f3n?\n",
      "\n",
      "(d) Extender esto a otras funciones interesantes. \u00bfQu\u00e9 concluyes en general?\n"
     ]
    },
    {
     "cell_type": "markdown",
     "metadata": {},
     "source": [
      "[2] Considera el tiro parab\u00f3lico. \n",
      "\n",
      "(a) Resuelve las ecuaciones num\u00e9ricamente y compara con la soluci\u00f3n anal\u00edtica.\n",
      "\n",
      "(b) Ahora agrega fricci\u00f3n proporcional a la velocidad. Escribe las EDOs y resu\u00e9lvelas. Compara con el resultado de (a).\n",
      "\n",
      "(c) \u00bfC\u00f3mo cambia si la fricci\u00f3n es proporcional al cuadrado de la rapidez? Dibuja los resultados de (a), (b) y (c) con una condici\u00f3n inicial dada en una sola gr\u00e1fica y hazlo interactiva.\n",
      "\n",
      "[3] (a) Modifica tu c\u00f3digo para que corra *hasta que* la part\u00edcula llegue de regreso a la tierra, y que regrese el tiempo de vuelo y el alcance. \n",
      "\n",
      "(b) Dibuja el tiempo de vuelo y el alcance en funci\u00f3n del \u00e1ngulo inicial (con rapidez constante) para los tres casos. \u00bfQu\u00e9 observas?\n"
     ]
    },
    {
     "cell_type": "markdown",
     "metadata": {},
     "source": [
      "[4] Resuelve el oscilador arm\u00f3nico con el m\u00e9todo e Euler y dibuja el comportamiento de las variables en el tiempo, as\u00ed como el espacio fase. \u00bfQu\u00e9 ocurre? \u00bfQu\u00e9 deberemos hacer al respecto?"
     ]
    }
   ],
   "metadata": {}
  }
 ]
}