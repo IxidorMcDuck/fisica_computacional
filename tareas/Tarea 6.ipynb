{
 "metadata": {
  "language": "Julia",
  "name": "",
  "signature": "sha256:962df64319c42ef7a064a7c340607e0e708f6495de623a5a14d6b52e974a2b15"
 },
 "nbformat": 3,
 "nbformat_minor": 0,
 "worksheets": [
  {
   "cells": [
    {
     "cell_type": "heading",
     "level": 1,
     "metadata": {},
     "source": [
      "Tarea 6"
     ]
    },
    {
     "cell_type": "heading",
     "level": 3,
     "metadata": {},
     "source": [
      "Fecha *l\u00edmite* de entrega: **domingo 19 de octubre a las 23:59**, es decir, a la medianoche entre el domingo y el lunes."
     ]
    },
    {
     "cell_type": "markdown",
     "metadata": {},
     "source": [
      "**1. Integradores de EDOs**\n",
      "\n",
      "(i) Define funciones para hacer *un solo paso* de los m\u00e9todos de Euler, punto medio, y RK4. Aceptan la funci\u00f3n que integrar, el valor actual de la variable independiente, y el tama\u00f1o de paso, y regresan el nuevo valor de la variable independiente.\n",
      "\n",
      "(ii) Define una funci\u00f3n `integrar` que acepta un m\u00e9todo de integraci\u00f3n que usar, una funci\u00f3n, el rango de tiempos y el tama\u00f1o del paso.\n",
      "\n",
      "(iii) Compara el funcionamiento de estos 3 m\u00e9todos para el oscilador arm\u00f3nico.\n",
      "\n",
      "(iv) Dibuja curvas de Lissajous para dos osciladores arm\u00f3nicos independientes en $x$ y $y$.\n",
      "\n",
      "(v) Resuelva num\u00e9ricamente el problema de los dos carritos de la tarea 5."
     ]
    },
    {
     "cell_type": "markdown",
     "metadata": {},
     "source": [
      "** 2. Problema de los 2 cuerpos **\n",
      "\n",
      "Resuelva num\u00e9ricamente el problema de 2 planetas que se atraen mutuamente por gravedad. Puedes suponer que viven en un plano (en lugar de en el espacio 3D).  Dibuja las trayectorias de los dos planetas, buscando todos los comportamientos posibles."
     ]
    },
    {
     "cell_type": "markdown",
     "metadata": {},
     "source": [
      "**3. Paquete `ODE.jl`**\n",
      "\n",
      "Investiga c\u00f3mo funciona el paquete de Julia `ODE.jl` para resolver ecuaciones diferenciales, y util\u00edzalo para resolver tu EDO favorita de la f\u00edsica."
     ]
    }
   ],
   "metadata": {}
  }
 ]
}