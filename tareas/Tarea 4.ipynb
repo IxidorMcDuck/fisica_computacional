{
 "metadata": {
  "language": "Julia",
  "name": "",
  "signature": "sha256:066b27f90a4ee36f145a47feea5e2eae570fcb0377ce6646629094d0baf15514"
 },
 "nbformat": 3,
 "nbformat_minor": 0,
 "worksheets": [
  {
   "cells": [
    {
     "cell_type": "heading",
     "level": 1,
     "metadata": {},
     "source": [
      "Tarea 4"
     ]
    },
    {
     "cell_type": "heading",
     "level": 3,
     "metadata": {},
     "source": [
      "Fecha *l\u00edmite* de entrega: **domingo 21 de septiembre a las 12 am**. Es decir, la media noche entre el s\u00e1bado y el domingo."
     ]
    },
    {
     "cell_type": "markdown",
     "metadata": {},
     "source": [
      "Resuelve los siguientes problemas usando el m\u00e9todo de Euler-Cromer."
     ]
    },
    {
     "cell_type": "markdown",
     "metadata": {},
     "source": [
      "**1. El gato y el rat\u00f3n**\n",
      "\n",
      "Un gato, cuya posici\u00f3n es $\\vec{r}_{G}$ y\n",
      "su velocidad es $\\vec{v}_{G}$, persigue a un rat\u00f3n, cuya posici\u00f3n es $\\vec{r}_{R}$ y su velocidad es $\\vec{v}_{R}$. El gato corre directamente hacia\n",
      "el rat\u00f3n y, por lo tanto, su velocidad est\u00e1 dada por\n",
      "\n",
      "$$\\frac{\\vec{v}_{G}(t)}{v_{G}(t)}=\\frac{\\vec{r}_{R}(t) - \\vec{r}_{G}(t)}{|\\vec{r}_{R}(t) - \\vec{r}_{G}(t)|}$$\n",
      "\n",
      "Dada la trayectoria del rat\u00f3n y la rapidez del gato, \u00bfqu\u00e9\n",
      "camino sigue este \u00faltimo? Consideraremos dos casos, en los cuales la\n",
      "rapidez de ambos es constante.\n",
      "\n",
      "\n",
      "1. Inicialmente el rat\u00f3n est\u00e1 en el origen del sistema de\n",
      "  coordenadas y el gato est\u00e1 en un punto $(x_{0},y_{0})$. El rat\u00f3n\n",
      "  corre a lo largo del eje $x$ y el gato lo persigue. Muestra que el\n",
      "  gato atrapa al rat\u00f3n si $v_{G} > v_{R}$, mientras que si corren con\n",
      "  la misma rapidez nunca lo atrapa.\n",
      "\n",
      "2. Inicialmente el rat\u00f3n est\u00e1 en el per\u00edmetro de un c\u00edrculo, en\n",
      "  cuyo centro est\u00e1 el gato. El rat\u00f3n corre sobre el per\u00edmetro del\n",
      "  c\u00edrculo con rapidez $v_{R}$ y el gato lo persigue. Muestra que si $v_{G} \\geq\n",
      "  v_{R}$, el gato atrapar\u00e1 al rat\u00f3n.\n",
      "\n",
      "En cada caso, dibuja en una sola gr\u00e1fica la trayectoria que sigue cada uno para tres valores de la rapidez del gato y una rapidez fija del rat\u00f3n."
     ]
    },
    {
     "cell_type": "markdown",
     "metadata": {},
     "source": [
      "**2. Una carrera singular**\n",
      "\n",
      "Dos bloques de masa $m_1$ y $m_2$ est\u00e1n unidos por una cuerda sin masa mediante una polea sin masa. El bloque 1 se mueve sobre una mesa de aerohockey, sin fricci\u00f3n. El bloque 2 se mueve como un p\u00e9ndulo, tal que la longitud de su cuerda cambia con el tiempo. Sus posiciones iniciales y el diagrama de cuerpo libre al tiempo $t$ se muestran a continuaci\u00f3n:\n",
      "\n",
      "|![diagrama](tarea4_figuras/conf_inicial.png)|![diagrama](tarea4_figuras/cuerpo_libre.png)|\n",
      "|:---:|:---:|\n",
      "|Configuraci\u00f3n inicial|Diagrama de cuerpo libre|\n",
      "\n",
      "A partir de la configuraci\u00f3n inicial se tiene la restricci\u00f3n\n",
      "\n",
      "$$\n",
      "-x(t) + r(t) = 2d.\n",
      "$$\n",
      "\n",
      "Las ecuaciones de movimiento del bloque 2 son:\n",
      "\n",
      "$$\n",
      "\\begin{array}{l}\n",
      "\\ddot{r} = \\frac{m_2}{m_1 + m_2}(r\\dot{\\theta}^2 + g\\cos\\theta)\\\\\n",
      "\\ddot{\\theta} = -\\frac{1}{r}(2\\dot{r}\\dot{\\theta} + g\\sin\\theta)\n",
      "\\end{array}\n",
      "$$\n",
      "\n",
      "Algo de lo que no hemos hablado en clase, que es muy importante, es la importancia de adimensionalizar las ecuaciones de movimiento. Esto es \u00fatil para la soluci\u00f3n num\u00e9rica, porque resulta en un reescalamiento de las variables f\u00edsicas como tiempo, distancia, masa, carga, etc. a cantidades $\\mathcal{O}(1)$. Por ejemplo, si normalizamos la masa en t\u00e9rminos de la masa del electr\u00f3n $m_e$, en lugar de hacer c\u00e1lculos con n\u00fameros $\\sim 10^{-31}$, lo cual requiere precisi\u00f3n arbitraria y da lugar a errores de redondeo importantes, la masa es un m\u00faltiplo entero de $m_e$. En la pr\u00e1ctica, esto sirve para dise\u00f1ar coches y aviones usando modelos a escala y no los objetos de tama\u00f1o real. Las cantidades adimensionales se calculan usando el [Teorema Pi de Buckingham](http://en.wikipedia.org/wiki/Buckingham_%CF%80_theorem).\n",
      "\n",
      "Definiendo las variables adimensionales,\n",
      "\n",
      "$$\n",
      "\\rho = r/d, \\quad \\tau = t/t_0 \\;\\text{con}\\; t_0 = \\sqrt{d/g}, \\quad \\mu=m_1/m_2, \n",
      "$$\n",
      "\n",
      "las ecuaciones de movimiento son:\n",
      "\n",
      "$$\n",
      "\\begin{array}{l}\n",
      "\\rho'' = \\frac{1}{\\mu+1}(\\rho\\theta'^2 + \\cos\\theta)\\\\\n",
      "\\theta'' = -\\frac{1}{\\rho}(2\\rho'\\theta' + \\sin\\theta).\n",
      "\\end{array}\n",
      "$$\n",
      "\n",
      "La energ\u00eda total del sistema en t\u00e9rminos de variables adimensionales es:\n",
      "\n",
      "$$\n",
      "E/E_0 = (K_1 + K_2 + U_2)/E_0, \\quad E_0 = m_2gd\n",
      "$$\n",
      "\n",
      "con ($\\nu = \\rho', \\omega = \\theta'$)\n",
      "\n",
      "$$\n",
      "\\begin{array}{l}\n",
      "K_1/E_0 = \\frac12 \\mu\\nu^2\\\\\n",
      "K_2/E_0 = \\frac12[\\nu^2 + (\\rho\\omega)^2]\\\\\n",
      "U_2/E_0 = -\\rho\\cos\\theta\n",
      "\\end{array}\n",
      "$$\n",
      "\n",
      "1. Considerando que las masas son iguales, $\\mu = 1$, y que $\\rho(0) = 1.0$, $\\theta(0) = \\pi/2$, $\\nu(0) = \\omega(0) = 0$, \u00bfqu\u00e9 sucede primero? \u00bfel bloque 1 llega a la polea? o \u00bfel bloque 2 llega a la pared? \u00bfA qu\u00e9 tiempo $\\tau$ ocurre esto? Grafica $\\rho(\\tau)$, $\\theta(\\tau)$ y $x(\\tau)$ usando [`subplot`](/tree/notas/subplot.ipynb). Si la cuerda mide 2 m, \u00bfcu\u00e1nto tiempo es en segundos?\n",
      "\n",
      "2. Para entender mejor este resultado, grafica el movimiento del centro de masa\n",
      "$$\n",
      "\\frac{x_{\\mathrm{cm}}}{d} = \\frac{\\rho(\\mu + \\sin\\theta) -2\\mu}{\\mu + 1}.\n",
      "$$\n",
      "Explica f\u00edsicamente lo que se obtiene.\n",
      "\n",
      "3. Dado que no hay disipaci\u00f3n, muestra que la energ\u00eda se conserva (aproximadamente). Grafica $K_1/E_0$, $K_2/E_0$, $U_2/E_0$ y $E/E_0$ en el mismo lienzo.\n",
      "\n",
      "4. Repite los incisos 1. y 2. para $\\mu=2.0$. \u00bfQu\u00e9 sucede? Explica.\n",
      "\n",
      "5. Discretiza el intervalo $[1.0,2.0]$ de valores de $\\mu$ y determina para qu\u00e9 valor se obtiene un empate."
     ]
    },
    {
     "cell_type": "markdown",
     "metadata": {},
     "source": [
      "Para que las figuras de arriba se vean de tama\u00f1o razonable. Ejecuta las siguientes celdas."
     ]
    },
    {
     "cell_type": "code",
     "collapsed": false,
     "input": [
      ";cd"
     ],
     "language": "python",
     "metadata": {},
     "outputs": [
      {
       "output_type": "stream",
       "stream": "stdout",
       "text": [
        "/home/marduk\n"
       ]
      }
     ],
     "prompt_number": 1
    },
    {
     "cell_type": "code",
     "collapsed": false,
     "input": [
      "home=chomp(readall(`pwd`))\n",
      "custom=\"$home/.ipython/profile_julia/static/custom\""
     ],
     "language": "python",
     "metadata": {},
     "outputs": [
      {
       "metadata": {},
       "output_type": "pyout",
       "prompt_number": 2,
       "text": [
        "\"/home/marduk/.ipython/profile_julia/static/custom\""
       ]
      }
     ],
     "prompt_number": 2
    },
    {
     "cell_type": "code",
     "collapsed": false,
     "input": [
      "# Agregamos esta l\u00ednea al final de custom.css\n",
      "run(`sed -i -e \"\\$aimg[alt=diagrama] { width: 200px; }\" $custom/custom.css`)"
     ],
     "language": "python",
     "metadata": {},
     "outputs": [],
     "prompt_number": 3
    },
    {
     "cell_type": "markdown",
     "metadata": {},
     "source": [
      "Cierra ipython notebook. Es decir, en la terminal donde lo ejecutaste presiona `Control-C` y vuelve a ejecutarlo."
     ]
    }
   ],
   "metadata": {}
  }
 ]
}