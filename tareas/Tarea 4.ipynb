{
 "metadata": {
  "language": "Julia",
  "name": "",
  "signature": "sha256:4da5e0bab85feabbbb16271545767a6b5cc0477845fc2298263258d661d9639e"
 },
 "nbformat": 3,
 "nbformat_minor": 0,
 "worksheets": [
  {
   "cells": [
    {
     "cell_type": "heading",
     "level": 1,
     "metadata": {},
     "source": [
      "Tarea 4"
     ]
    },
    {
     "cell_type": "markdown",
     "metadata": {},
     "source": [
      "En proceso. Faltan dos problemas. El viernes 12 queda la versi\u00f3n definitiva."
     ]
    },
    {
     "cell_type": "heading",
     "level": 3,
     "metadata": {},
     "source": [
      "Fecha *l\u00edmite* de entrega: **domingo 21 de septiembre a las 12 am**. Es decir, la media noche entre el s\u00e1bado y el domingo."
     ]
    },
    {
     "cell_type": "markdown",
     "metadata": {},
     "source": [
      "Resuelve los siguientes problemas usando el m\u00e9todo de Euler-Cromer."
     ]
    },
    {
     "cell_type": "markdown",
     "metadata": {},
     "source": [
      "**1. El gato y el rat\u00f3n**\n",
      "\n",
      "Un gato, cuya posici\u00f3n es $\\vec{r}_{G}$ y\n",
      "su velocidad es $\\vec{v}_{G}$, persigue a un rat\u00f3n, cuya posici\u00f3n es $\\vec{r}_{R}$ y su velocidad es $\\vec{v}_{R}$. El gato corre directamente hacia\n",
      "el rat\u00f3n y, por lo tanto, su velocidad est\u00e1 dada por\n",
      "\n",
      "$$\\frac{\\vec{v}_{G}(t)}{v_{G}(t)}=\\frac{\\vec{r}_{R}(t) - \\vec{r}_{G}(t)}{|\\vec{r}_{R}(t) - \\vec{r}_{G}(t)|}$$\n",
      "\n",
      "Dada la trayectoria del rat\u00f3n y la rapidez del gato, \u00bfqu\u00e9\n",
      "camino sigue este \u00faltimo? Consideraremos dos casos, en los cuales la\n",
      "rapidez de ambos es constante.\n",
      "\n",
      "\n",
      "1. Inicialmente el rat\u00f3n est\u00e1 en el origen del sistema de\n",
      "  coordenadas y el gato est\u00e1 en un punto $(x_{0},y_{0})$. El rat\u00f3n\n",
      "  corre a lo largo del eje $x$ y el gato lo persigue. Muestra que el\n",
      "  gato atrapa al rat\u00f3n si $v_{G} > v_{R}$, mientras que si corren con\n",
      "  la misma rapidez nunca lo atrapa.\n",
      "\n",
      "2. Inicialmente el rat\u00f3n est\u00e1 en el per\u00edmetro de un c\u00edrculo, en\n",
      "  cuyo centro est\u00e1 el gato. El rat\u00f3n corre sobre el per\u00edmetro del\n",
      "  c\u00edrculo con rapidez $v_{R}$ y el gato lo persigue. Muestra que si $v_{G} \\geq\n",
      "  v_{R}$, el gato atrapar\u00e1 al rat\u00f3n.\n",
      "\n",
      "En cada caso, dibuja en una sola gr\u00e1fica la trayectoria que sigue cada uno para tres valores de la rapidez del gato y una rapidez fija del rat\u00f3n."
     ]
    },
    {
     "cell_type": "code",
     "collapsed": false,
     "input": [],
     "language": "python",
     "metadata": {},
     "outputs": []
    }
   ],
   "metadata": {}
  }
 ]
}