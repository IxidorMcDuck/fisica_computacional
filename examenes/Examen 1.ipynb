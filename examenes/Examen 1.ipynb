{
 "metadata": {
  "language": "Julia",
  "name": "",
  "signature": "sha256:ceab4f6daf04630fa673174afe8bbce5c1e33225a28c66dba2bd556ad3e47df4"
 },
 "nbformat": 3,
 "nbformat_minor": 0,
 "worksheets": [
  {
   "cells": [
    {
     "cell_type": "heading",
     "level": 1,
     "metadata": {},
     "source": [
      "Examen 1"
     ]
    },
    {
     "cell_type": "markdown",
     "metadata": {},
     "source": [
      "[1]  \n",
      "\n",
      "\n",
      "(i) Crea una funci\u00f3n `fact` que utiliza un bucle para calcular el factorial de un entero, $n! = 1 \\times 2 \\times \\cdots \\times n$. \n",
      "\n",
      "(ii) Calcula el $10!$ y ch\u00e9calo con el valor verdadero `factorial(10)`. \n",
      "\n",
      "(iii) \u00bfC\u00f3mo puedes hacer para que tu funci\u00f3n funcione con n\u00fameros enteros de tama\u00f1o arbitrariamente grandes?\n",
      "\n",
      "(iv) Calcula $100!$"
     ]
    },
    {
     "cell_type": "markdown",
     "metadata": {},
     "source": [
      "[2] \n",
      "\n",
      "(i) Crea una funci\u00f3n `exponencial` que calcula el exponencial $\\exp(x)$ de un n\u00famero real $x$, usando un bucle  para calcular la serie de Taylor\n",
      "\n",
      "$$\\exp(x) = 1 + x + \\textstyle \\frac{1}{2!} x^2 + \\frac{1}{3!} x^3 + \\cdots.$$\n",
      "\n",
      "Aseg\u00farate de hacer el c\u00e1lculo usando precisi\u00f3n arbitraria.\n",
      "\n",
      "El bucle no debe tener un n\u00famero de t\u00e9rminos fijo, sino terminar hasta que el tama\u00f1o del t\u00e9rmino nuevo que se va agregando sea menor que una tolerancia que t\u00fa especifiques.\n",
      "\n",
      "(ii) Utiliza tu funci\u00f3n para calcular los exponenciales para los n\u00fameros $1$ hasta $10$ y calcula la diferencia entre el valor que obtienes y el valor verdadero."
     ]
    },
    {
     "cell_type": "markdown",
     "metadata": {},
     "source": [
      "[3]\n",
      "\n",
      "\n",
      "(i) Escribe una funci\u00f3n que lleva a cabo el m\u00e9todo de Euler.\n",
      "\n",
      "(ii) Util\u00edzalo para resolver la ecuaci\u00f3n diferencial ordinaria\n",
      "\n",
      "$$\\dot{x} = x(1-x)$$\n",
      "\n",
      "que describe la din\u00e1mica de una poblaci\u00f3n.\n",
      "\n",
      "(iii) Dibuja la soluci\u00f3n para distintas condiciones iniciales positivas. Interpreta el resultado en t\u00e9rminos de poblaciones.\n"
     ]
    }
   ],
   "metadata": {}
  }
 ]
}