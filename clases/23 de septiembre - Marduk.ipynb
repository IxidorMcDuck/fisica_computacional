{
 "metadata": {
  "language": "Julia",
  "name": "",
  "signature": "sha256:9e366a65b735e98d091dcaa50292b471c45e4a743e355758f06b546575337ec6"
 },
 "nbformat": 3,
 "nbformat_minor": 0,
 "worksheets": [
  {
   "cells": [
    {
     "cell_type": "markdown",
     "metadata": {},
     "source": [
      "Para dibujos usen Inkscape. [Tutoriales](http://computacion-marduk.github.io/recursos/)"
     ]
    },
    {
     "cell_type": "heading",
     "level": 3,
     "metadata": {},
     "source": [
      "Dudas de la tarea 4"
     ]
    },
    {
     "cell_type": "markdown",
     "metadata": {},
     "source": [
      "Usar Euler-Cromer con el primer problema resulta en un m\u00e9todo impl\u00edcito. Perd\u00f3n. Como comentamos, hab\u00eda tres posibilidades:\n",
      "\n",
      "+ Resolver las ecuaciones algebraicas en cada paso\n",
      "+ Usar Euler\n",
      "+ Derivar la ecuaci\u00f3n diferencial de la velocidad y resolver el sistema acoplado"
     ]
    },
    {
     "cell_type": "markdown",
     "metadata": {},
     "source": [
      "Pueden usar [Compose](http://composejl.org/) e Interact para hacer una animaci\u00f3n del movimiento del centro de masa del problema 2. Aqu\u00ed est\u00e1n los [tutoriales](http://nbviewer.ipython.org/github/JuliaLang/Interact.jl/blob/master/doc/notebooks/)."
     ]
    },
    {
     "cell_type": "heading",
     "level": 3,
     "metadata": {},
     "source": [
      "SymPy"
     ]
    },
    {
     "cell_type": "code",
     "collapsed": false,
     "input": [
      "Pkg.add(\"SymPy\")"
     ],
     "language": "python",
     "metadata": {},
     "outputs": [
      {
       "output_type": "stream",
       "stream": "stderr",
       "text": [
        "INFO: Nothing to be done\n"
       ]
      }
     ],
     "prompt_number": 1
    },
    {
     "cell_type": "code",
     "collapsed": false,
     "input": [
      "using SymPy"
     ],
     "language": "python",
     "metadata": {},
     "outputs": [
      {
       "output_type": "stream",
       "stream": "stderr",
       "text": [
        "Warning: imported binding for transpose overwritten in module __anon__\n"
       ]
      }
     ],
     "prompt_number": 2
    },
    {
     "cell_type": "code",
     "collapsed": false,
     "input": [
      "x = sym\"x\""
     ],
     "language": "python",
     "metadata": {},
     "outputs": [
      {
       "latex": [
        "$$x$$"
       ],
       "metadata": {},
       "output_type": "pyout",
       "prompt_number": 3,
       "text": [
        "x"
       ]
      }
     ],
     "prompt_number": 3
    },
    {
     "cell_type": "code",
     "collapsed": false,
     "input": [
      "typeof(x)"
     ],
     "language": "python",
     "metadata": {},
     "outputs": [
      {
       "metadata": {},
       "output_type": "pyout",
       "prompt_number": 4,
       "text": [
        "Sym (constructor with 6 methods)"
       ]
      }
     ],
     "prompt_number": 4
    },
    {
     "cell_type": "code",
     "collapsed": false,
     "input": [
      "x = Sym(\"x\")"
     ],
     "language": "python",
     "metadata": {},
     "outputs": [
      {
       "latex": [
        "$$x$$"
       ],
       "metadata": {},
       "output_type": "pyout",
       "prompt_number": 5,
       "text": [
        "x"
       ]
      }
     ],
     "prompt_number": 5
    },
    {
     "cell_type": "code",
     "collapsed": false,
     "input": [
      "x,y,z = sym\"x,y,z\""
     ],
     "language": "python",
     "metadata": {},
     "outputs": [
      {
       "metadata": {},
       "output_type": "pyout",
       "prompt_number": 6,
       "text": [
        "(x,y,z)"
       ]
      }
     ],
     "prompt_number": 6
    },
    {
     "cell_type": "code",
     "collapsed": false,
     "input": [
      "y = symbols(\"y\", nonnegative=true)"
     ],
     "language": "python",
     "metadata": {},
     "outputs": [
      {
       "latex": [
        "$$y$$"
       ],
       "metadata": {},
       "output_type": "pyout",
       "prompt_number": 7,
       "text": [
        "y"
       ]
      }
     ],
     "prompt_number": 7
    },
    {
     "cell_type": "code",
     "collapsed": false,
     "input": [
      "diff(x^2 + 2x +1)"
     ],
     "language": "python",
     "metadata": {},
     "outputs": [
      {
       "latex": [
        "$$2 x + 2$$"
       ],
       "metadata": {},
       "output_type": "pyout",
       "prompt_number": 8,
       "text": [
        "2*x + 2"
       ]
      }
     ],
     "prompt_number": 8
    },
    {
     "cell_type": "code",
     "collapsed": false,
     "input": [
      "subs(diff(x^2 + 2x +1), x, 3)"
     ],
     "language": "python",
     "metadata": {},
     "outputs": [
      {
       "latex": [
        "$$8$$"
       ],
       "metadata": {},
       "output_type": "pyout",
       "prompt_number": 9,
       "text": [
        "8"
       ]
      }
     ],
     "prompt_number": 9
    },
    {
     "cell_type": "code",
     "collapsed": false,
     "input": [
      "diff(x^2 + 2x +1) |> subs(x,3)"
     ],
     "language": "python",
     "metadata": {},
     "outputs": [
      {
       "latex": [
        "$$8$$"
       ],
       "metadata": {},
       "output_type": "pyout",
       "prompt_number": 10,
       "text": [
        "8"
       ]
      }
     ],
     "prompt_number": 10
    },
    {
     "cell_type": "code",
     "collapsed": false,
     "input": [
      "polinomio = x^2 + 2x +1"
     ],
     "language": "python",
     "metadata": {},
     "outputs": [
      {
       "latex": [
        "$$x^{2} + 2 x + 1$$"
       ],
       "metadata": {},
       "output_type": "pyout",
       "prompt_number": 11,
       "text": [
        " 2          \n",
        "x  + 2*x + 1"
       ]
      }
     ],
     "prompt_number": 11
    },
    {
     "cell_type": "code",
     "collapsed": false,
     "input": [
      "raices = roots(polinomio)"
     ],
     "language": "python",
     "metadata": {},
     "outputs": [
      {
       "latex": [
        "\\begin{equation*}\\begin{cases}-1 & \\text{=>} &2\\\\\\end{cases}\\end{equation*}"
       ],
       "metadata": {},
       "output_type": "pyout",
       "prompt_number": 12,
       "text": [
        "Dict{Any,Any} with 1 entry:\n",
        "  -1 => 2"
       ]
      }
     ],
     "prompt_number": 12
    },
    {
     "cell_type": "code",
     "collapsed": false,
     "input": [
      "[raiz for (raiz,multi) in raices]"
     ],
     "language": "python",
     "metadata": {},
     "outputs": [
      {
       "metadata": {},
       "output_type": "pyout",
       "prompt_number": 13,
       "text": [
        "1-element Array{Any,1}:\n",
        " -1"
       ]
      }
     ],
     "prompt_number": 13
    },
    {
     "cell_type": "markdown",
     "metadata": {},
     "source": [
      "`raices` es un diccionario, es decir, un arreglo asociativo. En Julia un diccionario se construye as\u00ed:\n",
      "**Ojo**: Esto es Julia no SymPy"
     ]
    },
    {
     "cell_type": "code",
     "collapsed": false,
     "input": [
      "dicc = [\"a\" => (0,1,2), \"b\" => (-0.5, 6.7)]"
     ],
     "language": "python",
     "metadata": {},
     "outputs": [
      {
       "latex": [
        "\\begin{equation*}\\begin{cases}b & \\text{=>} &(-0.5,6.7)\\\\a & \\text{=>} &(0,1,2)\\\\\\end{cases}\\end{equation*}"
       ],
       "metadata": {},
       "output_type": "pyout",
       "prompt_number": 14,
       "text": [
        "Dict{ASCIIString,Any} with 2 entries:\n",
        "  \"b\" => (-0.5,6.7)\n",
        "  \"a\" => (0,1,2)"
       ]
      }
     ],
     "prompt_number": 14
    },
    {
     "cell_type": "code",
     "collapsed": false,
     "input": [
      "dicc[\"a\"][2]"
     ],
     "language": "python",
     "metadata": {},
     "outputs": [
      {
       "metadata": {},
       "output_type": "pyout",
       "prompt_number": 15,
       "text": [
        "1"
       ]
      }
     ],
     "prompt_number": 15
    },
    {
     "cell_type": "code",
     "collapsed": false,
     "input": [
      "factor(polinomio)"
     ],
     "language": "python",
     "metadata": {},
     "outputs": [
      {
       "latex": [
        "$$\\left(x + 1\\right)^{2}$$"
       ],
       "metadata": {},
       "output_type": "pyout",
       "prompt_number": 16,
       "text": [
        "       2\n",
        "(x + 1) "
       ]
      }
     ],
     "prompt_number": 16
    },
    {
     "cell_type": "code",
     "collapsed": false,
     "input": [
      "factor(polinomio) |> expand"
     ],
     "language": "python",
     "metadata": {},
     "outputs": [
      {
       "latex": [
        "$$x^{2} + 2 x + 1$$"
       ],
       "metadata": {},
       "output_type": "pyout",
       "prompt_number": 17,
       "text": [
        " 2          \n",
        "x  + 2*x + 1"
       ]
      }
     ],
     "prompt_number": 17
    },
    {
     "cell_type": "code",
     "collapsed": false,
     "input": [
      "z = 5"
     ],
     "language": "python",
     "metadata": {},
     "outputs": [
      {
       "metadata": {},
       "output_type": "pyout",
       "prompt_number": 18,
       "text": [
        "5"
       ]
      }
     ],
     "prompt_number": 18
    },
    {
     "cell_type": "code",
     "collapsed": false,
     "input": [
      "x + z"
     ],
     "language": "python",
     "metadata": {},
     "outputs": [
      {
       "latex": [
        "$$x + 5$$"
       ],
       "metadata": {},
       "output_type": "pyout",
       "prompt_number": 19,
       "text": [
        "x + 5"
       ]
      }
     ],
     "prompt_number": 19
    },
    {
     "cell_type": "code",
     "collapsed": false,
     "input": [
      "poli2 = x^2 +2x -1"
     ],
     "language": "python",
     "metadata": {},
     "outputs": [
      {
       "latex": [
        "$$x^{2} + 2 x - 1$$"
       ],
       "metadata": {},
       "output_type": "pyout",
       "prompt_number": 20,
       "text": [
        " 2          \n",
        "x  + 2*x - 1"
       ]
      }
     ],
     "prompt_number": 20
    },
    {
     "cell_type": "code",
     "collapsed": false,
     "input": [
      "roots(poli2)"
     ],
     "language": "python",
     "metadata": {},
     "outputs": [
      {
       "latex": [
        "\\begin{equation*}\\begin{cases}-1 + \\sqrt{2} & \\text{=>} &1\\\\- \\sqrt{2} - 1 & \\text{=>} &1\\\\\\end{cases}\\end{equation*}"
       ],
       "metadata": {},
       "output_type": "pyout",
       "prompt_number": 21,
       "text": [
        "Dict{Any,Any} with 2 entries:\n",
        "         ___\u2026             => 1\n",
        "      ___    \u2026            => 1"
       ]
      }
     ],
     "prompt_number": 21
    },
    {
     "cell_type": "code",
     "collapsed": false,
     "input": [
      "raices2 = solve(poli2)"
     ],
     "language": "python",
     "metadata": {},
     "outputs": [
      {
       "latex": [
        "\\begin{bmatrix}-1 + \\sqrt{2}\\\\- \\sqrt{2} - 1\\end{bmatrix}"
       ],
       "metadata": {},
       "output_type": "pyout",
       "prompt_number": 22,
       "text": [
        "2-element Array{Sym,1}:\n",
        "        ___\n",
        "-1 + \\/ 2   \n",
        "     ___    \n",
        "- \\/ 2  - 1"
       ]
      }
     ],
     "prompt_number": 22
    },
    {
     "cell_type": "code",
     "collapsed": false,
     "input": [
      "raices2[1]"
     ],
     "language": "python",
     "metadata": {},
     "outputs": [
      {
       "latex": [
        "$$-1 + \\sqrt{2}$$"
       ],
       "metadata": {},
       "output_type": "pyout",
       "prompt_number": 23,
       "text": [
        "       ___\n",
        "-1 + \\/ 2 "
       ]
      }
     ],
     "prompt_number": 23
    },
    {
     "cell_type": "code",
     "collapsed": false,
     "input": [
      "raices2[1] |> N"
     ],
     "language": "python",
     "metadata": {},
     "outputs": [
      {
       "latex": [
        "$$0.414213562373095$$"
       ],
       "metadata": {},
       "output_type": "pyout",
       "prompt_number": 24,
       "text": [
        "0.414213562373095"
       ]
      }
     ],
     "prompt_number": 24
    },
    {
     "cell_type": "code",
     "collapsed": false,
     "input": [
      "integrate(poli2,x)"
     ],
     "language": "python",
     "metadata": {},
     "outputs": [
      {
       "latex": [
        "$$\\frac{x^{3}}{3} + x^{2} - x$$"
       ],
       "metadata": {},
       "output_type": "pyout",
       "prompt_number": 25,
       "text": [
        " 3         \n",
        "x     2    \n",
        "-- + x  - x\n",
        "3          "
       ]
      }
     ],
     "prompt_number": 25
    },
    {
     "cell_type": "code",
     "collapsed": false,
     "input": [
      "integrate(poli2,(x,0,2))"
     ],
     "language": "python",
     "metadata": {},
     "outputs": [
      {
       "latex": [
        "$$\\frac{14}{3}$$"
       ],
       "metadata": {},
       "output_type": "pyout",
       "prompt_number": 26,
       "text": [
        "14/3"
       ]
      }
     ],
     "prompt_number": 26
    },
    {
     "cell_type": "code",
     "collapsed": false,
     "input": [
      "\u03b8, \u03c9 = sym\"theta, omega\""
     ],
     "language": "python",
     "metadata": {},
     "outputs": [
      {
       "metadata": {},
       "output_type": "pyout",
       "prompt_number": 27,
       "text": [
        "(theta,omega)"
       ]
      }
     ],
     "prompt_number": 27
    },
    {
     "cell_type": "code",
     "collapsed": false,
     "input": [
      "\u03b8"
     ],
     "language": "python",
     "metadata": {},
     "outputs": [
      {
       "latex": [
        "$$\\theta$$"
       ],
       "metadata": {},
       "output_type": "pyout",
       "prompt_number": 28,
       "text": [
        "theta"
       ]
      }
     ],
     "prompt_number": 28
    },
    {
     "cell_type": "code",
     "collapsed": false,
     "input": [
      "\u03b8, \u03c9 = sym\"alpha, omega\""
     ],
     "language": "python",
     "metadata": {},
     "outputs": [
      {
       "metadata": {},
       "output_type": "pyout",
       "prompt_number": 29,
       "text": [
        "(alpha,omega)"
       ]
      }
     ],
     "prompt_number": 29
    },
    {
     "cell_type": "code",
     "collapsed": false,
     "input": [
      "\u03b8"
     ],
     "language": "python",
     "metadata": {},
     "outputs": [
      {
       "latex": [
        "$$\\alpha$$"
       ],
       "metadata": {},
       "output_type": "pyout",
       "prompt_number": 30,
       "text": [
        "alpha"
       ]
      }
     ],
     "prompt_number": 30
    },
    {
     "cell_type": "code",
     "collapsed": false,
     "input": [
      "\u03b8, \u03c9 = sym\"theta, omega\""
     ],
     "language": "python",
     "metadata": {},
     "outputs": [
      {
       "metadata": {},
       "output_type": "pyout",
       "prompt_number": 31,
       "text": [
        "(theta,omega)"
       ]
      }
     ],
     "prompt_number": 31
    },
    {
     "cell_type": "code",
     "collapsed": false,
     "input": [
      "f(\u03b8, \u03c9) = \u03b8^2 + \u03c9^2"
     ],
     "language": "python",
     "metadata": {},
     "outputs": [
      {
       "metadata": {},
       "output_type": "pyout",
       "prompt_number": 32,
       "text": [
        "f (generic function with 1 method)"
       ]
      }
     ],
     "prompt_number": 32
    },
    {
     "cell_type": "code",
     "collapsed": false,
     "input": [
      "diff(f(\u03b8, \u03c9), \u03b8)"
     ],
     "language": "python",
     "metadata": {},
     "outputs": [
      {
       "latex": [
        "$$2 \\theta$$"
       ],
       "metadata": {},
       "output_type": "pyout",
       "prompt_number": 33,
       "text": [
        "2*theta"
       ]
      }
     ],
     "prompt_number": 33
    },
    {
     "cell_type": "code",
     "collapsed": false,
     "input": [
      "diff(f(\u03b8, \u03c9), \u03c9, 2)"
     ],
     "language": "python",
     "metadata": {},
     "outputs": [
      {
       "latex": [
        "$$2$$"
       ],
       "metadata": {},
       "output_type": "pyout",
       "prompt_number": 34,
       "text": [
        "2"
       ]
      }
     ],
     "prompt_number": 34
    },
    {
     "cell_type": "code",
     "collapsed": false,
     "input": [
      "series(exp(x), x, 0, 5)"
     ],
     "language": "python",
     "metadata": {},
     "outputs": [
      {
       "latex": [
        "$$1 + x + \\frac{x^{2}}{2} + \\frac{x^{3}}{6} + \\frac{x^{4}}{24} + \\mathcal{O}\\left(x^{5}\\right)$$"
       ],
       "metadata": {},
       "output_type": "pyout",
       "prompt_number": 35,
       "text": [
        "         2    3    4        \n",
        "        x    x    x     / 5\\\n",
        "1 + x + -- + -- + -- + O\\x /\n",
        "        2    6    24        "
       ]
      }
     ],
     "prompt_number": 35
    },
    {
     "cell_type": "code",
     "collapsed": false,
     "input": [
      "taylor = series(exp(x), x, 0, 5)[:removeO]()"
     ],
     "language": "python",
     "metadata": {},
     "outputs": [
      {
       "latex": [
        "$$\\frac{x^{4}}{24} + \\frac{x^{3}}{6} + \\frac{x^{2}}{2} + x + 1$$"
       ],
       "metadata": {},
       "output_type": "pyout",
       "prompt_number": 36,
       "text": [
        " 4    3    2        \n",
        "x    x    x         \n",
        "-- + -- + -- + x + 1\n",
        "24   6    2         "
       ]
      }
     ],
     "prompt_number": 36
    },
    {
     "cell_type": "code",
     "collapsed": false,
     "input": [
      "using PyPlot\n",
      "\n",
      "#Para que la gr\u00e1fica se vea bien cuando agrandamos la letra\n",
      "PyPlot.svg(true); "
     ],
     "language": "python",
     "metadata": {},
     "outputs": [
      {
       "output_type": "stream",
       "stream": "stderr",
       "text": [
        "INFO: Loading help data...\n"
       ]
      }
     ],
     "prompt_number": 37
    },
    {
     "cell_type": "code",
     "collapsed": false,
     "input": [
      "u=[0:0.01:5];"
     ],
     "language": "python",
     "metadata": {},
     "outputs": [],
     "prompt_number": 38
    },
    {
     "cell_type": "code",
     "collapsed": false,
     "input": [
      "taylor_num = [float(subs(taylor, x, i)) for i in u];"
     ],
     "language": "python",
     "metadata": {},
     "outputs": [],
     "prompt_number": 39
    },
    {
     "cell_type": "code",
     "collapsed": false,
     "input": [
      "plot(u, taylor_num, label=L\"Taylor $\\mathcal{O}(x^5)$ de $\\exp(x)$\")\n",
      "plot(u, exp(u), label=L\"\\exp(x)\")\n",
      "legend();"
     ],
     "language": "python",
     "metadata": {},
     "outputs": [
      {
       "metadata": {},
       "output_type": "display_data",
       "png": "[encoded data removed]",
       "svg": [
        "<?xml version=\"1.0\" encoding=\"utf-8\" standalone=\"no\"?>\n",
        "<!DOCTYPE svg PUBLIC \"-//W3C//DTD SVG 1.1//EN\"\n",
        "  \"http://www.w3.org/Graphics/SVG/1.1/DTD/svg11.dtd\">\n",
        "<!-- Created with matplotlib (http://matplotlib.org/) -->\n",
        "<svg height=\"381pt\" version=\"1.1\" viewBox=\"0 0 488 381\" width=\"488pt\" xmlns=\"http://www.w3.org/2000/svg\" xmlns:xlink=\"http://www.w3.org/1999/xlink\">\n",
        " <defs>\n",
        "  <style type=\"text/css\">\n",
        "*{stroke-linecap:butt;stroke-linejoin:round;}\n",
        "  </style>\n",
        " </defs>\n",
        " <g id=\"figure_1\">\n",
        "  <g id=\"patch_1\">\n",
        "   <path d=\"\n",
        "M0 381.421\n",
        "L488.42 381.421\n",
        "L488.42 0\n",
        "L0 0\n",
        "z\n",
        "\" style=\"fill:#ffffff;\"/>\n",
        "  </g>\n",
        "  <g id=\"axes_1\">\n",
        "   <g id=\"patch_2\">\n",
        "    <path d=\"\n",
        "M31.99 358.607\n",
        "L478.39 358.607\n",
        "L478.39 13.0069\n",
        "L31.99 13.0069\n",
        "z\n",
        "\" style=\"fill:#ffffff;\"/>\n",
        "   </g>\n",
        "   <g id=\"line2d_1\">\n",
        "    <path clip-path=\"url(#pa2a97305bc)\" d=\"\n",
        "M31.99 356.447\n",
        "L58.774 355.691\n",
        "L81.9868 354.827\n",
        "L103.414 353.806\n",
        "L122.163 352.699\n",
        "L140.019 351.421\n",
        "L156.089 350.055\n",
        "L171.267 348.549\n",
        "L185.552 346.917\n",
        "L198.944 345.176\n",
        "L212.336 343.211\n",
        "L224.835 341.155\n",
        "L237.334 338.867\n",
        "L248.94 336.517\n",
        "L260.547 333.934\n",
        "L271.26 331.329\n",
        "L281.974 328.497\n",
        "L292.688 325.425\n",
        "L302.508 322.386\n",
        "L312.329 319.122\n",
        "L322.15 315.62\n",
        "L331.971 311.87\n",
        "L340.899 308.233\n",
        "L349.827 304.371\n",
        "L358.755 300.274\n",
        "L367.683 295.932\n",
        "L376.611 291.333\n",
        "L385.539 286.469\n",
        "L394.467 281.329\n",
        "L402.502 276.457\n",
        "L410.537 271.344\n",
        "L418.572 265.983\n",
        "L426.608 260.364\n",
        "L434.643 254.479\n",
        "L442.678 248.32\n",
        "L450.713 241.878\n",
        "L458.748 235.144\n",
        "L466.784 228.109\n",
        "L474.819 220.763\n",
        "L478.39 217.397\n",
        "L478.39 217.397\" style=\"fill:none;stroke:#0000ff;stroke-linecap:square;\"/>\n",
        "   </g>\n",
        "   <g id=\"line2d_2\">\n",
        "    <path clip-path=\"url(#pa2a97305bc)\" d=\"\n",
        "M31.99 356.447\n",
        "L58.774 355.691\n",
        "L81.9868 354.825\n",
        "L102.521 353.848\n",
        "L121.27 352.735\n",
        "L138.233 351.507\n",
        "L153.411 350.191\n",
        "L167.696 348.731\n",
        "L181.088 347.133\n",
        "L193.587 345.408\n",
        "L205.193 343.576\n",
        "L215.907 341.66\n",
        "L225.728 339.689\n",
        "L235.548 337.489\n",
        "L244.476 335.268\n",
        "L253.404 332.814\n",
        "L261.44 330.385\n",
        "L269.475 327.727\n",
        "L277.51 324.819\n",
        "L284.652 322.005\n",
        "L291.795 318.956\n",
        "L298.937 315.654\n",
        "L305.187 312.539\n",
        "L311.436 309.199\n",
        "L317.686 305.617\n",
        "L323.936 301.774\n",
        "L330.185 297.654\n",
        "L336.435 293.234\n",
        "L341.792 289.192\n",
        "L347.148 284.899\n",
        "L352.505 280.341\n",
        "L357.862 275.502\n",
        "L363.219 270.363\n",
        "L368.576 264.906\n",
        "L373.932 259.112\n",
        "L379.289 252.959\n",
        "L384.646 246.426\n",
        "L390.003 239.49\n",
        "L395.36 232.124\n",
        "L399.824 225.639\n",
        "L404.288 218.821\n",
        "L408.752 211.655\n",
        "L413.216 204.12\n",
        "L417.68 196.199\n",
        "L422.144 187.873\n",
        "L426.608 179.119\n",
        "L431.072 169.916\n",
        "L435.536 160.242\n",
        "L440 150.072\n",
        "L444.464 139.38\n",
        "L448.928 128.14\n",
        "L453.392 116.323\n",
        "L457.856 103.901\n",
        "L462.32 90.8423\n",
        "L466.784 77.1137\n",
        "L471.248 62.6812\n",
        "L475.712 47.5088\n",
        "L478.39 38.0345\n",
        "L478.39 38.0345\" style=\"fill:none;stroke:#008000;stroke-linecap:square;\"/>\n",
        "   </g>\n",
        "   <g id=\"patch_3\">\n",
        "    <path d=\"\n",
        "M31.99 13.0069\n",
        "L478.39 13.0069\" style=\"fill:none;stroke:#000000;stroke-linecap:square;stroke-linejoin:miter;\"/>\n",
        "   </g>\n",
        "   <g id=\"patch_4\">\n",
        "    <path d=\"\n",
        "M478.39 358.607\n",
        "L478.39 13.0069\" style=\"fill:none;stroke:#000000;stroke-linecap:square;stroke-linejoin:miter;\"/>\n",
        "   </g>\n",
        "   <g id=\"patch_5\">\n",
        "    <path d=\"\n",
        "M31.99 358.607\n",
        "L478.39 358.607\" style=\"fill:none;stroke:#000000;stroke-linecap:square;stroke-linejoin:miter;\"/>\n",
        "   </g>\n",
        "   <g id=\"patch_6\">\n",
        "    <path d=\"\n",
        "M31.99 358.607\n",
        "L31.99 13.0069\" style=\"fill:none;stroke:#000000;stroke-linecap:square;stroke-linejoin:miter;\"/>\n",
        "   </g>\n",
        "   <g id=\"matplotlib.axis_1\">\n",
        "    <g id=\"xtick_1\">\n",
        "     <g id=\"line2d_3\">\n",
        "      <defs>\n",
        "       <path d=\"\n",
        "M0 0\n",
        "L0 -4\" id=\"m93b0483c22\" style=\"stroke:#000000;stroke-width:0.5;\"/>\n",
        "      </defs>\n",
        "      <g>\n",
        "       <use style=\"stroke:#000000;stroke-width:0.5;\" x=\"31.99\" xlink:href=\"#m93b0483c22\" y=\"358.606875\"/>\n",
        "      </g>\n",
        "     </g>\n",
        "     <g id=\"line2d_4\">\n",
        "      <defs>\n",
        "       <path d=\"\n",
        "M0 0\n",
        "L0 4\" id=\"m741efc42ff\" style=\"stroke:#000000;stroke-width:0.5;\"/>\n",
        "      </defs>\n",
        "      <g>\n",
        "       <use style=\"stroke:#000000;stroke-width:0.5;\" x=\"31.99\" xlink:href=\"#m741efc42ff\" y=\"13.006875\"/>\n",
        "      </g>\n",
        "     </g>\n",
        "     <g id=\"text_1\">\n",
        "      <!-- 0 -->\n",
        "      <defs>\n",
        "       <path d=\"\n",
        "M31.7812 66.4062\n",
        "Q24.1719 66.4062 20.3281 58.9062\n",
        "Q16.5 51.4219 16.5 36.375\n",
        "Q16.5 21.3906 20.3281 13.8906\n",
        "Q24.1719 6.39062 31.7812 6.39062\n",
        "Q39.4531 6.39062 43.2812 13.8906\n",
        "Q47.125 21.3906 47.125 36.375\n",
        "Q47.125 51.4219 43.2812 58.9062\n",
        "Q39.4531 66.4062 31.7812 66.4062\n",
        "M31.7812 74.2188\n",
        "Q44.0469 74.2188 50.5156 64.5156\n",
        "Q56.9844 54.8281 56.9844 36.375\n",
        "Q56.9844 17.9688 50.5156 8.26562\n",
        "Q44.0469 -1.42188 31.7812 -1.42188\n",
        "Q19.5312 -1.42188 13.0625 8.26562\n",
        "Q6.59375 17.9688 6.59375 36.375\n",
        "Q6.59375 54.8281 13.0625 64.5156\n",
        "Q19.5312 74.2188 31.7812 74.2188\" id=\"BitstreamVeraSans-Roman-30\"/>\n",
        "      </defs>\n",
        "      <g transform=\"translate(28.9665625 371.725)scale(0.12 -0.12)\">\n",
        "       <use xlink:href=\"#BitstreamVeraSans-Roman-30\"/>\n",
        "      </g>\n",
        "     </g>\n",
        "    </g>\n",
        "    <g id=\"xtick_2\">\n",
        "     <g id=\"line2d_5\">\n",
        "      <g>\n",
        "       <use style=\"stroke:#000000;stroke-width:0.5;\" x=\"121.27\" xlink:href=\"#m93b0483c22\" y=\"358.606875\"/>\n",
        "      </g>\n",
        "     </g>\n",
        "     <g id=\"line2d_6\">\n",
        "      <g>\n",
        "       <use style=\"stroke:#000000;stroke-width:0.5;\" x=\"121.27\" xlink:href=\"#m741efc42ff\" y=\"13.006875\"/>\n",
        "      </g>\n",
        "     </g>\n",
        "     <g id=\"text_2\">\n",
        "      <!-- 1 -->\n",
        "      <defs>\n",
        "       <path d=\"\n",
        "M12.4062 8.29688\n",
        "L28.5156 8.29688\n",
        "L28.5156 63.9219\n",
        "L10.9844 60.4062\n",
        "L10.9844 69.3906\n",
        "L28.4219 72.9062\n",
        "L38.2812 72.9062\n",
        "L38.2812 8.29688\n",
        "L54.3906 8.29688\n",
        "L54.3906 0\n",
        "L12.4062 0\n",
        "z\n",
        "\" id=\"BitstreamVeraSans-Roman-31\"/>\n",
        "      </defs>\n",
        "      <g transform=\"translate(118.665625 371.725)scale(0.12 -0.12)\">\n",
        "       <use xlink:href=\"#BitstreamVeraSans-Roman-31\"/>\n",
        "      </g>\n",
        "     </g>\n",
        "    </g>\n",
        "    <g id=\"xtick_3\">\n",
        "     <g id=\"line2d_7\">\n",
        "      <g>\n",
        "       <use style=\"stroke:#000000;stroke-width:0.5;\" x=\"210.55\" xlink:href=\"#m93b0483c22\" y=\"358.606875\"/>\n",
        "      </g>\n",
        "     </g>\n",
        "     <g id=\"line2d_8\">\n",
        "      <g>\n",
        "       <use style=\"stroke:#000000;stroke-width:0.5;\" x=\"210.55\" xlink:href=\"#m741efc42ff\" y=\"13.006875\"/>\n",
        "      </g>\n",
        "     </g>\n",
        "     <g id=\"text_3\">\n",
        "      <!-- 2 -->\n",
        "      <defs>\n",
        "       <path d=\"\n",
        "M19.1875 8.29688\n",
        "L53.6094 8.29688\n",
        "L53.6094 0\n",
        "L7.32812 0\n",
        "L7.32812 8.29688\n",
        "Q12.9375 14.1094 22.625 23.8906\n",
        "Q32.3281 33.6875 34.8125 36.5312\n",
        "Q39.5469 41.8438 41.4219 45.5312\n",
        "Q43.3125 49.2188 43.3125 52.7812\n",
        "Q43.3125 58.5938 39.2344 62.25\n",
        "Q35.1562 65.9219 28.6094 65.9219\n",
        "Q23.9688 65.9219 18.8125 64.3125\n",
        "Q13.6719 62.7031 7.8125 59.4219\n",
        "L7.8125 69.3906\n",
        "Q13.7656 71.7812 18.9375 73\n",
        "Q24.125 74.2188 28.4219 74.2188\n",
        "Q39.75 74.2188 46.4844 68.5469\n",
        "Q53.2188 62.8906 53.2188 53.4219\n",
        "Q53.2188 48.9219 51.5312 44.8906\n",
        "Q49.8594 40.875 45.4062 35.4062\n",
        "Q44.1875 33.9844 37.6406 27.2188\n",
        "Q31.1094 20.4531 19.1875 8.29688\" id=\"BitstreamVeraSans-Roman-32\"/>\n",
        "      </defs>\n",
        "      <g transform=\"translate(207.773125 371.725)scale(0.12 -0.12)\">\n",
        "       <use xlink:href=\"#BitstreamVeraSans-Roman-32\"/>\n",
        "      </g>\n",
        "     </g>\n",
        "    </g>\n",
        "    <g id=\"xtick_4\">\n",
        "     <g id=\"line2d_9\">\n",
        "      <g>\n",
        "       <use style=\"stroke:#000000;stroke-width:0.5;\" x=\"299.83\" xlink:href=\"#m93b0483c22\" y=\"358.606875\"/>\n",
        "      </g>\n",
        "     </g>\n",
        "     <g id=\"line2d_10\">\n",
        "      <g>\n",
        "       <use style=\"stroke:#000000;stroke-width:0.5;\" x=\"299.83\" xlink:href=\"#m741efc42ff\" y=\"13.006875\"/>\n",
        "      </g>\n",
        "     </g>\n",
        "     <g id=\"text_4\">\n",
        "      <!-- 3 -->\n",
        "      <defs>\n",
        "       <path d=\"\n",
        "M40.5781 39.3125\n",
        "Q47.6562 37.7969 51.625 33\n",
        "Q55.6094 28.2188 55.6094 21.1875\n",
        "Q55.6094 10.4062 48.1875 4.48438\n",
        "Q40.7656 -1.42188 27.0938 -1.42188\n",
        "Q22.5156 -1.42188 17.6562 -0.515625\n",
        "Q12.7969 0.390625 7.625 2.20312\n",
        "L7.625 11.7188\n",
        "Q11.7188 9.32812 16.5938 8.10938\n",
        "Q21.4844 6.89062 26.8125 6.89062\n",
        "Q36.0781 6.89062 40.9375 10.5469\n",
        "Q45.7969 14.2031 45.7969 21.1875\n",
        "Q45.7969 27.6406 41.2812 31.2656\n",
        "Q36.7656 34.9062 28.7188 34.9062\n",
        "L20.2188 34.9062\n",
        "L20.2188 43.0156\n",
        "L29.1094 43.0156\n",
        "Q36.375 43.0156 40.2344 45.9219\n",
        "Q44.0938 48.8281 44.0938 54.2969\n",
        "Q44.0938 59.9062 40.1094 62.9062\n",
        "Q36.1406 65.9219 28.7188 65.9219\n",
        "Q24.6562 65.9219 20.0156 65.0312\n",
        "Q15.375 64.1562 9.8125 62.3125\n",
        "L9.8125 71.0938\n",
        "Q15.4375 72.6562 20.3438 73.4375\n",
        "Q25.25 74.2188 29.5938 74.2188\n",
        "Q40.8281 74.2188 47.3594 69.1094\n",
        "Q53.9062 64.0156 53.9062 55.3281\n",
        "Q53.9062 49.2656 50.4375 45.0938\n",
        "Q46.9688 40.9219 40.5781 39.3125\" id=\"BitstreamVeraSans-Roman-33\"/>\n",
        "      </defs>\n",
        "      <g transform=\"translate(296.9509375 371.725)scale(0.12 -0.12)\">\n",
        "       <use xlink:href=\"#BitstreamVeraSans-Roman-33\"/>\n",
        "      </g>\n",
        "     </g>\n",
        "    </g>\n",
        "    <g id=\"xtick_5\">\n",
        "     <g id=\"line2d_11\">\n",
        "      <g>\n",
        "       <use style=\"stroke:#000000;stroke-width:0.5;\" x=\"389.11\" xlink:href=\"#m93b0483c22\" y=\"358.606875\"/>\n",
        "      </g>\n",
        "     </g>\n",
        "     <g id=\"line2d_12\">\n",
        "      <g>\n",
        "       <use style=\"stroke:#000000;stroke-width:0.5;\" x=\"389.11\" xlink:href=\"#m741efc42ff\" y=\"13.006875\"/>\n",
        "      </g>\n",
        "     </g>\n",
        "     <g id=\"text_5\">\n",
        "      <!-- 4 -->\n",
        "      <defs>\n",
        "       <path d=\"\n",
        "M37.7969 64.3125\n",
        "L12.8906 25.3906\n",
        "L37.7969 25.3906\n",
        "z\n",
        "\n",
        "M35.2031 72.9062\n",
        "L47.6094 72.9062\n",
        "L47.6094 25.3906\n",
        "L58.0156 25.3906\n",
        "L58.0156 17.1875\n",
        "L47.6094 17.1875\n",
        "L47.6094 0\n",
        "L37.7969 0\n",
        "L37.7969 17.1875\n",
        "L4.89062 17.1875\n",
        "L4.89062 26.7031\n",
        "z\n",
        "\" id=\"BitstreamVeraSans-Roman-34\"/>\n",
        "      </defs>\n",
        "      <g transform=\"translate(385.9225 371.725)scale(0.12 -0.12)\">\n",
        "       <use xlink:href=\"#BitstreamVeraSans-Roman-34\"/>\n",
        "      </g>\n",
        "     </g>\n",
        "    </g>\n",
        "    <g id=\"xtick_6\">\n",
        "     <g id=\"line2d_13\">\n",
        "      <g>\n",
        "       <use style=\"stroke:#000000;stroke-width:0.5;\" x=\"478.39\" xlink:href=\"#m93b0483c22\" y=\"358.606875\"/>\n",
        "      </g>\n",
        "     </g>\n",
        "     <g id=\"line2d_14\">\n",
        "      <g>\n",
        "       <use style=\"stroke:#000000;stroke-width:0.5;\" x=\"478.39\" xlink:href=\"#m741efc42ff\" y=\"13.006875\"/>\n",
        "      </g>\n",
        "     </g>\n",
        "     <g id=\"text_6\">\n",
        "      <!-- 5 -->\n",
        "      <defs>\n",
        "       <path d=\"\n",
        "M10.7969 72.9062\n",
        "L49.5156 72.9062\n",
        "L49.5156 64.5938\n",
        "L19.8281 64.5938\n",
        "L19.8281 46.7344\n",
        "Q21.9688 47.4688 24.1094 47.8281\n",
        "Q26.2656 48.1875 28.4219 48.1875\n",
        "Q40.625 48.1875 47.75 41.5\n",
        "Q54.8906 34.8125 54.8906 23.3906\n",
        "Q54.8906 11.625 47.5625 5.09375\n",
        "Q40.2344 -1.42188 26.9062 -1.42188\n",
        "Q22.3125 -1.42188 17.5469 -0.640625\n",
        "Q12.7969 0.140625 7.71875 1.70312\n",
        "L7.71875 11.625\n",
        "Q12.1094 9.23438 16.7969 8.0625\n",
        "Q21.4844 6.89062 26.7031 6.89062\n",
        "Q35.1562 6.89062 40.0781 11.3281\n",
        "Q45.0156 15.7656 45.0156 23.3906\n",
        "Q45.0156 31 40.0781 35.4375\n",
        "Q35.1562 39.8906 26.7031 39.8906\n",
        "Q22.75 39.8906 18.8125 39.0156\n",
        "Q14.8906 38.1406 10.7969 36.2812\n",
        "z\n",
        "\" id=\"BitstreamVeraSans-Roman-35\"/>\n",
        "      </defs>\n",
        "      <g transform=\"translate(475.5596875 371.725)scale(0.12 -0.12)\">\n",
        "       <use xlink:href=\"#BitstreamVeraSans-Roman-35\"/>\n",
        "      </g>\n",
        "     </g>\n",
        "    </g>\n",
        "   </g>\n",
        "   <g id=\"matplotlib.axis_2\">\n",
        "    <g id=\"ytick_1\">\n",
        "     <g id=\"line2d_15\">\n",
        "      <defs>\n",
        "       <path d=\"\n",
        "M0 0\n",
        "L4 0\" id=\"m728421d6d4\" style=\"stroke:#000000;stroke-width:0.5;\"/>\n",
        "      </defs>\n",
        "      <g>\n",
        "       <use style=\"stroke:#000000;stroke-width:0.5;\" x=\"31.99\" xlink:href=\"#m728421d6d4\" y=\"358.606875\"/>\n",
        "      </g>\n",
        "     </g>\n",
        "     <g id=\"line2d_16\">\n",
        "      <defs>\n",
        "       <path d=\"\n",
        "M0 0\n",
        "L-4 0\" id=\"mcb0005524f\" style=\"stroke:#000000;stroke-width:0.5;\"/>\n",
        "      </defs>\n",
        "      <g>\n",
        "       <use style=\"stroke:#000000;stroke-width:0.5;\" x=\"478.39\" xlink:href=\"#mcb0005524f\" y=\"358.606875\"/>\n",
        "      </g>\n",
        "     </g>\n",
        "     <g id=\"text_7\">\n",
        "      <!-- 0 -->\n",
        "      <g transform=\"translate(21.943125 361.918125)scale(0.12 -0.12)\">\n",
        "       <use xlink:href=\"#BitstreamVeraSans-Roman-30\"/>\n",
        "      </g>\n",
        "     </g>\n",
        "    </g>\n",
        "    <g id=\"ytick_2\">\n",
        "     <g id=\"line2d_17\">\n",
        "      <g>\n",
        "       <use style=\"stroke:#000000;stroke-width:0.5;\" x=\"31.99\" xlink:href=\"#m728421d6d4\" y=\"315.406875\"/>\n",
        "      </g>\n",
        "     </g>\n",
        "     <g id=\"line2d_18\">\n",
        "      <g>\n",
        "       <use style=\"stroke:#000000;stroke-width:0.5;\" x=\"478.39\" xlink:href=\"#mcb0005524f\" y=\"315.406875\"/>\n",
        "      </g>\n",
        "     </g>\n",
        "     <g id=\"text_8\">\n",
        "      <!-- 20 -->\n",
        "      <g transform=\"translate(14.39625 318.718125)scale(0.12 -0.12)\">\n",
        "       <use xlink:href=\"#BitstreamVeraSans-Roman-32\"/>\n",
        "       <use x=\"63.623046875\" xlink:href=\"#BitstreamVeraSans-Roman-30\"/>\n",
        "      </g>\n",
        "     </g>\n",
        "    </g>\n",
        "    <g id=\"ytick_3\">\n",
        "     <g id=\"line2d_19\">\n",
        "      <g>\n",
        "       <use style=\"stroke:#000000;stroke-width:0.5;\" x=\"31.99\" xlink:href=\"#m728421d6d4\" y=\"272.206875\"/>\n",
        "      </g>\n",
        "     </g>\n",
        "     <g id=\"line2d_20\">\n",
        "      <g>\n",
        "       <use style=\"stroke:#000000;stroke-width:0.5;\" x=\"478.39\" xlink:href=\"#mcb0005524f\" y=\"272.206875\"/>\n",
        "      </g>\n",
        "     </g>\n",
        "     <g id=\"text_9\">\n",
        "      <!-- 40 -->\n",
        "      <g transform=\"translate(14.10375 275.518125)scale(0.12 -0.12)\">\n",
        "       <use xlink:href=\"#BitstreamVeraSans-Roman-34\"/>\n",
        "       <use x=\"63.623046875\" xlink:href=\"#BitstreamVeraSans-Roman-30\"/>\n",
        "      </g>\n",
        "     </g>\n",
        "    </g>\n",
        "    <g id=\"ytick_4\">\n",
        "     <g id=\"line2d_21\">\n",
        "      <g>\n",
        "       <use style=\"stroke:#000000;stroke-width:0.5;\" x=\"31.99\" xlink:href=\"#m728421d6d4\" y=\"229.006875\"/>\n",
        "      </g>\n",
        "     </g>\n",
        "     <g id=\"line2d_22\">\n",
        "      <g>\n",
        "       <use style=\"stroke:#000000;stroke-width:0.5;\" x=\"478.39\" xlink:href=\"#mcb0005524f\" y=\"229.006875\"/>\n",
        "      </g>\n",
        "     </g>\n",
        "     <g id=\"text_10\">\n",
        "      <!-- 60 -->\n",
        "      <defs>\n",
        "       <path d=\"\n",
        "M33.0156 40.375\n",
        "Q26.375 40.375 22.4844 35.8281\n",
        "Q18.6094 31.2969 18.6094 23.3906\n",
        "Q18.6094 15.5312 22.4844 10.9531\n",
        "Q26.375 6.39062 33.0156 6.39062\n",
        "Q39.6562 6.39062 43.5312 10.9531\n",
        "Q47.4062 15.5312 47.4062 23.3906\n",
        "Q47.4062 31.2969 43.5312 35.8281\n",
        "Q39.6562 40.375 33.0156 40.375\n",
        "M52.5938 71.2969\n",
        "L52.5938 62.3125\n",
        "Q48.875 64.0625 45.0938 64.9844\n",
        "Q41.3125 65.9219 37.5938 65.9219\n",
        "Q27.8281 65.9219 22.6719 59.3281\n",
        "Q17.5312 52.7344 16.7969 39.4062\n",
        "Q19.6719 43.6562 24.0156 45.9219\n",
        "Q28.375 48.1875 33.5938 48.1875\n",
        "Q44.5781 48.1875 50.9531 41.5156\n",
        "Q57.3281 34.8594 57.3281 23.3906\n",
        "Q57.3281 12.1562 50.6875 5.35938\n",
        "Q44.0469 -1.42188 33.0156 -1.42188\n",
        "Q20.3594 -1.42188 13.6719 8.26562\n",
        "Q6.98438 17.9688 6.98438 36.375\n",
        "Q6.98438 53.6562 15.1875 63.9375\n",
        "Q23.3906 74.2188 37.2031 74.2188\n",
        "Q40.9219 74.2188 44.7031 73.4844\n",
        "Q48.4844 72.75 52.5938 71.2969\" id=\"BitstreamVeraSans-Roman-36\"/>\n",
        "      </defs>\n",
        "      <g transform=\"translate(14.355 232.318125)scale(0.12 -0.12)\">\n",
        "       <use xlink:href=\"#BitstreamVeraSans-Roman-36\"/>\n",
        "       <use x=\"63.623046875\" xlink:href=\"#BitstreamVeraSans-Roman-30\"/>\n",
        "      </g>\n",
        "     </g>\n",
        "    </g>\n",
        "    <g id=\"ytick_5\">\n",
        "     <g id=\"line2d_23\">\n",
        "      <g>\n",
        "       <use style=\"stroke:#000000;stroke-width:0.5;\" x=\"31.99\" xlink:href=\"#m728421d6d4\" y=\"185.806875\"/>\n",
        "      </g>\n",
        "     </g>\n",
        "     <g id=\"line2d_24\">\n",
        "      <g>\n",
        "       <use style=\"stroke:#000000;stroke-width:0.5;\" x=\"478.39\" xlink:href=\"#mcb0005524f\" y=\"185.806875\"/>\n",
        "      </g>\n",
        "     </g>\n",
        "     <g id=\"text_11\">\n",
        "      <!-- 80 -->\n",
        "      <defs>\n",
        "       <path d=\"\n",
        "M31.7812 34.625\n",
        "Q24.75 34.625 20.7188 30.8594\n",
        "Q16.7031 27.0938 16.7031 20.5156\n",
        "Q16.7031 13.9219 20.7188 10.1562\n",
        "Q24.75 6.39062 31.7812 6.39062\n",
        "Q38.8125 6.39062 42.8594 10.1719\n",
        "Q46.9219 13.9688 46.9219 20.5156\n",
        "Q46.9219 27.0938 42.8906 30.8594\n",
        "Q38.875 34.625 31.7812 34.625\n",
        "M21.9219 38.8125\n",
        "Q15.5781 40.375 12.0312 44.7188\n",
        "Q8.5 49.0781 8.5 55.3281\n",
        "Q8.5 64.0625 14.7188 69.1406\n",
        "Q20.9531 74.2188 31.7812 74.2188\n",
        "Q42.6719 74.2188 48.875 69.1406\n",
        "Q55.0781 64.0625 55.0781 55.3281\n",
        "Q55.0781 49.0781 51.5312 44.7188\n",
        "Q48 40.375 41.7031 38.8125\n",
        "Q48.8281 37.1562 52.7969 32.3125\n",
        "Q56.7812 27.4844 56.7812 20.5156\n",
        "Q56.7812 9.90625 50.3125 4.23438\n",
        "Q43.8438 -1.42188 31.7812 -1.42188\n",
        "Q19.7344 -1.42188 13.25 4.23438\n",
        "Q6.78125 9.90625 6.78125 20.5156\n",
        "Q6.78125 27.4844 10.7812 32.3125\n",
        "Q14.7969 37.1562 21.9219 38.8125\n",
        "M18.3125 54.3906\n",
        "Q18.3125 48.7344 21.8438 45.5625\n",
        "Q25.3906 42.3906 31.7812 42.3906\n",
        "Q38.1406 42.3906 41.7188 45.5625\n",
        "Q45.3125 48.7344 45.3125 54.3906\n",
        "Q45.3125 60.0625 41.7188 63.2344\n",
        "Q38.1406 66.4062 31.7812 66.4062\n",
        "Q25.3906 66.4062 21.8438 63.2344\n",
        "Q18.3125 60.0625 18.3125 54.3906\" id=\"BitstreamVeraSans-Roman-38\"/>\n",
        "      </defs>\n",
        "      <g transform=\"translate(14.330625 189.118125)scale(0.12 -0.12)\">\n",
        "       <use xlink:href=\"#BitstreamVeraSans-Roman-38\"/>\n",
        "       <use x=\"63.623046875\" xlink:href=\"#BitstreamVeraSans-Roman-30\"/>\n",
        "      </g>\n",
        "     </g>\n",
        "    </g>\n",
        "    <g id=\"ytick_6\">\n",
        "     <g id=\"line2d_25\">\n",
        "      <g>\n",
        "       <use style=\"stroke:#000000;stroke-width:0.5;\" x=\"31.99\" xlink:href=\"#m728421d6d4\" y=\"142.606875\"/>\n",
        "      </g>\n",
        "     </g>\n",
        "     <g id=\"line2d_26\">\n",
        "      <g>\n",
        "       <use style=\"stroke:#000000;stroke-width:0.5;\" x=\"478.39\" xlink:href=\"#mcb0005524f\" y=\"142.606875\"/>\n",
        "      </g>\n",
        "     </g>\n",
        "     <g id=\"text_12\">\n",
        "      <!-- 100 -->\n",
        "      <g transform=\"translate(7.2 145.918125)scale(0.12 -0.12)\">\n",
        "       <use xlink:href=\"#BitstreamVeraSans-Roman-31\"/>\n",
        "       <use x=\"63.623046875\" xlink:href=\"#BitstreamVeraSans-Roman-30\"/>\n",
        "       <use x=\"127.24609375\" xlink:href=\"#BitstreamVeraSans-Roman-30\"/>\n",
        "      </g>\n",
        "     </g>\n",
        "    </g>\n",
        "    <g id=\"ytick_7\">\n",
        "     <g id=\"line2d_27\">\n",
        "      <g>\n",
        "       <use style=\"stroke:#000000;stroke-width:0.5;\" x=\"31.99\" xlink:href=\"#m728421d6d4\" y=\"99.406875\"/>\n",
        "      </g>\n",
        "     </g>\n",
        "     <g id=\"line2d_28\">\n",
        "      <g>\n",
        "       <use style=\"stroke:#000000;stroke-width:0.5;\" x=\"478.39\" xlink:href=\"#mcb0005524f\" y=\"99.406875\"/>\n",
        "      </g>\n",
        "     </g>\n",
        "     <g id=\"text_13\">\n",
        "      <!-- 120 -->\n",
        "      <g transform=\"translate(7.2 102.718125)scale(0.12 -0.12)\">\n",
        "       <use xlink:href=\"#BitstreamVeraSans-Roman-31\"/>\n",
        "       <use x=\"63.623046875\" xlink:href=\"#BitstreamVeraSans-Roman-32\"/>\n",
        "       <use x=\"127.24609375\" xlink:href=\"#BitstreamVeraSans-Roman-30\"/>\n",
        "      </g>\n",
        "     </g>\n",
        "    </g>\n",
        "    <g id=\"ytick_8\">\n",
        "     <g id=\"line2d_29\">\n",
        "      <g>\n",
        "       <use style=\"stroke:#000000;stroke-width:0.5;\" x=\"31.99\" xlink:href=\"#m728421d6d4\" y=\"56.206875\"/>\n",
        "      </g>\n",
        "     </g>\n",
        "     <g id=\"line2d_30\">\n",
        "      <g>\n",
        "       <use style=\"stroke:#000000;stroke-width:0.5;\" x=\"478.39\" xlink:href=\"#mcb0005524f\" y=\"56.206875\"/>\n",
        "      </g>\n",
        "     </g>\n",
        "     <g id=\"text_14\">\n",
        "      <!-- 140 -->\n",
        "      <g transform=\"translate(7.2 59.518125)scale(0.12 -0.12)\">\n",
        "       <use xlink:href=\"#BitstreamVeraSans-Roman-31\"/>\n",
        "       <use x=\"63.623046875\" xlink:href=\"#BitstreamVeraSans-Roman-34\"/>\n",
        "       <use x=\"127.24609375\" xlink:href=\"#BitstreamVeraSans-Roman-30\"/>\n",
        "      </g>\n",
        "     </g>\n",
        "    </g>\n",
        "    <g id=\"ytick_9\">\n",
        "     <g id=\"line2d_31\">\n",
        "      <g>\n",
        "       <use style=\"stroke:#000000;stroke-width:0.5;\" x=\"31.99\" xlink:href=\"#m728421d6d4\" y=\"13.006875\"/>\n",
        "      </g>\n",
        "     </g>\n",
        "     <g id=\"line2d_32\">\n",
        "      <g>\n",
        "       <use style=\"stroke:#000000;stroke-width:0.5;\" x=\"478.39\" xlink:href=\"#mcb0005524f\" y=\"13.006875\"/>\n",
        "      </g>\n",
        "     </g>\n",
        "     <g id=\"text_15\">\n",
        "      <!-- 160 -->\n",
        "      <g transform=\"translate(7.2 16.318125)scale(0.12 -0.12)\">\n",
        "       <use xlink:href=\"#BitstreamVeraSans-Roman-31\"/>\n",
        "       <use x=\"63.623046875\" xlink:href=\"#BitstreamVeraSans-Roman-36\"/>\n",
        "       <use x=\"127.24609375\" xlink:href=\"#BitstreamVeraSans-Roman-30\"/>\n",
        "      </g>\n",
        "     </g>\n",
        "    </g>\n",
        "   </g>\n",
        "   <g id=\"legend_1\">\n",
        "    <g id=\"patch_7\">\n",
        "     <path d=\"\n",
        "M260.806 70.0286\n",
        "L471.19 70.0286\n",
        "L471.19 20.2069\n",
        "L260.806 20.2069\n",
        "z\n",
        "\" style=\"fill:#ffffff;stroke:#000000;stroke-linejoin:miter;\"/>\n",
        "    </g>\n",
        "    <g id=\"line2d_33\">\n",
        "     <path d=\"\n",
        "M270.886 33.8869\n",
        "L291.046 33.8869\" style=\"fill:none;stroke:#0000ff;stroke-linecap:square;\"/>\n",
        "    </g>\n",
        "    <g id=\"line2d_34\"/>\n",
        "    <g id=\"text_16\">\n",
        "     <!-- Taylor $\\mathcal{O}(x^5)$ de $\\exp(x)$ -->\n",
        "     <defs>\n",
        "      <path d=\"\n",
        "M24.9062 -1.125\n",
        "Q18.7969 -1.125 13.6875 2.07812\n",
        "Q8.59375 5.28125 5.6875 10.625\n",
        "Q2.78125 15.9688 2.78125 21.9219\n",
        "Q2.78125 27.7812 5.4375 33.0469\n",
        "Q8.10938 38.3281 12.8594 41.5781\n",
        "Q17.625 44.8281 23.4844 44.8281\n",
        "Q28.0781 44.8281 31.4688 43.2812\n",
        "Q34.8594 41.75 37.0625 39.0156\n",
        "Q39.2656 36.2812 40.375 32.5625\n",
        "Q41.5 28.8594 41.5 24.4219\n",
        "Q41.5 23.0938 40.4844 23.0938\n",
        "L11.5312 23.0938\n",
        "L11.5312 22.0156\n",
        "Q11.5312 13.7188 14.875 7.76562\n",
        "Q18.2188 1.8125 25.7812 1.8125\n",
        "Q28.8594 1.8125 31.4688 3.17188\n",
        "Q34.0781 4.54688 36 6.98438\n",
        "Q37.9375 9.42188 38.625 12.2031\n",
        "Q38.7188 12.5469 38.9844 12.8125\n",
        "Q39.2656 13.0938 39.5938 13.0938\n",
        "L40.4844 13.0938\n",
        "Q41.5 13.0938 41.5 11.8125\n",
        "Q40.0938 6.15625 35.4062 2.51562\n",
        "Q30.7188 -1.125 24.9062 -1.125\n",
        "M11.625 25.5938\n",
        "L34.4219 25.5938\n",
        "Q34.4219 29.3438 33.375 33.2031\n",
        "Q32.3281 37.0625 29.875 39.625\n",
        "Q27.4375 42.1875 23.4844 42.1875\n",
        "Q17.8281 42.1875 14.7188 36.8906\n",
        "Q11.625 31.5938 11.625 25.5938\" id=\"Cmr10-65\"/>\n",
        "      <path id=\"BitstreamVeraSans-Roman-20\"/>\n",
        "      <path d=\"\n",
        "M8.6875 11.375\n",
        "Q9.71875 8.45312 11.8438 6.04688\n",
        "Q13.9688 3.65625 16.875 2.3125\n",
        "Q19.7812 0.984375 22.9062 0.984375\n",
        "Q30.125 0.984375 32.8594 6.59375\n",
        "Q35.5938 12.2031 35.5938 20.2188\n",
        "Q35.5938 23.6875 35.4688 26.0469\n",
        "Q35.3594 28.4219 34.8125 30.6094\n",
        "Q33.8906 34.125 31.5625 36.7656\n",
        "Q29.25 39.4062 25.875 39.4062\n",
        "Q22.5156 39.4062 20.0938 38.375\n",
        "Q17.6719 37.3594 16.1562 35.9844\n",
        "Q14.6562 34.625 13.4844 33.1094\n",
        "Q12.3125 31.5938 12.0156 31.5\n",
        "L10.8906 31.5\n",
        "Q10.6406 31.5 10.2656 31.8125\n",
        "Q9.90625 32.125 9.90625 32.4219\n",
        "L9.90625 65.8281\n",
        "Q9.90625 66.0625 10.2188 66.3281\n",
        "Q10.5469 66.6094 10.8906 66.6094\n",
        "L11.1875 66.6094\n",
        "Q17.9219 63.375 25.4844 63.375\n",
        "Q32.9062 63.375 39.7969 66.6094\n",
        "L40.0938 66.6094\n",
        "Q40.4375 66.6094 40.7188 66.3594\n",
        "Q41.0156 66.1094 41.0156 65.8281\n",
        "L41.0156 64.8906\n",
        "Q41.0156 64.4062 40.8281 64.4062\n",
        "Q37.4062 59.8594 32.25 57.3125\n",
        "Q27.0938 54.7812 21.5781 54.7812\n",
        "Q17.5781 54.7812 13.375 55.9062\n",
        "L13.375 37.0156\n",
        "Q16.7031 39.7031 19.3125 40.8438\n",
        "Q21.9219 42 25.9844 42\n",
        "Q31.5 42 35.8594 38.8125\n",
        "Q40.2344 35.6406 42.5781 30.5312\n",
        "Q44.9219 25.4375 44.9219 20.125\n",
        "Q44.9219 14.1094 41.9688 8.98438\n",
        "Q39.0156 3.85938 33.9375 0.828125\n",
        "Q28.8594 -2.20312 22.9062 -2.20312\n",
        "Q17.9688 -2.20312 13.8438 0.328125\n",
        "Q9.71875 2.875 7.34375 7.17188\n",
        "Q4.98438 11.4688 4.98438 16.3125\n",
        "Q4.98438 18.5625 6.4375 19.9688\n",
        "Q7.90625 21.3906 10.1094 21.3906\n",
        "Q12.3125 21.3906 13.7969 19.9375\n",
        "Q15.2812 18.5 15.2812 16.3125\n",
        "Q15.2812 14.1562 13.7969 12.6719\n",
        "Q12.3125 11.1875 10.1094 11.1875\n",
        "Q9.76562 11.1875 9.32812 11.25\n",
        "Q8.89062 11.3281 8.6875 11.375\" id=\"Cmr10-35\"/>\n",
        "      <path d=\"\n",
        "M31 -24.8125\n",
        "Q25.4375 -20.4062 21.4062 -14.7188\n",
        "Q17.3906 -9.03125 14.8125 -2.57812\n",
        "Q12.25 3.85938 10.9844 10.8906\n",
        "Q9.71875 17.9219 9.71875 25\n",
        "Q9.71875 32.1719 10.9844 39.2031\n",
        "Q12.25 46.2344 14.8594 52.7344\n",
        "Q17.4844 59.2344 21.5312 64.8906\n",
        "Q25.5938 70.5625 31 74.8125\n",
        "Q31 75 31.5 75\n",
        "L32.4219 75\n",
        "Q32.7188 75 32.9531 74.7344\n",
        "Q33.2031 74.4688 33.2031 74.125\n",
        "Q33.2031 73.6875 33.0156 73.4844\n",
        "Q28.125 68.7031 24.875 63.2344\n",
        "Q21.625 57.7656 19.6406 51.5781\n",
        "Q17.6719 45.4062 16.7969 38.7812\n",
        "Q15.9219 32.1719 15.9219 25\n",
        "Q15.9219 -6.78125 32.9062 -23.2969\n",
        "Q33.2031 -23.5781 33.2031 -24.125\n",
        "Q33.2031 -24.3594 32.9375 -24.6719\n",
        "Q32.6719 -25 32.4219 -25\n",
        "L31.5 -25\n",
        "Q31 -25 31 -24.8125\" id=\"Cmr10-28\"/>\n",
        "      <path d=\"\n",
        "M34.2812 27.4844\n",
        "Q23.3906 27.4844 19.1875 25\n",
        "Q14.9844 22.5156 14.9844 16.5\n",
        "Q14.9844 11.7188 18.1406 8.90625\n",
        "Q21.2969 6.10938 26.7031 6.10938\n",
        "Q34.1875 6.10938 38.7031 11.4062\n",
        "Q43.2188 16.7031 43.2188 25.4844\n",
        "L43.2188 27.4844\n",
        "z\n",
        "\n",
        "M52.2031 31.2031\n",
        "L52.2031 0\n",
        "L43.2188 0\n",
        "L43.2188 8.29688\n",
        "Q40.1406 3.32812 35.5469 0.953125\n",
        "Q30.9531 -1.42188 24.3125 -1.42188\n",
        "Q15.9219 -1.42188 10.9531 3.29688\n",
        "Q6 8.01562 6 15.9219\n",
        "Q6 25.1406 12.1719 29.8281\n",
        "Q18.3594 34.5156 30.6094 34.5156\n",
        "L43.2188 34.5156\n",
        "L43.2188 35.4062\n",
        "Q43.2188 41.6094 39.1406 45\n",
        "Q35.0625 48.3906 27.6875 48.3906\n",
        "Q23 48.3906 18.5469 47.2656\n",
        "Q14.1094 46.1406 10.0156 43.8906\n",
        "L10.0156 52.2031\n",
        "Q14.9375 54.1094 19.5781 55.0469\n",
        "Q24.2188 56 28.6094 56\n",
        "Q40.4844 56 46.3438 49.8438\n",
        "Q52.2031 43.7031 52.2031 31.2031\" id=\"BitstreamVeraSans-Roman-61\"/>\n",
        "      <path d=\"\n",
        "M30.6094 48.3906\n",
        "Q23.3906 48.3906 19.1875 42.75\n",
        "Q14.9844 37.1094 14.9844 27.2969\n",
        "Q14.9844 17.4844 19.1562 11.8438\n",
        "Q23.3438 6.20312 30.6094 6.20312\n",
        "Q37.7969 6.20312 41.9844 11.8594\n",
        "Q46.1875 17.5312 46.1875 27.2969\n",
        "Q46.1875 37.0156 41.9844 42.7031\n",
        "Q37.7969 48.3906 30.6094 48.3906\n",
        "M30.6094 56\n",
        "Q42.3281 56 49.0156 48.375\n",
        "Q55.7188 40.7656 55.7188 27.2969\n",
        "Q55.7188 13.875 49.0156 6.21875\n",
        "Q42.3281 -1.42188 30.6094 -1.42188\n",
        "Q18.8438 -1.42188 12.1719 6.21875\n",
        "Q5.51562 13.875 5.51562 27.2969\n",
        "Q5.51562 40.7656 12.1719 48.375\n",
        "Q18.8438 56 30.6094 56\" id=\"BitstreamVeraSans-Roman-6f\"/>\n",
        "      <path d=\"\n",
        "M9.42188 75.9844\n",
        "L18.4062 75.9844\n",
        "L18.4062 0\n",
        "L9.42188 0\n",
        "z\n",
        "\" id=\"BitstreamVeraSans-Roman-6c\"/>\n",
        "      <path d=\"\n",
        "M1.21875 0\n",
        "L1.21875 3.51562\n",
        "Q5.03125 3.51562 8.39062 5\n",
        "Q11.7656 6.5 14.1094 9.42188\n",
        "L23.1875 21\n",
        "L11.375 36.375\n",
        "Q9.625 38.5781 7.54688 39.0781\n",
        "Q5.46875 39.5938 1.70312 39.5938\n",
        "L1.70312 43.1094\n",
        "L22.5156 43.1094\n",
        "L22.5156 39.5938\n",
        "Q21.1875 39.5938 20.0312 39\n",
        "Q18.8906 38.4219 18.8906 37.3125\n",
        "Q18.8906 36.9219 19.1875 36.375\n",
        "L27.2031 25.9844\n",
        "L33.2031 33.6875\n",
        "Q34.4219 35.1562 34.4219 36.625\n",
        "Q34.4219 37.8438 33.6094 38.7188\n",
        "Q32.8125 39.5938 31.5 39.5938\n",
        "L31.5 43.1094\n",
        "L49.9062 43.1094\n",
        "L49.9062 39.5938\n",
        "Q46.0469 39.5938 42.6562 38.1094\n",
        "Q39.2656 36.625 36.9219 33.6875\n",
        "L29 23.5781\n",
        "L41.7969 6.6875\n",
        "Q43.7031 4.5 45.75 4\n",
        "Q47.7969 3.51562 51.6094 3.51562\n",
        "L51.6094 0\n",
        "L30.8125 0\n",
        "L30.8125 3.51562\n",
        "Q32.0312 3.51562 33.1562 4.09375\n",
        "Q34.2812 4.6875 34.2812 5.8125\n",
        "Q34.2812 6.25 33.9844 6.6875\n",
        "L25 18.6094\n",
        "L17.8281 9.42188\n",
        "Q16.7031 8.15625 16.7031 6.5\n",
        "Q16.7031 5.28125 17.5312 4.39062\n",
        "Q18.3594 3.51562 19.4844 3.51562\n",
        "L19.4844 0\n",
        "z\n",
        "\" id=\"Cmr10-78\"/>\n",
        "      <path d=\"\n",
        "M-0.296875 72.9062\n",
        "L61.375 72.9062\n",
        "L61.375 64.5938\n",
        "L35.5 64.5938\n",
        "L35.5 0\n",
        "L25.5938 0\n",
        "L25.5938 64.5938\n",
        "L-0.296875 64.5938\n",
        "z\n",
        "\" id=\"BitstreamVeraSans-Roman-54\"/>\n",
        "      <path d=\"\n",
        "M6.5 -25\n",
        "Q5.60938 -25 5.60938 -24.125\n",
        "Q5.60938 -23.6875 5.8125 -23.4844\n",
        "Q22.9062 -6.78125 22.9062 25\n",
        "Q22.9062 56.7812 6 73.2969\n",
        "Q5.60938 73.5312 5.60938 74.125\n",
        "Q5.60938 74.4688 5.875 74.7344\n",
        "Q6.15625 75 6.5 75\n",
        "L7.42188 75\n",
        "Q7.71875 75 7.90625 74.8125\n",
        "Q15.0938 69.1406 19.875 61.0312\n",
        "Q24.6562 52.9375 26.875 43.75\n",
        "Q29.1094 34.5781 29.1094 25\n",
        "Q29.1094 17.9219 27.9062 11.0625\n",
        "Q26.7031 4.20312 24.0938 -2.45312\n",
        "Q21.4844 -9.125 17.4844 -14.7656\n",
        "Q13.4844 -20.4062 7.90625 -24.8125\n",
        "Q7.71875 -25 7.42188 -25\n",
        "z\n",
        "\" id=\"Cmr10-29\"/>\n",
        "      <path d=\"\n",
        "M32.1719 -5.07812\n",
        "Q28.375 -14.8438 24.75 -17.8125\n",
        "Q21.1406 -20.7969 15.0938 -20.7969\n",
        "L7.90625 -20.7969\n",
        "L7.90625 -13.2812\n",
        "L13.1875 -13.2812\n",
        "Q16.8906 -13.2812 18.9375 -11.5156\n",
        "Q21 -9.76562 23.4844 -3.21875\n",
        "L25.0938 0.875\n",
        "L2.98438 54.6875\n",
        "L12.5 54.6875\n",
        "L29.5938 11.9219\n",
        "L46.6875 54.6875\n",
        "L56.2031 54.6875\n",
        "z\n",
        "\" id=\"BitstreamVeraSans-Roman-79\"/>\n",
        "      <path d=\"\n",
        "M56.2031 29.5938\n",
        "L56.2031 25.2031\n",
        "L14.8906 25.2031\n",
        "Q15.4844 15.9219 20.4844 11.0625\n",
        "Q25.4844 6.20312 34.4219 6.20312\n",
        "Q39.5938 6.20312 44.4531 7.46875\n",
        "Q49.3125 8.73438 54.1094 11.2812\n",
        "L54.1094 2.78125\n",
        "Q49.2656 0.734375 44.1875 -0.34375\n",
        "Q39.1094 -1.42188 33.8906 -1.42188\n",
        "Q20.7969 -1.42188 13.1562 6.1875\n",
        "Q5.51562 13.8125 5.51562 26.8125\n",
        "Q5.51562 40.2344 12.7656 48.1094\n",
        "Q20.0156 56 32.3281 56\n",
        "Q43.3594 56 49.7812 48.8906\n",
        "Q56.2031 41.7969 56.2031 29.5938\n",
        "M47.2188 32.2344\n",
        "Q47.125 39.5938 43.0938 43.9844\n",
        "Q39.0625 48.3906 32.4219 48.3906\n",
        "Q24.9062 48.3906 20.3906 44.1406\n",
        "Q15.875 39.8906 15.1875 32.1719\n",
        "z\n",
        "\" id=\"BitstreamVeraSans-Roman-65\"/>\n",
        "      <path d=\"\n",
        "M45.4062 46.3906\n",
        "L45.4062 75.9844\n",
        "L54.3906 75.9844\n",
        "L54.3906 0\n",
        "L45.4062 0\n",
        "L45.4062 8.20312\n",
        "Q42.5781 3.32812 38.25 0.953125\n",
        "Q33.9375 -1.42188 27.875 -1.42188\n",
        "Q17.9688 -1.42188 11.7344 6.48438\n",
        "Q5.51562 14.4062 5.51562 27.2969\n",
        "Q5.51562 40.1875 11.7344 48.0938\n",
        "Q17.9688 56 27.875 56\n",
        "Q33.9375 56 38.25 53.625\n",
        "Q42.5781 51.2656 45.4062 46.3906\n",
        "M14.7969 27.2969\n",
        "Q14.7969 17.3906 18.875 11.75\n",
        "Q22.9531 6.10938 30.0781 6.10938\n",
        "Q37.2031 6.10938 41.2969 11.75\n",
        "Q45.4062 17.3906 45.4062 27.2969\n",
        "Q45.4062 37.2031 41.2969 42.8438\n",
        "Q37.2031 48.4844 30.0781 48.4844\n",
        "Q22.9531 48.4844 18.875 42.8438\n",
        "Q14.7969 37.2031 14.7969 27.2969\" id=\"BitstreamVeraSans-Roman-64\"/>\n",
        "      <path d=\"\n",
        "M7.8125 2.875\n",
        "Q9.57812 1.51562 12.7969 1.51562\n",
        "Q15.9219 1.51562 18.3125 4.51562\n",
        "Q20.7031 7.51562 21.5781 11.0781\n",
        "L26.125 28.8125\n",
        "Q27.2031 33.6406 27.2031 35.4062\n",
        "Q27.2031 37.8906 25.8125 39.75\n",
        "Q24.4219 41.6094 21.9219 41.6094\n",
        "Q18.75 41.6094 15.9688 39.625\n",
        "Q13.1875 37.6406 11.2812 34.5938\n",
        "Q9.375 31.5469 8.59375 28.4219\n",
        "Q8.40625 27.7812 7.8125 27.7812\n",
        "L6.59375 27.7812\n",
        "Q5.8125 27.7812 5.8125 28.7188\n",
        "L5.8125 29\n",
        "Q6.78125 32.7188 9.125 36.25\n",
        "Q11.4688 39.7969 14.8594 41.9844\n",
        "Q18.2656 44.1875 22.125 44.1875\n",
        "Q25.7812 44.1875 28.7344 42.2344\n",
        "Q31.6875 40.2812 32.9062 36.9219\n",
        "Q34.625 39.9844 37.2812 42.0781\n",
        "Q39.9375 44.1875 43.1094 44.1875\n",
        "Q45.2656 44.1875 47.5 43.4219\n",
        "Q49.75 42.6719 51.1719 41.1094\n",
        "Q52.5938 39.5469 52.5938 37.2031\n",
        "Q52.5938 34.6719 50.9531 32.8281\n",
        "Q49.3125 31 46.7812 31\n",
        "Q45.1719 31 44.0938 32.0312\n",
        "Q43.0156 33.0625 43.0156 34.625\n",
        "Q43.0156 36.7188 44.4531 38.2969\n",
        "Q45.9062 39.8906 47.9062 40.1875\n",
        "Q46.0938 41.6094 42.9219 41.6094\n",
        "Q39.7031 41.6094 37.3281 38.625\n",
        "Q34.9688 35.6406 33.9844 31.9844\n",
        "L29.5938 14.3125\n",
        "Q28.5156 10.2969 28.5156 7.71875\n",
        "Q28.5156 5.17188 29.9531 3.34375\n",
        "Q31.3906 1.51562 33.7969 1.51562\n",
        "Q38.4844 1.51562 42.1562 5.64062\n",
        "Q45.8438 9.76562 47.0156 14.7031\n",
        "Q47.2188 15.2812 47.7969 15.2812\n",
        "L49.0312 15.2812\n",
        "Q49.4219 15.2812 49.6562 15.0156\n",
        "Q49.9062 14.75 49.9062 14.4062\n",
        "Q49.9062 14.3125 49.8125 14.1094\n",
        "Q48.3906 8.15625 43.8438 3.51562\n",
        "Q39.3125 -1.125 33.5938 -1.125\n",
        "Q29.9375 -1.125 26.9844 0.84375\n",
        "Q24.0312 2.82812 22.7969 6.20312\n",
        "Q21.2344 3.26562 18.4688 1.0625\n",
        "Q15.7188 -1.125 12.5938 -1.125\n",
        "Q10.4531 -1.125 8.17188 -0.359375\n",
        "Q5.90625 0.390625 4.48438 1.95312\n",
        "Q3.07812 3.51562 3.07812 5.90625\n",
        "Q3.07812 8.25 4.70312 10.1719\n",
        "Q6.34375 12.1094 8.79688 12.1094\n",
        "Q10.4531 12.1094 11.5781 11.1094\n",
        "Q12.7031 10.1094 12.7031 8.5\n",
        "Q12.7031 6.39062 11.2969 4.82812\n",
        "Q9.90625 3.26562 7.8125 2.875\" id=\"Cmmi10-78\"/>\n",
        "      <path d=\"\n",
        "M29.1094 -2.20312\n",
        "Q18.1094 -2.20312 11.9062 5.57812\n",
        "Q5.71875 13.375 5.71875 24.7031\n",
        "Q5.71875 39.5 15.4844 52.5938\n",
        "Q17.7812 55.6094 22.1719 59.8125\n",
        "Q26.5625 64.0156 31.0938 67.0938\n",
        "Q35.6406 70.1719 38.8125 70.5156\n",
        "L39.3125 70.5156\n",
        "Q39.9844 70.1719 39.9844 69.6719\n",
        "Q39.9844 69.2812 39.5938 68.7031\n",
        "Q39.0156 67.9688 34.5938 64.8438\n",
        "Q30.1719 61.7188 29.6875 61.2812\n",
        "Q25.0938 57.2812 21.7812 52.3906\n",
        "Q18.3125 47.2188 16.4531 41.2031\n",
        "Q14.5938 35.2031 14.5938 28.9062\n",
        "Q14.5938 22.2188 17.0625 16.4219\n",
        "Q19.5312 10.6406 24.4844 7.17188\n",
        "Q29.4375 3.71875 36.2812 3.71875\n",
        "Q43.4531 3.71875 49.5781 7.34375\n",
        "Q55.7188 10.9844 59.9062 16.8438\n",
        "Q64.1094 22.7031 66.4531 29.9062\n",
        "Q68.7969 37.1094 68.7969 43.8906\n",
        "Q68.7969 49.3594 67.1562 54.0156\n",
        "Q65.5312 58.6875 62.0156 61.6406\n",
        "Q58.5 64.5938 53.0781 64.5938\n",
        "Q50.875 64.5938 48.875 63.7188\n",
        "Q45.6094 61.9688 42.6562 57.3906\n",
        "Q39.7031 52.8281 37.7031 48\n",
        "Q36.6719 46.2344 34.4219 44.9219\n",
        "Q32.1719 43.6094 30.0781 43.4062\n",
        "L29.5938 43.4062\n",
        "Q29.3906 43.5 29.1406 43.6875\n",
        "Q28.9062 43.8906 28.9062 44.1875\n",
        "Q28.9062 44.3906 29 44.6719\n",
        "Q33.5 55.9531 41.3125 62.5938\n",
        "Q45.5156 66.2188 50.1406 68.3594\n",
        "Q54.7812 70.5156 59.7188 70.5156\n",
        "L60.2969 70.5156\n",
        "Q66.3594 70.5156 70.2188 67.3906\n",
        "Q74.0781 64.2656 75.875 59.1562\n",
        "Q77.6875 54.0469 77.6875 48.1875\n",
        "Q77.6875 41.7031 75.9531 35.4531\n",
        "Q74.2188 29.2031 71.0156 23.7344\n",
        "Q67.8281 18.2656 63.1875 13.625\n",
        "Q58.4531 8.98438 53.0938 5.46875\n",
        "Q47.75 1.95312 41.6875 -0.125\n",
        "Q35.6406 -2.20312 29.5938 -2.20312\n",
        "z\n",
        "\" id=\"Cmsy10-4f\"/>\n",
        "      <path d=\"\n",
        "M41.1094 46.2969\n",
        "Q39.5938 47.1719 37.8125 47.5781\n",
        "Q36.0312 48 33.8906 48\n",
        "Q26.2656 48 22.1875 43.0469\n",
        "Q18.1094 38.0938 18.1094 28.8125\n",
        "L18.1094 0\n",
        "L9.07812 0\n",
        "L9.07812 54.6875\n",
        "L18.1094 54.6875\n",
        "L18.1094 46.1875\n",
        "Q20.9531 51.1719 25.4844 53.5781\n",
        "Q30.0312 56 36.5312 56\n",
        "Q37.4531 56 38.5781 55.875\n",
        "Q39.7031 55.7656 41.0625 55.5156\n",
        "z\n",
        "\" id=\"BitstreamVeraSans-Roman-72\"/>\n",
        "      <path d=\"\n",
        "M2.59375 -19.3906\n",
        "L2.59375 -15.9219\n",
        "Q6 -15.9219 8.20312 -15.3281\n",
        "Q10.4062 -14.75 10.4062 -12.7031\n",
        "L10.4062 35.5\n",
        "Q10.4062 38.2344 8.45312 38.9062\n",
        "Q6.5 39.5938 2.59375 39.5938\n",
        "L2.59375 43.1094\n",
        "L17.3906 44.1875\n",
        "L17.3906 37.9844\n",
        "Q20.125 41.0156 23.75 42.5938\n",
        "Q27.3906 44.1875 31.5 44.1875\n",
        "Q37.4062 44.1875 42.1406 40.9844\n",
        "Q46.875 37.7969 49.5312 32.5938\n",
        "Q52.2031 27.3906 52.2031 21.5781\n",
        "Q52.2031 15.5312 49.25 10.2969\n",
        "Q46.2969 5.07812 41.1875 1.96875\n",
        "Q36.0781 -1.125 29.9844 -1.125\n",
        "Q22.7031 -1.125 17.6719 4.78125\n",
        "L17.6719 -12.7031\n",
        "Q17.6719 -14.75 19.8906 -15.3281\n",
        "Q22.125 -15.9219 25.4844 -15.9219\n",
        "L25.4844 -19.3906\n",
        "z\n",
        "\n",
        "M17.6719 9.71875\n",
        "Q19.4375 6.15625 22.5625 3.82812\n",
        "Q25.6875 1.51562 29.3906 1.51562\n",
        "Q32.8594 1.51562 35.5156 3.35938\n",
        "Q38.1875 5.21875 39.9844 8.34375\n",
        "Q41.7969 11.4688 42.6406 14.9062\n",
        "Q43.5 18.3594 43.5 21.5781\n",
        "Q43.5 25.5938 42.0625 30.25\n",
        "Q40.625 34.9062 37.6719 38.1094\n",
        "Q34.7188 41.3125 30.5156 41.3125\n",
        "Q26.4688 41.3125 23.0625 39.2344\n",
        "Q19.6719 37.1562 17.6719 33.5938\n",
        "z\n",
        "\" id=\"Cmr10-70\"/>\n",
        "     </defs>\n",
        "     <g transform=\"translate(306.886 38.926875)scale(0.144 -0.144)\">\n",
        "      <use transform=\"translate(0.0 0.8578125)\" xlink:href=\"#BitstreamVeraSans-Roman-54\"/>\n",
        "      <use transform=\"translate(61.083984375 0.8578125)\" xlink:href=\"#BitstreamVeraSans-Roman-61\"/>\n",
        "      <use transform=\"translate(122.36328125 0.8578125)\" xlink:href=\"#BitstreamVeraSans-Roman-79\"/>\n",
        "      <use transform=\"translate(181.54296875 0.8578125)\" xlink:href=\"#BitstreamVeraSans-Roman-6c\"/>\n",
        "      <use transform=\"translate(209.326171875 0.8578125)\" xlink:href=\"#BitstreamVeraSans-Roman-6f\"/>\n",
        "      <use transform=\"translate(270.5078125 0.8578125)\" xlink:href=\"#BitstreamVeraSans-Roman-72\"/>\n",
        "      <use transform=\"translate(311.62109375 0.8578125)\" xlink:href=\"#BitstreamVeraSans-Roman-20\"/>\n",
        "      <use transform=\"translate(343.408203125 0.8578125)\" xlink:href=\"#Cmsy10-4f\"/>\n",
        "      <use transform=\"translate(422.998046875 0.8578125)\" xlink:href=\"#Cmr10-28\"/>\n",
        "      <use transform=\"translate(461.81640625 0.8578125)\" xlink:href=\"#Cmmi10-78\"/>\n",
        "      <use transform=\"translate(518.896484375 43.3734375)scale(0.7)\" xlink:href=\"#Cmr10-35\"/>\n",
        "      <use transform=\"translate(585.902734375 0.8578125)\" xlink:href=\"#Cmr10-29\"/>\n",
        "      <use transform=\"translate(624.72109375 0.8578125)\" xlink:href=\"#BitstreamVeraSans-Roman-20\"/>\n",
        "      <use transform=\"translate(656.508203125 0.8578125)\" xlink:href=\"#BitstreamVeraSans-Roman-64\"/>\n",
        "      <use transform=\"translate(719.984765625 0.8578125)\" xlink:href=\"#BitstreamVeraSans-Roman-65\"/>\n",
        "      <use transform=\"translate(781.508203125 0.8578125)\" xlink:href=\"#BitstreamVeraSans-Roman-20\"/>\n",
        "      <use transform=\"translate(813.2953125 0.8578125)\" xlink:href=\"#Cmr10-65\"/>\n",
        "      <use transform=\"translate(857.680078125 0.8578125)\" xlink:href=\"#Cmr10-78\"/>\n",
        "      <use transform=\"translate(910.365625 0.8578125)\" xlink:href=\"#Cmr10-70\"/>\n",
        "      <use transform=\"translate(965.883203125 0.8578125)\" xlink:href=\"#Cmr10-28\"/>\n",
        "      <use transform=\"translate(1004.7015625 0.8578125)\" xlink:href=\"#Cmmi10-78\"/>\n",
        "      <use transform=\"translate(1061.78164062 0.8578125)\" xlink:href=\"#Cmr10-29\"/>\n",
        "     </g>\n",
        "    </g>\n",
        "    <g id=\"line2d_35\">\n",
        "     <path d=\"\n",
        "M270.886 55.6286\n",
        "L291.046 55.6286\" style=\"fill:none;stroke:#008000;stroke-linecap:square;\"/>\n",
        "    </g>\n",
        "    <g id=\"line2d_36\"/>\n",
        "    <g id=\"text_17\">\n",
        "     <!-- $\\exp(x)$ -->\n",
        "     <g transform=\"translate(306.886 60.668625)scale(0.144 -0.144)\">\n",
        "      <use xlink:href=\"#Cmr10-65\"/>\n",
        "      <use transform=\"translate(44.384765625 0.0)\" xlink:href=\"#Cmr10-78\"/>\n",
        "      <use transform=\"translate(97.0703125 0.0)\" xlink:href=\"#Cmr10-70\"/>\n",
        "      <use transform=\"translate(152.587890625 0.0)\" xlink:href=\"#Cmr10-28\"/>\n",
        "      <use transform=\"translate(191.40625 0.0)\" xlink:href=\"#Cmmi10-78\"/>\n",
        "      <use transform=\"translate(248.486328125 0.0)\" xlink:href=\"#Cmr10-29\"/>\n",
        "     </g>\n",
        "    </g>\n",
        "   </g>\n",
        "  </g>\n",
        " </g>\n",
        " <defs>\n",
        "  <clipPath id=\"pa2a97305bc\">\n",
        "   <rect height=\"345.6\" width=\"446.4\" x=\"31.99\" y=\"13.006875\"/>\n",
        "  </clipPath>\n",
        " </defs>\n",
        "</svg>\n"
       ],
       "text": [
        "Figure(PyObject <matplotlib.figure.Figure object at 0x7f5714cbac10>)"
       ]
      }
     ],
     "prompt_number": 40
    },
    {
     "cell_type": "code",
     "collapsed": false,
     "input": [
      "A = [x x^2; 1-x 1/x]"
     ],
     "language": "python",
     "metadata": {},
     "outputs": [
      {
       "latex": [
        "\\begin{bmatrix}x&x^{2}\\\\- x + 1&\\frac{1}{x}\\end{bmatrix}"
       ],
       "metadata": {},
       "output_type": "pyout",
       "prompt_number": 41,
       "text": [
        "2x2 Array{Sym,2}:\n",
        " x        2\n",
        "x \n",
        " -x + 1  1\n",
        "-\n",
        "x"
       ]
      }
     ],
     "prompt_number": 41
    },
    {
     "cell_type": "code",
     "collapsed": false,
     "input": [
      "det(A)"
     ],
     "language": "python",
     "metadata": {},
     "outputs": [
      {
       "latex": [
        "$$x^{3} - x^{2} + 1$$"
       ],
       "metadata": {},
       "output_type": "pyout",
       "prompt_number": 42,
       "text": [
        " 3    2    \n",
        "x  - x  + 1"
       ]
      }
     ],
     "prompt_number": 42
    },
    {
     "cell_type": "code",
     "collapsed": false,
     "input": [
      "trace(A)"
     ],
     "language": "python",
     "metadata": {},
     "outputs": [
      {
       "latex": [
        "$$x + \\frac{1}{x}$$"
       ],
       "metadata": {},
       "output_type": "pyout",
       "prompt_number": 43,
       "text": [
        "    1\n",
        "x + -\n",
        "    x"
       ]
      }
     ],
     "prompt_number": 43
    },
    {
     "cell_type": "code",
     "collapsed": false,
     "input": [
      "\u03bb_1, \u03bb_2 = eigvals(A);"
     ],
     "language": "python",
     "metadata": {},
     "outputs": [],
     "prompt_number": 44
    },
    {
     "cell_type": "code",
     "collapsed": false,
     "input": [
      "\u03bb_1"
     ],
     "language": "python",
     "metadata": {},
     "outputs": [
      {
       "latex": [
        "$$- \\frac{1}{2 x} \\sqrt{- \\left(x - 1\\right) \\left(4 x^{4} - x^{3} - x^{2} + x + 1\\right)} + \\frac{x^{2} + 1}{2 x}$$"
       ],
       "metadata": {},
       "output_type": "pyout",
       "prompt_number": 45,
       "text": [
        "     ___________________________________         \n",
        "    /          /   4    3    2        \\     2    \n",
        "  \\/  -(x - 1)*\\4*x  - x  - x  + x + 1/    x  + 1\n",
        "- -------------------------------------- + ------\n",
        "                   2*x                      2*x  "
       ]
      }
     ],
     "prompt_number": 45
    },
    {
     "cell_type": "code",
     "collapsed": false,
     "input": [
      "\u03bb_2"
     ],
     "language": "python",
     "metadata": {},
     "outputs": [
      {
       "latex": [
        "$$\\frac{1}{2 x} \\sqrt{- \\left(x - 1\\right) \\left(4 x^{4} - x^{3} - x^{2} + x + 1\\right)} + \\frac{x^{2} + 1}{2 x}$$"
       ],
       "metadata": {},
       "output_type": "pyout",
       "prompt_number": 46,
       "text": [
        "   ___________________________________         \n",
        "  /          /   4    3    2        \\     2    \n",
        "\\/  -(x - 1)*\\4*x  - x  - x  + x + 1/    x  + 1\n",
        "-------------------------------------- + ------\n",
        "                 2*x                      2*x  "
       ]
      }
     ],
     "prompt_number": 46
    },
    {
     "cell_type": "heading",
     "level": 3,
     "metadata": {},
     "source": [
      "Oscilador arm\u00f3nico"
     ]
    },
    {
     "cell_type": "code",
     "collapsed": false,
     "input": [
      "t,y,v = sym\"t,y,v\"\n",
      "h, \u03c9 = symbols(\"h, omega\", positive=true)\n",
      "yp, vp = Sym(\"\\\\dot{y}, \\\\dot{v}\")"
     ],
     "language": "python",
     "metadata": {},
     "outputs": [
      {
       "metadata": {},
       "output_type": "pyout",
       "prompt_number": 47,
       "text": [
        "(\\dot{y},\\dot{v})"
       ]
      }
     ],
     "prompt_number": 47
    },
    {
     "cell_type": "code",
     "collapsed": false,
     "input": [
      "fy(t,y,v) = v"
     ],
     "language": "python",
     "metadata": {},
     "outputs": [
      {
       "metadata": {},
       "output_type": "pyout",
       "prompt_number": 48,
       "text": [
        "fy (generic function with 1 method)"
       ]
      }
     ],
     "prompt_number": 48
    },
    {
     "cell_type": "code",
     "collapsed": false,
     "input": [
      "fv(t,y,v) = -\u03c9^2*y"
     ],
     "language": "python",
     "metadata": {},
     "outputs": [
      {
       "metadata": {},
       "output_type": "pyout",
       "prompt_number": 49,
       "text": [
        "fv (generic function with 1 method)"
       ]
      }
     ],
     "prompt_number": 49
    },
    {
     "cell_type": "code",
     "collapsed": false,
     "input": [
      "Eq(yp, fy(t,y,v))"
     ],
     "language": "python",
     "metadata": {},
     "outputs": [
      {
       "latex": [
        "$$\\dot{y} = v$$"
       ],
       "metadata": {},
       "output_type": "pyout",
       "prompt_number": 50,
       "text": [
        "\\dot{y} = v"
       ]
      }
     ],
     "prompt_number": 50
    },
    {
     "cell_type": "code",
     "collapsed": false,
     "input": [
      "Eq(vp, fv(t,y,v))"
     ],
     "language": "python",
     "metadata": {},
     "outputs": [
      {
       "latex": [
        "$$\\dot{v} = - \\omega^{2} y$$"
       ],
       "metadata": {},
       "output_type": "pyout",
       "prompt_number": 51,
       "text": [
        "                2  \n",
        "\\dot{v} = -omega *y"
       ]
      }
     ],
     "prompt_number": 51
    },
    {
     "cell_type": "code",
     "collapsed": false,
     "input": [
      "yn, vn = Sym(\"y_n, v_n\")"
     ],
     "language": "python",
     "metadata": {},
     "outputs": [
      {
       "metadata": {},
       "output_type": "pyout",
       "prompt_number": 52,
       "text": [
        "(y_n,v_n)"
       ]
      }
     ],
     "prompt_number": 52
    },
    {
     "cell_type": "markdown",
     "metadata": {},
     "source": [
      "Estabilidad del m\u00e9todo de Euler aplicado al oscilador arm\u00f3nico"
     ]
    },
    {
     "cell_type": "code",
     "collapsed": false,
     "input": [
      "euler_fy = yn + h*fy(t, yn, vn)"
     ],
     "language": "python",
     "metadata": {},
     "outputs": [
      {
       "latex": [
        "$$h v_{n} + y_{n}$$"
       ],
       "metadata": {},
       "output_type": "pyout",
       "prompt_number": 53,
       "text": [
        "h*v_n + y_n"
       ]
      }
     ],
     "prompt_number": 53
    },
    {
     "cell_type": "code",
     "collapsed": false,
     "input": [
      "euler_fv = vn + h*fv(t,yn,vn)"
     ],
     "language": "python",
     "metadata": {},
     "outputs": [
      {
       "latex": [
        "$$- h \\omega^{2} y_{n} + v_{n}$$"
       ],
       "metadata": {},
       "output_type": "pyout",
       "prompt_number": 54,
       "text": [
        "         2          \n",
        "- h*omega *y_n + v_n"
       ]
      }
     ],
     "prompt_number": 54
    },
    {
     "cell_type": "code",
     "collapsed": false,
     "input": [
      "eu_fy_y = euler_fy[:coeff](yn)"
     ],
     "language": "python",
     "metadata": {},
     "outputs": [
      {
       "latex": [
        "$$1$$"
       ],
       "metadata": {},
       "output_type": "pyout",
       "prompt_number": 55,
       "text": [
        "1"
       ]
      }
     ],
     "prompt_number": 55
    },
    {
     "cell_type": "code",
     "collapsed": false,
     "input": [
      "eu_fy_v = euler_fy[:coeff](vn)"
     ],
     "language": "python",
     "metadata": {},
     "outputs": [
      {
       "latex": [
        "$$h$$"
       ],
       "metadata": {},
       "output_type": "pyout",
       "prompt_number": 56,
       "text": [
        "h"
       ]
      }
     ],
     "prompt_number": 56
    },
    {
     "cell_type": "code",
     "collapsed": false,
     "input": [
      "eu_fv_y = euler_fv[:coeff](yn)"
     ],
     "language": "python",
     "metadata": {},
     "outputs": [
      {
       "latex": [
        "$$- h \\omega^{2}$$"
       ],
       "metadata": {},
       "output_type": "pyout",
       "prompt_number": 57,
       "text": [
        "        2\n",
        "-h*omega "
       ]
      }
     ],
     "prompt_number": 57
    },
    {
     "cell_type": "code",
     "collapsed": false,
     "input": [
      "eu_fv_v = euler_fv[:coeff](vn)"
     ],
     "language": "python",
     "metadata": {},
     "outputs": [
      {
       "latex": [
        "$$1$$"
       ],
       "metadata": {},
       "output_type": "pyout",
       "prompt_number": 58,
       "text": [
        "1"
       ]
      }
     ],
     "prompt_number": 58
    },
    {
     "cell_type": "code",
     "collapsed": false,
     "input": [
      "M = [eu_fy_y eu_fy_v; eu_fv_y eu_fv_v]"
     ],
     "language": "python",
     "metadata": {},
     "outputs": [
      {
       "latex": [
        "\\begin{bmatrix}1&h\\\\- h \\omega^{2}&1\\end{bmatrix}"
       ],
       "metadata": {},
       "output_type": "pyout",
       "prompt_number": 59,
       "text": [
        "2x2 Array{Sym,2}:\n",
        " 1                    h\n",
        "         2\n",
        "-h*omega   1"
       ]
      }
     ],
     "prompt_number": 59
    },
    {
     "cell_type": "code",
     "collapsed": false,
     "input": [
      "\u03bb_1, \u03bb_2  = eigvals(M);"
     ],
     "language": "python",
     "metadata": {},
     "outputs": [],
     "prompt_number": 60
    },
    {
     "cell_type": "code",
     "collapsed": false,
     "input": [
      "\u03bb_1"
     ],
     "language": "python",
     "metadata": {},
     "outputs": [
      {
       "latex": [
        "$$- i h \\omega + 1$$"
       ],
       "metadata": {},
       "output_type": "pyout",
       "prompt_number": 61,
       "text": [
        "-I*h*omega + 1"
       ]
      }
     ],
     "prompt_number": 61
    },
    {
     "cell_type": "code",
     "collapsed": false,
     "input": [
      "\u03bb_2"
     ],
     "language": "python",
     "metadata": {},
     "outputs": [
      {
       "latex": [
        "$$i h \\omega + 1$$"
       ],
       "metadata": {},
       "output_type": "pyout",
       "prompt_number": 62,
       "text": [
        "I*h*omega + 1"
       ]
      }
     ],
     "prompt_number": 62
    },
    {
     "cell_type": "code",
     "collapsed": false,
     "input": [
      "abs(\u03bb_1)"
     ],
     "language": "python",
     "metadata": {},
     "outputs": [
      {
       "latex": [
        "$$\\sqrt{h^{2} \\omega^{2} + 1}$$"
       ],
       "metadata": {},
       "output_type": "pyout",
       "prompt_number": 63,
       "text": [
        "   _______________\n",
        "  /  2      2     \n",
        "\\/  h *omega  + 1 "
       ]
      }
     ],
     "prompt_number": 63
    },
    {
     "cell_type": "markdown",
     "metadata": {},
     "source": [
      "Como $|\\lambda_1| > 1$, el m\u00e9todo de Euler aplicado al oscilador arm\u00f3nico es inestable."
     ]
    },
    {
     "cell_type": "markdown",
     "metadata": {},
     "source": [
      "Ahora veamos la estabilidad de Euler-Cromer para el oscilador arm\u00f3nico"
     ]
    },
    {
     "cell_type": "code",
     "collapsed": false,
     "input": [
      "euler_cromer_fy = yn + h*fy(t, yn, euler_fv) |> expand"
     ],
     "language": "python",
     "metadata": {},
     "outputs": [
      {
       "latex": [
        "$$- h^{2} \\omega^{2} y_{n} + h v_{n} + y_{n}$$"
       ],
       "metadata": {},
       "output_type": "pyout",
       "prompt_number": 64,
       "text": [
        "   2      2                  \n",
        "- h *omega *y_n + h*v_n + y_n"
       ]
      }
     ],
     "prompt_number": 64
    },
    {
     "cell_type": "code",
     "collapsed": false,
     "input": [
      "M1 = [euler_cromer_fy[:coeff](g) for g in [yn, vn]];"
     ],
     "language": "python",
     "metadata": {},
     "outputs": [],
     "prompt_number": 65
    },
    {
     "cell_type": "code",
     "collapsed": false,
     "input": [
      "M[1,:] = M1;"
     ],
     "language": "python",
     "metadata": {},
     "outputs": [],
     "prompt_number": 66
    },
    {
     "cell_type": "code",
     "collapsed": false,
     "input": [
      "M"
     ],
     "language": "python",
     "metadata": {},
     "outputs": [
      {
       "latex": [
        "\\begin{bmatrix}- h^{2} \\omega^{2} + 1&h\\\\- h \\omega^{2}&1\\end{bmatrix}"
       ],
       "metadata": {},
       "output_type": "pyout",
       "prompt_number": 67,
       "text": [
        "2x2 Array{Sym,2}:\n",
        "    2      2    \n",
        "- h *omega  + 1  h\n",
        "         2\n",
        "-h*omega               1"
       ]
      }
     ],
     "prompt_number": 67
    },
    {
     "cell_type": "code",
     "collapsed": false,
     "input": [
      "\u03bb_1, \u03bb_2 = eigvals(M);"
     ],
     "language": "python",
     "metadata": {},
     "outputs": [],
     "prompt_number": 68
    },
    {
     "cell_type": "code",
     "collapsed": false,
     "input": [
      "abs(\u03bb_1)"
     ],
     "language": "python",
     "metadata": {},
     "outputs": [
      {
       "latex": [
        "$$\\left\\lvert{- \\frac{h^{2} \\omega^{2}}{2} - \\frac{h \\omega}{2} \\sqrt{h \\omega - 2} \\sqrt{h \\omega + 2} + 1}\\right\\rvert$$"
       ],
       "metadata": {},
       "output_type": "pyout",
       "prompt_number": 69,
       "text": [
        "|   2      2             _____________   _____________    |\n",
        "|  h *omega    h*omega*\\/ h*omega - 2 *\\/ h*omega + 2     |\n",
        "|- --------- - --------------------------------------- + 1|\n",
        "|      2                          2                       |"
       ]
      }
     ],
     "prompt_number": 69
    },
    {
     "cell_type": "code",
     "collapsed": false,
     "input": [
      "dfy_y = diff(euler_cromer_fy, yn)\n",
      "dfy_v = diff(euler_cromer_fy, vn)\n",
      "dfv_y = diff(euler_fv, yn)\n",
      "dfv_v = diff(euler_fv, vn)\n",
      "\n",
      "J = [dfy_y dfy_v; dfv_y dfv_v]"
     ],
     "language": "python",
     "metadata": {},
     "outputs": [
      {
       "latex": [
        "\\begin{bmatrix}- h^{2} \\omega^{2} + 1&h\\\\- h \\omega^{2}&1\\end{bmatrix}"
       ],
       "metadata": {},
       "output_type": "pyout",
       "prompt_number": 70,
       "text": [
        "2x2 Array{Sym,2}:\n",
        "    2      2    \n",
        "- h *omega  + 1  h\n",
        "         2\n",
        "-h*omega               1"
       ]
      }
     ],
     "prompt_number": 70
    },
    {
     "cell_type": "code",
     "collapsed": false,
     "input": [
      "det(J)"
     ],
     "language": "python",
     "metadata": {},
     "outputs": [
      {
       "latex": [
        "$$1$$"
       ],
       "metadata": {},
       "output_type": "pyout",
       "prompt_number": 71,
       "text": [
        "1"
       ]
      }
     ],
     "prompt_number": 71
    },
    {
     "cell_type": "markdown",
     "metadata": {},
     "source": [
      "Como $\\det(J) = 1$, Euler-Cromer aplicado al oscilador arm\u00f3nico es simpl\u00e9ctico."
     ]
    },
    {
     "cell_type": "markdown",
     "metadata": {},
     "source": [
      "Ser\u00eda genial poder seguir escribiendo a mano y calcular, graficar, etc. con la computadora. \u00a1S\u00ed se puede! Lo hicieron dos mexicanos en Alemania, junto con alemanes, usando Java y Mathematica. Conozcan [E-Chalk](http://kazan.inf.fu-berlin.de/echalk/en/index.php)."
     ]
    },
    {
     "cell_type": "heading",
     "level": 4,
     "metadata": {},
     "source": [
      "Interact + SymPy"
     ]
    },
    {
     "cell_type": "code",
     "collapsed": false,
     "input": [
      "using Interact"
     ],
     "language": "python",
     "metadata": {},
     "outputs": [
      {
       "html": [
        "<script charset=\"utf-8\">(function ($, undefined) {\n",
        "\n",
        "    function createElem(tag, attr, content) {\n",
        "\t// TODO: remove jQuery dependency\n",
        "\tvar el = $(\"<\" + tag + \"/>\").attr(attr);\n",
        "\tif (content) {\n",
        "\t    el.append(content);\n",
        "\t}\n",
        "\treturn el[0];\n",
        "    }\n",
        "\n",
        "    // A widget must expose an id field which identifies it to the backend,\n",
        "    // an elem attribute which is will be added to the DOM, and\n",
        "    // a getState() method which returns the value to be sent to the backend\n",
        "    // a sendUpdate() method which sends its current value to the backend\n",
        "    var Widget = {\n",
        "\tid: undefined,\n",
        "\telem: undefined,\n",
        "\tlabel: undefined,\n",
        "\tgetState: function () {\n",
        "\t    return this.elem.value;\n",
        "\t},\n",
        "\tsendUpdate: undefined\n",
        "    };\n",
        "\n",
        "    var Slider = function (typ, id, init) {\n",
        "\tvar attr = { type:  \"range\",\n",
        "\t\t     value: init.value,\n",
        "\t\t     min:   init.min,\n",
        "\t\t     max:   init.max,\n",
        "\t\t     step:  init.step },\n",
        "\t    elem = createElem(\"input\", attr),\n",
        "\t    self = this;\n",
        "\n",
        "\telem.onchange = function () {\n",
        "\t    self.sendUpdate();\n",
        "\t}\n",
        "\n",
        "\tthis.id = id;\n",
        "\tthis.elem = elem;\n",
        "\tthis.label = init.label;\n",
        "\n",
        "\tInputWidgets.commInitializer(this); // Initialize communication\n",
        "    }\n",
        "    Slider.prototype = Widget;\n",
        "\n",
        "    var Checkbox = function (typ, id, init) {\n",
        "\tvar attr = { type: \"checkbox\",\n",
        "\t\t     checked: init.value },\n",
        "\t    elem = createElem(\"input\", attr),\n",
        "\t    self = this;\n",
        "\n",
        "\tthis.getState = function () {\n",
        "\t    return elem.checked;\n",
        "\t}\n",
        "\telem.onchange = function () {\n",
        "\t    self.sendUpdate();\n",
        "\t}\n",
        "\n",
        "\tthis.id = id;\n",
        "\tthis.elem = elem;\n",
        "\tthis.label = init.label;\n",
        "\n",
        "\tInputWidgets.commInitializer(this);\n",
        "    }\n",
        "    Checkbox.prototype = Widget;\n",
        "\n",
        "    var Button = function (typ, id, init) {\n",
        "\tvar attr = { type:    \"button\",\n",
        "\t\t     value:   init.label },\n",
        "\t    elem = createElem(\"input\", attr),\n",
        "\t    self = this;\n",
        "\tthis.getState = function () {\n",
        "\t    return null;\n",
        "\t}\n",
        "\telem.onclick = function () {\n",
        "\t    self.sendUpdate();\n",
        "\t}\n",
        "\n",
        "\tthis.id = id;\n",
        "\tthis.elem = elem;\n",
        "\tthis.label = init.label;\n",
        "\n",
        "\tInputWidgets.commInitializer(this);\n",
        "    }\n",
        "    Button.prototype = Widget;\n",
        "\n",
        "    var Text = function (typ, id, init) {\n",
        "\tvar attr = { type:  \"text\",\n",
        "\t\t     placeholder: init.label,\n",
        "\t\t     value: init.value },\n",
        "\t    elem = createElem(\"input\", attr),\n",
        "\t    self = this;\n",
        "\tthis.getState = function () {\n",
        "\t    return elem.value;\n",
        "\t}\n",
        "\telem.onkeyup = function () {\n",
        "\t    self.sendUpdate();\n",
        "\t}\n",
        "\n",
        "\tthis.id = id;\n",
        "\tthis.elem = elem;\n",
        "\tthis.label = init.label;\n",
        "\n",
        "\tInputWidgets.commInitializer(this);\n",
        "    }\n",
        "    Text.prototype = Widget;\n",
        "\n",
        "    var Textarea = function (typ, id, init) {\n",
        "\tvar attr = { placeholder: init.label },\n",
        "\t    elem = createElem(\"textarea\", attr, init.value),\n",
        "\t    self = this;\n",
        "\tthis.getState = function () {\n",
        "\t    return elem.value;\n",
        "\t}\n",
        "\telem.onchange = function () {\n",
        "\t    self.sendUpdate();\n",
        "\t}\n",
        "\n",
        "\tthis.id = id;\n",
        "\tthis.elem = elem;\n",
        "\tthis.label = init.label;\n",
        "\n",
        "\tInputWidgets.commInitializer(this);\n",
        "    }\n",
        "    Textarea.prototype = Widget;\n",
        "\n",
        "    // RadioButtons\n",
        "    // Dropdown\n",
        "    // HTML\n",
        "    // Latex\n",
        "\n",
        "    var InputWidgets = {\n",
        "\tSlider: Slider,\n",
        "\tCheckbox: Checkbox,\n",
        "\tButton: Button,\n",
        "\tText: Text,\n",
        "\tTextarea: Textarea,\n",
        "\tdebug: false,\n",
        "\tlog: function () {\n",
        "\t    if (InputWidgets.debug) {\n",
        "\t\tconsole.log.apply(console, arguments);\n",
        "\t    }\n",
        "\t},\n",
        "\t// a central way to initalize communication\n",
        "\t// for widgets.\n",
        "\tcommInitializer: function (widget) {\n",
        "\t    widget.sendUpdate = function () {};\n",
        "\t}\n",
        "    };\n",
        "\n",
        "    window.InputWidgets = InputWidgets;\n",
        "\n",
        "})(jQuery, undefined);\n",
        "</script>"
       ],
       "metadata": {},
       "output_type": "display_data"
      },
      {
       "html": [
        "<script charset=\"utf-8\">(function (IPython, $, _, MathJax, Widgets) {\n",
        "    $.event.special.destroyed = {\n",
        "\tremove: function(o) {\n",
        "\t    if (o.handler) {\n",
        "\t\to.handler.apply(this, arguments)\n",
        "\t    }\n",
        "\t}\n",
        "    }\n",
        "\n",
        "    $(document).ready(function() {\n",
        "\tWidgets.debug = false; // log messages etc in console.\n",
        "\tfunction initComm(evt, data) {\n",
        "\t    var comm_manager = data.kernel.comm_manager;\n",
        "\t    comm_manager.register_target(\"Signal\", function (comm) {\n",
        "\t\tcomm.on_msg(function (msg) {\n",
        "\t\t    //Widgets.log(\"message received\", msg);\n",
        "\t\t    var val = msg.content.data.value;\n",
        "\t\t    $(\".signal-\" + comm.comm_id).each(function() {\n",
        "\t\t\tvar self = this;\n",
        "\t\t\tvar type = $(this).data(\"type\");\n",
        "\t\t\tif (val[type]) {\n",
        "\t\t\t    $(self).empty();\n",
        "\t\t\t    var selector = $(\"<div/>\");\n",
        "\t\t\t    var oa = new IPython.OutputArea(_.extend(selector, {\n",
        "\t\t\t\tselector: selector,\n",
        "\t\t\t\tprompt_area: true,\n",
        "\t\t\t\tevents: IPython.events,\n",
        "\t\t\t\tkeyboard_manager: IPython.keyboard_manager\n",
        "\t\t\t    })); // Hack to work with IPython 2.1.0\n",
        "\t\t\t    var toinsert = IPython.OutputArea.append_map[type].apply(\n",
        "\t\t\t\toa, [val[type], {}, selector]\n",
        "\t\t\t    );\n",
        "\t\t\t    if (type === \"text/latex\" && MathJax) {\n",
        "\t\t\t\tMathJax.Hub.Queue([\"Typeset\", MathJax.Hub, toinsert.get(0)]);\n",
        "\t\t\t    }\n",
        "\n",
        "\t\t\t    $(self).append(toinsert.contents());\n",
        "\t\t\t    selector.remove();\n",
        "\t\t\t}\n",
        "\t\t    });\n",
        "\t\t    delete val;\n",
        "\t\t    delete msg.content.data.value;\n",
        "\t\t});\n",
        "\t    });\n",
        "\n",
        "\t    // coordingate with Comm and redraw Signals\n",
        "\t    // XXX: Test using Reactive here to improve performance\n",
        "\t    $([IPython.events]).on(\n",
        "\t\t'output_appended.OutputArea', function (event, type, value, md, toinsert) {\n",
        "\t\t    if (md && md.reactive) {\n",
        "\t\t\t// console.log(md.comm_id);\n",
        "\t\t\ttoinsert.addClass(\"signal-\" + md.comm_id);\n",
        "\t\t\ttoinsert.data(\"type\", type);\n",
        "\t\t\t// Signal back indicating the mimetype required\n",
        "\t\t\tvar comm_manager = IPython.notebook.kernel.comm_manager;\n",
        "\t\t\tvar comm = comm_manager.comms[md.comm_id];\n",
        "\t\t\tcomm.send({action: \"subscribe_mime\",\n",
        "\t\t\t\t   mime: type});\n",
        "\t\t\ttoinsert.bind(\"destroyed\", function() {\n",
        "\t\t\t    comm.send({action: \"unsubscribe_mime\",\n",
        "\t\t\t\t       mime: type});\n",
        "\t\t\t});\n",
        "\t\t    }\n",
        "\t    });\n",
        "\n",
        "\t    // Set up communication for Widgets\n",
        "\t    Widgets.commInitializer = function (widget) {\n",
        "\t\tvar comm = comm_manager.new_comm(\n",
        "\t\t    \"InputWidget\", {widget_id: widget.id}\n",
        "\t\t);\n",
        "\t\twidget.sendUpdate = function () {\n",
        "\t\t    // `this` is a widget here.\n",
        "\t\t    // TODO: I have a feeling there's some\n",
        "\t\t    //       IPython bookkeeping to be done here.\n",
        "\t\t    // Widgets.log(\"State changed\", this, this.getState());\n",
        "\t\t    comm.send({value: this.getState()});\n",
        "\t\t}\n",
        "\t    };\n",
        "\t}\n",
        "\n",
        "\ttry {\n",
        "\t    // try to initialize right away. otherwise, wait on the status_started event.\n",
        "\t    initComm(undefined, IPython.notebook);\n",
        "\t} catch (e) {\n",
        "\t    $([IPython.events]).on('status_started.Kernel', initComm);\n",
        "\t}\n",
        "    });\n",
        "})(IPython, jQuery, _, MathJax, InputWidgets);\n",
        "</script>"
       ],
       "metadata": {},
       "output_type": "display_data"
      },
      {
       "output_type": "stream",
       "stream": "stderr",
       "text": [
        "Warning: using Interact.parse in module Main conflicts with an existing identifier.\n",
        "Warning: using Interact.select in module Main conflicts with an existing identifier.\n",
        "Warning: using Interact.recv in module Main conflicts with an existing identifier.\n"
       ]
      }
     ],
     "prompt_number": 72
    },
    {
     "cell_type": "code",
     "collapsed": false,
     "input": [
      "factorit(n) = Eq(x^n-1, factor(x^n-1))"
     ],
     "language": "python",
     "metadata": {},
     "outputs": [
      {
       "metadata": {},
       "output_type": "pyout",
       "prompt_number": 73,
       "text": [
        "factorit (generic function with 1 method)"
       ]
      }
     ],
     "prompt_number": 73
    },
    {
     "cell_type": "code",
     "collapsed": false,
     "input": [
      "@manipulate for n in 2:1:40 \n",
      "    factorit(n)\n",
      "end"
     ],
     "language": "python",
     "metadata": {},
     "outputs": [
      {
       "html": [],
       "metadata": {},
       "output_type": "display_data",
       "text": [
        "Slider{Int64}([Input{Int64}] 21,\"n\",21,2:1:40)"
       ]
      },
      {
       "latex": [
        "$$x^{21} - 1 = \\left(x - 1\\right) \\left(x^{2} + x + 1\\right) \\left(x^{6} + x^{5} + x^{4} + x^{3} + x^{2} + x + 1\\right) \\left(x^{12} - x^{11} + x^{9} - x^{8} + x^{6} - x^{4} + x^{3} - x + 1\\right)$$"
       ],
       "metadata": {
        "comm_id": "9907702f-c5f1-498b-91da-267cd6947a51",
        "reactive": true
       },
       "output_type": "pyout",
       "prompt_number": 74,
       "text": [
        " 21               / 2        \\ / 6    5    4    3    2        \\ / 12    11    \n",
        "x   - 1 = (x - 1)*\\x  + x + 1/*\\x  + x  + x  + x  + x  + x + 1/*\\x   - x   + x\n",
        "\n",
        "9    8    6    4    3        \\\n",
        "  - x  + x  - x  + x  - x + 1/"
       ]
      }
     ],
     "prompt_number": 74
    },
    {
     "cell_type": "code",
     "collapsed": false,
     "input": [],
     "language": "python",
     "metadata": {},
     "outputs": []
    }
   ],
   "metadata": {}
  }
 ]
}