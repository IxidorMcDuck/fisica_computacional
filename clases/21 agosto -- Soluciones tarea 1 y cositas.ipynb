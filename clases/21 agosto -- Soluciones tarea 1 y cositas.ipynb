{
 "metadata": {
  "language": "Julia",
  "name": "",
  "signature": "sha256:25417fa9c8805cb8f4f1de498905d3ec6d7a33db6217475d84e87c2c039700b0"
 },
 "nbformat": 3,
 "nbformat_minor": 0,
 "worksheets": [
  {
   "cells": [
    {
     "cell_type": "code",
     "collapsed": false,
     "input": [
      "function mi_sin(x)\n",
      "    a = sum([(-1)^n * big(x)^(2n+1) / factorial(big(2n+1)) for n in 0:20])\n",
      "    float64(a)\n",
      "end"
     ],
     "language": "python",
     "metadata": {},
     "outputs": [
      {
       "metadata": {},
       "output_type": "pyout",
       "prompt_number": 29,
       "text": [
        "mi_sin (generic function with 1 method)"
       ]
      }
     ],
     "prompt_number": 29
    },
    {
     "cell_type": "code",
     "collapsed": false,
     "input": [
      "@printf \"%20.10f\" mi_sin(pi/4)"
     ],
     "language": "python",
     "metadata": {},
     "outputs": [
      {
       "output_type": "stream",
       "stream": "stdout",
       "text": [
        "  "
       ]
      },
      {
       "output_type": "stream",
       "stream": "stdout",
       "text": [
        "      0.7071067812"
       ]
      }
     ],
     "prompt_number": 26
    },
    {
     "cell_type": "code",
     "collapsed": false,
     "input": [
      "round(mi_sin(pi/4), 5)"
     ],
     "language": "python",
     "metadata": {},
     "outputs": [
      {
       "metadata": {},
       "output_type": "pyout",
       "prompt_number": 31,
       "text": [
        "0.70711"
       ]
      }
     ],
     "prompt_number": 31
    },
    {
     "cell_type": "code",
     "collapsed": false,
     "input": [
      "sin(pi/4)"
     ],
     "language": "python",
     "metadata": {},
     "outputs": [
      {
       "metadata": {},
       "output_type": "pyout",
       "prompt_number": 27,
       "text": [
        "0.7071067811865475"
       ]
      }
     ],
     "prompt_number": 27
    },
    {
     "cell_type": "code",
     "collapsed": false,
     "input": [
      "float(\"-3.57\")"
     ],
     "language": "python",
     "metadata": {},
     "outputs": [
      {
       "metadata": {},
       "output_type": "pyout",
       "prompt_number": 33,
       "text": [
        "-3.57"
       ]
      }
     ],
     "prompt_number": 33
    },
    {
     "cell_type": "code",
     "collapsed": false,
     "input": [
      "float"
     ],
     "language": "python",
     "metadata": {},
     "outputs": [
      {
       "metadata": {},
       "output_type": "pyout",
       "prompt_number": 34,
       "text": [
        "float (generic function with 11 methods)"
       ]
      }
     ],
     "prompt_number": 34
    },
    {
     "cell_type": "code",
     "collapsed": false,
     "input": [
      "float64(1+1im)"
     ],
     "language": "python",
     "metadata": {},
     "outputs": [
      {
       "metadata": {},
       "output_type": "pyout",
       "prompt_number": 38,
       "text": [
        "1.0 + 1.0im"
       ]
      }
     ],
     "prompt_number": 38
    },
    {
     "cell_type": "heading",
     "level": 2,
     "metadata": {},
     "source": [
      "printf"
     ]
    },
    {
     "cell_type": "code",
     "collapsed": false,
     "input": [
      "@printf \"%f\" 3.571010231203"
     ],
     "language": "python",
     "metadata": {},
     "outputs": [
      {
       "output_type": "stream",
       "stream": "stdout",
       "text": [
        "3."
       ]
      },
      {
       "output_type": "stream",
       "stream": "stdout",
       "text": [
        "571010"
       ]
      }
     ],
     "prompt_number": 40
    },
    {
     "cell_type": "code",
     "collapsed": false,
     "input": [
      "@printf \"%.10f\" 3.571012343240231203"
     ],
     "language": "python",
     "metadata": {},
     "outputs": [
      {
       "output_type": "stream",
       "stream": "stdout",
       "text": [
        "3."
       ]
      },
      {
       "output_type": "stream",
       "stream": "stdout",
       "text": [
        "5710123432"
       ]
      }
     ],
     "prompt_number": 41
    },
    {
     "cell_type": "code",
     "collapsed": false,
     "input": [
      "@printf \"%20.10f\" 3.571012343240231203"
     ],
     "language": "python",
     "metadata": {},
     "outputs": [
      {
       "output_type": "stream",
       "stream": "stdout",
       "text": [
        "  "
       ]
      },
      {
       "output_type": "stream",
       "stream": "stdout",
       "text": [
        "      3.5710123432"
       ]
      }
     ],
     "prompt_number": 42
    },
    {
     "cell_type": "code",
     "collapsed": false,
     "input": [
      "@printf \"%20.10f\" -3.571012343240231203"
     ],
     "language": "python",
     "metadata": {},
     "outputs": [
      {
       "output_type": "stream",
       "stream": "stdout",
       "text": [
        "  "
       ]
      },
      {
       "output_type": "stream",
       "stream": "stdout",
       "text": [
        "     -3.5710123432"
       ]
      }
     ],
     "prompt_number": 43
    },
    {
     "cell_type": "code",
     "collapsed": false,
     "input": [
      "s = @sprintf \"%20.10f\" -3.571012343240231203"
     ],
     "language": "python",
     "metadata": {},
     "outputs": [
      {
       "metadata": {},
       "output_type": "pyout",
       "prompt_number": 45,
       "text": [
        "\"       -3.5710123432\""
       ]
      }
     ],
     "prompt_number": 45
    },
    {
     "cell_type": "code",
     "collapsed": false,
     "input": [
      "s"
     ],
     "language": "python",
     "metadata": {},
     "outputs": [
      {
       "metadata": {},
       "output_type": "pyout",
       "prompt_number": 46,
       "text": [
        "\"       -3.5710123432\""
       ]
      }
     ],
     "prompt_number": 46
    },
    {
     "cell_type": "markdown",
     "metadata": {},
     "source": [
      "Euler:\n",
      "\n",
      "$$e^{ix} = \\cos(x) + i \\sin(x)$$"
     ]
    },
    {
     "cell_type": "markdown",
     "metadata": {},
     "source": [
      "$$\\sin(x) = \\frac{e^{ix} - e^{-ix}}{2i}$$"
     ]
    },
    {
     "cell_type": "code",
     "collapsed": false,
     "input": [
      "mi_sin2(x) = ( exp(im*x) - exp(-im*x) ) / (2im)"
     ],
     "language": "python",
     "metadata": {},
     "outputs": [
      {
       "metadata": {},
       "output_type": "pyout",
       "prompt_number": 47,
       "text": [
        "mi_sin2 (generic function with 1 method)"
       ]
      }
     ],
     "prompt_number": 47
    },
    {
     "cell_type": "code",
     "collapsed": false,
     "input": [
      "mi_sin2(pi/4)"
     ],
     "language": "python",
     "metadata": {},
     "outputs": [
      {
       "metadata": {},
       "output_type": "pyout",
       "prompt_number": 49,
       "text": [
        "0.7071067811865475 + 0.0im"
       ]
      }
     ],
     "prompt_number": 49
    },
    {
     "cell_type": "code",
     "collapsed": false,
     "input": [
      "mi_cos(x) = mi_sin(pi/2 - x)"
     ],
     "language": "python",
     "metadata": {},
     "outputs": [
      {
       "metadata": {},
       "output_type": "pyout",
       "prompt_number": 55,
       "text": [
        "mi_cos (generic function with 1 method)"
       ]
      }
     ],
     "prompt_number": 55
    },
    {
     "cell_type": "markdown",
     "metadata": {},
     "source": [
      "$$\\sin(A+B) = \\sin A \\cos B + \\sin B \\cos A$$"
     ]
    },
    {
     "cell_type": "code",
     "collapsed": false,
     "input": [
      "mi_cos(pi/4)"
     ],
     "language": "python",
     "metadata": {},
     "outputs": [
      {
       "metadata": {},
       "output_type": "pyout",
       "prompt_number": 54,
       "text": [
        "0.7071067811865475"
       ]
      }
     ],
     "prompt_number": 54
    },
    {
     "cell_type": "code",
     "collapsed": false,
     "input": [
      "x = pi/4"
     ],
     "language": "python",
     "metadata": {},
     "outputs": [
      {
       "metadata": {},
       "output_type": "pyout",
       "prompt_number": 56,
       "text": [
        "0.7853981633974483"
       ]
      }
     ],
     "prompt_number": 56
    },
    {
     "cell_type": "code",
     "collapsed": false,
     "input": [
      "x = pi/4\n",
      "mi_sin(x)^2 + mi_cos(x)^2"
     ],
     "language": "python",
     "metadata": {},
     "outputs": [
      {
       "metadata": {},
       "output_type": "pyout",
       "prompt_number": 57,
       "text": [
        "0.9999999999999998"
       ]
      }
     ],
     "prompt_number": 57
    },
    {
     "cell_type": "code",
     "collapsed": false,
     "input": [
      "mi_sin(2x) - 2*mi_sin(x)*mi_cos(x)"
     ],
     "language": "python",
     "metadata": {},
     "outputs": [
      {
       "metadata": {},
       "output_type": "pyout",
       "prompt_number": 59,
       "text": [
        "2.220446049250313e-16"
       ]
      }
     ],
     "prompt_number": 59
    },
    {
     "cell_type": "code",
     "collapsed": false,
     "input": [
      "a = pi + pi*im\n",
      "@printf \".5f\" a"
     ],
     "language": "python",
     "metadata": {},
     "outputs": [
      {
       "ename": "LoadError",
       "evalue": "@printf: wrong number of arguments\nwhile loading In[64], in expression starting on line 2",
       "output_type": "pyerr",
       "traceback": [
        "@printf: wrong number of arguments\nwhile loading In[64], in expression starting on line 2"
       ]
      }
     ],
     "prompt_number": 64
    },
    {
     "cell_type": "code",
     "collapsed": false,
     "input": [
      "a = pi + e*im"
     ],
     "language": "python",
     "metadata": {},
     "outputs": [
      {
       "metadata": {},
       "output_type": "pyout",
       "prompt_number": 67,
       "text": [
        "3.141592653589793 + 2.718281828459045im"
       ]
      }
     ],
     "prompt_number": 67
    },
    {
     "cell_type": "code",
     "collapsed": false,
     "input": [
      "real(a)"
     ],
     "language": "python",
     "metadata": {},
     "outputs": [
      {
       "metadata": {},
       "output_type": "pyout",
       "prompt_number": 68,
       "text": [
        "3.141592653589793"
       ]
      }
     ],
     "prompt_number": 68
    },
    {
     "cell_type": "code",
     "collapsed": false,
     "input": [
      "imag(a)"
     ],
     "language": "python",
     "metadata": {},
     "outputs": [
      {
       "metadata": {},
       "output_type": "pyout",
       "prompt_number": 69,
       "text": [
        "2.718281828459045"
       ]
      }
     ],
     "prompt_number": 69
    },
    {
     "cell_type": "code",
     "collapsed": false,
     "input": [
      "a.re"
     ],
     "language": "python",
     "metadata": {},
     "outputs": [
      {
       "metadata": {},
       "output_type": "pyout",
       "prompt_number": 70,
       "text": [
        "3.141592653589793"
       ]
      }
     ],
     "prompt_number": 70
    },
    {
     "cell_type": "code",
     "collapsed": false,
     "input": [
      "a.im"
     ],
     "language": "python",
     "metadata": {},
     "outputs": [
      {
       "metadata": {},
       "output_type": "pyout",
       "prompt_number": 71,
       "text": [
        "2.718281828459045"
       ]
      }
     ],
     "prompt_number": 71
    },
    {
     "cell_type": "code",
     "collapsed": false,
     "input": [
      "function mi_sin3(x, n=100) # n=30 es argumento por defecto\n",
      "    \n",
      "    y = x % (2pi)\n",
      "    \n",
      "    if n==0\n",
      "        x\n",
      "    else\n",
      "        (-1)^n * big(x)^(2n+1) / factorial(big(2n+1)) + mi_sin3(x, n-1)\n",
      "    end\n",
      "    \n",
      "end"
     ],
     "language": "python",
     "metadata": {},
     "outputs": [
      {
       "metadata": {},
       "output_type": "pyout",
       "prompt_number": 80,
       "text": [
        "mi_sin3 (generic function with 2 methods)"
       ]
      }
     ],
     "prompt_number": 80
    },
    {
     "cell_type": "code",
     "collapsed": false,
     "input": [
      "mi_sin3(pi/4)"
     ],
     "language": "python",
     "metadata": {},
     "outputs": [
      {
       "metadata": {},
       "output_type": "pyout",
       "prompt_number": 76,
       "text": [
        "7.071067811865475027519429562175167462615432395374927895243661191374820215180412e-01 with 256 bits of precision"
       ]
      }
     ],
     "prompt_number": 76
    },
    {
     "cell_type": "code",
     "collapsed": false,
     "input": [
      "mi_sin3(21pi)"
     ],
     "language": "python",
     "metadata": {},
     "outputs": [
      {
       "metadata": {},
       "output_type": "pyout",
       "prompt_number": 81,
       "text": [
        "2.982005416255924689305553293419700358352464223234030372607449137850137754412617e-13 with 256 bits of precision"
       ]
      }
     ],
     "prompt_number": 81
    },
    {
     "cell_type": "code",
     "collapsed": false,
     "input": [
      "sin(21pi)"
     ],
     "language": "python",
     "metadata": {},
     "outputs": [
      {
       "metadata": {},
       "output_type": "pyout",
       "prompt_number": 79,
       "text": [
        "-9.809554005910593e-16"
       ]
      }
     ],
     "prompt_number": 79
    },
    {
     "cell_type": "code",
     "collapsed": false,
     "input": [
      "function mi_sin(x::Real)  # si x es real\n",
      "    println(\"Soy real\")\n",
      "end"
     ],
     "language": "python",
     "metadata": {},
     "outputs": [
      {
       "metadata": {},
       "output_type": "pyout",
       "prompt_number": 84,
       "text": [
        "mi_sin (generic function with 2 methods)"
       ]
      }
     ],
     "prompt_number": 84
    },
    {
     "cell_type": "code",
     "collapsed": false,
     "input": [
      "function mi_sin(x::Complex)  # si x es compleja\n",
      "    println(\"Soy complejo\")\n",
      "end"
     ],
     "language": "python",
     "metadata": {},
     "outputs": [
      {
       "metadata": {},
       "output_type": "pyout",
       "prompt_number": 85,
       "text": [
        "mi_sin (generic function with 3 methods)"
       ]
      }
     ],
     "prompt_number": 85
    },
    {
     "cell_type": "code",
     "collapsed": false,
     "input": [
      "mi_sin(3)"
     ],
     "language": "python",
     "metadata": {},
     "outputs": [
      {
       "output_type": "stream",
       "stream": "stdout",
       "text": [
        "Soy real\n"
       ]
      }
     ],
     "prompt_number": 86
    },
    {
     "cell_type": "code",
     "collapsed": false,
     "input": [
      "mi_sin(3+im)"
     ],
     "language": "python",
     "metadata": {},
     "outputs": [
      {
       "output_type": "stream",
       "stream": "stdout",
       "text": [
        "Soy complejo\n"
       ]
      }
     ],
     "prompt_number": 88
    },
    {
     "cell_type": "code",
     "collapsed": false,
     "input": [
      "mi_sin(3+0im)"
     ],
     "language": "python",
     "metadata": {},
     "outputs": [
      {
       "output_type": "stream",
       "stream": "stdout",
       "text": [
        "Soy complejo\n"
       ]
      }
     ],
     "prompt_number": 89
    },
    {
     "cell_type": "code",
     "collapsed": false,
     "input": [
      "3+0im"
     ],
     "language": "python",
     "metadata": {},
     "outputs": [
      {
       "metadata": {},
       "output_type": "pyout",
       "prompt_number": 90,
       "text": [
        "3 + 0im"
       ]
      }
     ],
     "prompt_number": 90
    },
    {
     "cell_type": "code",
     "collapsed": false,
     "input": [
      "3+0im == 3"
     ],
     "language": "python",
     "metadata": {},
     "outputs": [
      {
       "metadata": {},
       "output_type": "pyout",
       "prompt_number": 91,
       "text": [
        "true"
       ]
      }
     ],
     "prompt_number": 91
    },
    {
     "cell_type": "code",
     "collapsed": false,
     "input": [
      "3+0im === 3"
     ],
     "language": "python",
     "metadata": {},
     "outputs": [
      {
       "metadata": {},
       "output_type": "pyout",
       "prompt_number": 92,
       "text": [
        "false"
       ]
      }
     ],
     "prompt_number": 92
    },
    {
     "cell_type": "code",
     "collapsed": false,
     "input": [
      "abs(-3.5)"
     ],
     "language": "python",
     "metadata": {},
     "outputs": [
      {
       "metadata": {},
       "output_type": "pyout",
       "prompt_number": 93,
       "text": [
        "3.5"
       ]
      }
     ],
     "prompt_number": 93
    },
    {
     "cell_type": "code",
     "collapsed": false,
     "input": [
      "abs(3+4im)"
     ],
     "language": "python",
     "metadata": {},
     "outputs": [
      {
       "metadata": {},
       "output_type": "pyout",
       "prompt_number": 94,
       "text": [
        "5.0"
       ]
      }
     ],
     "prompt_number": 94
    },
    {
     "cell_type": "code",
     "collapsed": false,
     "input": [
      "@which abs(-3.5)"
     ],
     "language": "python",
     "metadata": {},
     "outputs": [
      {
       "html": [
        "abs(x::<b>Float64</b>) at <a href=\"https://github.com/JuliaLang/julia/tree/48eed798b6c9413d2f25c66d038e74c242343b56/base/float.jl#L207\" target=\"_blank\">float.jl:207</a>"
       ],
       "metadata": {},
       "output_type": "pyout",
       "prompt_number": 95,
       "text": [
        "abs(x::Float64) at float.jl:207"
       ]
      }
     ],
     "prompt_number": 95
    },
    {
     "cell_type": "code",
     "collapsed": false,
     "input": [
      "@which abs(3+4im)"
     ],
     "language": "python",
     "metadata": {},
     "outputs": [
      {
       "html": [
        "abs(z::<b>Complex{T<:Real}</b>) at <a href=\"https://github.com/JuliaLang/julia/tree/48eed798b6c9413d2f25c66d038e74c242343b56/base/complex.jl#L103\" target=\"_blank\">complex.jl:103</a>"
       ],
       "metadata": {},
       "output_type": "pyout",
       "prompt_number": 96,
       "text": [
        "abs(z::Complex{T<:Real}) at complex.jl:103"
       ]
      }
     ],
     "prompt_number": 96
    },
    {
     "cell_type": "heading",
     "level": 1,
     "metadata": {},
     "source": [
      "Funciones que tomen funciones como argumentos"
     ]
    },
    {
     "cell_type": "code",
     "collapsed": false,
     "input": [
      "function biseccion(f, x)\n",
      "    f(x)\n",
      "end"
     ],
     "language": "python",
     "metadata": {},
     "outputs": [
      {
       "metadata": {},
       "output_type": "pyout",
       "prompt_number": 98,
       "text": [
        "biseccion (generic function with 1 method)"
       ]
      }
     ],
     "prompt_number": 98
    },
    {
     "cell_type": "code",
     "collapsed": false,
     "input": [
      "hola(y) = 3y^2"
     ],
     "language": "python",
     "metadata": {},
     "outputs": [
      {
       "metadata": {},
       "output_type": "pyout",
       "prompt_number": 99,
       "text": [
        "hola (generic function with 1 method)"
       ]
      }
     ],
     "prompt_number": 99
    },
    {
     "cell_type": "code",
     "collapsed": false,
     "input": [
      "biseccion(hola, 10)"
     ],
     "language": "python",
     "metadata": {},
     "outputs": [
      {
       "metadata": {},
       "output_type": "pyout",
       "prompt_number": 100,
       "text": [
        "300"
       ]
      }
     ],
     "prompt_number": 100
    },
    {
     "cell_type": "code",
     "collapsed": false,
     "input": [
      "hola"
     ],
     "language": "python",
     "metadata": {},
     "outputs": [
      {
       "metadata": {},
       "output_type": "pyout",
       "prompt_number": 101,
       "text": [
        "hola (generic function with 1 method)"
       ]
      }
     ],
     "prompt_number": 101
    },
    {
     "cell_type": "code",
     "collapsed": false,
     "input": [
      "david = hola"
     ],
     "language": "python",
     "metadata": {},
     "outputs": [
      {
       "metadata": {},
       "output_type": "pyout",
       "prompt_number": 102,
       "text": [
        "hola (generic function with 1 method)"
       ]
      }
     ],
     "prompt_number": 102
    },
    {
     "cell_type": "code",
     "collapsed": false,
     "input": [
      "david"
     ],
     "language": "python",
     "metadata": {},
     "outputs": [
      {
       "metadata": {},
       "output_type": "pyout",
       "prompt_number": 103,
       "text": [
        "hola (generic function with 1 method)"
       ]
      }
     ],
     "prompt_number": 103
    },
    {
     "cell_type": "code",
     "collapsed": false,
     "input": [
      "david(10)"
     ],
     "language": "python",
     "metadata": {},
     "outputs": [
      {
       "metadata": {},
       "output_type": "pyout",
       "prompt_number": 104,
       "text": [
        "300"
       ]
      }
     ],
     "prompt_number": 104
    },
    {
     "cell_type": "code",
     "collapsed": false,
     "input": [
      "function newton(f, f_deriv, x)\n",
      "end"
     ],
     "language": "python",
     "metadata": {},
     "outputs": [
      {
       "metadata": {},
       "output_type": "pyout",
       "prompt_number": 108,
       "text": [
        "newton (generic function with 1 method)"
       ]
      }
     ],
     "prompt_number": 108
    },
    {
     "cell_type": "heading",
     "level": 1,
     "metadata": {},
     "source": [
      "Funciones an\u00f3nimas"
     ]
    },
    {
     "cell_type": "markdown",
     "metadata": {},
     "source": [
      "Yo quiero:\n",
      "\n",
      "`newton(cos, -sin, x)`"
     ]
    },
    {
     "cell_type": "code",
     "collapsed": false,
     "input": [
      "newton(cos, -sin, x)"
     ],
     "language": "python",
     "metadata": {},
     "outputs": [
      {
       "ename": "LoadError",
       "evalue": "`-` has no method matching -(::Function)\nwhile loading In[106], in expression starting on line 1",
       "output_type": "pyerr",
       "traceback": [
        "`-` has no method matching -(::Function)\nwhile loading In[106], in expression starting on line 1"
       ]
      }
     ],
     "prompt_number": 106
    },
    {
     "cell_type": "code",
     "collapsed": false,
     "input": [
      "newton(cos, x->-sin(x), x)"
     ],
     "language": "python",
     "metadata": {},
     "outputs": [],
     "prompt_number": 109
    },
    {
     "cell_type": "code",
     "collapsed": false,
     "input": [
      "x -> 3x"
     ],
     "language": "python",
     "metadata": {},
     "outputs": [
      {
       "metadata": {},
       "output_type": "pyout",
       "prompt_number": 110,
       "text": [
        "(anonymous function)"
       ]
      }
     ],
     "prompt_number": 110
    },
    {
     "cell_type": "code",
     "collapsed": false,
     "input": [
      "function f(x)\n",
      "    -x\n",
      "end"
     ],
     "language": "python",
     "metadata": {},
     "outputs": [
      {
       "metadata": {},
       "output_type": "pyout",
       "prompt_number": 111,
       "text": [
        "f (generic function with 1 method)"
       ]
      }
     ],
     "prompt_number": 111
    },
    {
     "cell_type": "code",
     "collapsed": false,
     "input": [
      "newton(cos, f, x)"
     ],
     "language": "python",
     "metadata": {},
     "outputs": [],
     "prompt_number": 112
    },
    {
     "cell_type": "heading",
     "level": 1,
     "metadata": {},
     "source": [
      "Ir guardando"
     ]
    },
    {
     "cell_type": "code",
     "collapsed": false,
     "input": [
      "a = [3, 4, 5]"
     ],
     "language": "python",
     "metadata": {},
     "outputs": [
      {
       "metadata": {},
       "output_type": "pyout",
       "prompt_number": 113,
       "text": [
        "3-element Array{Int64,1}:\n",
        " 3\n",
        " 4\n",
        " 5"
       ]
      }
     ],
     "prompt_number": 113
    },
    {
     "cell_type": "code",
     "collapsed": false,
     "input": [
      "push!(a, 17)"
     ],
     "language": "python",
     "metadata": {},
     "outputs": [
      {
       "metadata": {},
       "output_type": "pyout",
       "prompt_number": 114,
       "text": [
        "4-element Array{Int64,1}:\n",
        "  3\n",
        "  4\n",
        "  5\n",
        " 17"
       ]
      }
     ],
     "prompt_number": 114
    },
    {
     "cell_type": "code",
     "collapsed": false,
     "input": [
      "a"
     ],
     "language": "python",
     "metadata": {},
     "outputs": [
      {
       "metadata": {},
       "output_type": "pyout",
       "prompt_number": 115,
       "text": [
        "4-element Array{Int64,1}:\n",
        "  3\n",
        "  4\n",
        "  5\n",
        " 17"
       ]
      }
     ],
     "prompt_number": 115
    },
    {
     "cell_type": "code",
     "collapsed": false,
     "input": [
      "a"
     ],
     "language": "python",
     "metadata": {},
     "outputs": [
      {
       "metadata": {},
       "output_type": "pyout",
       "prompt_number": 116,
       "text": [
        "4-element Array{Int64,1}:\n",
        "  3\n",
        "  4\n",
        "  5\n",
        " 17"
       ]
      }
     ],
     "prompt_number": 116
    },
    {
     "cell_type": "code",
     "collapsed": false,
     "input": [
      "a[3]"
     ],
     "language": "python",
     "metadata": {},
     "outputs": [
      {
       "metadata": {},
       "output_type": "pyout",
       "prompt_number": 117,
       "text": [
        "5"
       ]
      }
     ],
     "prompt_number": 117
    },
    {
     "cell_type": "code",
     "collapsed": false,
     "input": [
      "float(a[3])"
     ],
     "language": "python",
     "metadata": {},
     "outputs": [
      {
       "metadata": {},
       "output_type": "pyout",
       "prompt_number": 118,
       "text": [
        "5.0"
       ]
      }
     ],
     "prompt_number": 118
    },
    {
     "cell_type": "code",
     "collapsed": false,
     "input": [
      "a"
     ],
     "language": "python",
     "metadata": {},
     "outputs": [
      {
       "metadata": {},
       "output_type": "pyout",
       "prompt_number": 119,
       "text": [
        "4-element Array{Int64,1}:\n",
        "  3\n",
        "  4\n",
        "  5\n",
        " 17"
       ]
      }
     ],
     "prompt_number": 119
    },
    {
     "cell_type": "code",
     "collapsed": false,
     "input": [
      "a[3] = 100"
     ],
     "language": "python",
     "metadata": {},
     "outputs": [
      {
       "metadata": {},
       "output_type": "pyout",
       "prompt_number": 120,
       "text": [
        "100"
       ]
      }
     ],
     "prompt_number": 120
    },
    {
     "cell_type": "code",
     "collapsed": false,
     "input": [
      "a"
     ],
     "language": "python",
     "metadata": {},
     "outputs": [
      {
       "metadata": {},
       "output_type": "pyout",
       "prompt_number": 121,
       "text": [
        "4-element Array{Int64,1}:\n",
        "   3\n",
        "   4\n",
        " 100\n",
        "  17"
       ]
      }
     ],
     "prompt_number": 121
    },
    {
     "cell_type": "code",
     "collapsed": false,
     "input": [
      "methodswith(Array)"
     ],
     "language": "python",
     "metadata": {},
     "outputs": [
      {
       "html": [
        "308-element Array{Method,1}:<ul><li> Message(a::<b>Array{T,N}</b>) at <a href=\"https://github.com/JuliaLang/ZMQ.jl/tree/8f1eddbfa8a044513776953d702efb6b9c122beb/src/ZMQ.jl#L405\" target=\"_blank\">/Users/david/.julia/ZMQ/src/ZMQ.jl:405</a><li> UTF8String(data::<b>Array{Uint8,1}</b>)<li> ASCIIString(data::<b>Array{Uint8,1}</b>)<li> SparseMatrixCSC<i>{Tv,Ti<:Integer}</i>(m::<b>Int64</b>,n::<b>Int64</b>,colptr::<b>Array{Ti<:Integer,1}</b>,rowval::<b>Array{Ti<:Integer,1}</b>,nzval::<b>Array{Tv,1}</b>)<li> SparseMatrixCSC<i>{Tv,Ti}</i>(m::<b>Integer</b>,n::<b>Integer</b>,colptr::<b>Array{Ti,1}</b>,rowval::<b>Array{Ti,1}</b>,nzval::<b>Array{Tv,1}</b>) at <a href=\"https://github.com/JuliaLang/julia/tree/48eed798b6c9413d2f25c66d038e74c242343b56/base/sparse/sparsematrix.jl#L14\" target=\"_blank\">sparse/sparsematrix.jl:14</a><li> flipdim<i>{T}</i>(A::<b>Array{T,N}</b>,d::<b>Integer</b>) at <a href=\"https://github.com/JuliaLang/julia/tree/48eed798b6c9413d2f25c66d038e74c242343b56/base/array.jl#L874\" target=\"_blank\">array.jl:874</a><li> done(f::<b>FixedPartitions</b>,s::<b>Array{Int64,1}</b>) at <a href=\"https://github.com/JuliaLang/julia/tree/48eed798b6c9413d2f25c66d038e74c242343b56/base/combinatorics.jl#L393\" target=\"_blank\">combinatorics.jl:393</a><li> reshape<i>{T,N}</i>(a::<b>Array{T,N}</b>,dims::<b>NTuple{N,Int64}</b>) at <a href=\"https://github.com/JuliaLang/julia/tree/48eed798b6c9413d2f25c66d038e74c242343b56/base/array.jl#L88\" target=\"_blank\">array.jl:88</a><li> reshape<i>{T,N}</i>(a::<b>Array{T,N}</b>,dims::<b>NTuple{N,Int64}</b>) at <a href=\"https://github.com/JuliaLang/julia/tree/48eed798b6c9413d2f25c66d038e74c242343b56/base/array.jl#L99\" target=\"_blank\">array.jl:99</a><li> kron<i>{T,S}</i>(a::<b>Array{T,2}</b>,b::<b>Array{S,2}</b>) at <a href=\"https://github.com/JuliaLang/julia/tree/48eed798b6c9413d2f25c66d038e74c242343b56/base/linalg/dense.jl#L138\" target=\"_blank\">linalg/dense.jl:138</a><li> randn!(A::<b>Array{Float64,N}</b>) at <a href=\"https://github.com/JuliaLang/julia/tree/48eed798b6c9413d2f25c66d038e74c242343b56/base/random.jl#L257\" target=\"_blank\">random.jl:257</a><li> randn!(rng::<b>MersenneTwister</b>,A::<b>Array{Float64,N}</b>) at <a href=\"https://github.com/JuliaLang/julia/tree/48eed798b6c9413d2f25c66d038e74c242343b56/base/random.jl#L258\" target=\"_blank\">random.jl:258</a><li> setindex!(a::<b>Array{Any,N}</b>,d::<b>Union(SubArray{T,N,D<:DArray{T,N,A},I<:(Union(Int64,Range{Int64})...,)},DArray{T,N,A})</b>,i::<b>Int64</b>) at <a href=\"https://github.com/JuliaLang/julia/tree/48eed798b6c9413d2f25c66d038e74c242343b56/base/darray.jl#L294\" target=\"_blank\">darray.jl:294</a><li> setindex!(A::<b>Array{Any,N}</b>,x,i::<b>Real</b>) at <a href=\"https://github.com/JuliaLang/julia/tree/48eed798b6c9413d2f25c66d038e74c242343b56/base/base.jl#L177\" target=\"_blank\">base.jl:177</a><li> setindex!<i>{T}</i>(A::<b>Array{T,N}</b>,X::<b>Array{T,N}</b>,I::<b>UnitRange{Int64}</b>) at <a href=\"https://github.com/JuliaLang/julia/tree/48eed798b6c9413d2f25c66d038e74c242343b56/base/array.jl#L329\" target=\"_blank\">array.jl:329</a><li> setindex!(a::<b>Array{T,N}</b>,d::<b>DArray{T,N,A}</b>,I::<b>UnitRange{Int64}...</b>) at <a href=\"https://github.com/JuliaLang/julia/tree/48eed798b6c9413d2f25c66d038e74c242343b56/base/darray.jl#L254\" target=\"_blank\">darray.jl:254</a><li> setindex!(a::<b>Array{T,N}</b>,s::<b>SubArray{T,N,D<:DArray{T,N,A},I<:(Union(Int64,Range{Int64})...,)}</b>,I::<b>UnitRange{Int64}...</b>) at <a href=\"https://github.com/JuliaLang/julia/tree/48eed798b6c9413d2f25c66d038e74c242343b56/base/darray.jl#L265\" target=\"_blank\">darray.jl:265</a><li> setindex!(a::<b>Array{T,N}</b>,d::<b>Union(SubArray{T,N,D<:DArray{T,N,A},I<:(Union(Int64,Range{Int64})...,)},DArray{T,N,A})</b>,I::<b>Union(Int64,UnitRange{Int64})...</b>) at <a href=\"https://github.com/JuliaLang/julia/tree/48eed798b6c9413d2f25c66d038e74c242343b56/base/darray.jl#L296\" target=\"_blank\">darray.jl:296</a><li> setindex!(A::<b>Array{T,N}</b>,X::<b>AbstractArray{T,N}</b>,I::<b>AbstractArray{Bool,1}</b>) at <a href=\"https://github.com/JuliaLang/julia/tree/48eed798b6c9413d2f25c66d038e74c242343b56/base/array.jl#L379\" target=\"_blank\">array.jl:379</a><li> setindex!<i>{T<:Real}</i>(A::<b>Array{T,N}</b>,X::<b>AbstractArray{T,N}</b>,I::<b>AbstractArray{T<:Real,1}</b>) at <a href=\"https://github.com/JuliaLang/julia/tree/48eed798b6c9413d2f25c66d038e74c242343b56/base/array.jl#L337\" target=\"_blank\">array.jl:337</a><li> setindex!(A::<b>Array{T,N}</b>,x,I::<b>AbstractArray{Bool,1}</b>) at <a href=\"https://github.com/JuliaLang/julia/tree/48eed798b6c9413d2f25c66d038e74c242343b56/base/array.jl#L381\" target=\"_blank\">array.jl:381</a><li> setindex!<i>{T<:Real}</i>(A::<b>Array{T,N}</b>,x,I::<b>AbstractArray{T<:Real,1}</b>) at <a href=\"https://github.com/JuliaLang/julia/tree/48eed798b6c9413d2f25c66d038e74c242343b56/base/array.jl#L322\" target=\"_blank\">array.jl:322</a><li> setindex!(A::<b>Array{T,N}</b>,X::<b>AbstractArray{T,N}</b>,I::<b>AbstractArray{Bool,N}</b>) at <a href=\"https://github.com/JuliaLang/julia/tree/48eed798b6c9413d2f25c66d038e74c242343b56/base/array.jl#L380\" target=\"_blank\">array.jl:380</a><li> setindex!<i>{T}</i>(A::<b>Array{T,N}</b>,x) at <a href=\"https://github.com/JuliaLang/julia/tree/48eed798b6c9413d2f25c66d038e74c242343b56/base/array.jl#L305\" target=\"_blank\">array.jl:305</a><li> setindex!<i>{T}</i>(A::<b>Array{T,N}</b>,x,i0::<b>Real</b>) at <a href=\"https://github.com/JuliaLang/julia/tree/48eed798b6c9413d2f25c66d038e74c242343b56/base/array.jl#L307\" target=\"_blank\">array.jl:307</a><li> setindex!<i>{T}</i>(A::<b>Array{T,N}</b>,x,i0::<b>Real</b>,i1::<b>Real</b>) at <a href=\"https://github.com/JuliaLang/julia/tree/48eed798b6c9413d2f25c66d038e74c242343b56/base/array.jl#L308\" target=\"_blank\">array.jl:308</a><li> setindex!<i>{T}</i>(A::<b>Array{T,N}</b>,x,i0::<b>Real</b>,i1::<b>Real</b>,i2::<b>Real</b>) at <a href=\"https://github.com/JuliaLang/julia/tree/48eed798b6c9413d2f25c66d038e74c242343b56/base/array.jl#L310\" target=\"_blank\">array.jl:310</a><li> setindex!<i>{T}</i>(A::<b>Array{T,N}</b>,x,i0::<b>Real</b>,i1::<b>Real</b>,i2::<b>Real</b>,i3::<b>Real</b>) at <a href=\"https://github.com/JuliaLang/julia/tree/48eed798b6c9413d2f25c66d038e74c242343b56/base/array.jl#L312\" target=\"_blank\">array.jl:312</a><li> setindex!<i>{T}</i>(A::<b>Array{T,N}</b>,x,i0::<b>Real</b>,i1::<b>Real</b>,i2::<b>Real</b>,i3::<b>Real</b>,i4::<b>Real</b>) at <a href=\"https://github.com/JuliaLang/julia/tree/48eed798b6c9413d2f25c66d038e74c242343b56/base/array.jl#L314\" target=\"_blank\">array.jl:314</a><li> setindex!<i>{T}</i>(A::<b>Array{T,N}</b>,x,i0::<b>Real</b>,i1::<b>Real</b>,i2::<b>Real</b>,i3::<b>Real</b>,i4::<b>Real</b>,i5::<b>Real</b>) at <a href=\"https://github.com/JuliaLang/julia/tree/48eed798b6c9413d2f25c66d038e74c242343b56/base/array.jl#L316\" target=\"_blank\">array.jl:316</a><li> setindex!<i>{T}</i>(A::<b>Array{T,N}</b>,x,i0::<b>Real</b>,i1::<b>Real</b>,i2::<b>Real</b>,i3::<b>Real</b>,i4::<b>Real</b>,i5::<b>Real</b>,I::<b>Real...</b>) at <a href=\"https://github.com/JuliaLang/julia/tree/48eed798b6c9413d2f25c66d038e74c242343b56/base/array.jl#L318\" target=\"_blank\">array.jl:318</a><li> setindex!(A::<b>Array{T,N}</b>,x,I::<b>AbstractArray{Bool,N}</b>) at <a href=\"https://github.com/JuliaLang/julia/tree/48eed798b6c9413d2f25c66d038e74c242343b56/base/array.jl#L382\" target=\"_blank\">array.jl:382</a><li> setindex!(A::<b>Array{T,N}</b>,x,J_1::<b>Union(AbstractArray{T,N},Real)</b>) at <a href=\"https://github.com/JuliaLang/julia/tree/48eed798b6c9413d2f25c66d038e74c242343b56/base/multidimensional.jl#L61\" target=\"_blank\">multidimensional.jl:61</a><li> setindex!(A::<b>Array{T,N}</b>,x,J_1::<b>Union(AbstractArray{T,N},Real)</b>,J_2::<b>Union(AbstractArray{T,N},Real)</b>) at <a href=\"https://github.com/JuliaLang/julia/tree/48eed798b6c9413d2f25c66d038e74c242343b56/base/multidimensional.jl#L61\" target=\"_blank\">multidimensional.jl:61</a><li> setindex!(A::<b>Array{T,N}</b>,x,J_1::<b>Union(AbstractArray{T,N},Real)</b>,J_2::<b>Union(AbstractArray{T,N},Real)</b>,J_3::<b>Union(AbstractArray{T,N},Real)</b>) at <a href=\"https://github.com/JuliaLang/julia/tree/48eed798b6c9413d2f25c66d038e74c242343b56/base/multidimensional.jl#L61\" target=\"_blank\">multidimensional.jl:61</a><li> setindex!(A::<b>Array{T,N}</b>,x,J_1::<b>Union(AbstractArray{T,N},Real)</b>,J_2::<b>Union(AbstractArray{T,N},Real)</b>,J_3::<b>Union(AbstractArray{T,N},Real)</b>,J_4::<b>Union(AbstractArray{T,N},Real)</b>) at <a href=\"https://github.com/JuliaLang/julia/tree/48eed798b6c9413d2f25c66d038e74c242343b56/base/multidimensional.jl#L61\" target=\"_blank\">multidimensional.jl:61</a><li> setindex!(A::<b>Array{T,N}</b>,x,J::<b>Union(AbstractArray{T,N},Real)...</b>) at <a href=\"https://github.com/JuliaLang/julia/tree/48eed798b6c9413d2f25c66d038e74c242343b56/base/cartesian.jl#L100\" target=\"_blank\">cartesian.jl:100</a><li> getindex(a::<b>Array{T,N}</b>) at <a href=\"https://github.com/JuliaLang/julia/tree/48eed798b6c9413d2f25c66d038e74c242343b56/base/array.jl#L244\" target=\"_blank\">array.jl:244</a><li> getindex(A::<b>Array{T,N}</b>,i0::<b>Real</b>) at <a href=\"https://github.com/JuliaLang/julia/tree/48eed798b6c9413d2f25c66d038e74c242343b56/base/array.jl#L246\" target=\"_blank\">array.jl:246</a><li> getindex(A::<b>Array{T,N}</b>,i0::<b>Real</b>,i1::<b>Real</b>) at <a href=\"https://github.com/JuliaLang/julia/tree/48eed798b6c9413d2f25c66d038e74c242343b56/base/array.jl#L247\" target=\"_blank\">array.jl:247</a><li> getindex(A::<b>Array{T,N}</b>,i0::<b>Real</b>,i1::<b>Real</b>,i2::<b>Real</b>) at <a href=\"https://github.com/JuliaLang/julia/tree/48eed798b6c9413d2f25c66d038e74c242343b56/base/array.jl#L248\" target=\"_blank\">array.jl:248</a><li> getindex(A::<b>Array{T,N}</b>,i0::<b>Real</b>,i1::<b>Real</b>,i2::<b>Real</b>,i3::<b>Real</b>) at <a href=\"https://github.com/JuliaLang/julia/tree/48eed798b6c9413d2f25c66d038e74c242343b56/base/array.jl#L250\" target=\"_blank\">array.jl:250</a><li> getindex(A::<b>Array{T,N}</b>,i0::<b>Real</b>,i1::<b>Real</b>,i2::<b>Real</b>,i3::<b>Real</b>,i4::<b>Real</b>) at <a href=\"https://github.com/JuliaLang/julia/tree/48eed798b6c9413d2f25c66d038e74c242343b56/base/array.jl#L252\" target=\"_blank\">array.jl:252</a><li> getindex(A::<b>Array{T,N}</b>,i0::<b>Real</b>,i1::<b>Real</b>,i2::<b>Real</b>,i3::<b>Real</b>,i4::<b>Real</b>,i5::<b>Real</b>) at <a href=\"https://github.com/JuliaLang/julia/tree/48eed798b6c9413d2f25c66d038e74c242343b56/base/array.jl#L254\" target=\"_blank\">array.jl:254</a><li> getindex(A::<b>Array{T,N}</b>,i0::<b>Real</b>,i1::<b>Real</b>,i2::<b>Real</b>,i3::<b>Real</b>,i4::<b>Real</b>,i5::<b>Real</b>,I::<b>Real...</b>) at <a href=\"https://github.com/JuliaLang/julia/tree/48eed798b6c9413d2f25c66d038e74c242343b56/base/array.jl#L257\" target=\"_blank\">array.jl:257</a><li> getindex(A::<b>Array{T,N}</b>,I::<b>UnitRange{Int64}</b>) at <a href=\"https://github.com/JuliaLang/julia/tree/48eed798b6c9413d2f25c66d038e74c242343b56/base/array.jl#L262\" target=\"_blank\">array.jl:262</a><li> getindex(A::<b>Array{T,N}</b>,I::<b>AbstractArray{Bool,1}</b>) at <a href=\"https://github.com/JuliaLang/julia/tree/48eed798b6c9413d2f25c66d038e74c242343b56/base/array.jl#L300\" target=\"_blank\">array.jl:300</a><li> getindex<i>{T<:Real}</i>(A::<b>Array{T,N}</b>,I::<b>AbstractArray{T<:Real,1}</b>) at <a href=\"https://github.com/JuliaLang/julia/tree/48eed798b6c9413d2f25c66d038e74c242343b56/base/array.jl#L271\" target=\"_blank\">array.jl:271</a><li> getindex(A::<b>Array{T,N}</b>,I::<b>AbstractArray{Bool,N}</b>) at <a href=\"https://github.com/JuliaLang/julia/tree/48eed798b6c9413d2f25c66d038e74c242343b56/base/array.jl#L301\" target=\"_blank\">array.jl:301</a><li> getindex(A::<b>Array{T,N}</b>,I_1::<b>Union(AbstractArray{T,1},Real)</b>) at <a href=\"https://github.com/JuliaLang/julia/tree/48eed798b6c9413d2f25c66d038e74c242343b56/base/multidimensional.jl#L49\" target=\"_blank\">multidimensional.jl:49</a><li> getindex(A::<b>Array{T,N}</b>,I_1::<b>Union(AbstractArray{T,1},Real)</b>,I_2::<b>Union(AbstractArray{T,1},Real)</b>) at <a href=\"https://github.com/JuliaLang/julia/tree/48eed798b6c9413d2f25c66d038e74c242343b56/base/multidimensional.jl#L49\" target=\"_blank\">multidimensional.jl:49</a><li> getindex(A::<b>Array{T,N}</b>,I_1::<b>Union(AbstractArray{T,1},Real)</b>,I_2::<b>Union(AbstractArray{T,1},Real)</b>,I_3::<b>Union(AbstractArray{T,1},Real)</b>) at <a href=\"https://github.com/JuliaLang/julia/tree/48eed798b6c9413d2f25c66d038e74c242343b56/base/multidimensional.jl#L49\" target=\"_blank\">multidimensional.jl:49</a><li> getindex(A::<b>Array{T,N}</b>,I_1::<b>Union(AbstractArray{T,1},Real)</b>,I_2::<b>Union(AbstractArray{T,1},Real)</b>,I_3::<b>Union(AbstractArray{T,1},Real)</b>,I_4::<b>Union(AbstractArray{T,1},Real)</b>) at <a href=\"https://github.com/JuliaLang/julia/tree/48eed798b6c9413d2f25c66d038e74c242343b56/base/multidimensional.jl#L49\" target=\"_blank\">multidimensional.jl:49</a><li> getindex(A::<b>Array{T,N}</b>,I::<b>Union(AbstractArray{T,1},Real)...</b>) at <a href=\"https://github.com/JuliaLang/julia/tree/48eed798b6c9413d2f25c66d038e74c242343b56/base/multidimensional.jl#L49\" target=\"_blank\">multidimensional.jl:49</a><li> float32_isvalid(s::<b>SubString{T<:String}</b>,out::<b>Array{Float32,1}</b>) at <a href=\"https://github.com/JuliaLang/julia/tree/48eed798b6c9413d2f25c66d038e74c242343b56/base/string.jl#L1578\" target=\"_blank\">string.jl:1578</a><li> float32_isvalid(s::<b>String</b>,out::<b>Array{Float32,1}</b>) at <a href=\"https://github.com/JuliaLang/julia/tree/48eed798b6c9413d2f25c66d038e74c242343b56/base/string.jl#L1573\" target=\"_blank\">string.jl:1573</a><li> SymTridiagonal<i>{T}</i>(dv::<b>Array{T,1}</b>,ev::<b>Array{T,1}</b>) at <a href=\"https://github.com/JuliaLang/julia/tree/48eed798b6c9413d2f25c66d038e74c242343b56/base/linalg/tridiag.jl#L13\" target=\"_blank\">linalg/tridiag.jl:13</a><li> SymTridiagonal<i>{Td,Te}</i>(dv::<b>Array{Td,1}</b>,ev::<b>Array{Te,1}</b>) at <a href=\"https://github.com/JuliaLang/julia/tree/48eed798b6c9413d2f25c66d038e74c242343b56/base/linalg/tridiag.jl#L16\" target=\"_blank\">linalg/tridiag.jl:16</a><li> nextprod(a::<b>Array{Int64,1}</b>,x) at <a href=\"https://github.com/JuliaLang/julia/tree/48eed798b6c9413d2f25c66d038e74c242343b56/base/combinatorics.jl#L595\" target=\"_blank\">combinatorics.jl:595</a><li> process_exited(s::<b>Array{Process,1}</b>) at <a href=\"https://github.com/JuliaLang/julia/tree/48eed798b6c9413d2f25c66d038e74c242343b56/base/process.jl#L546\" target=\"_blank\">process.jl:546</a><li> read<i>{T,N}</i>(t::<b>UnixTerminal</b>,x::<b>Array{T,N}</b>) at <a href=\"https://github.com/JuliaLang/julia/tree/48eed798b6c9413d2f25c66d038e74c242343b56/base/Terminals.jl#L189\" target=\"_blank\">Terminals.jl:189</a><li> read(from::<b>IOBuffer</b>,a::<b>Array{T,N}</b>) at <a href=\"https://github.com/JuliaLang/julia/tree/48eed798b6c9413d2f25c66d038e74c242343b56/base/deprecated.jl#L26\" target=\"_blank\">deprecated.jl:26</a><li> read(s::<b>IOStream</b>,a::<b>Array{T,N}</b>) at <a href=\"https://github.com/JuliaLang/julia/tree/48eed798b6c9413d2f25c66d038e74c242343b56/base/deprecated.jl#L26\" target=\"_blank\">deprecated.jl:26</a><li> read(this::<b>AsyncStream</b>,a::<b>Array{T,N}</b>) at <a href=\"https://github.com/JuliaLang/julia/tree/48eed798b6c9413d2f25c66d038e74c242343b56/base/deprecated.jl#L26\" target=\"_blank\">deprecated.jl:26</a><li> read(f::<b>File</b>,a::<b>Array{T,N}</b>,nel) at <a href=\"https://github.com/JuliaLang/julia/tree/48eed798b6c9413d2f25c66d038e74c242343b56/base/deprecated.jl#L26\" target=\"_blank\">deprecated.jl:26</a><li> read(f::<b>File</b>,a::<b>Array{T,N}</b>) at <a href=\"https://github.com/JuliaLang/julia/tree/48eed798b6c9413d2f25c66d038e74c242343b56/base/deprecated.jl#L26\" target=\"_blank\">deprecated.jl:26</a><li> read(s::<b>IO</b>,a::<b>Array{T,N}</b>) at <a href=\"https://github.com/JuliaLang/julia/tree/48eed798b6c9413d2f25c66d038e74c242343b56/base/deprecated.jl#L26\" target=\"_blank\">deprecated.jl:26</a><li> At_mul_B<i>{T<:Real}</i>(x::<b>Array{T<:Real,1}</b>,y::<b>Array{T<:Real,1}</b>) at <a href=\"https://github.com/JuliaLang/julia/tree/48eed798b6c9413d2f25c66d038e74c242343b56/base/linalg/matmul.jl#L62\" target=\"_blank\">linalg/matmul.jl:62</a><li> At_mul_B<i>{T<:Union(Complex{Float64},Complex{Float32})}</i>(x::<b>Array{T<:Union(Complex{Float64},Complex{Float32}),1}</b>,y::<b>Array{T<:Union(Complex{Float64},Complex{Float32}),1}</b>) at <a href=\"https://github.com/JuliaLang/julia/tree/48eed798b6c9413d2f25c66d038e74c242343b56/base/linalg/matmul.jl#L63\" target=\"_blank\">linalg/matmul.jl:63</a><li> size(a::<b>Array{T,N}</b>) at <a href=\"https://github.com/JuliaLang/julia/tree/48eed798b6c9413d2f25c66d038e74c242343b56/base/array.jl#L18\" target=\"_blank\">array.jl:18</a><li> size(a::<b>Array{T,N}</b>,d) at <a href=\"https://github.com/JuliaLang/julia/tree/48eed798b6c9413d2f25c66d038e74c242343b56/base/array.jl#L19\" target=\"_blank\">array.jl:19</a><li> copy!<i>{T}</i>(dest::<b>Array{T,N}</b>,dsto::<b>Integer</b>,src::<b>Array{T,N}</b>,so::<b>Integer</b>,N::<b>Integer</b>) at <a href=\"https://github.com/JuliaLang/julia/tree/48eed798b6c9413d2f25c66d038e74c242343b56/base/array.jl#L51\" target=\"_blank\">array.jl:51</a><li> copy!<i>{T}</i>(dest::<b>Array{T,N}</b>,src::<b>Array{T,N}</b>) at <a href=\"https://github.com/JuliaLang/julia/tree/48eed798b6c9413d2f25c66d038e74c242343b56/base/array.jl#L57\" target=\"_blank\">array.jl:57</a><li> copy!(S::<b>SharedArray{T,N}</b>,A::<b>Array{T,N}</b>) at <a href=\"https://github.com/JuliaLang/julia/tree/48eed798b6c9413d2f25c66d038e74c242343b56/base/sharedarray.jl#L290\" target=\"_blank\">sharedarray.jl:290</a><li> copy!<i>{T<:Union(Complex{Float64},Complex{Float32},Float64,Float32),Ti<:Integer}</i>(dest::<b>Array{T<:Union(Complex{Float64},Complex{Float32},Float64,Float32),N}</b>,rdest::<b>Union(UnitRange{Ti<:Integer},Range{Ti<:Integer})</b>,src::<b>Array{T<:Union(Complex{Float64},Complex{Float32},Float64,Float32),N}</b>,rsrc::<b>Union(UnitRange{Ti<:Integer},Range{Ti<:Integer})</b>) at <a href=\"https://github.com/JuliaLang/julia/tree/48eed798b6c9413d2f25c66d038e74c242343b56/base/linalg/blas.jl#L828\" target=\"_blank\">linalg/blas.jl:828</a><li> stringmime(::<b>MIME{symbol(\"text/vnd.graphviz\")}</b>,::<b>Array{Uint8,1}</b>) at <a href=\"https://github.com/JuliaLang/julia/tree/48eed798b6c9413d2f25c66d038e74c242343b56/base/multimedia.jl#L64\" target=\"_blank\">multimedia.jl:64</a><li> stringmime(::<b>MIME{symbol(\"text/latex\")}</b>,::<b>Array{Uint8,1}</b>) at <a href=\"https://github.com/JuliaLang/julia/tree/48eed798b6c9413d2f25c66d038e74c242343b56/base/multimedia.jl#L64\" target=\"_blank\">multimedia.jl:64</a><li> stringmime(::<b>MIME{symbol(\"text/calendar\")}</b>,::<b>Array{Uint8,1}</b>) at <a href=\"https://github.com/JuliaLang/julia/tree/48eed798b6c9413d2f25c66d038e74c242343b56/base/multimedia.jl#L64\" target=\"_blank\">multimedia.jl:64</a><li> stringmime(::<b>MIME{symbol(\"text/n3\")}</b>,::<b>Array{Uint8,1}</b>) at <a href=\"https://github.com/JuliaLang/julia/tree/48eed798b6c9413d2f25c66d038e74c242343b56/base/multimedia.jl#L64\" target=\"_blank\">multimedia.jl:64</a><li> stringmime(::<b>MIME{symbol(\"text/richtext\")}</b>,::<b>Array{Uint8,1}</b>) at <a href=\"https://github.com/JuliaLang/julia/tree/48eed798b6c9413d2f25c66d038e74c242343b56/base/multimedia.jl#L64\" target=\"_blank\">multimedia.jl:64</a><li> stringmime(::<b>MIME{symbol(\"text/x-setext\")}</b>,::<b>Array{Uint8,1}</b>) at <a href=\"https://github.com/JuliaLang/julia/tree/48eed798b6c9413d2f25c66d038e74c242343b56/base/multimedia.jl#L64\" target=\"_blank\">multimedia.jl:64</a><li> stringmime(::<b>MIME{symbol(\"text/sgml\")}</b>,::<b>Array{Uint8,1}</b>) at <a href=\"https://github.com/JuliaLang/julia/tree/48eed798b6c9413d2f25c66d038e74c242343b56/base/multimedia.jl#L64\" target=\"_blank\">multimedia.jl:64</a><li> stringmime(::<b>MIME{symbol(\"text/tab-separated-values\")}</b>,::<b>Array{Uint8,1}</b>) at <a href=\"https://github.com/JuliaLang/julia/tree/48eed798b6c9413d2f25c66d038e74c242343b56/base/multimedia.jl#L64\" target=\"_blank\">multimedia.jl:64</a><li> stringmime(::<b>MIME{symbol(\"text/x-vcalendar\")}</b>,::<b>Array{Uint8,1}</b>) at <a href=\"https://github.com/JuliaLang/julia/tree/48eed798b6c9413d2f25c66d038e74c242343b56/base/multimedia.jl#L64\" target=\"_blank\">multimedia.jl:64</a><li> stringmime(::<b>MIME{symbol(\"text/x-vcard\")}</b>,::<b>Array{Uint8,1}</b>) at <a href=\"https://github.com/JuliaLang/julia/tree/48eed798b6c9413d2f25c66d038e74c242343b56/base/multimedia.jl#L64\" target=\"_blank\">multimedia.jl:64</a><li> stringmime(::<b>MIME{symbol(\"text/cmd\")}</b>,::<b>Array{Uint8,1}</b>) at <a href=\"https://github.com/JuliaLang/julia/tree/48eed798b6c9413d2f25c66d038e74c242343b56/base/multimedia.jl#L64\" target=\"_blank\">multimedia.jl:64</a><li> stringmime(::<b>MIME{symbol(\"text/css\")}</b>,::<b>Array{Uint8,1}</b>) at <a href=\"https://github.com/JuliaLang/julia/tree/48eed798b6c9413d2f25c66d038e74c242343b56/base/multimedia.jl#L64\" target=\"_blank\">multimedia.jl:64</a><li> stringmime(::<b>MIME{symbol(\"text/csv\")}</b>,::<b>Array{Uint8,1}</b>) at <a href=\"https://github.com/JuliaLang/julia/tree/48eed798b6c9413d2f25c66d038e74c242343b56/base/multimedia.jl#L64\" target=\"_blank\">multimedia.jl:64</a><li> stringmime(::<b>MIME{symbol(\"text/html\")}</b>,::<b>Array{Uint8,1}</b>) at <a href=\"https://github.com/JuliaLang/julia/tree/48eed798b6c9413d2f25c66d038e74c242343b56/base/multimedia.jl#L64\" target=\"_blank\">multimedia.jl:64</a><li> stringmime(::<b>MIME{symbol(\"text/javascript\")}</b>,::<b>Array{Uint8,1}</b>) at <a href=\"https://github.com/JuliaLang/julia/tree/48eed798b6c9413d2f25c66d038e74c242343b56/base/multimedia.jl#L64\" target=\"_blank\">multimedia.jl:64</a><li> stringmime(::<b>MIME{symbol(\"text/markdown\")}</b>,::<b>Array{Uint8,1}</b>) at <a href=\"https://github.com/JuliaLang/julia/tree/48eed798b6c9413d2f25c66d038e74c242343b56/base/multimedia.jl#L64\" target=\"_blank\">multimedia.jl:64</a><li> stringmime(::<b>MIME{symbol(\"text/plain\")}</b>,::<b>Array{Uint8,1}</b>) at <a href=\"https://github.com/JuliaLang/julia/tree/48eed798b6c9413d2f25c66d038e74c242343b56/base/multimedia.jl#L64\" target=\"_blank\">multimedia.jl:64</a><li> stringmime(::<b>MIME{symbol(\"text/vcard\")}</b>,::<b>Array{Uint8,1}</b>) at <a href=\"https://github.com/JuliaLang/julia/tree/48eed798b6c9413d2f25c66d038e74c242343b56/base/multimedia.jl#L64\" target=\"_blank\">multimedia.jl:64</a><li> stringmime(::<b>MIME{symbol(\"text/xml\")}</b>,::<b>Array{Uint8,1}</b>) at <a href=\"https://github.com/JuliaLang/julia/tree/48eed798b6c9413d2f25c66d038e74c242343b56/base/multimedia.jl#L64\" target=\"_blank\">multimedia.jl:64</a><li> stringmime(::<b>MIME{symbol(\"application/atom+xml\")}</b>,::<b>Array{Uint8,1}</b>) at <a href=\"https://github.com/JuliaLang/julia/tree/48eed798b6c9413d2f25c66d038e74c242343b56/base/multimedia.jl#L64\" target=\"_blank\">multimedia.jl:64</a><li> stringmime(::<b>MIME{symbol(\"application/ecmascript\")}</b>,::<b>Array{Uint8,1}</b>) at <a href=\"https://github.com/JuliaLang/julia/tree/48eed798b6c9413d2f25c66d038e74c242343b56/base/multimedia.jl#L64\" target=\"_blank\">multimedia.jl:64</a><li> stringmime(::<b>MIME{symbol(\"application/json\")}</b>,::<b>Array{Uint8,1}</b>) at <a href=\"https://github.com/JuliaLang/julia/tree/48eed798b6c9413d2f25c66d038e74c242343b56/base/multimedia.jl#L64\" target=\"_blank\">multimedia.jl:64</a><li> stringmime(::<b>MIME{symbol(\"application/rdf+xml\")}</b>,::<b>Array{Uint8,1}</b>) at <a href=\"https://github.com/JuliaLang/julia/tree/48eed798b6c9413d2f25c66d038e74c242343b56/base/multimedia.jl#L64\" target=\"_blank\">multimedia.jl:64</a><li> stringmime(::<b>MIME{symbol(\"application/rss+xml\")}</b>,::<b>Array{Uint8,1}</b>) at <a href=\"https://github.com/JuliaLang/julia/tree/48eed798b6c9413d2f25c66d038e74c242343b56/base/multimedia.jl#L64\" target=\"_blank\">multimedia.jl:64</a><li> stringmime(::<b>MIME{symbol(\"application/xml-dtd\")}</b>,::<b>Array{Uint8,1}</b>) at <a href=\"https://github.com/JuliaLang/julia/tree/48eed798b6c9413d2f25c66d038e74c242343b56/base/multimedia.jl#L64\" target=\"_blank\">multimedia.jl:64</a><li> stringmime(::<b>MIME{symbol(\"application/postscript\")}</b>,::<b>Array{Uint8,1}</b>) at <a href=\"https://github.com/JuliaLang/julia/tree/48eed798b6c9413d2f25c66d038e74c242343b56/base/multimedia.jl#L64\" target=\"_blank\">multimedia.jl:64</a><li> stringmime(::<b>MIME{symbol(\"image/svg+xml\")}</b>,::<b>Array{Uint8,1}</b>) at <a href=\"https://github.com/JuliaLang/julia/tree/48eed798b6c9413d2f25c66d038e74c242343b56/base/multimedia.jl#L64\" target=\"_blank\">multimedia.jl:64</a><li> stringmime(::<b>MIME{symbol(\"application/x-latex\")}</b>,::<b>Array{Uint8,1}</b>) at <a href=\"https://github.com/JuliaLang/julia/tree/48eed798b6c9413d2f25c66d038e74c242343b56/base/multimedia.jl#L64\" target=\"_blank\">multimedia.jl:64</a><li> stringmime(::<b>MIME{symbol(\"application/xhtml+xml\")}</b>,::<b>Array{Uint8,1}</b>) at <a href=\"https://github.com/JuliaLang/julia/tree/48eed798b6c9413d2f25c66d038e74c242343b56/base/multimedia.jl#L64\" target=\"_blank\">multimedia.jl:64</a><li> stringmime(::<b>MIME{symbol(\"application/javascript\")}</b>,::<b>Array{Uint8,1}</b>) at <a href=\"https://github.com/JuliaLang/julia/tree/48eed798b6c9413d2f25c66d038e74c242343b56/base/multimedia.jl#L64\" target=\"_blank\">multimedia.jl:64</a><li> stringmime(::<b>MIME{symbol(\"application/xml\")}</b>,::<b>Array{Uint8,1}</b>) at <a href=\"https://github.com/JuliaLang/julia/tree/48eed798b6c9413d2f25c66d038e74c242343b56/base/multimedia.jl#L64\" target=\"_blank\">multimedia.jl:64</a><li> stringmime(::<b>MIME{symbol(\"model/x3d+xml\")}</b>,::<b>Array{Uint8,1}</b>) at <a href=\"https://github.com/JuliaLang/julia/tree/48eed798b6c9413d2f25c66d038e74c242343b56/base/multimedia.jl#L64\" target=\"_blank\">multimedia.jl:64</a><li> stringmime(::<b>MIME{symbol(\"model/x3d+vrml\")}</b>,::<b>Array{Uint8,1}</b>) at <a href=\"https://github.com/JuliaLang/julia/tree/48eed798b6c9413d2f25c66d038e74c242343b56/base/multimedia.jl#L64\" target=\"_blank\">multimedia.jl:64</a><li> stringmime(::<b>MIME{symbol(\"model/vrml\")}</b>,::<b>Array{Uint8,1}</b>) at <a href=\"https://github.com/JuliaLang/julia/tree/48eed798b6c9413d2f25c66d038e74c242343b56/base/multimedia.jl#L64\" target=\"_blank\">multimedia.jl:64</a><li> stringmime(m::<b>MIME{mime}</b>,x::<b>Array{Uint8,1}</b>) at <a href=\"https://github.com/JuliaLang/julia/tree/48eed798b6c9413d2f25c66d038e74c242343b56/base/multimedia.jl#L83\" target=\"_blank\">multimedia.jl:83</a><li> sub2ind<i>{T<:Integer}</i>(dims::<b>Array{T<:Integer,N}</b>,sub::<b>Array{T<:Integer,N}</b>) at <a href=\"https://github.com/JuliaLang/julia/tree/48eed798b6c9413d2f25c66d038e74c242343b56/base/abstractarray.jl#L1011\" target=\"_blank\">abstractarray.jl:1011</a><li> slicedim(A::<b>Array{T,N}</b>,d::<b>Integer</b>,i::<b>Integer</b>) at <a href=\"https://github.com/JuliaLang/julia/tree/48eed798b6c9413d2f25c66d038e74c242343b56/base/array.jl#L843\" target=\"_blank\">array.jl:843</a><li> .*(A::<b>SparseMatrixCSC{Tv,Ti<:Integer}</b>,B::<b>Array{T,N}</b>) at <a href=\"https://github.com/JuliaLang/julia/tree/48eed798b6c9413d2f25c66d038e74c242343b56/base/sparse/sparsematrix.jl#L632\" target=\"_blank\">sparse/sparsematrix.jl:632</a><li> .*(A::<b>Array{T,N}</b>,B::<b>SparseMatrixCSC{Tv,Ti<:Integer}</b>) at <a href=\"https://github.com/JuliaLang/julia/tree/48eed798b6c9413d2f25c66d038e74c242343b56/base/sparse/sparsematrix.jl#L633\" target=\"_blank\">sparse/sparsematrix.jl:633</a><li> success(procs::<b>Array{Process,1}</b>) at <a href=\"https://github.com/JuliaLang/julia/tree/48eed798b6c9413d2f25c66d038e74c242343b56/base/process.jl#L496\" target=\"_blank\">process.jl:496</a><li> similar<i>{T}</i>(a::<b>Array{T,1}</b>) at <a href=\"https://github.com/JuliaLang/julia/tree/48eed798b6c9413d2f25c66d038e74c242343b56/base/array.jl#L108\" target=\"_blank\">array.jl:108</a><li> similar<i>{T}</i>(a::<b>Array{T,2}</b>) at <a href=\"https://github.com/JuliaLang/julia/tree/48eed798b6c9413d2f25c66d038e74c242343b56/base/array.jl#L109\" target=\"_blank\">array.jl:109</a><li> similar<i>{T}</i>(a::<b>Array{T,1}</b>,dims::<b>(Int64...,)</b>) at <a href=\"https://github.com/JuliaLang/julia/tree/48eed798b6c9413d2f25c66d038e74c242343b56/base/array.jl#L110\" target=\"_blank\">array.jl:110</a><li> similar<i>{T}</i>(a::<b>Array{T,1}</b>,m::<b>Int64</b>) at <a href=\"https://github.com/JuliaLang/julia/tree/48eed798b6c9413d2f25c66d038e74c242343b56/base/array.jl#L111\" target=\"_blank\">array.jl:111</a><li> similar<i>{T}</i>(a::<b>Array{T,1}</b>,S) at <a href=\"https://github.com/JuliaLang/julia/tree/48eed798b6c9413d2f25c66d038e74c242343b56/base/array.jl#L112\" target=\"_blank\">array.jl:112</a><li> similar<i>{T}</i>(a::<b>Array{T,2}</b>,dims::<b>(Int64...,)</b>) at <a href=\"https://github.com/JuliaLang/julia/tree/48eed798b6c9413d2f25c66d038e74c242343b56/base/array.jl#L113\" target=\"_blank\">array.jl:113</a><li> similar<i>{T}</i>(a::<b>Array{T,2}</b>,m::<b>Int64</b>) at <a href=\"https://github.com/JuliaLang/julia/tree/48eed798b6c9413d2f25c66d038e74c242343b56/base/array.jl#L114\" target=\"_blank\">array.jl:114</a><li> similar<i>{T}</i>(a::<b>Array{T,2}</b>,S) at <a href=\"https://github.com/JuliaLang/julia/tree/48eed798b6c9413d2f25c66d038e74c242343b56/base/array.jl#L115\" target=\"_blank\">array.jl:115</a><li> similar(a::<b>Array{T,N}</b>,T,dims::<b>(Int64...,)</b>) at <a href=\"https://github.com/JuliaLang/julia/tree/48eed798b6c9413d2f25c66d038e74c242343b56/base/array.jl#L107\" target=\"_blank\">array.jl:107</a><li> find_library<i>{T<:Union(UTF8String,ASCIIString)}</i>(libnames::<b>Array{T<:Union(UTF8String,ASCIIString),1}</b>) at <a href=\"https://github.com/JuliaLang/julia/tree/48eed798b6c9413d2f25c66d038e74c242343b56/base/c.jl#L91\" target=\"_blank\">c.jl:91</a><li> find_library<i>{T<:Union(UTF8String,ASCIIString),S<:Union(UTF8String,ASCIIString)}</i>(libnames::<b>Array{T<:Union(UTF8String,ASCIIString),1}</b>,extrapaths::<b>Array{S<:Union(UTF8String,ASCIIString),1}</b>) at <a href=\"https://github.com/JuliaLang/julia/tree/48eed798b6c9413d2f25c66d038e74c242343b56/base/c.jl#L91\" target=\"_blank\">c.jl:91</a><li> UTF32String(a::<b>Array{Char,1}</b>) at <a href=\"https://github.com/JuliaLang/julia/tree/48eed798b6c9413d2f25c66d038e74c242343b56/base/utf32.jl#L7\" target=\"_blank\">utf32.jl:7</a><li> fill!<i>{T<:Union(Int8,Uint8)}</i>(a::<b>Array{T<:Union(Int8,Uint8),N}</b>,x::<b>Integer</b>) at <a href=\"https://github.com/JuliaLang/julia/tree/48eed798b6c9413d2f25c66d038e74c242343b56/base/array.jl#L146\" target=\"_blank\">array.jl:146</a><li> fill!<i>{T<:Union(FloatingPoint,Integer)}</i>(a::<b>Array{T<:Union(FloatingPoint,Integer),N}</b>,x) at <a href=\"https://github.com/JuliaLang/julia/tree/48eed798b6c9413d2f25c66d038e74c242343b56/base/array.jl#L151\" target=\"_blank\">array.jl:151</a><li> reprmime(::<b>MIME{symbol(\"text/vnd.graphviz\")}</b>,::<b>Array{Uint8,1}</b>) at <a href=\"https://github.com/JuliaLang/julia/tree/48eed798b6c9413d2f25c66d038e74c242343b56/base/multimedia.jl#L63\" target=\"_blank\">multimedia.jl:63</a><li> reprmime(::<b>MIME{symbol(\"text/latex\")}</b>,::<b>Array{Uint8,1}</b>) at <a href=\"https://github.com/JuliaLang/julia/tree/48eed798b6c9413d2f25c66d038e74c242343b56/base/multimedia.jl#L63\" target=\"_blank\">multimedia.jl:63</a><li> reprmime(::<b>MIME{symbol(\"text/calendar\")}</b>,::<b>Array{Uint8,1}</b>) at <a href=\"https://github.com/JuliaLang/julia/tree/48eed798b6c9413d2f25c66d038e74c242343b56/base/multimedia.jl#L63\" target=\"_blank\">multimedia.jl:63</a><li> reprmime(::<b>MIME{symbol(\"text/n3\")}</b>,::<b>Array{Uint8,1}</b>) at <a href=\"https://github.com/JuliaLang/julia/tree/48eed798b6c9413d2f25c66d038e74c242343b56/base/multimedia.jl#L63\" target=\"_blank\">multimedia.jl:63</a><li> reprmime(::<b>MIME{symbol(\"text/richtext\")}</b>,::<b>Array{Uint8,1}</b>) at <a href=\"https://github.com/JuliaLang/julia/tree/48eed798b6c9413d2f25c66d038e74c242343b56/base/multimedia.jl#L63\" target=\"_blank\">multimedia.jl:63</a><li> reprmime(::<b>MIME{symbol(\"text/x-setext\")}</b>,::<b>Array{Uint8,1}</b>) at <a href=\"https://github.com/JuliaLang/julia/tree/48eed798b6c9413d2f25c66d038e74c242343b56/base/multimedia.jl#L63\" target=\"_blank\">multimedia.jl:63</a><li> reprmime(::<b>MIME{symbol(\"text/sgml\")}</b>,::<b>Array{Uint8,1}</b>) at <a href=\"https://github.com/JuliaLang/julia/tree/48eed798b6c9413d2f25c66d038e74c242343b56/base/multimedia.jl#L63\" target=\"_blank\">multimedia.jl:63</a><li> reprmime(::<b>MIME{symbol(\"text/tab-separated-values\")}</b>,::<b>Array{Uint8,1}</b>) at <a href=\"https://github.com/JuliaLang/julia/tree/48eed798b6c9413d2f25c66d038e74c242343b56/base/multimedia.jl#L63\" target=\"_blank\">multimedia.jl:63</a><li> reprmime(::<b>MIME{symbol(\"text/x-vcalendar\")}</b>,::<b>Array{Uint8,1}</b>) at <a href=\"https://github.com/JuliaLang/julia/tree/48eed798b6c9413d2f25c66d038e74c242343b56/base/multimedia.jl#L63\" target=\"_blank\">multimedia.jl:63</a><li> reprmime(::<b>MIME{symbol(\"text/x-vcard\")}</b>,::<b>Array{Uint8,1}</b>) at <a href=\"https://github.com/JuliaLang/julia/tree/48eed798b6c9413d2f25c66d038e74c242343b56/base/multimedia.jl#L63\" target=\"_blank\">multimedia.jl:63</a><li> reprmime(::<b>MIME{symbol(\"text/cmd\")}</b>,::<b>Array{Uint8,1}</b>) at <a href=\"https://github.com/JuliaLang/julia/tree/48eed798b6c9413d2f25c66d038e74c242343b56/base/multimedia.jl#L63\" target=\"_blank\">multimedia.jl:63</a><li> reprmime(::<b>MIME{symbol(\"text/css\")}</b>,::<b>Array{Uint8,1}</b>) at <a href=\"https://github.com/JuliaLang/julia/tree/48eed798b6c9413d2f25c66d038e74c242343b56/base/multimedia.jl#L63\" target=\"_blank\">multimedia.jl:63</a><li> reprmime(::<b>MIME{symbol(\"text/csv\")}</b>,::<b>Array{Uint8,1}</b>) at <a href=\"https://github.com/JuliaLang/julia/tree/48eed798b6c9413d2f25c66d038e74c242343b56/base/multimedia.jl#L63\" target=\"_blank\">multimedia.jl:63</a><li> reprmime(::<b>MIME{symbol(\"text/html\")}</b>,::<b>Array{Uint8,1}</b>) at <a href=\"https://github.com/JuliaLang/julia/tree/48eed798b6c9413d2f25c66d038e74c242343b56/base/multimedia.jl#L63\" target=\"_blank\">multimedia.jl:63</a><li> reprmime(::<b>MIME{symbol(\"text/javascript\")}</b>,::<b>Array{Uint8,1}</b>) at <a href=\"https://github.com/JuliaLang/julia/tree/48eed798b6c9413d2f25c66d038e74c242343b56/base/multimedia.jl#L63\" target=\"_blank\">multimedia.jl:63</a><li> reprmime(::<b>MIME{symbol(\"text/markdown\")}</b>,::<b>Array{Uint8,1}</b>) at <a href=\"https://github.com/JuliaLang/julia/tree/48eed798b6c9413d2f25c66d038e74c242343b56/base/multimedia.jl#L63\" target=\"_blank\">multimedia.jl:63</a><li> reprmime(::<b>MIME{symbol(\"text/plain\")}</b>,::<b>Array{Uint8,1}</b>) at <a href=\"https://github.com/JuliaLang/julia/tree/48eed798b6c9413d2f25c66d038e74c242343b56/base/multimedia.jl#L63\" target=\"_blank\">multimedia.jl:63</a><li> reprmime(::<b>MIME{symbol(\"text/vcard\")}</b>,::<b>Array{Uint8,1}</b>) at <a href=\"https://github.com/JuliaLang/julia/tree/48eed798b6c9413d2f25c66d038e74c242343b56/base/multimedia.jl#L63\" target=\"_blank\">multimedia.jl:63</a><li> reprmime(::<b>MIME{symbol(\"text/xml\")}</b>,::<b>Array{Uint8,1}</b>) at <a href=\"https://github.com/JuliaLang/julia/tree/48eed798b6c9413d2f25c66d038e74c242343b56/base/multimedia.jl#L63\" target=\"_blank\">multimedia.jl:63</a><li> reprmime(::<b>MIME{symbol(\"application/atom+xml\")}</b>,::<b>Array{Uint8,1}</b>) at <a href=\"https://github.com/JuliaLang/julia/tree/48eed798b6c9413d2f25c66d038e74c242343b56/base/multimedia.jl#L63\" target=\"_blank\">multimedia.jl:63</a><li> reprmime(::<b>MIME{symbol(\"application/ecmascript\")}</b>,::<b>Array{Uint8,1}</b>) at <a href=\"https://github.com/JuliaLang/julia/tree/48eed798b6c9413d2f25c66d038e74c242343b56/base/multimedia.jl#L63\" target=\"_blank\">multimedia.jl:63</a><li> reprmime(::<b>MIME{symbol(\"application/json\")}</b>,::<b>Array{Uint8,1}</b>) at <a href=\"https://github.com/JuliaLang/julia/tree/48eed798b6c9413d2f25c66d038e74c242343b56/base/multimedia.jl#L63\" target=\"_blank\">multimedia.jl:63</a><li> reprmime(::<b>MIME{symbol(\"application/rdf+xml\")}</b>,::<b>Array{Uint8,1}</b>) at <a href=\"https://github.com/JuliaLang/julia/tree/48eed798b6c9413d2f25c66d038e74c242343b56/base/multimedia.jl#L63\" target=\"_blank\">multimedia.jl:63</a><li> reprmime(::<b>MIME{symbol(\"application/rss+xml\")}</b>,::<b>Array{Uint8,1}</b>) at <a href=\"https://github.com/JuliaLang/julia/tree/48eed798b6c9413d2f25c66d038e74c242343b56/base/multimedia.jl#L63\" target=\"_blank\">multimedia.jl:63</a><li> reprmime(::<b>MIME{symbol(\"application/xml-dtd\")}</b>,::<b>Array{Uint8,1}</b>) at <a href=\"https://github.com/JuliaLang/julia/tree/48eed798b6c9413d2f25c66d038e74c242343b56/base/multimedia.jl#L63\" target=\"_blank\">multimedia.jl:63</a><li> reprmime(::<b>MIME{symbol(\"application/postscript\")}</b>,::<b>Array{Uint8,1}</b>) at <a href=\"https://github.com/JuliaLang/julia/tree/48eed798b6c9413d2f25c66d038e74c242343b56/base/multimedia.jl#L63\" target=\"_blank\">multimedia.jl:63</a><li> reprmime(::<b>MIME{symbol(\"image/svg+xml\")}</b>,::<b>Array{Uint8,1}</b>) at <a href=\"https://github.com/JuliaLang/julia/tree/48eed798b6c9413d2f25c66d038e74c242343b56/base/multimedia.jl#L63\" target=\"_blank\">multimedia.jl:63</a><li> reprmime(::<b>MIME{symbol(\"application/x-latex\")}</b>,::<b>Array{Uint8,1}</b>) at <a href=\"https://github.com/JuliaLang/julia/tree/48eed798b6c9413d2f25c66d038e74c242343b56/base/multimedia.jl#L63\" target=\"_blank\">multimedia.jl:63</a><li> reprmime(::<b>MIME{symbol(\"application/xhtml+xml\")}</b>,::<b>Array{Uint8,1}</b>) at <a href=\"https://github.com/JuliaLang/julia/tree/48eed798b6c9413d2f25c66d038e74c242343b56/base/multimedia.jl#L63\" target=\"_blank\">multimedia.jl:63</a><li> reprmime(::<b>MIME{symbol(\"application/javascript\")}</b>,::<b>Array{Uint8,1}</b>) at <a href=\"https://github.com/JuliaLang/julia/tree/48eed798b6c9413d2f25c66d038e74c242343b56/base/multimedia.jl#L63\" target=\"_blank\">multimedia.jl:63</a><li> reprmime(::<b>MIME{symbol(\"application/xml\")}</b>,::<b>Array{Uint8,1}</b>) at <a href=\"https://github.com/JuliaLang/julia/tree/48eed798b6c9413d2f25c66d038e74c242343b56/base/multimedia.jl#L63\" target=\"_blank\">multimedia.jl:63</a><li> reprmime(::<b>MIME{symbol(\"model/x3d+xml\")}</b>,::<b>Array{Uint8,1}</b>) at <a href=\"https://github.com/JuliaLang/julia/tree/48eed798b6c9413d2f25c66d038e74c242343b56/base/multimedia.jl#L63\" target=\"_blank\">multimedia.jl:63</a><li> reprmime(::<b>MIME{symbol(\"model/x3d+vrml\")}</b>,::<b>Array{Uint8,1}</b>) at <a href=\"https://github.com/JuliaLang/julia/tree/48eed798b6c9413d2f25c66d038e74c242343b56/base/multimedia.jl#L63\" target=\"_blank\">multimedia.jl:63</a><li> reprmime(::<b>MIME{symbol(\"model/vrml\")}</b>,::<b>Array{Uint8,1}</b>) at <a href=\"https://github.com/JuliaLang/julia/tree/48eed798b6c9413d2f25c66d038e74c242343b56/base/multimedia.jl#L63\" target=\"_blank\">multimedia.jl:63</a><li> reprmime(m::<b>MIME{mime}</b>,x::<b>Array{Uint8,1}</b>) at <a href=\"https://github.com/JuliaLang/julia/tree/48eed798b6c9413d2f25c66d038e74c242343b56/base/multimedia.jl#L81\" target=\"_blank\">multimedia.jl:81</a><li> msync<i>{T}</i>(A::<b>Array{T,N}</b>) at <a href=\"https://github.com/JuliaLang/julia/tree/48eed798b6c9413d2f25c66d038e74c242343b56/base/mmap.jl#L6\" target=\"_blank\">mmap.jl:6</a><li> beginswith(a::<b>Array{Uint8,1}</b>,b::<b>Array{Uint8,1}</b>) at <a href=\"https://github.com/JuliaLang/julia/tree/48eed798b6c9413d2f25c66d038e74c242343b56/base/string.jl#L532\" target=\"_blank\">string.jl:532</a><li> symperm<i>{Tv,Ti}</i>(A::<b>SparseMatrixCSC{Tv,Ti}</b>,pinv::<b>Array{Ti,1}</b>) at <a href=\"https://github.com/JuliaLang/julia/tree/48eed798b6c9413d2f25c66d038e74c242343b56/base/sparse/csparse.jl#L309\" target=\"_blank\">sparse/csparse.jl:309</a><li> frexp(A::<b>Array{Float64,N}</b>) at <a href=\"https://github.com/JuliaLang/julia/tree/48eed798b6c9413d2f25c66d038e74c242343b56/base/math.jl#L219\" target=\"_blank\">math.jl:219</a><li> frexp(A::<b>Array{Float32,N}</b>) at <a href=\"https://github.com/JuliaLang/julia/tree/48eed798b6c9413d2f25c66d038e74c242343b56/base/math.jl#L228\" target=\"_blank\">math.jl:228</a><li> abs(f::<b>Array{FieldValue,1}</b>) at <a href=\"https://github.com/JuliaLang/julia/tree/48eed798b6c9413d2f25c66d038e74c242343b56/base/pkg/resolve/fieldvalue.jl#L62\" target=\"_blank\">pkg/resolve/fieldvalue.jl:62</a><li> prevprod(a::<b>Array{Int64,1}</b>,x) at <a href=\"https://github.com/JuliaLang/julia/tree/48eed798b6c9413d2f25c66d038e74c242343b56/base/combinatorics.jl#L636\" target=\"_blank\">combinatorics.jl:636</a><li> ./(A::<b>SparseMatrixCSC{Tv,Ti<:Integer}</b>,B::<b>Array{T,N}</b>) at <a href=\"https://github.com/JuliaLang/julia/tree/48eed798b6c9413d2f25c66d038e74c242343b56/base/sparse/sparsematrix.jl#L637\" target=\"_blank\">sparse/sparsematrix.jl:637</a><li> ./(A::<b>Array{T,N}</b>,B::<b>SparseMatrixCSC{Tv,Ti<:Integer}</b>) at <a href=\"https://github.com/JuliaLang/julia/tree/48eed798b6c9413d2f25c66d038e74c242343b56/base/sparse/sparsematrix.jl#L638\" target=\"_blank\">sparse/sparsematrix.jl:638</a><li> complex<i>{S<:Real,T<:Real}</i>(A::<b>Array{S<:Real,N}</b>,B::<b>Array{T<:Real,N}</b>) at <a href=\"https://github.com/JuliaLang/julia/tree/48eed798b6c9413d2f25c66d038e74c242343b56/base/array.jl#L809\" target=\"_blank\">array.jl:809</a><li> complex<i>{T<:Real}</i>(A::<b>Array{T<:Real,N}</b>,B::<b>Real</b>) at <a href=\"https://github.com/JuliaLang/julia/tree/48eed798b6c9413d2f25c66d038e74c242343b56/base/array.jl#L826\" target=\"_blank\">array.jl:826</a><li> complex<i>{T<:Real}</i>(A::<b>Real</b>,B::<b>Array{T<:Real,N}</b>) at <a href=\"https://github.com/JuliaLang/julia/tree/48eed798b6c9413d2f25c66d038e74c242343b56/base/array.jl#L818\" target=\"_blank\">array.jl:818</a><li> dot<i>{T<:Union(Float64,Float32)}</i>(x::<b>Array{T<:Union(Float64,Float32),1}</b>,y::<b>Array{T<:Union(Float64,Float32),1}</b>) at <a href=\"https://github.com/JuliaLang/julia/tree/48eed798b6c9413d2f25c66d038e74c242343b56/base/linalg/matmul.jl#L32\" target=\"_blank\">linalg/matmul.jl:32</a><li> dot<i>{T<:Union(Complex{Float64},Complex{Float32})}</i>(x::<b>Array{T<:Union(Complex{Float64},Complex{Float32}),1}</b>,y::<b>Array{T<:Union(Complex{Float64},Complex{Float32}),1}</b>) at <a href=\"https://github.com/JuliaLang/julia/tree/48eed798b6c9413d2f25c66d038e74c242343b56/base/linalg/matmul.jl#L33\" target=\"_blank\">linalg/matmul.jl:33</a><li> dot<i>{T<:Union(Float64,Float32),TI<:Integer}</i>(x::<b>Array{T<:Union(Float64,Float32),1}</b>,rx::<b>Union(UnitRange{TI<:Integer},Range{TI<:Integer})</b>,y::<b>Array{T<:Union(Float64,Float32),1}</b>,ry::<b>Union(UnitRange{TI<:Integer},Range{TI<:Integer})</b>) at <a href=\"https://github.com/JuliaLang/julia/tree/48eed798b6c9413d2f25c66d038e74c242343b56/base/linalg/matmul.jl#L35\" target=\"_blank\">linalg/matmul.jl:35</a><li> dot<i>{T<:Union(Complex{Float64},Complex{Float32}),TI<:Integer}</i>(x::<b>Array{T<:Union(Complex{Float64},Complex{Float32}),1}</b>,rx::<b>Union(UnitRange{TI<:Integer},Range{TI<:Integer})</b>,y::<b>Array{T<:Union(Complex{Float64},Complex{Float32}),1}</b>,ry::<b>Union(UnitRange{TI<:Integer},Range{TI<:Integer})</b>) at <a href=\"https://github.com/JuliaLang/julia/tree/48eed798b6c9413d2f25c66d038e74c242343b56/base/linalg/matmul.jl#L42\" target=\"_blank\">linalg/matmul.jl:42</a><li> Cmd(exec::<b>Array{Union(UTF8String,ASCIIString),1}</b>) at <a href=\"https://github.com/JuliaLang/julia/tree/48eed798b6c9413d2f25c66d038e74c242343b56/base/process.jl#L9\" target=\"_blank\">process.jl:9</a><li> reinterpret<i>{T,S}</i>(::<b>Type{T}</b>,a::<b>Array{S,1}</b>) at <a href=\"https://github.com/JuliaLang/julia/tree/48eed798b6c9413d2f25c66d038e74c242343b56/base/array.jl#L60\" target=\"_blank\">array.jl:60</a><li> reinterpret<i>{T,S}</i>(::<b>Type{T}</b>,a::<b>Array{S,N}</b>) at <a href=\"https://github.com/JuliaLang/julia/tree/48eed798b6c9413d2f25c66d038e74c242343b56/base/array.jl#L66\" target=\"_blank\">array.jl:66</a><li> reinterpret<i>{T,S,N}</i>(::<b>Type{T}</b>,a::<b>Array{S,N}</b>,dims::<b>NTuple{N,Int64}</b>) at <a href=\"https://github.com/JuliaLang/julia/tree/48eed798b6c9413d2f25c66d038e74c242343b56/base/array.jl#L73\" target=\"_blank\">array.jl:73</a><li> map(f::<b>Union(DataType,Function)</b>,a::<b>Array{Any,1}</b>) at <a href=\"https://github.com/JuliaLang/julia/tree/48eed798b6c9413d2f25c66d038e74c242343b56/base/base.jl#L189\" target=\"_blank\">base.jl:189</a><li> append!(A::<b>Array{Bool,1}</b>,items::<b>BitArray{1}</b>) at <a href=\"https://github.com/JuliaLang/julia/tree/48eed798b6c9413d2f25c66d038e74c242343b56/base/bitarray.jl#L489\" target=\"_blank\">bitarray.jl:489</a><li> append!<i>{T}</i>(a::<b>Array{T,1}</b>,items::<b>AbstractArray{T,1}</b>) at <a href=\"https://github.com/JuliaLang/julia/tree/48eed798b6c9413d2f25c66d038e74c242343b56/base/array.jl#L470\" target=\"_blank\">array.jl:470</a><li> Tridiagonal<i>{T}</i>(dl::<b>Array{T,1}</b>,d::<b>Array{T,1}</b>,du::<b>Array{T,1}</b>,du2::<b>Array{T,1}</b>)<li> Tridiagonal<i>{T}</i>(dl::<b>Array{T,1}</b>,d::<b>Array{T,1}</b>,du::<b>Array{T,1}</b>) at <a href=\"https://github.com/JuliaLang/julia/tree/48eed798b6c9413d2f25c66d038e74c242343b56/base/linalg/tridiag.jl#L151\" target=\"_blank\">linalg/tridiag.jl:151</a><li> Tridiagonal<i>{Tl,Td,Tu}</i>(dl::<b>Array{Tl,1}</b>,d::<b>Array{Td,1}</b>,du::<b>Array{Tu,1}</b>) at <a href=\"https://github.com/JuliaLang/julia/tree/48eed798b6c9413d2f25c66d038e74c242343b56/base/linalg/tridiag.jl#L158\" target=\"_blank\">linalg/tridiag.jl:158</a><li> RegexMatch(match::<b>SubString{UTF8String}</b>,captures::<b>Array{Union(SubString{UTF8String},Nothing),1}</b>,offset::<b>Int64</b>,offsets::<b>Array{Int64,1}</b>)<li> eigvecs<i>{T<:Union(Complex{Float64},Complex{Float32},Float64,Float32),Eigenvalue<:Real}</i>(m::<b>SymTridiagonal{T<:Union(Complex{Float64},Complex{Float32},Float64,Float32)}</b>,eigvals::<b>Array{Eigenvalue<:Real,1}</b>) at <a href=\"https://github.com/JuliaLang/julia/tree/48eed798b6c9413d2f25c66d038e74c242343b56/base/linalg/tridiag.jl#L74\" target=\"_blank\">linalg/tridiag.jl:74</a><li> insert!<i>{T}</i>(a::<b>Array{T,1}</b>,i::<b>Integer</b>,item) at <a href=\"https://github.com/JuliaLang/julia/tree/48eed798b6c9413d2f25c66d038e74c242343b56/base/array.jl#L540\" target=\"_blank\">array.jl:540</a><li> scale<i>{Tv,Ti,T}</i>(A::<b>SparseMatrixCSC{Tv,Ti}</b>,b::<b>Array{T,1}</b>) at <a href=\"https://github.com/JuliaLang/julia/tree/48eed798b6c9413d2f25c66d038e74c242343b56/base/linalg/sparse.jl#L619\" target=\"_blank\">linalg/sparse.jl:619</a><li> scale<i>{T,Tv,Ti}</i>(b::<b>Array{T,1}</b>,A::<b>SparseMatrixCSC{Tv,Ti}</b>) at <a href=\"https://github.com/JuliaLang/julia/tree/48eed798b6c9413d2f25c66d038e74c242343b56/base/linalg/sparse.jl#L622\" target=\"_blank\">linalg/sparse.jl:622</a><li> scale<i>{T<:Union(Complex{Float64},Complex{Float32},Float64,Float32)}</i>(b::<b>Array{T<:Union(Complex{Float64},Complex{Float32},Float64,Float32),1}</b>,A::<b>CholmodSparse{T<:Union(Complex{Float64},Complex{Float32},Float64,Float32),Ti<:Union(Int64,Int32)}</b>) at <a href=\"https://github.com/JuliaLang/julia/tree/48eed798b6c9413d2f25c66d038e74c242343b56/base/linalg/cholmod.jl#L905\" target=\"_blank\">linalg/cholmod.jl:905</a><li> scale<i>{T<:Union(Complex{Float64},Complex{Float32},Float64,Float32)}</i>(A::<b>CholmodSparse{T<:Union(Complex{Float64},Complex{Float32},Float64,Float32),Ti<:Union(Int64,Int32)}</b>,b::<b>Array{T<:Union(Complex{Float64},Complex{Float32},Float64,Float32),1}</b>) at <a href=\"https://github.com/JuliaLang/julia/tree/48eed798b6c9413d2f25c66d038e74c242343b56/base/linalg/cholmod.jl#L910\" target=\"_blank\">linalg/cholmod.jl:910</a><li> A_ldiv_B!<i>{T<:Union(Complex{Float64},Float64)}</i>(lu::<b>UmfpackLU{T<:Union(Complex{Float64},Float64),Ti<:Union(Int64,Int32)}</b>,b::<b>Array{T<:Union(Complex{Float64},Float64),1}</b>) at <a href=\"https://github.com/JuliaLang/julia/tree/48eed798b6c9413d2f25c66d038e74c242343b56/base/linalg/umfpack.jl#L339\" target=\"_blank\">linalg/umfpack.jl:339</a><li> A_ldiv_B!<i>{T<:Union(Complex{Float64},Float64)}</i>(lu::<b>UmfpackLU{T<:Union(Complex{Float64},Float64),Ti<:Union(Int64,Int32)}</b>,b::<b>Array{T<:Union(Complex{Float64},Float64),2}</b>) at <a href=\"https://github.com/JuliaLang/julia/tree/48eed798b6c9413d2f25c66d038e74c242343b56/base/linalg/umfpack.jl#L340\" target=\"_blank\">linalg/umfpack.jl:340</a><li> A_ldiv_B!<i>{Tb<:Complex{T<:Real}}</i>(lu::<b>UmfpackLU{Float64,Ti<:Union(Int64,Int32)}</b>,b::<b>Array{Tb<:Complex{T<:Real},1}</b>) at <a href=\"https://github.com/JuliaLang/julia/tree/48eed798b6c9413d2f25c66d038e74c242343b56/base/linalg/umfpack.jl#L342\" target=\"_blank\">linalg/umfpack.jl:342</a><li> indmax(f::<b>Array{FieldValue,1}</b>) at <a href=\"https://github.com/JuliaLang/julia/tree/48eed798b6c9413d2f25c66d038e74c242343b56/base/pkg/resolve/fieldvalue.jl#L71\" target=\"_blank\">pkg/resolve/fieldvalue.jl:71</a><li> kill(ps::<b>Array{Process,1}</b>) at <a href=\"https://github.com/JuliaLang/julia/tree/48eed798b6c9413d2f25c66d038e74c242343b56/base/process.jl#L532\" target=\"_blank\">process.jl:532</a><li> setenv<i>{S<:Union(UTF8String,ASCIIString)}</i>(cmd::<b>Cmd</b>,env::<b>Array{S<:Union(UTF8String,ASCIIString),N}</b>) at <a href=\"https://github.com/JuliaLang/julia/tree/48eed798b6c9413d2f25c66d038e74c242343b56/base/process.jl#L143\" target=\"_blank\">process.jl:143</a><li> srand(seed::<b>Array{Uint32,1}</b>) at <a href=\"https://github.com/JuliaLang/julia/tree/48eed798b6c9413d2f25c66d038e74c242343b56/base/random.jl#L60\" target=\"_blank\">random.jl:60</a><li> mod(A::<b>BitArray{N}</b>,B::<b>Array{Bool,N}</b>) at <a href=\"https://github.com/JuliaLang/julia/tree/48eed798b6c9413d2f25c66d038e74c242343b56/base/bitarray.jl#L913\" target=\"_blank\">bitarray.jl:913</a><li> mod(A::<b>Array{Bool,N}</b>,B::<b>BitArray{N}</b>) at <a href=\"https://github.com/JuliaLang/julia/tree/48eed798b6c9413d2f25c66d038e74c242343b56/base/bitarray.jl#L914\" target=\"_blank\">bitarray.jl:914</a><li> xdump(fn::<b>Function</b>,io::<b>IO</b>,x::<b>Array{Any,N}</b>,n::<b>Int64</b>,indent) at <a href=\"https://github.com/JuliaLang/julia/tree/48eed798b6c9413d2f25c66d038e74c242343b56/base/show.jl#L654\" target=\"_blank\">show.jl:654</a><li> xdump(fn::<b>Function</b>,io::<b>IO</b>,x::<b>Array{T,N}</b>,n::<b>Int64</b>,indent) at <a href=\"https://github.com/JuliaLang/julia/tree/48eed798b6c9413d2f25c66d038e74c242343b56/base/show.jl#L665\" target=\"_blank\">show.jl:665</a><li> prepend!(A::<b>Array{Bool,1}</b>,items::<b>BitArray{1}</b>) at <a href=\"https://github.com/JuliaLang/julia/tree/48eed798b6c9413d2f25c66d038e74c242343b56/base/bitarray.jl#L511\" target=\"_blank\">bitarray.jl:511</a><li> prepend!<i>{T}</i>(a::<b>Array{T,1}</b>,items::<b>AbstractArray{T,1}</b>) at <a href=\"https://github.com/JuliaLang/julia/tree/48eed798b6c9413d2f25c66d038e74c242343b56/base/array.jl#L480\" target=\"_blank\">array.jl:480</a><li> sparse<i>{Tv}</i>(A::<b>Array{Tv,2}</b>) at <a href=\"https://github.com/JuliaLang/julia/tree/48eed798b6c9413d2f25c66d038e74c242343b56/base/sparse/sparsematrix.jl#L229\" target=\"_blank\">sparse/sparsematrix.jl:229</a><li> bytestring(s::<b>Array{Uint8,1}</b>) at <a href=\"https://github.com/JuliaLang/julia/tree/48eed798b6c9413d2f25c66d038e74c242343b56/base/string.jl#L34\" target=\"_blank\">string.jl:34</a><li> unshift!<i>{T}</i>(a::<b>Array{T,1}</b>,item) at <a href=\"https://github.com/JuliaLang/julia/tree/48eed798b6c9413d2f25c66d038e74c242343b56/base/array.jl#L521\" target=\"_blank\">array.jl:521</a><li> ProcessGroup(w::<b>Array{Any,1}</b>) at <a href=\"https://github.com/JuliaLang/julia/tree/48eed798b6c9413d2f25c66d038e74c242343b56/base/multi.jl#L223\" target=\"_blank\">multi.jl:223</a><li> evalfile(path::<b>String</b>,args::<b>Array{UTF8String,1}</b>) at <a href=\"https://github.com/JuliaLang/julia/tree/48eed798b6c9413d2f25c66d038e74c242343b56/base/loading.jl#L168\" target=\"_blank\">loading.jl:168</a><li> repeat<i>{T}</i>(A::<b>Array{T,N}</b>) at <a href=\"https://github.com/JuliaLang/julia/tree/48eed798b6c9413d2f25c66d038e74c242343b56/base/abstractarray.jl#L1083\" target=\"_blank\">abstractarray.jl:1083</a><li> digits!<i>{T<:Integer}</i>(a::<b>Array{T<:Integer,1}</b>,n::<b>Integer</b>) at <a href=\"https://github.com/JuliaLang/julia/tree/48eed798b6c9413d2f25c66d038e74c242343b56/base/intfuncs.jl#L283\" target=\"_blank\">intfuncs.jl:283</a><li> digits!<i>{T<:Integer}</i>(a::<b>Array{T<:Integer,1}</b>,n::<b>Integer</b>,base::<b>T<:Integer</b>) at <a href=\"https://github.com/JuliaLang/julia/tree/48eed798b6c9413d2f25c66d038e74c242343b56/base/intfuncs.jl#L283\" target=\"_blank\">intfuncs.jl:283</a><li> div(A::<b>BitArray{N}</b>,B::<b>Array{Bool,N}</b>) at <a href=\"https://github.com/JuliaLang/julia/tree/48eed798b6c9413d2f25c66d038e74c242343b56/base/bitarray.jl#L892\" target=\"_blank\">bitarray.jl:892</a><li> div(A::<b>Array{Bool,N}</b>,B::<b>BitArray{N}</b>) at <a href=\"https://github.com/JuliaLang/julia/tree/48eed798b6c9413d2f25c66d038e74c242343b56/base/bitarray.jl#L893\" target=\"_blank\">bitarray.jl:893</a><li> sizeof(a::<b>Array{T,N}</b>) at <a href=\"https://github.com/JuliaLang/julia/tree/48eed798b6c9413d2f25c66d038e74c242343b56/base/array.jl#L23\" target=\"_blank\">array.jl:23</a><li> -(A::<b>Array{T,N}</b>,B::<b>SparseMatrixCSC{Tv,Ti<:Integer}</b>) at <a href=\"https://github.com/JuliaLang/julia/tree/48eed798b6c9413d2f25c66d038e74c242343b56/base/sparse/sparsematrix.jl#L628\" target=\"_blank\">sparse/sparsematrix.jl:628</a><li> -(A::<b>SparseMatrixCSC{Tv,Ti<:Integer}</b>,B::<b>Array{T,N}</b>) at <a href=\"https://github.com/JuliaLang/julia/tree/48eed798b6c9413d2f25c66d038e74c242343b56/base/sparse/sparsematrix.jl#L626\" target=\"_blank\">sparse/sparsematrix.jl:626</a><li> process_running(s::<b>Array{Process,1}</b>) at <a href=\"https://github.com/JuliaLang/julia/tree/48eed798b6c9413d2f25c66d038e74c242343b56/base/process.jl#L542\" target=\"_blank\">process.jl:542</a><li> push!(a::<b>Array{Any,1}</b>,item) at <a href=\"https://github.com/JuliaLang/julia/tree/48eed798b6c9413d2f25c66d038e74c242343b56/base/array.jl#L464\" target=\"_blank\">array.jl:464</a><li> push!<i>{T}</i>(a::<b>Array{T,1}</b>,item) at <a href=\"https://github.com/JuliaLang/julia/tree/48eed798b6c9413d2f25c66d038e74c242343b56/base/array.jl#L453\" target=\"_blank\">array.jl:453</a><li> unsafe_copy!<i>{T}</i>(dest::<b>Array{T,N}</b>,dsto,src::<b>Array{T,N}</b>,so,N) at <a href=\"https://github.com/JuliaLang/julia/tree/48eed798b6c9413d2f25c66d038e74c242343b56/base/array.jl#L40\" target=\"_blank\">array.jl:40</a><li> read!(from::<b>IOBuffer</b>,a::<b>Array{T,N}</b>) at <a href=\"https://github.com/JuliaLang/julia/tree/48eed798b6c9413d2f25c66d038e74c242343b56/base/iobuffer.jl#L55\" target=\"_blank\">iobuffer.jl:55</a><li> read!<i>{T}</i>(s::<b>IOStream</b>,a::<b>Array{T,N}</b>) at <a href=\"https://github.com/JuliaLang/julia/tree/48eed798b6c9413d2f25c66d038e74c242343b56/base/iostream.jl#L192\" target=\"_blank\">iostream.jl:192</a><li> read!(s::<b>AsyncStream</b>,a::<b>Array{Uint8,1}</b>) at <a href=\"https://github.com/JuliaLang/julia/tree/48eed798b6c9413d2f25c66d038e74c242343b56/base/stream.jl#L664\" target=\"_blank\">stream.jl:664</a><li> read!<i>{T}</i>(s::<b>AsyncStream</b>,a::<b>Array{T,N}</b>) at <a href=\"https://github.com/JuliaLang/julia/tree/48eed798b6c9413d2f25c66d038e74c242343b56/base/stream.jl#L657\" target=\"_blank\">stream.jl:657</a><li> read!<i>{T}</i>(f::<b>File</b>,a::<b>Array{T,N}</b>) at <a href=\"https://github.com/JuliaLang/julia/tree/48eed798b6c9413d2f25c66d038e74c242343b56/base/fs.jl#L217\" target=\"_blank\">fs.jl:217</a><li> read!<i>{T}</i>(f::<b>File</b>,a::<b>Array{T,N}</b>,nel) at <a href=\"https://github.com/JuliaLang/julia/tree/48eed798b6c9413d2f25c66d038e74c242343b56/base/fs.jl#L217\" target=\"_blank\">fs.jl:217</a><li> read!<i>{T}</i>(s::<b>IO</b>,a::<b>Array{T,N}</b>) at <a href=\"https://github.com/JuliaLang/julia/tree/48eed798b6c9413d2f25c66d038e74c242343b56/base/io.jl#L126\" target=\"_blank\">io.jl:126</a><li> write(to::<b>IOBuffer</b>,a::<b>Array{T,N}</b>) at <a href=\"https://github.com/JuliaLang/julia/tree/48eed798b6c9413d2f25c66d038e74c242343b56/base/iobuffer.jl#L262\" target=\"_blank\">iobuffer.jl:262</a><li> write<i>{T}</i>(s::<b>IOStream</b>,a::<b>Array{T,N}</b>) at <a href=\"https://github.com/JuliaLang/julia/tree/48eed798b6c9413d2f25c66d038e74c242343b56/base/iostream.jl#L148\" target=\"_blank\">iostream.jl:148</a><li> write<i>{T}</i>(s::<b>AsyncStream</b>,a::<b>Array{T,N}</b>) at <a href=\"https://github.com/JuliaLang/julia/tree/48eed798b6c9413d2f25c66d038e74c242343b56/base/stream.jl#L782\" target=\"_blank\">stream.jl:782</a><li> write<i>{T}</i>(f::<b>File</b>,a::<b>Array{T,N}</b>) at <a href=\"https://github.com/JuliaLang/julia/tree/48eed798b6c9413d2f25c66d038e74c242343b56/base/fs.jl#L191\" target=\"_blank\">fs.jl:191</a><li> write<i>{T,N}</i>(t::<b>UnixTerminal</b>,a::<b>Array{T,N}</b>) at <a href=\"https://github.com/JuliaLang/julia/tree/48eed798b6c9413d2f25c66d038e74c242343b56/base/Terminals.jl#L185\" target=\"_blank\">Terminals.jl:185</a><li> permutedims!<i>{T}</i>(P::<b>Array{T,1}</b>,B::<b>Union(DenseArray{T,1},SubArray{T,1,A<:DenseArray{T,N},I<:(Union(Int64,Range{Int64})...,)})</b>,perm) at <a href=\"https://github.com/JuliaLang/julia/tree/48eed798b6c9413d2f25c66d038e74c242343b56/base/multidimensional.jl#L480\" target=\"_blank\">multidimensional.jl:480</a><li> permutedims!<i>{T}</i>(P::<b>Array{T,2}</b>,B::<b>Union(DenseArray{T,2},SubArray{T,2,A<:DenseArray{T,N},I<:(Union(Int64,Range{Int64})...,)})</b>,perm) at <a href=\"https://github.com/JuliaLang/julia/tree/48eed798b6c9413d2f25c66d038e74c242343b56/base/multidimensional.jl#L480\" target=\"_blank\">multidimensional.jl:480</a><li> permutedims!<i>{T}</i>(P::<b>Array{T,3}</b>,B::<b>Union(DenseArray{T,3},SubArray{T,3,A<:DenseArray{T,N},I<:(Union(Int64,Range{Int64})...,)})</b>,perm) at <a href=\"https://github.com/JuliaLang/julia/tree/48eed798b6c9413d2f25c66d038e74c242343b56/base/multidimensional.jl#L480\" target=\"_blank\">multidimensional.jl:480</a><li> permutedims!<i>{T}</i>(P::<b>Array{T,4}</b>,B::<b>Union(SubArray{T,4,A<:DenseArray{T,N},I<:(Union(Int64,Range{Int64})...,)},DenseArray{T,4})</b>,perm) at <a href=\"https://github.com/JuliaLang/julia/tree/48eed798b6c9413d2f25c66d038e74c242343b56/base/multidimensional.jl#L480\" target=\"_blank\">multidimensional.jl:480</a><li> permutedims!<i>{T,N}</i>(P::<b>Array{T,N}</b>,B::<b>Union(SubArray{T,N,A<:DenseArray{T,N},I<:(Union(Int64,Range{Int64})...,)},DenseArray{T,N})</b>,perm) at <a href=\"https://github.com/JuliaLang/julia/tree/48eed798b6c9413d2f25c66d038e74c242343b56/base/cartesian.jl#L100\" target=\"_blank\">cartesian.jl:100</a><li> factorize<i>{T}</i>(A::<b>Array{T,2}</b>) at <a href=\"https://github.com/JuliaLang/julia/tree/48eed798b6c9413d2f25c66d038e74c242343b56/base/linalg/dense.jl#L334\" target=\"_blank\">linalg/dense.jl:334</a><li> .^(A::<b>SparseMatrixCSC{Tv,Ti<:Integer}</b>,B::<b>Array{T,N}</b>) at <a href=\"https://github.com/JuliaLang/julia/tree/48eed798b6c9413d2f25c66d038e74c242343b56/base/sparse/sparsematrix.jl#L651\" target=\"_blank\">sparse/sparsematrix.jl:651</a><li> .^(A::<b>Array{T,N}</b>,B::<b>SparseMatrixCSC{Tv,Ti<:Integer}</b>) at <a href=\"https://github.com/JuliaLang/julia/tree/48eed798b6c9413d2f25c66d038e74c242343b56/base/sparse/sparsematrix.jl#L652\" target=\"_blank\">sparse/sparsematrix.jl:652</a><li> .^<i>{T<:Integer}</i>(A::<b>BitArray{N}</b>,B::<b>Array{T<:Integer,N}</b>) at <a href=\"https://github.com/JuliaLang/julia/tree/48eed798b6c9413d2f25c66d038e74c242343b56/base/broadcast.jl#L419\" target=\"_blank\">broadcast.jl:419</a><li> length(a::<b>Array{T,N}</b>) at <a href=\"https://github.com/JuliaLang/julia/tree/48eed798b6c9413d2f25c66d038e74c242343b56/base/array.jl#L21\" target=\"_blank\">array.jl:21</a><li> rref<i>{T}</i>(A::<b>Array{T,2}</b>) at <a href=\"https://github.com/JuliaLang/julia/tree/48eed798b6c9413d2f25c66d038e74c242343b56/base/linalg/dense.jl#L169\" target=\"_blank\">linalg/dense.jl:169</a><li> Diagonal<i>{T}</i>(diag::<b>Array{T,1}</b>)<li> rand!<i>{T}</i>(A::<b>Array{T,N}</b>) at <a href=\"https://github.com/JuliaLang/julia/tree/48eed798b6c9413d2f25c66d038e74c242343b56/base/random.jl#L128\" target=\"_blank\">random.jl:128</a><li> .\\(A::<b>SparseMatrixCSC{Tv,Ti<:Integer}</b>,B::<b>Array{T,N}</b>) at <a href=\"https://github.com/JuliaLang/julia/tree/48eed798b6c9413d2f25c66d038e74c242343b56/base/sparse/sparsematrix.jl#L643\" target=\"_blank\">sparse/sparsematrix.jl:643</a><li> .\\(A::<b>Array{T,N}</b>,B::<b>SparseMatrixCSC{Tv,Ti<:Integer}</b>) at <a href=\"https://github.com/JuliaLang/julia/tree/48eed798b6c9413d2f25c66d038e74c242343b56/base/sparse/sparsematrix.jl#L644\" target=\"_blank\">sparse/sparsematrix.jl:644</a><li> convert(::<b>Type{Ptr{None}}</b>,a::<b>Array{T,N}</b>) at <a href=\"https://github.com/JuliaLang/julia/tree/48eed798b6c9413d2f25c66d038e74c242343b56/base/pointer.jl#L23\" target=\"_blank\">pointer.jl:23</a><li> convert<i>{T}</i>(::<b>Type{Ptr{T}}</b>,a::<b>Array{T,N}</b>) at <a href=\"https://github.com/JuliaLang/julia/tree/48eed798b6c9413d2f25c66d038e74c242343b56/base/pointer.jl#L22\" target=\"_blank\">pointer.jl:22</a><li> convert<i>{T,n}</i>(::<b>Type{Array{T,n}}</b>,x::<b>Array{T,n}</b>) at <a href=\"https://github.com/JuliaLang/julia/tree/48eed798b6c9413d2f25c66d038e74c242343b56/base/array.jl#L218\" target=\"_blank\">array.jl:218</a><li> convert<i>{T,n,S}</i>(::<b>Type{Array{T,n}}</b>,x::<b>Array{S,n}</b>) at <a href=\"https://github.com/JuliaLang/julia/tree/48eed798b6c9413d2f25c66d038e74c242343b56/base/array.jl#L220\" target=\"_blank\">array.jl:220</a><li> convert<i>{T,n}</i>(::<b>Type{Array{T,N}}</b>,x::<b>Array{T,n}</b>) at <a href=\"https://github.com/JuliaLang/julia/tree/48eed798b6c9413d2f25c66d038e74c242343b56/base/array.jl#L217\" target=\"_blank\">array.jl:217</a><li> convert<i>{T,n,S}</i>(::<b>Type{Array{T,N}}</b>,x::<b>Array{S,n}</b>) at <a href=\"https://github.com/JuliaLang/julia/tree/48eed798b6c9413d2f25c66d038e74c242343b56/base/array.jl#L219\" target=\"_blank\">array.jl:219</a><li> convert(::<b>Type{ASCIIString}</b>,a::<b>Array{Uint8,1}</b>) at <a href=\"https://github.com/JuliaLang/julia/tree/48eed798b6c9413d2f25c66d038e74c242343b56/base/ascii.jl#L101\" target=\"_blank\">ascii.jl:101</a><li> convert(::<b>Type{ASCIIString}</b>,a::<b>Array{Uint8,1}</b>,invalids_as::<b>ASCIIString</b>) at <a href=\"https://github.com/JuliaLang/julia/tree/48eed798b6c9413d2f25c66d038e74c242343b56/base/ascii.jl#L103\" target=\"_blank\">ascii.jl:103</a><li> convert(::<b>Type{UTF8String}</b>,a::<b>Array{Uint8,1}</b>) at <a href=\"https://github.com/JuliaLang/julia/tree/48eed798b6c9413d2f25c66d038e74c242343b56/base/utf8.jl#L162\" target=\"_blank\">utf8.jl:162</a><li> convert(::<b>Type{UTF8String}</b>,a::<b>Array{Uint8,1}</b>,invalids_as::<b>String</b>) at <a href=\"https://github.com/JuliaLang/julia/tree/48eed798b6c9413d2f25c66d038e74c242343b56/base/utf8.jl#L164\" target=\"_blank\">utf8.jl:164</a><li> convert<i>{TS,TA,N}</i>(::<b>Type{SharedArray{TS,N}}</b>,A::<b>Array{TA,N}</b>) at <a href=\"https://github.com/JuliaLang/julia/tree/48eed798b6c9413d2f25c66d038e74c242343b56/base/sharedarray.jl#L142\" target=\"_blank\">sharedarray.jl:142</a><li> convert<i>{T}</i>(::<b>Type{SharedArray{T,N}}</b>,A::<b>Array{T,N}</b>) at <a href=\"https://github.com/JuliaLang/julia/tree/48eed798b6c9413d2f25c66d038e74c242343b56/base/sharedarray.jl#L141\" target=\"_blank\">sharedarray.jl:141</a><li> convert(::<b>Type{SharedArray{T,N}}</b>,A::<b>Array{T,N}</b>) at <a href=\"https://github.com/JuliaLang/julia/tree/48eed798b6c9413d2f25c66d038e74c242343b56/base/sharedarray.jl#L140\" target=\"_blank\">sharedarray.jl:140</a><li> convert<i>{T}</i>(p::<b>Type{Ptr{T}}</b>,a::<b>Array{T,N}</b>) at <a href=\"https://github.com/JuliaLang/julia/tree/48eed798b6c9413d2f25c66d038e74c242343b56/base/deprecated.jl#L26\" target=\"_blank\">deprecated.jl:26</a><li> sort!<i>{O<:Union(ReverseOrdering{ForwardOrdering},ForwardOrdering),T<:Union(Float64,Float32)}</i>(v::<b>Array{Int64,1}</b>,a::<b>Algorithm</b>,o::<b>Perm{O<:Union(ReverseOrdering{ForwardOrdering},ForwardOrdering),Array{T<:Union(Float64,Float32),1}}</b>) at <a href=\"https://github.com/JuliaLang/julia/tree/48eed798b6c9413d2f25c66d038e74c242343b56/base/sort.jl#L442\" target=\"_blank\">sort.jl:442</a><li> float64_isvalid(s::<b>SubString{T<:String}</b>,out::<b>Array{Float64,1}</b>) at <a href=\"https://github.com/JuliaLang/julia/tree/48eed798b6c9413d2f25c66d038e74c242343b56/base/string.jl#L1576\" target=\"_blank\">string.jl:1576</a><li> float64_isvalid(s::<b>String</b>,out::<b>Array{Float64,1}</b>) at <a href=\"https://github.com/JuliaLang/julia/tree/48eed798b6c9413d2f25c66d038e74c242343b56/base/string.jl#L1571\" target=\"_blank\">string.jl:1571</a><li> trace<i>{T}</i>(A::<b>Array{T,2}</b>) at <a href=\"https://github.com/JuliaLang/julia/tree/48eed798b6c9413d2f25c66d038e74c242343b56/base/linalg/dense.jl#L129\" target=\"_blank\">linalg/dense.jl:129</a><li> lexcmp(a::<b>Array{Uint8,1}</b>,b::<b>Array{Uint8,1}</b>) at <a href=\"https://github.com/JuliaLang/julia/tree/48eed798b6c9413d2f25c66d038e74c242343b56/base/array.jl#L835\" target=\"_blank\">array.jl:835</a><li> MersenneTwister(seed::<b>Array{Uint32,1}</b>) at <a href=\"https://github.com/JuliaLang/julia/tree/48eed798b6c9413d2f25c66d038e74c242343b56/base/random.jl#L18\" target=\"_blank\">random.jl:18</a><li> UTF16String(data::<b>Array{Uint16,1}</b>) at <a href=\"https://github.com/JuliaLang/julia/tree/48eed798b6c9413d2f25c66d038e74c242343b56/base/utf16.jl#L4\" target=\"_blank\">utf16.jl:4</a><li> next(f::<b>FixedPartitions</b>,s::<b>Array{Int64,1}</b>) at <a href=\"https://github.com/JuliaLang/julia/tree/48eed798b6c9413d2f25c66d038e74c242343b56/base/combinatorics.jl#L397\" target=\"_blank\">combinatorics.jl:397</a><li> symbol(a::<b>Array{Uint8,1}</b>) at <a href=\"https://github.com/JuliaLang/julia/tree/48eed798b6c9413d2f25c66d038e74c242343b56/base/expr.jl#L6\" target=\"_blank\">expr.jl:6</a><li> scale!<i>{T<:Union(Complex{Float64},Complex{Float32},Float64,Float32)}</i>(X::<b>Array{T<:Union(Complex{Float64},Complex{Float32},Float64,Float32),N}</b>,s::<b>T<:Union(Complex{Float64},Complex{Float32},Float64,Float32)</b>) at <a href=\"https://github.com/JuliaLang/julia/tree/48eed798b6c9413d2f25c66d038e74c242343b56/base/linalg/dense.jl#L11\" target=\"_blank\">linalg/dense.jl:11</a><li> scale!<i>{T<:Union(Complex{Float64},Complex{Float32})}</i>(X::<b>Array{T<:Union(Complex{Float64},Complex{Float32}),N}</b>,s::<b>Real</b>) at <a href=\"https://github.com/JuliaLang/julia/tree/48eed798b6c9413d2f25c66d038e74c242343b56/base/linalg/dense.jl#L20\" target=\"_blank\">linalg/dense.jl:20</a><li> scale!<i>{T<:Union(Float64,Float32)}</i>(X::<b>Array{T<:Union(Float64,Float32),N}</b>,s::<b>Complex{T<:Real}</b>) at <a href=\"https://github.com/JuliaLang/julia/tree/48eed798b6c9413d2f25c66d038e74c242343b56/base/deprecated.jl#L158\" target=\"_blank\">deprecated.jl:158</a><li> scale!<i>{T<:Union(Complex{Float64},Complex{Float32},Float64,Float32)}</i>(X::<b>Array{T<:Union(Complex{Float64},Complex{Float32},Float64,Float32),N}</b>,s::<b>Number</b>) at <a href=\"https://github.com/JuliaLang/julia/tree/48eed798b6c9413d2f25c66d038e74c242343b56/base/linalg/dense.jl#L19\" target=\"_blank\">linalg/dense.jl:19</a><li> scale!<i>{T<:Union(Complex{Float64},Complex{Float32},Float64,Float32)}</i>(b::<b>Array{T<:Union(Complex{Float64},Complex{Float32},Float64,Float32),1}</b>,A::<b>CholmodSparse{T<:Union(Complex{Float64},Complex{Float32},Float64,Float32),Ti<:Union(Int64,Int32)}</b>) at <a href=\"https://github.com/JuliaLang/julia/tree/48eed798b6c9413d2f25c66d038e74c242343b56/base/linalg/cholmod.jl#L902\" target=\"_blank\">linalg/cholmod.jl:902</a><li> scale!<i>{T<:Union(Complex{Float64},Complex{Float32},Float64,Float32)}</i>(A::<b>CholmodSparse{T<:Union(Complex{Float64},Complex{Float32},Float64,Float32),Ti<:Union(Int64,Int32)}</b>,b::<b>Array{T<:Union(Complex{Float64},Complex{Float32},Float64,Float32),1}</b>) at <a href=\"https://github.com/JuliaLang/julia/tree/48eed798b6c9413d2f25c66d038e74c242343b56/base/linalg/cholmod.jl#L907\" target=\"_blank\">linalg/cholmod.jl:907</a><li> IOBuffer(data::<b>Array{Uint8,1}</b>,readable::<b>Bool</b>,writable::<b>Bool</b>,seekable::<b>Bool</b>,append::<b>Bool</b>,maxsize::<b>Int64</b>) at <a href=\"https://github.com/JuliaLang/julia/tree/48eed798b6c9413d2f25c66d038e74c242343b56/base/iobuffer.jl#L15\" target=\"_blank\">iobuffer.jl:15</a><li> IOBuffer(data::<b>Array{Uint8,1}</b>,readable::<b>Bool</b>,writable::<b>Bool</b>,maxsize::<b>Int64</b>) at <a href=\"https://github.com/JuliaLang/julia/tree/48eed798b6c9413d2f25c66d038e74c242343b56/base/iobuffer.jl#L44\" target=\"_blank\">iobuffer.jl:44</a><li> IOBuffer(data::<b>Array{Uint8,1}</b>,readable::<b>Bool</b>,writable::<b>Bool</b>) at <a href=\"https://github.com/JuliaLang/julia/tree/48eed798b6c9413d2f25c66d038e74c242343b56/base/iobuffer.jl#L46\" target=\"_blank\">iobuffer.jl:46</a><li> IOBuffer(data::<b>Array{Uint8,1}</b>) at <a href=\"https://github.com/JuliaLang/julia/tree/48eed798b6c9413d2f25c66d038e74c242343b56/base/iobuffer.jl#L47\" target=\"_blank\">iobuffer.jl:47</a><li> PipeBuffer(data::<b>Array{Uint8,1}</b>,maxsize::<b>Int64</b>) at <a href=\"https://github.com/JuliaLang/julia/tree/48eed798b6c9413d2f25c66d038e74c242343b56/base/iobuffer.jl#L38\" target=\"_blank\">iobuffer.jl:38</a><li> PipeBuffer(data::<b>Array{Uint8,1}</b>) at <a href=\"https://github.com/JuliaLang/julia/tree/48eed798b6c9413d2f25c66d038e74c242343b56/base/iobuffer.jl#L39\" target=\"_blank\">iobuffer.jl:39</a><li> readbytes!(io::<b>IOBuffer</b>,b::<b>Array{Uint8,N}</b>) at <a href=\"https://github.com/JuliaLang/julia/tree/48eed798b6c9413d2f25c66d038e74c242343b56/base/iobuffer.jl#L281\" target=\"_blank\">iobuffer.jl:281</a><li> readbytes!(io::<b>IOBuffer</b>,b::<b>Array{Uint8,N}</b>,nb) at <a href=\"https://github.com/JuliaLang/julia/tree/48eed798b6c9413d2f25c66d038e74c242343b56/base/iobuffer.jl#L281\" target=\"_blank\">iobuffer.jl:281</a><li> readbytes!(s::<b>IOStream</b>,b::<b>Array{Uint8,N}</b>) at <a href=\"https://github.com/JuliaLang/julia/tree/48eed798b6c9413d2f25c66d038e74c242343b56/base/iostream.jl#L242\" target=\"_blank\">iostream.jl:242</a><li> readbytes!(s::<b>IOStream</b>,b::<b>Array{Uint8,N}</b>,nb) at <a href=\"https://github.com/JuliaLang/julia/tree/48eed798b6c9413d2f25c66d038e74c242343b56/base/iostream.jl#L242\" target=\"_blank\">iostream.jl:242</a><li> sub<i>{T,N}</i>(A::<b>Array{T,N}</b>,i::<b>(Range{Int64},)</b>) at <a href=\"https://github.com/JuliaLang/julia/tree/48eed798b6c9413d2f25c66d038e74c242343b56/base/subarray.jl#L52\" target=\"_blank\">subarray.jl:52</a><li> linreg<i>{T<:Number}</i>(X::<b>Union(SubArray{T<:Number,1,A<:DenseArray{T,N},I<:(Union(Int64,Range{Int64})...,)},DenseArray{T<:Number,2},SubArray{T<:Number,2,A<:DenseArray{T,N},I<:(Union(Int64,Range{Int64})...,)},DenseArray{T<:Number,1})</b>,y::<b>Array{T<:Number,1}</b>) at <a href=\"https://github.com/JuliaLang/julia/tree/48eed798b6c9413d2f25c66d038e74c242343b56/base/linalg/generic.jl#L297\" target=\"_blank\">linalg/generic.jl:297</a><li> strides<i>{T}</i>(a::<b>Array{T,1}</b>) at <a href=\"https://github.com/JuliaLang/julia/tree/48eed798b6c9413d2f25c66d038e74c242343b56/base/array.jl#L25\" target=\"_blank\">array.jl:25</a><li> strides<i>{T}</i>(a::<b>Array{T,2}</b>) at <a href=\"https://github.com/JuliaLang/julia/tree/48eed798b6c9413d2f25c66d038e74c242343b56/base/array.jl#L26\" target=\"_blank\">array.jl:26</a><li> strides<i>{T}</i>(a::<b>Array{T,3}</b>) at <a href=\"https://github.com/JuliaLang/julia/tree/48eed798b6c9413d2f25c66d038e74c242343b56/base/array.jl#L27\" target=\"_blank\">array.jl:27</a><li> bytes2hex<i>{T<:Uint8}</i>(arr::<b>Array{T<:Uint8,1}</b>) at <a href=\"https://github.com/JuliaLang/julia/tree/48eed798b6c9413d2f25c66d038e74c242343b56/base/string.jl#L1679\" target=\"_blank\">string.jl:1679</a><li> gensym(a::<b>Array{Uint8,1}</b>) at <a href=\"https://github.com/JuliaLang/julia/tree/48eed798b6c9413d2f25c66d038e74c242343b56/base/expr.jl#L14\" target=\"_blank\">expr.jl:14</a><li> Woodbury<i>{T}</i>(A,U::<b>Array{T,2}</b>,C,V::<b>Array{T,2}</b>) at <a href=\"https://github.com/JuliaLang/julia/tree/48eed798b6c9413d2f25c66d038e74c242343b56/base/linalg/woodbury.jl#L36\" target=\"_blank\">linalg/woodbury.jl:36</a><li> Woodbury<i>{T}</i>(A,U::<b>Array{T,1}</b>,C,V::<b>Array{T,2}</b>) at <a href=\"https://github.com/JuliaLang/julia/tree/48eed798b6c9413d2f25c66d038e74c242343b56/base/linalg/woodbury.jl#L37\" target=\"_blank\">linalg/woodbury.jl:37</a><li> +(A::<b>SparseMatrixCSC{Tv,Ti<:Integer}</b>,B::<b>Array{T,N}</b>) at <a href=\"https://github.com/JuliaLang/julia/tree/48eed798b6c9413d2f25c66d038e74c242343b56/base/sparse/sparsematrix.jl#L621\" target=\"_blank\">sparse/sparsematrix.jl:621</a><li> +(A::<b>Array{T,N}</b>,B::<b>SparseMatrixCSC{Tv,Ti<:Integer}</b>) at <a href=\"https://github.com/JuliaLang/julia/tree/48eed798b6c9413d2f25c66d038e74c242343b56/base/sparse/sparsematrix.jl#L623\" target=\"_blank\">sparse/sparsematrix.jl:623</a><li> IOStream(name::<b>String</b>,buf::<b>Array{Uint8,1}</b>) at <a href=\"https://github.com/JuliaLang/julia/tree/48eed798b6c9413d2f25c66d038e74c242343b56/base/iostream.jl#L11\" target=\"_blank\">iostream.jl:11</a><li> serialize(s,a::<b>Array{T,N}</b>) at <a href=\"https://github.com/JuliaLang/julia/tree/48eed798b6c9413d2f25c66d038e74c242343b56/base/serialize.jl#L119\" target=\"_blank\">serialize.jl:119</a><li> push!(a::<b>Array{Any,1}</b>,item) at <a href=\"https://github.com/JuliaLang/julia/tree/48eed798b6c9413d2f25c66d038e74c242343b56/base/array.jl#L464\" target=\"_blank\">array.jl:464</a><li> push!<i>{T}</i>(a::<b>Array{T,1}</b>,item) at <a href=\"https://github.com/JuliaLang/julia/tree/48eed798b6c9413d2f25c66d038e74c242343b56/base/array.jl#L453\" target=\"_blank\">array.jl:453</a></ul>"
       ],
       "metadata": {},
       "output_type": "pyout",
       "prompt_number": 123,
       "text": [
        "308-element Array{Method,1}:\n",
        " Message(a::Array{T,N}) at /Users/david/.julia/ZMQ/src/ZMQ.jl:405                                                                              \n",
        " UTF8String(data::Array{Uint8,1})                                                                                                              \n",
        " ASCIIString(data::Array{Uint8,1})                                                                                                             \n",
        " SparseMatrixCSC{Tv,Ti<:Integer}(m::Int64,n::Int64,colptr::Array{Ti<:Integer,1},rowval::Array{Ti<:Integer,1},nzval::Array{Tv,1})               \n",
        " SparseMatrixCSC{Tv,Ti}(m::Integer,n::Integer,colptr::Array{Ti,1},rowval::Array{Ti,1},nzval::Array{Tv,1}) at sparse/sparsematrix.jl:14         \n",
        " flipdim{T}(A::Array{T,N},d::Integer) at array.jl:874                                                                                          \n",
        " done(f::FixedPartitions,s::Array{Int64,1}) at combinatorics.jl:393                                                                            \n",
        " reshape{T,N}(a::Array{T,N},dims::NTuple{N,Int64}) at array.jl:88                                                                              \n",
        " reshape{T,N}(a::Array{T,N},dims::NTuple{N,Int64}) at array.jl:99                                                                              \n",
        " kron{T,S}(a::Array{T,2},b::Array{S,2}) at linalg/dense.jl:138                                                                                 \n",
        " randn!(A::Array{Float64,N}) at random.jl:257                                                                                                  \n",
        " randn!(rng::MersenneTwister,A::Array{Float64,N}) at random.jl:258                                                                             \n",
        " setindex!(a::Array{Any,N},d::Union(SubArray{T,N,D<:DArray{T,N,A},I<:(Union(Int64,Range{Int64})...,)},DArray{T,N,A}),i::Int64) at darray.jl:294\n",
        " \u22ee                                                                                                                                             \n",
        " strides{T}(a::Array{T,2}) at array.jl:26                                                                                                      \n",
        " strides{T}(a::Array{T,3}) at array.jl:27                                                                                                      \n",
        " bytes2hex{T<:Uint8}(arr::Array{T<:Uint8,1}) at string.jl:1679                                                                                 \n",
        " gensym(a::Array{Uint8,1}) at expr.jl:14                                                                                                       \n",
        " Woodbury{T}(A,U::Array{T,2},C,V::Array{T,2}) at linalg/woodbury.jl:36                                                                         \n",
        " Woodbury{T}(A,U::Array{T,1},C,V::Array{T,2}) at linalg/woodbury.jl:37                                                                         \n",
        " +(A::SparseMatrixCSC{Tv,Ti<:Integer},B::Array{T,N}) at sparse/sparsematrix.jl:621                                                             \n",
        " +(A::Array{T,N},B::SparseMatrixCSC{Tv,Ti<:Integer}) at sparse/sparsematrix.jl:623                                                             \n",
        " IOStream(name::String,buf::Array{Uint8,1}) at iostream.jl:11                                                                                  \n",
        " serialize(s,a::Array{T,N}) at serialize.jl:119                                                                                                \n",
        " push!(a::Array{Any,1},item) at array.jl:464                                                                                                   \n",
        " push!{T}(a::Array{T,1},item) at array.jl:453                                                                                                  "
       ]
      }
     ],
     "prompt_number": 123
    },
    {
     "cell_type": "raw",
     "metadata": {},
     "source": [
      "a"
     ]
    },
    {
     "cell_type": "code",
     "collapsed": false,
     "input": [
      "\n",
      "a"
     ],
     "language": "python",
     "metadata": {},
     "outputs": [
      {
       "metadata": {},
       "output_type": "pyout",
       "prompt_number": 124,
       "text": [
        "4-element Array{Int64,1}:\n",
        "   3\n",
        "   4\n",
        " 100\n",
        "  17"
       ]
      }
     ],
     "prompt_number": 124
    },
    {
     "cell_type": "code",
     "collapsed": false,
     "input": [
      "insert!(a, 3, -10)"
     ],
     "language": "python",
     "metadata": {},
     "outputs": [
      {
       "metadata": {},
       "output_type": "pyout",
       "prompt_number": 126,
       "text": [
        "6-element Array{Int64,1}:\n",
        "   3\n",
        "   4\n",
        " -10\n",
        "   5\n",
        " 100\n",
        "  17"
       ]
      }
     ],
     "prompt_number": 126
    },
    {
     "cell_type": "markdown",
     "metadata": {},
     "source": [
      "delete!(a, 3)"
     ]
    },
    {
     "cell_type": "code",
     "collapsed": false,
     "input": [
      "delete!(a, 3)"
     ],
     "language": "python",
     "metadata": {},
     "outputs": [
      {
       "ename": "LoadError",
       "evalue": "`delete!` has no method matching delete!(::Array{Int64,1}, ::Int64)\nwhile loading In[127], in expression starting on line 1",
       "output_type": "pyerr",
       "traceback": [
        "`delete!` has no method matching delete!(::Array{Int64,1}, ::Int64)\nwhile loading In[127], in expression starting on line 1"
       ]
      }
     ],
     "prompt_number": 127
    },
    {
     "cell_type": "code",
     "collapsed": false,
     "input": [
      "a = []"
     ],
     "language": "python",
     "metadata": {},
     "outputs": [
      {
       "metadata": {},
       "output_type": "pyout",
       "prompt_number": 128,
       "text": [
        "0-element Array{None,1}"
       ]
      }
     ],
     "prompt_number": 128
    },
    {
     "cell_type": "code",
     "collapsed": false,
     "input": [
      "push!(a, 3)"
     ],
     "language": "python",
     "metadata": {},
     "outputs": [
      {
       "ename": "LoadError",
       "evalue": "[] cannot grow. Instead, initialize the array with \"T[]\", where T is the desired element type.\nwhile loading In[129], in expression starting on line 1",
       "output_type": "pyerr",
       "traceback": [
        "[] cannot grow. Instead, initialize the array with \"T[]\", where T is the desired element type.\nwhile loading In[129], in expression starting on line 1",
        " in push! at array.jl:454"
       ]
      }
     ],
     "prompt_number": 129
    },
    {
     "cell_type": "code",
     "collapsed": false,
     "input": [
      "a = {}"
     ],
     "language": "python",
     "metadata": {},
     "outputs": [
      {
       "metadata": {},
       "output_type": "pyout",
       "prompt_number": 130,
       "text": [
        "0-element Array{Any,1}"
       ]
      }
     ],
     "prompt_number": 130
    },
    {
     "cell_type": "code",
     "collapsed": false,
     "input": [
      "push!(a, 3)"
     ],
     "language": "python",
     "metadata": {},
     "outputs": [
      {
       "metadata": {},
       "output_type": "pyout",
       "prompt_number": 131,
       "text": [
        "1-element Array{Any,1}:\n",
        " 3"
       ]
      }
     ],
     "prompt_number": 131
    },
    {
     "cell_type": "code",
     "collapsed": false,
     "input": [
      "a = Any[]"
     ],
     "language": "python",
     "metadata": {},
     "outputs": [
      {
       "metadata": {},
       "output_type": "pyout",
       "prompt_number": 132,
       "text": [
        "0-element Array{Any,1}"
       ]
      }
     ],
     "prompt_number": 132
    },
    {
     "cell_type": "code",
     "collapsed": false,
     "input": [
      "push!(a, 3)"
     ],
     "language": "python",
     "metadata": {},
     "outputs": [
      {
       "metadata": {},
       "output_type": "pyout",
       "prompt_number": 133,
       "text": [
        "1-element Array{Any,1}:\n",
        " 3"
       ]
      }
     ],
     "prompt_number": 133
    },
    {
     "cell_type": "code",
     "collapsed": false,
     "input": [
      "a = Float64[]"
     ],
     "language": "python",
     "metadata": {},
     "outputs": [
      {
       "metadata": {},
       "output_type": "pyout",
       "prompt_number": 134,
       "text": [
        "0-element Array{Float64,1}"
       ]
      }
     ],
     "prompt_number": 134
    },
    {
     "cell_type": "code",
     "collapsed": false,
     "input": [
      "push!(a, 3)"
     ],
     "language": "python",
     "metadata": {},
     "outputs": [
      {
       "metadata": {},
       "output_type": "pyout",
       "prompt_number": 135,
       "text": [
        "1-element Array{Float64,1}:\n",
        " 3.0"
       ]
      }
     ],
     "prompt_number": 135
    },
    {
     "cell_type": "code",
     "collapsed": false,
     "input": [
      "a"
     ],
     "language": "python",
     "metadata": {},
     "outputs": [
      {
       "metadata": {},
       "output_type": "pyout",
       "prompt_number": 136,
       "text": [
        "1-element Array{Float64,1}:\n",
        " 3.0"
       ]
      }
     ],
     "prompt_number": 136
    },
    {
     "cell_type": "heading",
     "level": 1,
     "metadata": {},
     "source": [
      "Comparaci\u00f3n de flotantes"
     ]
    },
    {
     "cell_type": "markdown",
     "metadata": {},
     "source": [
      "**Nunca** cheques igualdad de dos flotantes:"
     ]
    },
    {
     "cell_type": "code",
     "collapsed": false,
     "input": [
      "sin(pi)"
     ],
     "language": "python",
     "metadata": {},
     "outputs": [
      {
       "metadata": {},
       "output_type": "pyout",
       "prompt_number": 1,
       "text": [
        "1.2246467991473532e-16"
       ]
      }
     ],
     "prompt_number": 1
    },
    {
     "cell_type": "code",
     "collapsed": false,
     "input": [
      "x = sin(pi)\n",
      "\n",
      "x == 0.0"
     ],
     "language": "python",
     "metadata": {},
     "outputs": [
      {
       "metadata": {},
       "output_type": "pyout",
       "prompt_number": 4,
       "text": [
        "false"
       ]
      }
     ],
     "prompt_number": 4
    },
    {
     "cell_type": "code",
     "collapsed": false,
     "input": [
      "abs(x) <= 1e-10"
     ],
     "language": "python",
     "metadata": {},
     "outputs": [
      {
       "metadata": {},
       "output_type": "pyout",
       "prompt_number": 6,
       "text": [
        "true"
       ]
      }
     ],
     "prompt_number": 6
    },
    {
     "cell_type": "code",
     "collapsed": false,
     "input": [
      "-1e-10 < x < 1e-10"
     ],
     "language": "python",
     "metadata": {},
     "outputs": [
      {
       "metadata": {},
       "output_type": "pyout",
       "prompt_number": 7,
       "text": [
        "true"
       ]
      }
     ],
     "prompt_number": 7
    },
    {
     "cell_type": "code",
     "collapsed": false,
     "input": [
      "x = [-2:0.01:2]"
     ],
     "language": "python",
     "metadata": {},
     "outputs": [
      {
       "metadata": {},
       "output_type": "pyout",
       "prompt_number": 9,
       "text": [
        "401-element Array{Float64,1}:\n",
        " -2.0 \n",
        " -1.99\n",
        " -1.98\n",
        " -1.97\n",
        " -1.96\n",
        " -1.95\n",
        " -1.94\n",
        " -1.93\n",
        " -1.92\n",
        " -1.91\n",
        " -1.9 \n",
        " -1.89\n",
        " -1.88\n",
        "  \u22ee   \n",
        "  1.89\n",
        "  1.9 \n",
        "  1.91\n",
        "  1.92\n",
        "  1.93\n",
        "  1.94\n",
        "  1.95\n",
        "  1.96\n",
        "  1.97\n",
        "  1.98\n",
        "  1.99\n",
        "  2.0 "
       ]
      }
     ],
     "prompt_number": 9
    },
    {
     "cell_type": "code",
     "collapsed": false,
     "input": [
      "abs(x) .< 0.1"
     ],
     "language": "python",
     "metadata": {},
     "outputs": [
      {
       "metadata": {},
       "output_type": "pyout",
       "prompt_number": 11,
       "text": [
        "401-element BitArray{1}:\n",
        " false\n",
        " false\n",
        " false\n",
        " false\n",
        " false\n",
        " false\n",
        " false\n",
        " false\n",
        " false\n",
        " false\n",
        " false\n",
        " false\n",
        " false\n",
        "     \u22ee\n",
        " false\n",
        " false\n",
        " false\n",
        " false\n",
        " false\n",
        " false\n",
        " false\n",
        " false\n",
        " false\n",
        " false\n",
        " false\n",
        " false"
       ]
      }
     ],
     "prompt_number": 11
    },
    {
     "cell_type": "code",
     "collapsed": false,
     "input": [
      "abs(x)"
     ],
     "language": "python",
     "metadata": {},
     "outputs": [
      {
       "metadata": {},
       "output_type": "pyout",
       "prompt_number": 12,
       "text": [
        "401-element Array{Float64,1}:\n",
        " 2.0 \n",
        " 1.99\n",
        " 1.98\n",
        " 1.97\n",
        " 1.96\n",
        " 1.95\n",
        " 1.94\n",
        " 1.93\n",
        " 1.92\n",
        " 1.91\n",
        " 1.9 \n",
        " 1.89\n",
        " 1.88\n",
        " \u22ee   \n",
        " 1.89\n",
        " 1.9 \n",
        " 1.91\n",
        " 1.92\n",
        " 1.93\n",
        " 1.94\n",
        " 1.95\n",
        " 1.96\n",
        " 1.97\n",
        " 1.98\n",
        " 1.99\n",
        " 2.0 "
       ]
      }
     ],
     "prompt_number": 12
    },
    {
     "cell_type": "code",
     "collapsed": false,
     "input": [],
     "language": "python",
     "metadata": {},
     "outputs": []
    }
   ],
   "metadata": {}
  }
 ]
}