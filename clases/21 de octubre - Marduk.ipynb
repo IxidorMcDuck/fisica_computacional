{
 "metadata": {
  "name": "",
  "signature": "sha256:d30560a634d7adb7cc4ccae248a9d0c19c0eea054fc585295b6c62ca7fe413fd"
 },
 "nbformat": 3,
 "nbformat_minor": 0,
 "worksheets": [
  {
   "cells": [
    {
     "cell_type": "heading",
     "level": 3,
     "metadata": {},
     "source": [
      "Caos"
     ]
    },
    {
     "cell_type": "markdown",
     "metadata": {},
     "source": [
      "El **caos** tiene que ver con que la din\u00e1mica cambie dr\u00e1sticamente al variar las condiciones iniciales.\n",
      "\n",
      "Piensen en una madeja de cables conectados a aparatos. Si toman los extremos de los cables, dos cables cercanos pueden estar conectados a aparatos muy distantes y muy distintos.\n",
      "\n",
      "Ejemplos f\u00edsicos incluyen el p\u00e9ndulo doble, el oscilador arm\u00f3nico forzado, el p\u00e9ndulo forzado, el sistema solar.\n",
      "\n",
      "En la vida cotidiana se usan palabras que en f\u00edsica y matem\u00e1ticas tienen un significado preciso para situaciones que tienen otro significado. Cuando hagan f\u00edsica, usen el significado apropiado.\n",
      "\n",
      "No le llamen caos a las soluciones de las ecuaciones diferenciales que se vean complicadas.\n",
      "\n",
      "Lean a [Strogatz](http://books.google.com.mx/books?id=dTvTzBeRn3cC).\n",
      "\n",
      "Vean [Corre Lola corre](http://www.imdb.com/title/tt0130827/)."
     ]
    },
    {
     "cell_type": "heading",
     "level": 3,
     "metadata": {},
     "source": [
      "\"Elipses\""
     ]
    },
    {
     "cell_type": "markdown",
     "metadata": {},
     "source": [
      "Si una gr\u00e1fica muestra algo ovalado, no es una elipse. Podr\u00eda ser un c\u00edrculo. Usen `axis(\"equal\")` despu\u00e9s de `plot`."
     ]
    },
    {
     "cell_type": "heading",
     "level": 3,
     "metadata": {},
     "source": [
      "[Memento](http://www.imdb.com/title/tt0209144/?ref_=fn_al_tt_1)"
     ]
    },
    {
     "cell_type": "markdown",
     "metadata": {},
     "source": [
      "Cuando tengan un problema y encuentren la soluci\u00f3n, an\u00f3tenla.\n",
      "\n",
      "Usen [TiddlyWiki](http://tiddlywiki.com/). Es un s\u00f3lo archivo HTML. Lo pueden poner en DropBox para respaldarlo y sincronizarlo."
     ]
    },
    {
     "cell_type": "heading",
     "level": 3,
     "metadata": {},
     "source": [
      "Consejos para programar"
     ]
    },
    {
     "cell_type": "heading",
     "level": 4,
     "metadata": {},
     "source": [
      "Los programas no son telegramas"
     ]
    },
    {
     "cell_type": "markdown",
     "metadata": {},
     "source": [
      "* Los programas est\u00e1n escritos en un lenguaje que s\u00f3lo nosotros entendemos. Los compiladores y los int\u00e9rpretes se encargan de convertir el texto en instrucciones para la computadora. Por lo tanto, escriban los programas de manera clara. No como telegramas."
     ]
    },
    {
     "cell_type": "markdown",
     "metadata": {},
     "source": [
      "* Llamen a sus variables con palabras, no con letras."
     ]
    },
    {
     "cell_type": "markdown",
     "metadata": {},
     "source": [
      "* Definan funciones que hagan una sola tarea."
     ]
    },
    {
     "cell_type": "heading",
     "level": 3,
     "metadata": {},
     "source": [
      "Eliminaci\u00f3n gaussiana"
     ]
    },
    {
     "cell_type": "markdown",
     "metadata": {},
     "source": [
      "La idea es convertir una matriz en una matriz triangular superior."
     ]
    },
    {
     "cell_type": "heading",
     "level": 4,
     "metadata": {},
     "source": [
      "Matrices de 2 x 2"
     ]
    },
    {
     "cell_type": "code",
     "collapsed": false,
     "input": [
      "function elim_gaussiana(M)\n",
      "    # A = M no define una matriz nueva. Es un nuevo nombre para la misma matriz.\n",
      "    A = copy(M)\n",
      "    # Suponemos que M[1,1] no es cero\n",
      "    A[2,:] = A[2,:] - A[2,1]/A[1,1]*A[1,:]\n",
      "    return A\n",
      "end"
     ],
     "language": "python",
     "metadata": {},
     "outputs": [
      {
       "metadata": {},
       "output_type": "pyout",
       "prompt_number": 1,
       "text": [
        "elim_gaussiana (generic function with 1 method)"
       ]
      }
     ],
     "prompt_number": 1
    },
    {
     "cell_type": "code",
     "collapsed": false,
     "input": [
      "M = [3 2; -4 7]"
     ],
     "language": "python",
     "metadata": {},
     "outputs": [
      {
       "metadata": {},
       "output_type": "pyout",
       "prompt_number": 2,
       "text": [
        "2x2 Array{Int64,2}:\n",
        "  3  2\n",
        " -4  7"
       ]
      }
     ],
     "prompt_number": 2
    },
    {
     "cell_type": "code",
     "collapsed": false,
     "input": [
      "elim_gaussiana(M)"
     ],
     "language": "python",
     "metadata": {},
     "outputs": [
      {
       "ename": "LoadError",
       "evalue": "InexactError()\nwhile loading In[3], in expression starting on line 1",
       "output_type": "pyerr",
       "traceback": [
        "InexactError()\nwhile loading In[3], in expression starting on line 1",
        "",
        " in setindex! at multidimensional.jl:76",
        " in elim_gaussiana at In[1]:5"
       ]
      }
     ],
     "prompt_number": 3
    },
    {
     "cell_type": "markdown",
     "metadata": {},
     "source": [
      "*InexactError* surge cuando hay problemas para convertir un tipo de dato en otro. La l\u00ednea 4 de la funci\u00f3n `elim_gaussiana` es tipo **Array{Float64}** y la matriz `A` es tipo **Array{Int64}**. La soluci\u00f3n es que la matriz `A` sea tipo **Array{Float64}**."
     ]
    },
    {
     "cell_type": "code",
     "collapsed": false,
     "input": [
      "function elim_gaussiana(M)\n",
      "    A = float(copy(M))\n",
      "    # Suponemos que M[1,1] no es cero\n",
      "    A[2,:] = A[2,:] - A[2,1]/A[1,1]*A[1,:]\n",
      "    return A\n",
      "end"
     ],
     "language": "python",
     "metadata": {},
     "outputs": [
      {
       "metadata": {},
       "output_type": "pyout",
       "prompt_number": 4,
       "text": [
        "elim_gaussiana (generic function with 1 method)"
       ]
      }
     ],
     "prompt_number": 4
    },
    {
     "cell_type": "code",
     "collapsed": false,
     "input": [
      "elim_gaussiana(M)"
     ],
     "language": "python",
     "metadata": {},
     "outputs": [
      {
       "metadata": {},
       "output_type": "pyout",
       "prompt_number": 5,
       "text": [
        "2x2 Array{Float64,2}:\n",
        " 3.0  2.0    \n",
        " 0.0  9.66667"
       ]
      }
     ],
     "prompt_number": 5
    },
    {
     "cell_type": "markdown",
     "metadata": {},
     "source": [
      "Esta matriz es **triangular superior** y se puede escribir como el producto de una matriz $\\vec{L}$ y la matriz $\\vec{M}$. Veamos qui\u00e9n es $\\vec{L}$."
     ]
    },
    {
     "cell_type": "code",
     "collapsed": false,
     "input": [
      "using SymPy"
     ],
     "language": "python",
     "metadata": {},
     "outputs": [],
     "prompt_number": 6
    },
    {
     "cell_type": "code",
     "collapsed": false,
     "input": [
      "a11, a12, a21, a22 = sym\"a_{11}, a_{12}, a_{21}, a_{22}\""
     ],
     "language": "python",
     "metadata": {},
     "outputs": [
      {
       "metadata": {},
       "output_type": "pyout",
       "prompt_number": 7,
       "text": [
        "(a_{11},a_{12},a_{21},a_{22})"
       ]
      }
     ],
     "prompt_number": 7
    },
    {
     "cell_type": "code",
     "collapsed": false,
     "input": [
      "L = [a11 a12; a21 a22]"
     ],
     "language": "python",
     "metadata": {},
     "outputs": [
      {
       "latex": [
        "\\begin{bmatrix}a_{{11}}&a_{{12}}\\\\a_{{21}}&a_{{22}}\\end{bmatrix}"
       ],
       "metadata": {},
       "output_type": "pyout",
       "prompt_number": 8,
       "text": [
        "2x2 Array{Sym,2}:\n",
        " a_{11}  a_{12}\n",
        " a_{21}  a_{22}"
       ]
      }
     ],
     "prompt_number": 8
    },
    {
     "cell_type": "code",
     "collapsed": false,
     "input": [
      "N = [3 2; 0 29//3]"
     ],
     "language": "python",
     "metadata": {},
     "outputs": [
      {
       "metadata": {},
       "output_type": "pyout",
       "prompt_number": 9,
       "text": [
        "2x2 Array{Rational{Int64},2}:\n",
        " 3//1   2//1\n",
        " 0//1  29//3"
       ]
      }
     ],
     "prompt_number": 9
    },
    {
     "cell_type": "code",
     "collapsed": false,
     "input": [
      "A = L*M-N\n",
      "sols = solve([A[1,1],A[1,2],A[2,1],A[2,2]],[a11,a12,a21,a22])"
     ],
     "language": "python",
     "metadata": {},
     "outputs": [
      {
       "latex": [
        "\\begin{equation*}\\begin{cases}a_{12} & \\text{=>} &0\\\\a_{21} & \\text{=>} &\\frac{4}{3}\\\\a_{11} & \\text{=>} &1\\\\a_{22} & \\text{=>} &1\\\\\\end{cases}\\end{equation*}"
       ],
       "metadata": {},
       "output_type": "pyout",
       "prompt_number": 10,
       "text": [
        "Dict{Any,Any} with 4 entries:\n",
        "  \"a_{12}\" => 0\n",
        "  \"a_{21}\" => 4/3\n",
        "  \"a_{11}\" => 1\n",
        "  \"a_{22}\" => 1"
       ]
      }
     ],
     "prompt_number": 10
    },
    {
     "cell_type": "code",
     "collapsed": false,
     "input": [
      "L = [1 0; 4//3 1]"
     ],
     "language": "python",
     "metadata": {},
     "outputs": [
      {
       "metadata": {},
       "output_type": "pyout",
       "prompt_number": 11,
       "text": [
        "2x2 Array{Rational{Int64},2}:\n",
        " 1//1  0//1\n",
        " 4//3  1//1"
       ]
      }
     ],
     "prompt_number": 11
    },
    {
     "cell_type": "markdown",
     "metadata": {},
     "source": [
      "$\\vec{L}$ es una matriz **triangular inferior**. Entonces, $\\vec{L}\\vec{M} = \\vec{U}$ y $\\vec{M} = \\vec{L}^{-1}\\vec{U}$."
     ]
    },
    {
     "cell_type": "heading",
     "level": 4,
     "metadata": {},
     "source": [
      "Soluci\u00f3n de un sistema de ecuaciones $\\vec{A}\\vec{x} = \\vec{b}$"
     ]
    },
    {
     "cell_type": "code",
     "collapsed": false,
     "input": [
      "function sol_ecs(M)\n",
      "    # M es la matriz A extendida con el vector b\n",
      "    U = elim_gaussiana(M)\n",
      "    b = U[:,end]\n",
      "    A = U[:,1:end-1]\n",
      "    # x es un vector del mismo tama\u00f1o que b\n",
      "    x = similar(b)\n",
      "    x[end] = b[end]/A[2,2]\n",
      "    x[end-1] = (b[end-1] - x[end]*A[1,2])/A[1,1]\n",
      "    return x\n",
      "end"
     ],
     "language": "python",
     "metadata": {},
     "outputs": [
      {
       "metadata": {},
       "output_type": "pyout",
       "prompt_number": 12,
       "text": [
        "sol_ecs (generic function with 1 method)"
       ]
      }
     ],
     "prompt_number": 12
    },
    {
     "cell_type": "code",
     "collapsed": false,
     "input": [
      "# M es la matriz A extendida con el vector b\n",
      "M = hcat([3 7; 2 4],[1,1])"
     ],
     "language": "python",
     "metadata": {},
     "outputs": [
      {
       "metadata": {},
       "output_type": "pyout",
       "prompt_number": 13,
       "text": [
        "2x3 Array{Int64,2}:\n",
        " 3  7  1\n",
        " 2  4  1"
       ]
      }
     ],
     "prompt_number": 13
    },
    {
     "cell_type": "code",
     "collapsed": false,
     "input": [
      "sol_ecs(M)"
     ],
     "language": "python",
     "metadata": {},
     "outputs": [
      {
       "metadata": {},
       "output_type": "pyout",
       "prompt_number": 14,
       "text": [
        "2-element Array{Float64,1}:\n",
        "  1.5\n",
        " -0.5"
       ]
      }
     ],
     "prompt_number": 14
    },
    {
     "cell_type": "heading",
     "level": 4,
     "metadata": {},
     "source": [
      "Matrices de 3 x 3"
     ]
    },
    {
     "cell_type": "code",
     "collapsed": false,
     "input": [
      "function elim_gaussiana(M)\n",
      "    A = float(copy(M))\n",
      "    # Suponemos que A[1,1] y A[2,2] no son cero\n",
      "    A[2,:] = A[2,:] - A[2,1]/A[1,1]*A[1,:]\n",
      "    A[3,:] = A[3,:] - A[3,1]/A[1,1]*A[1,:]\n",
      "    A[3,:] = A[3,:] - A[3,2]/A[2,2]*A[2,:]\n",
      "    return A\n",
      "end"
     ],
     "language": "python",
     "metadata": {},
     "outputs": [
      {
       "metadata": {},
       "output_type": "pyout",
       "prompt_number": 15,
       "text": [
        "elim_gaussiana (generic function with 1 method)"
       ]
      }
     ],
     "prompt_number": 15
    },
    {
     "cell_type": "code",
     "collapsed": false,
     "input": [
      "M = [2 1 -1; -1 2 1; 0 1 0]"
     ],
     "language": "python",
     "metadata": {},
     "outputs": [
      {
       "metadata": {},
       "output_type": "pyout",
       "prompt_number": 16,
       "text": [
        "3x3 Array{Int64,2}:\n",
        "  2  1  -1\n",
        " -1  2   1\n",
        "  0  1   0"
       ]
      }
     ],
     "prompt_number": 16
    },
    {
     "cell_type": "code",
     "collapsed": false,
     "input": [
      "elim_gaussiana(M)"
     ],
     "language": "python",
     "metadata": {},
     "outputs": [
      {
       "metadata": {},
       "output_type": "pyout",
       "prompt_number": 17,
       "text": [
        "3x3 Array{Float64,2}:\n",
        " 2.0  1.0  -1.0\n",
        " 0.0  2.5   0.5\n",
        " 0.0  0.0  -0.2"
       ]
      }
     ],
     "prompt_number": 17
    },
    {
     "cell_type": "heading",
     "level": 4,
     "metadata": {},
     "source": [
      "Soluci\u00f3n de un sistema de ecuaciones"
     ]
    },
    {
     "cell_type": "code",
     "collapsed": false,
     "input": [
      "function sol_ecs(M)\n",
      "    # M es la matriz A extendida con el vector b\n",
      "    U = elim_gaussiana(M)\n",
      "    b = U[:,end]\n",
      "    A = U[:,1:end-1]\n",
      "    # x es un vector del mismo tama\u00f1o que b\n",
      "    x = similar(b)\n",
      "    x[end] = b[end]/A[3,3]\n",
      "    x[end-1] = (b[end-1] - x[end]*A[2,3])/A[2,2]\n",
      "    x[end-2] = (b[end-2] - x[end-1]*A[1,2] - x[end]*A[1,3])/A[1,1]\n",
      "    return x\n",
      "end"
     ],
     "language": "python",
     "metadata": {},
     "outputs": [
      {
       "metadata": {},
       "output_type": "pyout",
       "prompt_number": 18,
       "text": [
        "sol_ecs (generic function with 1 method)"
       ]
      }
     ],
     "prompt_number": 18
    },
    {
     "cell_type": "code",
     "collapsed": false,
     "input": [
      "M = hcat([2 1 -1; -3 -1 2; 0 1 0], [8, -11, -3])"
     ],
     "language": "python",
     "metadata": {},
     "outputs": [
      {
       "metadata": {},
       "output_type": "pyout",
       "prompt_number": 19,
       "text": [
        "3x4 Array{Int64,2}:\n",
        "  2   1  -1    8\n",
        " -3  -1   2  -11\n",
        "  0   1   0   -3"
       ]
      }
     ],
     "prompt_number": 19
    },
    {
     "cell_type": "code",
     "collapsed": false,
     "input": [
      "sol_ecs(M)"
     ],
     "language": "python",
     "metadata": {},
     "outputs": [
      {
       "metadata": {},
       "output_type": "pyout",
       "prompt_number": 20,
       "text": [
        "3-element Array{Float64,1}:\n",
        "  8.0\n",
        " -3.0\n",
        "  5.0"
       ]
      }
     ],
     "prompt_number": 20
    },
    {
     "cell_type": "code",
     "collapsed": false,
     "input": [],
     "language": "python",
     "metadata": {},
     "outputs": [
      {
       "output_type": "stream",
       "stream": "stderr",
       "text": [
        "Warning: imported binding for transpose overwritten in module __anon__\n"
       ]
      }
     ],
     "prompt_number": 21
    }
   ],
   "metadata": {}
  }
 ]
}