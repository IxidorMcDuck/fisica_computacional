{
 "metadata": {
  "language": "Julia",
  "name": "",
  "signature": "sha256:11b62b020c6c25521ebed0fdc467caac14c0552fe345b0a7225e63832e9a7091"
 },
 "nbformat": 3,
 "nbformat_minor": 0,
 "worksheets": [
  {
   "cells": [
    {
     "cell_type": "code",
     "collapsed": false,
     "input": [
      "using SymPy"
     ],
     "language": "python",
     "metadata": {},
     "outputs": [],
     "prompt_number": 35
    },
    {
     "cell_type": "markdown",
     "metadata": {},
     "source": [
      "$L = T - V$\n",
      "\n",
      "$T = \\frac12m_1(\\dot{x}_1\u02c62 + \\dot{y}_1\u02c62) + \\frac12m_2(\\dot{x}_2\u02c62 + \\dot{y}_2\u02c62)$\n",
      "\n",
      "$V = m_1gy_1 + m_2gy_2$\n"
     ]
    },
    {
     "cell_type": "code",
     "collapsed": false,
     "input": [
      "m1, m2, g, t = sym\"m_1,m_2,g,t\"\n",
      "x1 = SymFunction(\"x_1\")\n",
      "x2 = SymFunction(\"x_2\")\n",
      "y1 = SymFunction(\"y_1\")\n",
      "y2 = SymFunction(\"y_2\")"
     ],
     "language": "python",
     "metadata": {},
     "outputs": [
      {
       "metadata": {},
       "output_type": "pyout",
       "prompt_number": 36,
       "text": [
        "(anonymous function)"
       ]
      }
     ],
     "prompt_number": 36
    },
    {
     "cell_type": "code",
     "collapsed": false,
     "input": [
      "T = m1*(diff(x1(t),t)^2 + diff(y1(t),t)^2)/2 + m2*(diff(x2(t),t)^2 + diff(y2(t),t)^2)/2 \n",
      "Eq(sym\"T\",T)"
     ],
     "language": "python",
     "metadata": {},
     "outputs": [
      {
       "latex": [
        "$$T = \\frac{m_{1}}{2} \\left(\\left(\\frac{d}{d t} \\operatorname{x_{1}}{\\left (t \\right )}\\right)^{2} + \\left(\\frac{d}{d t} \\operatorname{y_{1}}{\\left (t \\right )}\\right)^{2}\\right) + \\frac{m_{2}}{2} \\left(\\left(\\frac{d}{d t} \\operatorname{x_{2}}{\\left (t \\right )}\\right)^{2} + \\left(\\frac{d}{d t} \\operatorname{y_{2}}{\\left (t \\right )}\\right)^{2}\\right)$$"
       ],
       "metadata": {},
       "output_type": "pyout",
       "prompt_number": 37,
       "text": [
        "       \u239b           2              2\u239e      \u239b           2              2\u239e\n",
        "       \u239c\u239bd        \u239e    \u239bd        \u239e \u239f      \u239c\u239bd        \u239e    \u239bd        \u239e \u239f\n",
        "    m\u2081\u22c5\u239c\u239c\u2500\u2500(x\u2081(t))\u239f  + \u239c\u2500\u2500(y\u2081(t))\u239f \u239f   m\u2082\u22c5\u239c\u239c\u2500\u2500(x\u2082(t))\u239f  + \u239c\u2500\u2500(y\u2082(t))\u239f \u239f\n",
        "       \u239d\u239ddt       \u23a0    \u239ddt       \u23a0 \u23a0      \u239d\u239ddt       \u23a0    \u239ddt       \u23a0 \u23a0\n",
        "T = \u2500\u2500\u2500\u2500\u2500\u2500\u2500\u2500\u2500\u2500\u2500\u2500\u2500\u2500\u2500\u2500\u2500\u2500\u2500\u2500\u2500\u2500\u2500\u2500\u2500\u2500\u2500\u2500\u2500\u2500\u2500\u2500 + \u2500\u2500\u2500\u2500\u2500\u2500\u2500\u2500\u2500\u2500\u2500\u2500\u2500\u2500\u2500\u2500\u2500\u2500\u2500\u2500\u2500\u2500\u2500\u2500\u2500\u2500\u2500\u2500\u2500\u2500\u2500\u2500\n",
        "                   2                                  2                "
       ]
      }
     ],
     "prompt_number": 37
    },
    {
     "cell_type": "markdown",
     "metadata": {},
     "source": [
      "$x_1 = \\ell_1\\sin\\theta_1$\n",
      "\n",
      "$y_1 = -\\ell_1\\cos\\theta_1$\n",
      "\n",
      "$x_2 = x_1 + \\ell_2\\sin\\theta_2$\n",
      "\n",
      "$y_2 = y_1 - \\ell_2\\cos\\theta_2$"
     ]
    },
    {
     "cell_type": "code",
     "collapsed": false,
     "input": [
      "\u21131 , \u21132 = Sym(\"\\\\ell_1, \\\\ell_2\")\n",
      "\u03b81 = SymFunction(\"\\\\theta_1\")\n",
      "\u03b82 = SymFunction(\"\\\\theta_2\")"
     ],
     "language": "python",
     "metadata": {},
     "outputs": [
      {
       "metadata": {},
       "output_type": "pyout",
       "prompt_number": 38,
       "text": [
        "(anonymous function)"
       ]
      }
     ],
     "prompt_number": 38
    },
    {
     "cell_type": "code",
     "collapsed": false,
     "input": [
      "V = m1*g*y1(t) + m2*g*y2(t)"
     ],
     "language": "python",
     "metadata": {},
     "outputs": [
      {
       "latex": [
        "$$g m_{1} \\operatorname{y_{1}}{\\left (t \\right )} + g m_{2} \\operatorname{y_{2}}{\\left (t \\right )}$$"
       ],
       "metadata": {},
       "output_type": "pyout",
       "prompt_number": 39,
       "text": [
        "g\u22c5m\u2081\u22c5y\u2081(t) + g\u22c5m\u2082\u22c5y\u2082(t)"
       ]
      }
     ],
     "prompt_number": 39
    },
    {
     "cell_type": "code",
     "collapsed": false,
     "input": [
      "T = subs(T, diff(x1(t),t), diff(\u21131*sin(\u03b81(t)),t))"
     ],
     "language": "python",
     "metadata": {},
     "outputs": [
      {
       "latex": [
        "$$\\frac{m_{1}}{2} \\left(\\ell_{1}^{2} \\cos^{2}{\\left (\\theta_{1}{\\left (t \\right )} \\right )} \\left(\\frac{d}{d t} \\theta_{1}{\\left (t \\right )}\\right)^{2} + \\left(\\frac{d}{d t} \\operatorname{y_{1}}{\\left (t \\right )}\\right)^{2}\\right) + \\frac{m_{2}}{2} \\left(\\left(\\frac{d}{d t} \\operatorname{x_{2}}{\\left (t \\right )}\\right)^{2} + \\left(\\frac{d}{d t} \\operatorname{y_{2}}{\\left (t \\right )}\\right)^{2}\\right)$$"
       ],
       "metadata": {},
       "output_type": "pyout",
       "prompt_number": 40,
       "text": [
        "   \u239b                                        2              2\u239e      \u239b          \n",
        "   \u239c     2    2             \u239bd             \u239e    \u239bd        \u239e \u239f      \u239c\u239bd        \n",
        "m\u2081\u22c5\u239c\\ell\u2081 \u22c5cos (\\theta\u2081(t))\u22c5\u239c\u2500\u2500(\\theta\u2081(t))\u239f  + \u239c\u2500\u2500(y\u2081(t))\u239f \u239f   m\u2082\u22c5\u239c\u239c\u2500\u2500(x\u2082(t))\n",
        "   \u239d                        \u239ddt            \u23a0    \u239ddt       \u23a0 \u23a0      \u239d\u239ddt       \n",
        "\u2500\u2500\u2500\u2500\u2500\u2500\u2500\u2500\u2500\u2500\u2500\u2500\u2500\u2500\u2500\u2500\u2500\u2500\u2500\u2500\u2500\u2500\u2500\u2500\u2500\u2500\u2500\u2500\u2500\u2500\u2500\u2500\u2500\u2500\u2500\u2500\u2500\u2500\u2500\u2500\u2500\u2500\u2500\u2500\u2500\u2500\u2500\u2500\u2500\u2500\u2500\u2500\u2500\u2500\u2500\u2500\u2500\u2500\u2500\u2500\u2500 + \u2500\u2500\u2500\u2500\u2500\u2500\u2500\u2500\u2500\u2500\u2500\u2500\u2500\u2500\n",
        "                              2                                               \n",
        "\n",
        " 2              2\u239e\n",
        "\u239e    \u239bd        \u239e \u239f\n",
        "\u239f  + \u239c\u2500\u2500(y\u2082(t))\u239f \u239f\n",
        "\u23a0    \u239ddt       \u23a0 \u23a0\n",
        "\u2500\u2500\u2500\u2500\u2500\u2500\u2500\u2500\u2500\u2500\u2500\u2500\u2500\u2500\u2500\u2500\u2500\u2500\n",
        " 2                "
       ]
      }
     ],
     "prompt_number": 40
    },
    {
     "cell_type": "code",
     "collapsed": false,
     "input": [
      "T = subs(T, diff(y1(t),t), diff(-\u21131*cos(\u03b81(t)),t))"
     ],
     "language": "python",
     "metadata": {},
     "outputs": [
      {
       "latex": [
        "$$\\frac{m_{1}}{2} \\left(\\ell_{1}^{2} \\sin^{2}{\\left (\\theta_{1}{\\left (t \\right )} \\right )} \\left(\\frac{d}{d t} \\theta_{1}{\\left (t \\right )}\\right)^{2} + \\ell_{1}^{2} \\cos^{2}{\\left (\\theta_{1}{\\left (t \\right )} \\right )} \\left(\\frac{d}{d t} \\theta_{1}{\\left (t \\right )}\\right)^{2}\\right) + \\frac{m_{2}}{2} \\left(\\left(\\frac{d}{d t} \\operatorname{x_{2}}{\\left (t \\right )}\\right)^{2} + \\left(\\frac{d}{d t} \\operatorname{y_{2}}{\\left (t \\right )}\\right)^{2}\\right)$$"
       ],
       "metadata": {},
       "output_type": "pyout",
       "prompt_number": 41,
       "text": [
        "   \u239b                                        2                                 \n",
        "   \u239c     2    2             \u239bd             \u239e         2    2             \u239bd    \n",
        "m\u2081\u22c5\u239c\\ell\u2081 \u22c5sin (\\theta\u2081(t))\u22c5\u239c\u2500\u2500(\\theta\u2081(t))\u239f  + \\ell\u2081 \u22c5cos (\\theta\u2081(t))\u22c5\u239c\u2500\u2500(\\t\n",
        "   \u239d                        \u239ddt            \u23a0                            \u239ddt   \n",
        "\u2500\u2500\u2500\u2500\u2500\u2500\u2500\u2500\u2500\u2500\u2500\u2500\u2500\u2500\u2500\u2500\u2500\u2500\u2500\u2500\u2500\u2500\u2500\u2500\u2500\u2500\u2500\u2500\u2500\u2500\u2500\u2500\u2500\u2500\u2500\u2500\u2500\u2500\u2500\u2500\u2500\u2500\u2500\u2500\u2500\u2500\u2500\u2500\u2500\u2500\u2500\u2500\u2500\u2500\u2500\u2500\u2500\u2500\u2500\u2500\u2500\u2500\u2500\u2500\u2500\u2500\u2500\u2500\u2500\u2500\u2500\u2500\u2500\u2500\u2500\u2500\u2500\u2500\n",
        "                                            2                                 \n",
        "\n",
        "          2\u239e      \u239b           2              2\u239e\n",
        "         \u239e \u239f      \u239c\u239bd        \u239e    \u239bd        \u239e \u239f\n",
        "heta\u2081(t))\u239f \u239f   m\u2082\u22c5\u239c\u239c\u2500\u2500(x\u2082(t))\u239f  + \u239c\u2500\u2500(y\u2082(t))\u239f \u239f\n",
        "         \u23a0 \u23a0      \u239d\u239ddt       \u23a0    \u239ddt       \u23a0 \u23a0\n",
        "\u2500\u2500\u2500\u2500\u2500\u2500\u2500\u2500\u2500\u2500\u2500\u2500 + \u2500\u2500\u2500\u2500\u2500\u2500\u2500\u2500\u2500\u2500\u2500\u2500\u2500\u2500\u2500\u2500\u2500\u2500\u2500\u2500\u2500\u2500\u2500\u2500\u2500\u2500\u2500\u2500\u2500\u2500\u2500\u2500\n",
        "                              2                "
       ]
      }
     ],
     "prompt_number": 41
    },
    {
     "cell_type": "code",
     "collapsed": false,
     "input": [
      "T = subs(T, diff(x2(t),t), diff(\u21131*sin(\u03b81(t)) + \u21132*sin(\u03b82(t)),t))"
     ],
     "language": "python",
     "metadata": {},
     "outputs": [
      {
       "latex": [
        "$$\\frac{m_{1}}{2} \\left(\\ell_{1}^{2} \\sin^{2}{\\left (\\theta_{1}{\\left (t \\right )} \\right )} \\left(\\frac{d}{d t} \\theta_{1}{\\left (t \\right )}\\right)^{2} + \\ell_{1}^{2} \\cos^{2}{\\left (\\theta_{1}{\\left (t \\right )} \\right )} \\left(\\frac{d}{d t} \\theta_{1}{\\left (t \\right )}\\right)^{2}\\right) + \\frac{m_{2}}{2} \\left(\\left(\\ell_{1} \\cos{\\left (\\theta_{1}{\\left (t \\right )} \\right )} \\frac{d}{d t} \\theta_{1}{\\left (t \\right )} + \\ell_{2} \\cos{\\left (\\theta_{2}{\\left (t \\right )} \\right )} \\frac{d}{d t} \\theta_{2}{\\left (t \\right )}\\right)^{2} + \\left(\\frac{d}{d t} \\operatorname{y_{2}}{\\left (t \\right )}\\right)^{2}\\right)$$"
       ],
       "metadata": {},
       "output_type": "pyout",
       "prompt_number": 42,
       "text": [
        "   \u239b                                        2                                 \n",
        "   \u239c     2    2             \u239bd             \u239e         2    2             \u239bd    \n",
        "m\u2081\u22c5\u239c\\ell\u2081 \u22c5sin (\\theta\u2081(t))\u22c5\u239c\u2500\u2500(\\theta\u2081(t))\u239f  + \\ell\u2081 \u22c5cos (\\theta\u2081(t))\u22c5\u239c\u2500\u2500(\\t\n",
        "   \u239d                        \u239ddt            \u23a0                            \u239ddt   \n",
        "\u2500\u2500\u2500\u2500\u2500\u2500\u2500\u2500\u2500\u2500\u2500\u2500\u2500\u2500\u2500\u2500\u2500\u2500\u2500\u2500\u2500\u2500\u2500\u2500\u2500\u2500\u2500\u2500\u2500\u2500\u2500\u2500\u2500\u2500\u2500\u2500\u2500\u2500\u2500\u2500\u2500\u2500\u2500\u2500\u2500\u2500\u2500\u2500\u2500\u2500\u2500\u2500\u2500\u2500\u2500\u2500\u2500\u2500\u2500\u2500\u2500\u2500\u2500\u2500\u2500\u2500\u2500\u2500\u2500\u2500\u2500\u2500\u2500\u2500\u2500\u2500\u2500\u2500\n",
        "                                            2                                 \n",
        "\n",
        "          2\u239e      \u239b                                                           \n",
        "         \u239e \u239f      \u239c\u239b                      d                                   \n",
        "heta\u2081(t))\u239f \u239f   m\u2082\u22c5\u239c\u239c\\ell\u2081\u22c5cos(\\theta\u2081(t))\u22c5\u2500\u2500(\\theta\u2081(t)) + \\ell\u2082\u22c5cos(\\theta\u2082(t\n",
        "         \u23a0 \u23a0      \u239d\u239d                      dt                                  \n",
        "\u2500\u2500\u2500\u2500\u2500\u2500\u2500\u2500\u2500\u2500\u2500\u2500 + \u2500\u2500\u2500\u2500\u2500\u2500\u2500\u2500\u2500\u2500\u2500\u2500\u2500\u2500\u2500\u2500\u2500\u2500\u2500\u2500\u2500\u2500\u2500\u2500\u2500\u2500\u2500\u2500\u2500\u2500\u2500\u2500\u2500\u2500\u2500\u2500\u2500\u2500\u2500\u2500\u2500\u2500\u2500\u2500\u2500\u2500\u2500\u2500\u2500\u2500\u2500\u2500\u2500\u2500\u2500\u2500\u2500\u2500\u2500\u2500\u2500\u2500\u2500\n",
        "                                                               2              \n",
        "\n",
        "                  2              2\u239e\n",
        "   d             \u239e    \u239bd        \u239e \u239f\n",
        "))\u22c5\u2500\u2500(\\theta\u2082(t))\u239f  + \u239c\u2500\u2500(y\u2082(t))\u239f \u239f\n",
        "   dt            \u23a0    \u239ddt       \u23a0 \u23a0\n",
        "\u2500\u2500\u2500\u2500\u2500\u2500\u2500\u2500\u2500\u2500\u2500\u2500\u2500\u2500\u2500\u2500\u2500\u2500\u2500\u2500\u2500\u2500\u2500\u2500\u2500\u2500\u2500\u2500\u2500\u2500\u2500\u2500\u2500\u2500\u2500\n",
        "                                   "
       ]
      }
     ],
     "prompt_number": 42
    },
    {
     "cell_type": "code",
     "collapsed": false,
     "input": [
      "T = subs(T, diff(y2(t),t), diff(-\u21131*cos(\u03b81(t)) + -\u21132*cos(\u03b82(t)),t))"
     ],
     "language": "python",
     "metadata": {},
     "outputs": [
      {
       "latex": [
        "$$\\frac{m_{1}}{2} \\left(\\ell_{1}^{2} \\sin^{2}{\\left (\\theta_{1}{\\left (t \\right )} \\right )} \\left(\\frac{d}{d t} \\theta_{1}{\\left (t \\right )}\\right)^{2} + \\ell_{1}^{2} \\cos^{2}{\\left (\\theta_{1}{\\left (t \\right )} \\right )} \\left(\\frac{d}{d t} \\theta_{1}{\\left (t \\right )}\\right)^{2}\\right) + \\frac{m_{2}}{2} \\left(\\left(\\ell_{1} \\sin{\\left (\\theta_{1}{\\left (t \\right )} \\right )} \\frac{d}{d t} \\theta_{1}{\\left (t \\right )} + \\ell_{2} \\sin{\\left (\\theta_{2}{\\left (t \\right )} \\right )} \\frac{d}{d t} \\theta_{2}{\\left (t \\right )}\\right)^{2} + \\left(\\ell_{1} \\cos{\\left (\\theta_{1}{\\left (t \\right )} \\right )} \\frac{d}{d t} \\theta_{1}{\\left (t \\right )} + \\ell_{2} \\cos{\\left (\\theta_{2}{\\left (t \\right )} \\right )} \\frac{d}{d t} \\theta_{2}{\\left (t \\right )}\\right)^{2}\\right)$$"
       ],
       "metadata": {},
       "output_type": "pyout",
       "prompt_number": 43,
       "text": [
        "   \u239b                                        2                                 \n",
        "   \u239c     2    2             \u239bd             \u239e         2    2             \u239bd    \n",
        "m\u2081\u22c5\u239c\\ell\u2081 \u22c5sin (\\theta\u2081(t))\u22c5\u239c\u2500\u2500(\\theta\u2081(t))\u239f  + \\ell\u2081 \u22c5cos (\\theta\u2081(t))\u22c5\u239c\u2500\u2500(\\t\n",
        "   \u239d                        \u239ddt            \u23a0                            \u239ddt   \n",
        "\u2500\u2500\u2500\u2500\u2500\u2500\u2500\u2500\u2500\u2500\u2500\u2500\u2500\u2500\u2500\u2500\u2500\u2500\u2500\u2500\u2500\u2500\u2500\u2500\u2500\u2500\u2500\u2500\u2500\u2500\u2500\u2500\u2500\u2500\u2500\u2500\u2500\u2500\u2500\u2500\u2500\u2500\u2500\u2500\u2500\u2500\u2500\u2500\u2500\u2500\u2500\u2500\u2500\u2500\u2500\u2500\u2500\u2500\u2500\u2500\u2500\u2500\u2500\u2500\u2500\u2500\u2500\u2500\u2500\u2500\u2500\u2500\u2500\u2500\u2500\u2500\u2500\u2500\n",
        "                                            2                                 \n",
        "\n",
        "          2\u239e      \u239b                                                           \n",
        "         \u239e \u239f      \u239c\u239b                      d                                   \n",
        "heta\u2081(t))\u239f \u239f   m\u2082\u22c5\u239c\u239c\\ell\u2081\u22c5sin(\\theta\u2081(t))\u22c5\u2500\u2500(\\theta\u2081(t)) + \\ell\u2082\u22c5sin(\\theta\u2082(t\n",
        "         \u23a0 \u23a0      \u239d\u239d                      dt                                  \n",
        "\u2500\u2500\u2500\u2500\u2500\u2500\u2500\u2500\u2500\u2500\u2500\u2500 + \u2500\u2500\u2500\u2500\u2500\u2500\u2500\u2500\u2500\u2500\u2500\u2500\u2500\u2500\u2500\u2500\u2500\u2500\u2500\u2500\u2500\u2500\u2500\u2500\u2500\u2500\u2500\u2500\u2500\u2500\u2500\u2500\u2500\u2500\u2500\u2500\u2500\u2500\u2500\u2500\u2500\u2500\u2500\u2500\u2500\u2500\u2500\u2500\u2500\u2500\u2500\u2500\u2500\u2500\u2500\u2500\u2500\u2500\u2500\u2500\u2500\u2500\u2500\n",
        "                                                                              \n",
        "\n",
        "                  2                                                           \n",
        "   d             \u239e    \u239b                      d                                \n",
        "))\u22c5\u2500\u2500(\\theta\u2082(t))\u239f  + \u239c\\ell\u2081\u22c5cos(\\theta\u2081(t))\u22c5\u2500\u2500(\\theta\u2081(t)) + \\ell\u2082\u22c5cos(\\theta\n",
        "   dt            \u23a0    \u239d                      dt                               \n",
        "\u2500\u2500\u2500\u2500\u2500\u2500\u2500\u2500\u2500\u2500\u2500\u2500\u2500\u2500\u2500\u2500\u2500\u2500\u2500\u2500\u2500\u2500\u2500\u2500\u2500\u2500\u2500\u2500\u2500\u2500\u2500\u2500\u2500\u2500\u2500\u2500\u2500\u2500\u2500\u2500\u2500\u2500\u2500\u2500\u2500\u2500\u2500\u2500\u2500\u2500\u2500\u2500\u2500\u2500\u2500\u2500\u2500\u2500\u2500\u2500\u2500\u2500\u2500\u2500\u2500\u2500\u2500\u2500\u2500\u2500\u2500\u2500\u2500\u2500\u2500\u2500\u2500\u2500\n",
        "                  2                                                           \n",
        "\n",
        "                     2\u239e\n",
        "      d             \u239e \u239f\n",
        "\u2082(t))\u22c5\u2500\u2500(\\theta\u2082(t))\u239f \u239f\n",
        "      dt            \u23a0 \u23a0\n",
        "\u2500\u2500\u2500\u2500\u2500\u2500\u2500\u2500\u2500\u2500\u2500\u2500\u2500\u2500\u2500\u2500\u2500\u2500\u2500\u2500\u2500\u2500\u2500\n",
        "                       "
       ]
      }
     ],
     "prompt_number": 43
    },
    {
     "cell_type": "code",
     "collapsed": false,
     "input": [
      "V = subs(V, y1(t),-\u21131*cos(\u03b81(t)))"
     ],
     "language": "python",
     "metadata": {},
     "outputs": [
      {
       "latex": [
        "$$- \\ell_{1} g m_{1} \\cos{\\left (\\theta_{1}{\\left (t \\right )} \\right )} + g m_{2} \\operatorname{y_{2}}{\\left (t \\right )}$$"
       ],
       "metadata": {},
       "output_type": "pyout",
       "prompt_number": 44,
       "text": [
        "-\\ell\u2081\u22c5g\u22c5m\u2081\u22c5cos(\\theta\u2081(t)) + g\u22c5m\u2082\u22c5y\u2082(t)"
       ]
      }
     ],
     "prompt_number": 44
    },
    {
     "cell_type": "code",
     "collapsed": false,
     "input": [
      "V = subs(V, y2(t), -\u21131*cos(\u03b81(t)) -\u21132*cos(\u03b82(t)))\n",
      "Eq(sym\"V\",V)"
     ],
     "language": "python",
     "metadata": {},
     "outputs": [
      {
       "latex": [
        "$$V = - \\ell_{1} g m_{1} \\cos{\\left (\\theta_{1}{\\left (t \\right )} \\right )} + g m_{2} \\left(- \\ell_{1} \\cos{\\left (\\theta_{1}{\\left (t \\right )} \\right )} - \\ell_{2} \\cos{\\left (\\theta_{2}{\\left (t \\right )} \\right )}\\right)$$"
       ],
       "metadata": {},
       "output_type": "pyout",
       "prompt_number": 45,
       "text": [
        "V = -\\ell\u2081\u22c5g\u22c5m\u2081\u22c5cos(\\theta\u2081(t)) + g\u22c5m\u2082\u22c5(-\\ell\u2081\u22c5cos(\\theta\u2081(t)) - \\ell\u2082\u22c5cos(\\th\n",
        "eta\u2082(t)))"
       ]
      }
     ],
     "prompt_number": 45
    },
    {
     "cell_type": "markdown",
     "metadata": {},
     "source": [
      "$$\n",
      "\\frac{d}{dt}\\frac{\\partial L}{\\partial\\dot{q}} - \\frac{\\partial L}{\\partial q} = 0 \n",
      "$$"
     ]
    },
    {
     "cell_type": "code",
     "collapsed": false,
     "input": [
      "L = T - V"
     ],
     "language": "python",
     "metadata": {},
     "outputs": [
      {
       "latex": [
        "$$\\ell_{1} g m_{1} \\cos{\\left (\\theta_{1}{\\left (t \\right )} \\right )} - g m_{2} \\left(- \\ell_{1} \\cos{\\left (\\theta_{1}{\\left (t \\right )} \\right )} - \\ell_{2} \\cos{\\left (\\theta_{2}{\\left (t \\right )} \\right )}\\right) + \\frac{m_{1}}{2} \\left(\\ell_{1}^{2} \\sin^{2}{\\left (\\theta_{1}{\\left (t \\right )} \\right )} \\left(\\frac{d}{d t} \\theta_{1}{\\left (t \\right )}\\right)^{2} + \\ell_{1}^{2} \\cos^{2}{\\left (\\theta_{1}{\\left (t \\right )} \\right )} \\left(\\frac{d}{d t} \\theta_{1}{\\left (t \\right )}\\right)^{2}\\right) + \\frac{m_{2}}{2} \\left(\\left(\\ell_{1} \\sin{\\left (\\theta_{1}{\\left (t \\right )} \\right )} \\frac{d}{d t} \\theta_{1}{\\left (t \\right )} + \\ell_{2} \\sin{\\left (\\theta_{2}{\\left (t \\right )} \\right )} \\frac{d}{d t} \\theta_{2}{\\left (t \\right )}\\right)^{2} + \\left(\\ell_{1} \\cos{\\left (\\theta_{1}{\\left (t \\right )} \\right )} \\frac{d}{d t} \\theta_{1}{\\left (t \\right )} + \\ell_{2} \\cos{\\left (\\theta_{2}{\\left (t \\right )} \\right )} \\frac{d}{d t} \\theta_{2}{\\left (t \\right )}\\right)^{2}\\right)$$"
       ],
       "metadata": {},
       "output_type": "pyout",
       "prompt_number": 46,
       "text": [
        "                                                                              \n",
        "                                                                              \n",
        "                                                                              \n",
        "                                                                              \n",
        "\\ell\u2081\u22c5g\u22c5m\u2081\u22c5cos(\\theta\u2081(t)) - g\u22c5m\u2082\u22c5(-\\ell\u2081\u22c5cos(\\theta\u2081(t)) - \\ell\u2082\u22c5cos(\\theta\u2082(\n",
        "                                                                              \n",
        "\n",
        "          \u239b                                        2                          \n",
        "          \u239c     2    2             \u239bd             \u239e         2    2            \n",
        "       m\u2081\u22c5\u239c\\ell\u2081 \u22c5sin (\\theta\u2081(t))\u22c5\u239c\u2500\u2500(\\theta\u2081(t))\u239f  + \\ell\u2081 \u22c5cos (\\theta\u2081(t))\n",
        "          \u239d                        \u239ddt            \u23a0                           \n",
        "t))) + \u2500\u2500\u2500\u2500\u2500\u2500\u2500\u2500\u2500\u2500\u2500\u2500\u2500\u2500\u2500\u2500\u2500\u2500\u2500\u2500\u2500\u2500\u2500\u2500\u2500\u2500\u2500\u2500\u2500\u2500\u2500\u2500\u2500\u2500\u2500\u2500\u2500\u2500\u2500\u2500\u2500\u2500\u2500\u2500\u2500\u2500\u2500\u2500\u2500\u2500\u2500\u2500\u2500\u2500\u2500\u2500\u2500\u2500\u2500\u2500\u2500\u2500\u2500\u2500\u2500\u2500\u2500\u2500\u2500\u2500\u2500\n",
        "                                                   2                          \n",
        "\n",
        "                 2\u239e      \u239b                                                    \n",
        " \u239bd             \u239e \u239f      \u239c\u239b                      d                            \n",
        "\u22c5\u239c\u2500\u2500(\\theta\u2081(t))\u239f \u239f   m\u2082\u22c5\u239c\u239c\\ell\u2081\u22c5sin(\\theta\u2081(t))\u22c5\u2500\u2500(\\theta\u2081(t)) + \\ell\u2082\u22c5sin(\\t\n",
        " \u239ddt            \u23a0 \u23a0      \u239d\u239d                      dt                           \n",
        "\u2500\u2500\u2500\u2500\u2500\u2500\u2500\u2500\u2500\u2500\u2500\u2500\u2500\u2500\u2500\u2500\u2500\u2500\u2500 + \u2500\u2500\u2500\u2500\u2500\u2500\u2500\u2500\u2500\u2500\u2500\u2500\u2500\u2500\u2500\u2500\u2500\u2500\u2500\u2500\u2500\u2500\u2500\u2500\u2500\u2500\u2500\u2500\u2500\u2500\u2500\u2500\u2500\u2500\u2500\u2500\u2500\u2500\u2500\u2500\u2500\u2500\u2500\u2500\u2500\u2500\u2500\u2500\u2500\u2500\u2500\u2500\u2500\u2500\u2500\u2500\n",
        "                                                                              \n",
        "\n",
        "                         2                                                    \n",
        "          d             \u239e    \u239b                      d                         \n",
        "heta\u2082(t))\u22c5\u2500\u2500(\\theta\u2082(t))\u239f  + \u239c\\ell\u2081\u22c5cos(\\theta\u2081(t))\u22c5\u2500\u2500(\\theta\u2081(t)) + \\ell\u2082\u22c5cos\n",
        "          dt            \u23a0    \u239d                      dt                        \n",
        "\u2500\u2500\u2500\u2500\u2500\u2500\u2500\u2500\u2500\u2500\u2500\u2500\u2500\u2500\u2500\u2500\u2500\u2500\u2500\u2500\u2500\u2500\u2500\u2500\u2500\u2500\u2500\u2500\u2500\u2500\u2500\u2500\u2500\u2500\u2500\u2500\u2500\u2500\u2500\u2500\u2500\u2500\u2500\u2500\u2500\u2500\u2500\u2500\u2500\u2500\u2500\u2500\u2500\u2500\u2500\u2500\u2500\u2500\u2500\u2500\u2500\u2500\u2500\u2500\u2500\u2500\u2500\u2500\u2500\u2500\u2500\u2500\u2500\u2500\u2500\u2500\u2500\u2500\n",
        "                         2                                                    \n",
        "\n",
        "                            2\u239e\n",
        "             d             \u239e \u239f\n",
        "(\\theta\u2082(t))\u22c5\u2500\u2500(\\theta\u2082(t))\u239f \u239f\n",
        "             dt            \u23a0 \u23a0\n",
        "\u2500\u2500\u2500\u2500\u2500\u2500\u2500\u2500\u2500\u2500\u2500\u2500\u2500\u2500\u2500\u2500\u2500\u2500\u2500\u2500\u2500\u2500\u2500\u2500\u2500\u2500\u2500\u2500\u2500\u2500\n",
        "                              "
       ]
      }
     ],
     "prompt_number": 46
    },
    {
     "cell_type": "code",
     "collapsed": false,
     "input": [
      "F\u03b81 = diff(L, \u03b81(t));"
     ],
     "language": "python",
     "metadata": {},
     "outputs": [],
     "prompt_number": 47
    },
    {
     "cell_type": "code",
     "collapsed": false,
     "input": [
      "F\u03b82 = diff(L, \u03b82(t));"
     ],
     "language": "python",
     "metadata": {},
     "outputs": [],
     "prompt_number": 48
    },
    {
     "cell_type": "code",
     "collapsed": false,
     "input": [
      "p\u03b81 = diff(L, diff(\u03b81(t),t));"
     ],
     "language": "python",
     "metadata": {},
     "outputs": [],
     "prompt_number": 49
    },
    {
     "cell_type": "code",
     "collapsed": false,
     "input": [
      "p\u03b82 = diff(L, diff(\u03b82(t),t));"
     ],
     "language": "python",
     "metadata": {},
     "outputs": [],
     "prompt_number": 50
    },
    {
     "cell_type": "code",
     "collapsed": false,
     "input": [
      "EL1 = diff(p\u03b81,t) - F\u03b81;"
     ],
     "language": "python",
     "metadata": {},
     "outputs": [],
     "prompt_number": 51
    },
    {
     "cell_type": "code",
     "collapsed": false,
     "input": [
      "EL2 = diff(p\u03b82, t) - F\u03b82;"
     ],
     "language": "python",
     "metadata": {},
     "outputs": [],
     "prompt_number": 52
    },
    {
     "cell_type": "code",
     "collapsed": false,
     "input": [
      "EL1 = EL1 |> simplify;"
     ],
     "language": "python",
     "metadata": {},
     "outputs": [],
     "prompt_number": 53
    },
    {
     "cell_type": "code",
     "collapsed": false,
     "input": [
      "EL2 = EL2 |> simplify;"
     ],
     "language": "python",
     "metadata": {},
     "outputs": [],
     "prompt_number": 54
    },
    {
     "cell_type": "code",
     "collapsed": false,
     "input": [
      "\u03b81pp, \u03b82pp = Sym(\"\\\\ddot{\\\\theta}_1, \\\\ddot{\\\\theta}_2\")\n",
      "\u03b81p, \u03b82p = Sym(\"\\\\dot{\\\\theta}_1, \\\\dot{\\\\theta}_2\")"
     ],
     "language": "python",
     "metadata": {},
     "outputs": [
      {
       "metadata": {},
       "output_type": "pyout",
       "prompt_number": 55,
       "text": [
        "(\\dot{\\theta}\u2081,\\dot{\\theta}\u2082)"
       ]
      }
     ],
     "prompt_number": 55
    },
    {
     "cell_type": "code",
     "collapsed": false,
     "input": [
      "EL1 = subs(EL1, diff(\u03b81(t),t,2), \u03b81pp)\n",
      "EL1 = subs(EL1, diff(\u03b82(t),t,2), \u03b82pp)\n",
      "EL2 = subs(EL2, diff(\u03b81(t),t,2), \u03b81pp)\n",
      "EL2 = subs(EL2, diff(\u03b82(t),t,2), \u03b82pp)\n",
      "EL1 = subs(EL1, diff(\u03b81(t),t,1), \u03b81p)\n",
      "EL1 = subs(EL1, diff(\u03b82(t),t,1), \u03b82p)\n",
      "EL2 = subs(EL2, diff(\u03b81(t),t,1), \u03b81p)\n",
      "EL2 = subs(EL2, diff(\u03b82(t),t,1), \u03b82p)"
     ],
     "language": "python",
     "metadata": {},
     "outputs": [
      {
       "latex": [
        "$$\\ell_{2} m_{2} \\left(\\ddot{\\theta}_{1} \\ell_{1} \\cos{\\left (\\theta_{1}{\\left (t \\right )} - \\theta_{2}{\\left (t \\right )} \\right )} + \\ddot{\\theta}_{2} \\ell_{2} - \\dot{\\theta}_{1}^{2} \\ell_{1} \\sin{\\left (\\theta_{1}{\\left (t \\right )} - \\theta_{2}{\\left (t \\right )} \\right )} + g \\sin{\\left (\\theta_{2}{\\left (t \\right )} \\right )}\\right)$$"
       ],
       "metadata": {},
       "output_type": "pyout",
       "prompt_number": 56,
       "text": [
        "         \u239b                                                                    \n",
        "\\ell\u2082\u22c5m\u2082\u22c5\u239d\\ddot{\\theta}\u2081\u22c5\\ell\u2081\u22c5cos(\\theta\u2081(t) - \\theta\u2082(t)) + \\ddot{\\theta}\u2082\u22c5\\\n",
        "\n",
        "                    2                                                       \u239e\n",
        "ell\u2082 - \\dot{\\theta}\u2081 \u22c5\\ell\u2081\u22c5sin(\\theta\u2081(t) - \\theta\u2082(t)) + g\u22c5sin(\\theta\u2082(t))\u23a0"
       ]
      }
     ],
     "prompt_number": 56
    },
    {
     "cell_type": "code",
     "collapsed": false,
     "input": [
      "(sol\u03b81, sol\u03b82) = solve([EL1, EL2],[\u03b81pp, \u03b82pp]);"
     ],
     "language": "python",
     "metadata": {},
     "outputs": [],
     "prompt_number": 57
    },
    {
     "cell_type": "code",
     "collapsed": false,
     "input": [
      "sol\u03b81 = sol\u03b81[2];\n",
      "sol\u03b82 = sol\u03b82[2];"
     ],
     "language": "python",
     "metadata": {},
     "outputs": [],
     "prompt_number": 58
    },
    {
     "cell_type": "code",
     "collapsed": false,
     "input": [
      "Eq(\u03b81pp, sol\u03b81)"
     ],
     "language": "python",
     "metadata": {},
     "outputs": [
      {
       "latex": [
        "$$\\ddot{\\theta}_{1} = \\frac{1}{\\ell_{1} \\left(- m_{1} + m_{2} \\cos^{2}{\\left (\\theta_{1}{\\left (t \\right )} - \\theta_{2}{\\left (t \\right )} \\right )} - m_{2}\\right)} \\left(\\frac{\\ell_{1} m_{2}}{2} \\dot{\\theta}_{1}^{2} \\sin{\\left (2 \\theta_{1}{\\left (t \\right )} - 2 \\theta_{2}{\\left (t \\right )} \\right )} + \\dot{\\theta}_{2}^{2} \\ell_{2} m_{2} \\sin{\\left (\\theta_{1}{\\left (t \\right )} - \\theta_{2}{\\left (t \\right )} \\right )} + g m_{1} \\sin{\\left (\\theta_{1}{\\left (t \\right )} \\right )} + \\frac{g m_{2}}{2} \\sin{\\left (\\theta_{1}{\\left (t \\right )} - 2 \\theta_{2}{\\left (t \\right )} \\right )} + \\frac{g m_{2}}{2} \\sin{\\left (\\theta_{1}{\\left (t \\right )} \\right )}\\right)$$"
       ],
       "metadata": {},
       "output_type": "pyout",
       "prompt_number": 59,
       "text": [
        "                              2                                               \n",
        "                 \\dot{\\theta}\u2081 \u22c5\\ell\u2081\u22c5m\u2082\u22c5sin(2\u22c5\\theta\u2081(t) - 2\u22c5\\theta\u2082(t))     \n",
        "                 \u2500\u2500\u2500\u2500\u2500\u2500\u2500\u2500\u2500\u2500\u2500\u2500\u2500\u2500\u2500\u2500\u2500\u2500\u2500\u2500\u2500\u2500\u2500\u2500\u2500\u2500\u2500\u2500\u2500\u2500\u2500\u2500\u2500\u2500\u2500\u2500\u2500\u2500\u2500\u2500\u2500\u2500\u2500\u2500\u2500\u2500\u2500\u2500\u2500\u2500\u2500\u2500\u2500\u2500\u2500\u2500 + \\d\n",
        "                                            2                                 \n",
        "\\ddot{\\theta}\u2081 = \u2500\u2500\u2500\u2500\u2500\u2500\u2500\u2500\u2500\u2500\u2500\u2500\u2500\u2500\u2500\u2500\u2500\u2500\u2500\u2500\u2500\u2500\u2500\u2500\u2500\u2500\u2500\u2500\u2500\u2500\u2500\u2500\u2500\u2500\u2500\u2500\u2500\u2500\u2500\u2500\u2500\u2500\u2500\u2500\u2500\u2500\u2500\u2500\u2500\u2500\u2500\u2500\u2500\u2500\u2500\u2500\u2500\u2500\u2500\u2500\u2500\n",
        "                                                                              \n",
        "                                                                              \n",
        "\n",
        "                                                                              \n",
        "           2                                                                g\u22c5\n",
        "ot{\\theta}\u2082 \u22c5\\ell\u2082\u22c5m\u2082\u22c5sin(\\theta\u2081(t) - \\theta\u2082(t)) + g\u22c5m\u2081\u22c5sin(\\theta\u2081(t)) + \u2500\u2500\n",
        "                                                                              \n",
        "\u2500\u2500\u2500\u2500\u2500\u2500\u2500\u2500\u2500\u2500\u2500\u2500\u2500\u2500\u2500\u2500\u2500\u2500\u2500\u2500\u2500\u2500\u2500\u2500\u2500\u2500\u2500\u2500\u2500\u2500\u2500\u2500\u2500\u2500\u2500\u2500\u2500\u2500\u2500\u2500\u2500\u2500\u2500\u2500\u2500\u2500\u2500\u2500\u2500\u2500\u2500\u2500\u2500\u2500\u2500\u2500\u2500\u2500\u2500\u2500\u2500\u2500\u2500\u2500\u2500\u2500\u2500\u2500\u2500\u2500\u2500\u2500\u2500\u2500\u2500\u2500\u2500\u2500\n",
        "                 \u239b            2                              \u239e                \n",
        "           \\ell\u2081\u22c5\u239d-m\u2081 + m\u2082\u22c5cos (\\theta\u2081(t) - \\theta\u2082(t)) - m\u2082\u23a0                \n",
        "\n",
        "                                                        \n",
        "m\u2082\u22c5sin(\\theta\u2081(t) - 2\u22c5\\theta\u2082(t))   g\u22c5m\u2082\u22c5sin(\\theta\u2081(t))\n",
        "\u2500\u2500\u2500\u2500\u2500\u2500\u2500\u2500\u2500\u2500\u2500\u2500\u2500\u2500\u2500\u2500\u2500\u2500\u2500\u2500\u2500\u2500\u2500\u2500\u2500\u2500\u2500\u2500\u2500\u2500\u2500\u2500\u2500 + \u2500\u2500\u2500\u2500\u2500\u2500\u2500\u2500\u2500\u2500\u2500\u2500\u2500\u2500\u2500\u2500\u2500\u2500\u2500\u2500\n",
        "               2                             2          \n",
        "\u2500\u2500\u2500\u2500\u2500\u2500\u2500\u2500\u2500\u2500\u2500\u2500\u2500\u2500\u2500\u2500\u2500\u2500\u2500\u2500\u2500\u2500\u2500\u2500\u2500\u2500\u2500\u2500\u2500\u2500\u2500\u2500\u2500\u2500\u2500\u2500\u2500\u2500\u2500\u2500\u2500\u2500\u2500\u2500\u2500\u2500\u2500\u2500\u2500\u2500\u2500\u2500\u2500\u2500\u2500\u2500\n",
        "                                                        \n",
        "                                                        "
       ]
      }
     ],
     "prompt_number": 59
    },
    {
     "cell_type": "code",
     "collapsed": false,
     "input": [
      "Eq(\u03b82pp, sol\u03b82)"
     ],
     "language": "python",
     "metadata": {},
     "outputs": [
      {
       "latex": [
        "$$\\ddot{\\theta}_{2} = \\frac{1}{\\ell_{2} \\left(- m_{1} + m_{2} \\cos^{2}{\\left (\\theta_{1}{\\left (t \\right )} - \\theta_{2}{\\left (t \\right )} \\right )} - m_{2}\\right)} \\left(\\left(- m_{1} - m_{2}\\right) \\left(\\dot{\\theta}_{1}^{2} \\ell_{1} \\sin{\\left (\\theta_{1}{\\left (t \\right )} - \\theta_{2}{\\left (t \\right )} \\right )} - g \\sin{\\left (\\theta_{2}{\\left (t \\right )} \\right )}\\right) - \\left(\\dot{\\theta}_{2}^{2} \\ell_{2} m_{2} \\sin{\\left (\\theta_{1}{\\left (t \\right )} - \\theta_{2}{\\left (t \\right )} \\right )} + g m_{1} \\sin{\\left (\\theta_{1}{\\left (t \\right )} \\right )} + g m_{2} \\sin{\\left (\\theta_{1}{\\left (t \\right )} \\right )}\\right) \\cos{\\left (\\theta_{1}{\\left (t \\right )} - \\theta_{2}{\\left (t \\right )} \\right )}\\right)$$"
       ],
       "metadata": {},
       "output_type": "pyout",
       "prompt_number": 60,
       "text": [
        "                            \u239b             2                                   \n",
        "                 (-m\u2081 - m\u2082)\u22c5\u239d\\dot{\\theta}\u2081 \u22c5\\ell\u2081\u22c5sin(\\theta\u2081(t) - \\theta\u2082(t))\n",
        "\\ddot{\\theta}\u2082 = \u2500\u2500\u2500\u2500\u2500\u2500\u2500\u2500\u2500\u2500\u2500\u2500\u2500\u2500\u2500\u2500\u2500\u2500\u2500\u2500\u2500\u2500\u2500\u2500\u2500\u2500\u2500\u2500\u2500\u2500\u2500\u2500\u2500\u2500\u2500\u2500\u2500\u2500\u2500\u2500\u2500\u2500\u2500\u2500\u2500\u2500\u2500\u2500\u2500\u2500\u2500\u2500\u2500\u2500\u2500\u2500\u2500\u2500\u2500\u2500\u2500\n",
        "                                                                              \n",
        "                                                                              \n",
        "\n",
        "                    \u239e   \u239b             2                                       \n",
        " - g\u22c5sin(\\theta\u2082(t))\u23a0 - \u239d\\dot{\\theta}\u2082 \u22c5\\ell\u2082\u22c5m\u2082\u22c5sin(\\theta\u2081(t) - \\theta\u2082(t)) \n",
        "\u2500\u2500\u2500\u2500\u2500\u2500\u2500\u2500\u2500\u2500\u2500\u2500\u2500\u2500\u2500\u2500\u2500\u2500\u2500\u2500\u2500\u2500\u2500\u2500\u2500\u2500\u2500\u2500\u2500\u2500\u2500\u2500\u2500\u2500\u2500\u2500\u2500\u2500\u2500\u2500\u2500\u2500\u2500\u2500\u2500\u2500\u2500\u2500\u2500\u2500\u2500\u2500\u2500\u2500\u2500\u2500\u2500\u2500\u2500\u2500\u2500\u2500\u2500\u2500\u2500\u2500\u2500\u2500\u2500\u2500\u2500\u2500\u2500\u2500\u2500\u2500\u2500\u2500\n",
        "                          \u239b            2                              \u239e       \n",
        "                    \\ell\u2082\u22c5\u239d-m\u2081 + m\u2082\u22c5cos (\\theta\u2081(t) - \\theta\u2082(t)) - m\u2082\u23a0       \n",
        "\n",
        "                                             \u239e                             \n",
        "+ g\u22c5m\u2081\u22c5sin(\\theta\u2081(t)) + g\u22c5m\u2082\u22c5sin(\\theta\u2081(t))\u23a0\u22c5cos(\\theta\u2081(t) - \\theta\u2082(t))\n",
        "\u2500\u2500\u2500\u2500\u2500\u2500\u2500\u2500\u2500\u2500\u2500\u2500\u2500\u2500\u2500\u2500\u2500\u2500\u2500\u2500\u2500\u2500\u2500\u2500\u2500\u2500\u2500\u2500\u2500\u2500\u2500\u2500\u2500\u2500\u2500\u2500\u2500\u2500\u2500\u2500\u2500\u2500\u2500\u2500\u2500\u2500\u2500\u2500\u2500\u2500\u2500\u2500\u2500\u2500\u2500\u2500\u2500\u2500\u2500\u2500\u2500\u2500\u2500\u2500\u2500\u2500\u2500\u2500\u2500\u2500\u2500\u2500\u2500\u2500\u2500\n",
        "                                                                           \n",
        "                                                                           "
       ]
      }
     ],
     "prompt_number": 60
    },
    {
     "cell_type": "code",
     "collapsed": false,
     "input": [
      "sol\u03b81 = subs(sol\u03b81, \u21131, 1)\n",
      "sol\u03b81 = subs(sol\u03b81, \u21132, 1)\n",
      "sol\u03b81 = subs(sol\u03b81, m1, 1)\n",
      "sol\u03b81 = subs(sol\u03b81, m2, 1)\n",
      "sol\u03b81 = subs(sol\u03b81, g, 10)\n",
      "\n",
      "sol\u03b82 = subs(sol\u03b82, \u21131, 1)\n",
      "sol\u03b82 = subs(sol\u03b82, \u21132, 1)\n",
      "sol\u03b82 = subs(sol\u03b82, m1, 1)\n",
      "sol\u03b82 = subs(sol\u03b82, m2, 1)\n",
      "sol\u03b82 = subs(sol\u03b82, g, 10)"
     ],
     "language": "python",
     "metadata": {},
     "outputs": [
      {
       "latex": [
        "$$\\frac{1}{\\cos^{2}{\\left (\\theta_{1}{\\left (t \\right )} - \\theta_{2}{\\left (t \\right )} \\right )} - 2} \\left(- 2 \\dot{\\theta}_{1}^{2} \\sin{\\left (\\theta_{1}{\\left (t \\right )} - \\theta_{2}{\\left (t \\right )} \\right )} - \\left(\\dot{\\theta}_{2}^{2} \\sin{\\left (\\theta_{1}{\\left (t \\right )} - \\theta_{2}{\\left (t \\right )} \\right )} + 20 \\sin{\\left (\\theta_{1}{\\left (t \\right )} \\right )}\\right) \\cos{\\left (\\theta_{1}{\\left (t \\right )} - \\theta_{2}{\\left (t \\right )} \\right )} + 20 \\sin{\\left (\\theta_{2}{\\left (t \\right )} \\right )}\\right)$$"
       ],
       "metadata": {},
       "output_type": "pyout",
       "prompt_number": 61,
       "text": [
        "                 2                                \u239b             2             \n",
        "- 2\u22c5\\dot{\\theta}\u2081 \u22c5sin(\\theta\u2081(t) - \\theta\u2082(t)) - \u239d\\dot{\\theta}\u2082 \u22c5sin(\\theta\u2081(\n",
        "\u2500\u2500\u2500\u2500\u2500\u2500\u2500\u2500\u2500\u2500\u2500\u2500\u2500\u2500\u2500\u2500\u2500\u2500\u2500\u2500\u2500\u2500\u2500\u2500\u2500\u2500\u2500\u2500\u2500\u2500\u2500\u2500\u2500\u2500\u2500\u2500\u2500\u2500\u2500\u2500\u2500\u2500\u2500\u2500\u2500\u2500\u2500\u2500\u2500\u2500\u2500\u2500\u2500\u2500\u2500\u2500\u2500\u2500\u2500\u2500\u2500\u2500\u2500\u2500\u2500\u2500\u2500\u2500\u2500\u2500\u2500\u2500\u2500\u2500\u2500\u2500\u2500\u2500\n",
        "                                                                     2        \n",
        "                                                                  cos (\\theta\u2081\n",
        "\n",
        "                                     \u239e                                        \n",
        "t) - \\theta\u2082(t)) + 20\u22c5sin(\\theta\u2081(t))\u23a0\u22c5cos(\\theta\u2081(t) - \\theta\u2082(t)) + 20\u22c5sin(\\\n",
        "\u2500\u2500\u2500\u2500\u2500\u2500\u2500\u2500\u2500\u2500\u2500\u2500\u2500\u2500\u2500\u2500\u2500\u2500\u2500\u2500\u2500\u2500\u2500\u2500\u2500\u2500\u2500\u2500\u2500\u2500\u2500\u2500\u2500\u2500\u2500\u2500\u2500\u2500\u2500\u2500\u2500\u2500\u2500\u2500\u2500\u2500\u2500\u2500\u2500\u2500\u2500\u2500\u2500\u2500\u2500\u2500\u2500\u2500\u2500\u2500\u2500\u2500\u2500\u2500\u2500\u2500\u2500\u2500\u2500\u2500\u2500\u2500\u2500\u2500\u2500\u2500\u2500\u2500\n",
        "                                                                              \n",
        "(t) - \\theta\u2082(t)) - 2                                                         \n",
        "\n",
        "          \n",
        "theta\u2082(t))\n",
        "\u2500\u2500\u2500\u2500\u2500\u2500\u2500\u2500\u2500\u2500\n",
        "          \n",
        "          "
       ]
      }
     ],
     "prompt_number": 61
    },
    {
     "cell_type": "markdown",
     "metadata": {},
     "source": [
      "$$\n",
      "\\ddot{\\theta_1} = f(t,\\theta_1, \\theta_2, \\omega_1, \\omega_2)\n",
      "$$\n",
      "\n",
      "$$\n",
      "\\ddot{\\theta_2} = g(t,\\theta_1, \\theta_2, \\omega_1, \\omega_2)\n",
      "$$"
     ]
    },
    {
     "cell_type": "markdown",
     "metadata": {},
     "source": [
      "[En Julia:\n",
      "    `\\theta<TAB>\\dot<TAB>\\_1<TAB>`\n",
      "    da\n",
      "   \u03b8\u0307\u2081\n",
      "   ]"
     ]
    },
    {
     "cell_type": "code",
     "collapsed": false,
     "input": [
      "function f(\u03c4,\u03b1,\u03c9)\n",
      "    float(sol\u03b81 |> subs(\u03b81p, \u03c9[1]) |> subs(\u03b82p, \u03c9[2]) |> subs(\u03b81(t), \u03b1[1])|> subs(\u03b82(t), \u03b1[2]))\n",
      "end"
     ],
     "language": "python",
     "metadata": {},
     "outputs": [
      {
       "metadata": {},
       "output_type": "pyout",
       "prompt_number": 76,
       "text": [
        "f (generic function with 1 method)"
       ]
      }
     ],
     "prompt_number": 76
    },
    {
     "cell_type": "code",
     "collapsed": false,
     "input": [
      "f(0.3,[0.0,0.5],[-0.5,0.0])"
     ],
     "language": "python",
     "metadata": {},
     "outputs": [
      {
       "metadata": {},
       "output_type": "pyout",
       "prompt_number": 77,
       "text": [
        "3.5065600194926083"
       ]
      }
     ],
     "prompt_number": 77
    },
    {
     "cell_type": "code",
     "collapsed": false,
     "input": [
      "\u03c9 = [1, 2]\n",
      "\u03b1 = [3, 4]\n",
      "sol\u03b81 |> subs(\u03b81p, \u03c9[1]) |> subs(\u03b82p, \u03c9[2]) |> subs(\u03b81(t), \u03b1[1])|> subs(\u03b82(t), \u03b1[2])"
     ],
     "language": "python",
     "metadata": {},
     "outputs": [
      {
       "latex": [
        "$$\\frac{1}{-2 + \\cos^{2}{\\left (1 \\right )}} \\left(- 4 \\sin{\\left (1 \\right )} - \\frac{1}{2} \\sin{\\left (2 \\right )} + 15 \\sin{\\left (3 \\right )} - 5 \\sin{\\left (5 \\right )}\\right)$$"
       ],
       "metadata": {},
       "output_type": "pyout",
       "prompt_number": 78,
       "text": [
        "            sin(2)                       \n",
        "-4\u22c5sin(1) - \u2500\u2500\u2500\u2500\u2500\u2500 + 15\u22c5sin(3) - 5\u22c5sin(5)\n",
        "              2                          \n",
        "\u2500\u2500\u2500\u2500\u2500\u2500\u2500\u2500\u2500\u2500\u2500\u2500\u2500\u2500\u2500\u2500\u2500\u2500\u2500\u2500\u2500\u2500\u2500\u2500\u2500\u2500\u2500\u2500\u2500\u2500\u2500\u2500\u2500\u2500\u2500\u2500\u2500\u2500\u2500\u2500\u2500\n",
        "                       2                 \n",
        "               -2 + cos (1)              "
       ]
      }
     ],
     "prompt_number": 78
    },
    {
     "cell_type": "code",
     "collapsed": false,
     "input": [
      "typeof(ans)"
     ],
     "language": "python",
     "metadata": {},
     "outputs": [
      {
       "metadata": {},
       "output_type": "pyout",
       "prompt_number": 79,
       "text": [
        "Sym (constructor with 6 methods)"
       ]
      }
     ],
     "prompt_number": 79
    },
    {
     "cell_type": "heading",
     "level": 1,
     "metadata": {},
     "source": [
      "Expresiones"
     ]
    },
    {
     "cell_type": "code",
     "collapsed": false,
     "input": [
      "ex = :(3 + 4)"
     ],
     "language": "python",
     "metadata": {},
     "outputs": [
      {
       "metadata": {},
       "output_type": "pyout",
       "prompt_number": 80,
       "text": [
        ":(3 + 4)"
       ]
      }
     ],
     "prompt_number": 80
    },
    {
     "cell_type": "code",
     "collapsed": false,
     "input": [
      "typeof(ex)"
     ],
     "language": "python",
     "metadata": {},
     "outputs": [
      {
       "metadata": {},
       "output_type": "pyout",
       "prompt_number": 81,
       "text": [
        "Expr"
       ]
      }
     ],
     "prompt_number": 81
    },
    {
     "cell_type": "code",
     "collapsed": false,
     "input": [
      "s = :a"
     ],
     "language": "python",
     "metadata": {},
     "outputs": [
      {
       "metadata": {},
       "output_type": "pyout",
       "prompt_number": 86,
       "text": [
        ":a"
       ]
      }
     ],
     "prompt_number": 86
    },
    {
     "cell_type": "code",
     "collapsed": false,
     "input": [
      "typeof(s)"
     ],
     "language": "python",
     "metadata": {},
     "outputs": [
      {
       "metadata": {},
       "output_type": "pyout",
       "prompt_number": 87,
       "text": [
        "Symbol"
       ]
      }
     ],
     "prompt_number": 87
    },
    {
     "cell_type": "code",
     "collapsed": false,
     "input": [
      "a = 3"
     ],
     "language": "python",
     "metadata": {},
     "outputs": [
      {
       "metadata": {},
       "output_type": "pyout",
       "prompt_number": 89,
       "text": [
        "3"
       ]
      }
     ],
     "prompt_number": 89
    },
    {
     "cell_type": "code",
     "collapsed": false,
     "input": [
      "eval(s)"
     ],
     "language": "python",
     "metadata": {},
     "outputs": [
      {
       "metadata": {},
       "output_type": "pyout",
       "prompt_number": 90,
       "text": [
        "3"
       ]
      }
     ],
     "prompt_number": 90
    },
    {
     "cell_type": "code",
     "collapsed": false,
     "input": [
      "ex = :(3 + (4 - 7))"
     ],
     "language": "python",
     "metadata": {},
     "outputs": [
      {
       "metadata": {},
       "output_type": "pyout",
       "prompt_number": 91,
       "text": [
        ":(3 + (4 - 7))"
       ]
      }
     ],
     "prompt_number": 91
    },
    {
     "cell_type": "code",
     "collapsed": false,
     "input": [
      "eval(ex)"
     ],
     "language": "python",
     "metadata": {},
     "outputs": [
      {
       "metadata": {},
       "output_type": "pyout",
       "prompt_number": 92,
       "text": [
        "0"
       ]
      }
     ],
     "prompt_number": 92
    },
    {
     "cell_type": "code",
     "collapsed": false,
     "input": [
      "dump(ex)"
     ],
     "language": "python",
     "metadata": {},
     "outputs": [
      {
       "output_type": "stream",
       "stream": "stdout",
       "text": [
        "Expr "
       ]
      },
      {
       "output_type": "stream",
       "stream": "stdout",
       "text": [
        "\n",
        "  head: Symbol call\n",
        "  args: Array(Any,(3,))\n",
        "    1: Symbol +\n",
        "    2: Int64"
       ]
      },
      {
       "output_type": "stream",
       "stream": "stdout",
       "text": [
        " 3\n",
        "    3: Expr \n",
        "      head: Symbol call\n",
        "      args: Array(Any,(3,))\n",
        "        1: Symbol -\n",
        "        2: Int64 4\n",
        "        3: Int64 7\n",
        "      typ: Any\n",
        "  typ: Any\n"
       ]
      }
     ],
     "prompt_number": 93
    },
    {
     "cell_type": "code",
     "collapsed": false,
     "input": [
      "macro duplicar(expr)\n",
      "    @show expr.args\n",
      "    expr.args[2] = 4\n",
      "    @show expr.args\n",
      "    :(esc($expr))\n",
      "end"
     ],
     "language": "python",
     "metadata": {},
     "outputs": [],
     "prompt_number": 131
    },
    {
     "cell_type": "code",
     "collapsed": false,
     "input": [
      "@duplicar(3 + sin(3))"
     ],
     "language": "python",
     "metadata": {},
     "outputs": [
      {
       "output_type": "stream",
       "stream": "stdout",
       "text": [
        "expr.args => {:+,3,:(sin(3))}"
       ]
      },
      {
       "output_type": "stream",
       "stream": "stdout",
       "text": [
        "\n",
        "expr.args => {:+,4,:(sin(3))}\n"
       ]
      },
      {
       "metadata": {},
       "output_type": "pyout",
       "prompt_number": 132,
       "text": [
        ":($(Expr(:escape, 4.141120008059867)))"
       ]
      }
     ],
     "prompt_number": 132
    },
    {
     "cell_type": "code",
     "collapsed": false,
     "input": [],
     "language": "python",
     "metadata": {},
     "outputs": []
    }
   ],
   "metadata": {}
  }
 ]
}