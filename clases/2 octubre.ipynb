{
 "metadata": {
  "language": "Julia",
  "name": "",
  "signature": "sha256:323b45595e27512060aaccb1246c67b29384e132c4716a7229ccab60a013c7d5"
 },
 "nbformat": 3,
 "nbformat_minor": 0,
 "worksheets": [
  {
   "cells": [
    {
     "cell_type": "code",
     "collapsed": false,
     "input": [
      "using PyPlot"
     ],
     "language": "python",
     "metadata": {},
     "outputs": [
      {
       "output_type": "stream",
       "stream": "stderr",
       "text": [
        "INFO: Loading help data...\n"
       ]
      }
     ],
     "prompt_number": 1
    },
    {
     "cell_type": "code",
     "collapsed": false,
     "input": [
      "h = 10\n",
      "\n",
      "x1, y1 = 0, h\n",
      "x2, y2 = 3, 0"
     ],
     "language": "python",
     "metadata": {},
     "outputs": [
      {
       "metadata": {},
       "output_type": "pyout",
       "prompt_number": 2,
       "text": [
        "(3,0)"
       ]
      }
     ],
     "prompt_number": 2
    },
    {
     "cell_type": "markdown",
     "metadata": {},
     "source": [
      "\u00bfC\u00f3mo puedo dibujar una l\u00ednea entre estos dos puntos?\n",
      "\n",
      "PyPlot agarra arreglos de "
     ]
    },
    {
     "cell_type": "code",
     "collapsed": false,
     "input": [
      "plot([x1, x2], [y1, y2])\n",
      "plot([0, 0], [y1, 0], \"--\")\n",
      "plot(x2, y2, \"rs\", markersize=20)\n",
      "# markersize=20 es un \"argumento de palabra clave\"\n",
      "# (\"keyword argument\")\n",
      "\n",
      "axis(\"equal\")\n",
      "\n",
      "text(3.5, 0, L\"$m$\", fontsize=20)\n",
      "\n",
      "ylim(-1, 10)\n",
      "\n",
      "savefig(\"pendulo.pdf\")\n",
      "savefig(\"pendulo.png\")\n"
     ],
     "language": "python",
     "metadata": {},
     "outputs": [
      {
       "metadata": {},
       "output_type": "display_data",
       "png": "[encoded data removed]",
       "text": [
        "Figure(PyObject <matplotlib.figure.Figure object at 0x10fb5ee10>)"
       ]
      }
     ],
     "prompt_number": 30
    },
    {
     "cell_type": "code",
     "collapsed": false,
     "input": [
      ";pwd"
     ],
     "language": "python",
     "metadata": {},
     "outputs": [
      {
       "output_type": "stream",
       "stream": "stdout",
       "text": [
        "/Users/david/Dropbox/docencia/fisica_computacional/2015-1/clases\n"
       ]
      }
     ],
     "prompt_number": 28
    },
    {
     "cell_type": "code",
     "collapsed": false,
     "input": [
      ";ls"
     ],
     "language": "python",
     "metadata": {},
     "outputs": [
      {
       "output_type": "stream",
       "stream": "stdout",
       "text": [
        "11 de septiembre - Marduk.ipynb\n",
        "18 de septiembre - Marduk.ipynb\n",
        "19 agosto 2014.ipynb\n",
        "2 octubre.ipynb\n",
        "2 septiembre.ipynb\n",
        "21-agosto.ipynb\n",
        "23 de septiembre - Marduk.ipynb\n",
        "9 de septiembre - Marduk.ipynb\n",
        "9 septiembre.ipynb\n",
        "Algoritmos iterativos.ipynb\n",
        "Clase 12 agosto.ipynb\n",
        "Clase 7 agosto.ipynb\n",
        "pendulo.pdf\n",
        "sinplot.gif\n",
        "sinplot.mp4\n"
       ]
      }
     ],
     "prompt_number": 27
    },
    {
     "cell_type": "code",
     "collapsed": false,
     "input": [
      ";open pendulo.pdf"
     ],
     "language": "python",
     "metadata": {},
     "outputs": [],
     "prompt_number": 29
    },
    {
     "cell_type": "code",
     "collapsed": false,
     "input": [
      ";open pendulo.png"
     ],
     "language": "python",
     "metadata": {},
     "outputs": [],
     "prompt_number": 31
    },
    {
     "cell_type": "code",
     "collapsed": false,
     "input": [
      "?text"
     ],
     "language": "python",
     "metadata": {},
     "outputs": [
      {
       "output_type": "stream",
       "stream": "stdout",
       "text": [
        "Call signature::\n",
        "\n",
        "  text(x, y, s, fontdict=None, **kwargs)\n",
        "\n",
        "Add text in string *s* to axis at location *x*, *y*, data\n",
        "coordinates.\n",
        "\n",
        "Keyword arguments:\n",
        "\n",
        "  *fontdict*:\n",
        "    A dictionary to override the default text properties.\n",
        "    If *fontdict* is *None*, the defaults are determined by your rc\n",
        "    parameters.\n",
        "\n",
        "  *withdash*: [ *False* | *True* ]\n",
        "    Creates a :class:`~matplotlib.text.TextWithDash` instance\n",
        "    instead of a :class:`~matplotlib.text.Text` instance.\n",
        "\n",
        "Individual keyword arguments can be used to override any given\n",
        "parameter::\n",
        "\n",
        "    text(x, y, s, fontsize=12)\n",
        "\n",
        "The default transform specifies that text is in data coords,\n",
        "alternatively, you can specify text in axis coords (0,0 is\n",
        "lower-left and 1,1 is upper-right).  The example below places\n",
        "text in the center of the axes::\n",
        "\n",
        "    text(0.5, 0.5,'matplotlib',\n",
        "         horizontalalignment='center',\n",
        "         verticalalignment='center',\n",
        "         transform = ax.transAxes)\n",
        "\n",
        "You can put a rectangular box around the text instance (eg. to\n",
        "set a background color) by using the keyword *bbox*.  *bbox* is\n",
        "a dictionary of :class:`matplotlib.patches.Rectangle`\n",
        "properties.  For example::\n",
        "\n",
        " text(x, y, s, bbox=dict(facecolor='red', alpha=0.5))\n",
        "\n",
        "Valid kwargs are :class:`~matplotlib.text.Text` properties:\n",
        "\n",
        "  agg_filter: unknown\n",
        "  alpha: float (0.0 transparent through 1.0 opaque)         \n",
        "  animated: [True | False]         \n",
        "  axes: an :class:`~matplotlib.axes.Axes` instance         \n",
        "  backgroundcolor: any matplotlib color         \n",
        "  bbox: rectangle prop dict         \n",
        "  clip_box: a :class:`matplotlib.transforms.Bbox` instance         \n",
        "  clip_on: [True | False]         \n",
        "  clip_path: [ (:class:`~matplotlib.path.Path`,         :class:`~matplotlib.transforms.Transform`) |         :class:`~matplotlib.patches.Patch` | None ]         \n",
        "  color: any matplotlib color         \n",
        "  contains: a callable function         \n",
        "  family or fontfamily or fontname or name: [ FONTNAME | 'serif' | 'sans-serif' | 'cursive' | 'fantasy' | 'monospace' ]         \n",
        "  figure: a :class:`matplotlib.figure.Figure` instance         \n",
        "  fontproperties or font_properties: a :class:`matplotlib.font_manager.FontProperties` instance         \n",
        "  gid: an id string         \n",
        "  horizontalalignment or ha: [ 'center' | 'right' | 'left' ]         \n",
        "  label: any string         \n",
        "  linespacing: float (multiple of font size)         \n",
        "  lod: [True | False]         \n",
        "  multialignment: ['left' | 'right' | 'center' ]         \n",
        "  path_effects: unknown\n",
        "  picker: [None|float|boolean|callable]         \n",
        "  position: (x,y)         \n",
        "  rasterized: [True | False | None]         \n",
        "  rotation: [ angle in degrees | 'vertical' | 'horizontal' ]         \n",
        "  rotation_mode: unknown\n",
        "  size or fontsize: [ size in points | 'xx-small' | 'x-small' | 'small' | 'medium' | 'large' | 'x-large' | 'xx-large' ]         \n",
        "  snap: unknown\n",
        "  stretch or fontstretch: [ a numeric value in range 0-1000 | 'ultra-condensed' | 'extra-condensed' | 'condensed' | 'semi-condensed' | 'normal' | 'semi-expanded' | 'expanded' | 'extra-expanded' | 'ultra-expanded' ]         \n",
        "  style or fontstyle: [ 'normal' | 'italic' | 'oblique']         \n",
        "  text: string or anything printable with '%s' conversion.         \n",
        "  transform: :class:`~matplotlib.transforms.Transform` instance         \n",
        "  url: a url string         \n",
        "  variant or fontvariant: [ 'normal' | 'small-caps' ]         \n",
        "  verticalalignment or va or ma: [ 'center' | 'top' | 'bottom' | 'baseline' ]         \n",
        "  visible: [True | False]         \n",
        "  weight or fontweight: [ a numeric value in range 0-1000 | 'ultralight' | 'light' | 'normal' | 'regular' | 'book' | 'medium' | 'roman' | 'semibold' | 'demibold' | 'demi' | 'bold' | 'heavy' | 'extra bold' | 'black' ]         \n",
        "  x: float         \n",
        "  y: float         \n",
        "  zorder: any number\n"
       ]
      }
     ],
     "prompt_number": 21
    },
    {
     "cell_type": "markdown",
     "metadata": {},
     "source": [
      "Ejercicio: \u00bfC\u00f3mo marcar el \u00e1ngulo?"
     ]
    },
    {
     "cell_type": "markdown",
     "metadata": {},
     "source": [
      "Ojo: En Julia, hay una diferencia entre `'` y `\"`:"
     ]
    },
    {
     "cell_type": "code",
     "collapsed": false,
     "input": [
      "'a'"
     ],
     "language": "python",
     "metadata": {},
     "outputs": [
      {
       "metadata": {},
       "output_type": "pyout",
       "prompt_number": 9,
       "text": [
        "'a'"
       ]
      }
     ],
     "prompt_number": 9
    },
    {
     "cell_type": "code",
     "collapsed": false,
     "input": [
      "'ab'"
     ],
     "language": "python",
     "metadata": {},
     "outputs": [
      {
       "ename": "LoadError",
       "evalue": "syntax: invalid character literal\nwhile loading In[10], in expression starting on line 1",
       "output_type": "pyerr",
       "traceback": [
        "syntax: invalid character literal\nwhile loading In[10], in expression starting on line 1",
        ""
       ]
      }
     ],
     "prompt_number": 10
    },
    {
     "cell_type": "code",
     "collapsed": false,
     "input": [
      "\"ab\""
     ],
     "language": "python",
     "metadata": {},
     "outputs": [
      {
       "metadata": {},
       "output_type": "pyout",
       "prompt_number": 11,
       "text": [
        "\"ab\""
       ]
      }
     ],
     "prompt_number": 11
    },
    {
     "cell_type": "code",
     "collapsed": false,
     "input": [
      "?plot"
     ],
     "language": "python",
     "metadata": {},
     "outputs": [
      {
       "output_type": "stream",
       "stream": "stdout",
       "text": [
        "Plot lines and/or markers to the\n",
        ":class:`~matplotlib.axes.Axes`.  *args* is a variable length\n",
        "argument, allowing for multiple *x*, *y* pairs with an\n",
        "optional format string.  For example, each of the following is\n",
        "legal::\n",
        "\n",
        "    plot(x, y)         # plot x and y using default line style and color\n",
        "    plot(x, y, 'bo')   # plot x and y using blue circle markers\n",
        "    plot(y)            # plot y using x as index array 0..N-1\n",
        "    plot(y, 'r+')      # ditto, but with red plusses\n",
        "\n",
        "If *x* and/or *y* is 2-dimensional, then the corresponding columns\n",
        "will be plotted.\n",
        "\n",
        "An arbitrary number of *x*, *y*, *fmt* groups can be\n",
        "specified, as in::\n",
        "\n",
        "    a.plot(x1, y1, 'g^', x2, y2, 'g-')\n",
        "\n",
        "Return value is a list of lines that were added.\n",
        "\n",
        "The following format string characters are accepted to control\n",
        "the line style or marker:\n",
        "\n",
        "================    ===============================\n",
        "character           description\n",
        "================    ===============================\n",
        "``'-'``             solid line style\n",
        "``'--'``            dashed line style\n",
        "``'-.'``            dash-dot line style\n",
        "``':'``             dotted line style\n",
        "``'.'``             point marker\n",
        "``','``             pixel marker\n",
        "``'o'``             circle marker\n",
        "``'v'``             triangle_down marker\n",
        "``'^'``             triangle_up marker\n",
        "``'<'``             triangle_left marker\n",
        "``'>'``             triangle_right marker\n",
        "``'1'``             tri_down marker\n",
        "``'2'``             tri_up marker\n",
        "``'3'``             tri_left marker\n",
        "``'4'``             tri_right marker\n",
        "``'s'``             square marker\n",
        "``'p'``             pentagon marker\n",
        "``'*'``             star marker\n",
        "``'h'``             hexagon1 marker\n",
        "``'H'``             hexagon2 marker\n",
        "``'+'``             plus marker\n",
        "``'x'``             x marker\n",
        "``'D'``             diamond marker\n",
        "``'d'``             thin_diamond marker\n",
        "``'|'``             vline marker\n",
        "``'_'``             hline marker\n",
        "================    ===============================\n",
        "\n",
        "\n",
        "The following color abbreviations are supported:\n",
        "\n",
        "==========  ========\n",
        "character   color\n",
        "==========  ========\n",
        "'b'         blue\n",
        "'g'         green\n",
        "'r'         red\n",
        "'c'         cyan\n",
        "'m'         magenta\n",
        "'y'         yellow\n",
        "'k'         black\n",
        "'w'         white\n",
        "==========  ========\n",
        "\n",
        "In addition, you can specify colors in many weird and\n",
        "wonderful ways, including full names (``'green'``), hex\n",
        "strings (``'#008000'``), RGB or RGBA tuples (``(0,1,0,1)``) or\n",
        "grayscale intensities as a string (``'0.8'``).  Of these, the\n",
        "string specifications can be used in place of a ``fmt`` group,\n",
        "but the tuple forms can be used only as ``kwargs``.\n",
        "\n",
        "Line styles and colors are combined in a single format string, as in\n",
        "``'bo'`` for blue circles.\n",
        "\n",
        "The *kwargs* can be used to set line properties (any property that has\n",
        "a ``set_*`` method).  You can use this to set a line label (for auto\n",
        "legends), linewidth, anitialising, marker face color, etc.  Here is an\n",
        "example::\n",
        "\n",
        "    plot([1,2,3], [1,2,3], 'go-', label='line 1', linewidth=2)\n",
        "    plot([1,2,3], [1,4,9], 'rs',  label='line 2')\n",
        "    axis([0, 4, 0, 10])\n",
        "    legend()\n",
        "\n",
        "If you make multiple lines with one plot command, the kwargs\n",
        "apply to all those lines, e.g.::\n",
        "\n",
        "    plot(x1, y1, x2, y2, antialised=False)\n",
        "\n",
        "Neither line will be antialiased.\n",
        "\n",
        "You do not need to use format strings, which are just\n",
        "abbreviations.  All of the line properties can be controlled\n",
        "by keyword arguments.  For example, you can set the color,\n",
        "marker, linestyle, and markercolor with::\n",
        "\n",
        "    plot(x, y, color='green', linestyle='dashed', marker='o',\n",
        "         markerfacecolor='blue', markersize=12).  See\n",
        "         :class:`~matplotlib.lines.Line2D` for details.\n",
        "\n",
        "The kwargs are :class:`~matplotlib.lines.Line2D` properties:\n",
        "\n",
        "  agg_filter: unknown\n",
        "  alpha: float (0.0 transparent through 1.0 opaque)         \n",
        "  animated: [True | False]         \n",
        "  antialiased or aa: [True | False]         \n",
        "  axes: an :class:`~matplotlib.axes.Axes` instance         \n",
        "  clip_box: a :class:`matplotlib.transforms.Bbox` instance         \n",
        "  clip_on: [True | False]         \n",
        "  clip_path: [ (:class:`~matplotlib.path.Path`,         :class:`~matplotlib.transforms.Transform`) |         :class:`~matplotlib.patches.Patch` | None ]         \n",
        "  color or c: any matplotlib color         \n",
        "  contains: a callable function         \n",
        "  dash_capstyle: ['butt' | 'round' | 'projecting']         \n",
        "  dash_joinstyle: ['miter' | 'round' | 'bevel']         \n",
        "  dashes: sequence of on/off ink in points         \n",
        "  data: 2D array (rows are x, y) or two 1D arrays         \n",
        "  drawstyle: [ 'default' | 'steps' | 'steps-pre' | 'steps-mid' | 'steps-post' ]         \n",
        "  figure: a :class:`matplotlib.figure.Figure` instance         \n",
        "  fillstyle: ['full' | 'left' | 'right' | 'bottom' | 'top']         \n",
        "  gid: an id string         \n",
        "  label: any string         \n",
        "  linestyle or ls: [ ``'-'`` | ``'--'`` | ``'-.'`` | ``':'`` | ``'None'`` | ``' '`` | ``''`` ]         and any drawstyle in combination with a linestyle, e.g. ``'steps--'``.         \n",
        "  linewidth or lw: float value in points         \n",
        "  lod: [True | False]         \n",
        "  marker: [ ``7`` | ``4`` | ``5`` | ``6`` | ``'o'`` | ``'D'`` | ``'h'`` | ``'H'`` | ``'_'`` | ``''`` | ``'None'`` | ``None`` | ``' '`` | ``'8'`` | ``'p'`` | ``','`` | ``'+'`` | ``'.'`` | ``'s'`` | ``'*'`` | ``'d'`` | ``3`` | ``0`` | ``1`` | ``2`` | ``'1'`` | ``'3'`` | ``'4'`` | ``'2'`` | ``'v'`` | ``'<'`` | ``'>'`` | ``'^'`` | ``'|'`` | ``'x'`` | ``'$...$'`` | *tuple* | *Nx2 array* ]\n",
        "  markeredgecolor or mec: any matplotlib color         \n",
        "  markeredgewidth or mew: float value in points         \n",
        "  markerfacecolor or mfc: any matplotlib color         \n",
        "  markerfacecoloralt or mfcalt: any matplotlib color         \n",
        "  markersize or ms: float         \n",
        "  markevery: None | integer | (startind, stride)\n",
        "  picker: float distance in points or callable pick function         ``fn(artist, event)``         \n",
        "  pickradius: float distance in points         \n",
        "  rasterized: [True | False | None]         \n",
        "  snap: unknown\n",
        "  solid_capstyle: ['butt' | 'round' |  'projecting']         \n",
        "  solid_joinstyle: ['miter' | 'round' | 'bevel']         \n",
        "  transform: a :class:`matplotlib.transforms.Transform` instance         \n",
        "  url: a url string         \n",
        "  visible: [True | False]         \n",
        "  xdata: 1D array         \n",
        "  ydata: 1D array         \n",
        "  zorder: any number         \n",
        "\n",
        "kwargs *scalex* and *scaley*, if defined, are passed on to\n",
        ":meth:`~matplotlib.axes.Axes.autoscale_view` to determine\n",
        "whether the *x* and *y* axes are autoscaled; the default is\n",
        "*True*.\n",
        "\n",
        "Additional kwargs: hold = [True|False] overrides default hold state\n"
       ]
      }
     ],
     "prompt_number": 8
    },
    {
     "cell_type": "markdown",
     "metadata": {},
     "source": [
      "![Mi p\u00e9ndulo bonito](pendulo.png)"
     ]
    },
    {
     "cell_type": "markdown",
     "metadata": {},
     "source": [
      ";pwd"
     ]
    },
    {
     "cell_type": "markdown",
     "metadata": {},
     "source": [
      "![](http://upload.wikimedia.org/wikipedia/commons/2/2b/Moglfm1309_pendulosimple.jpg)"
     ]
    },
    {
     "cell_type": "markdown",
     "metadata": {},
     "source": [
      "[Wiki p\u00e9ndulo](http://es.wikipedia.org/wiki/P%C3%A9ndulo_simple)"
     ]
    },
    {
     "cell_type": "code",
     "collapsed": false,
     "input": [
      "Pkg.build(\"SymPy\")"
     ],
     "language": "python",
     "metadata": {},
     "outputs": [],
     "prompt_number": 36
    },
    {
     "cell_type": "code",
     "collapsed": false,
     "input": [
      "using SymPy"
     ],
     "language": "python",
     "metadata": {},
     "outputs": [
      {
       "ename": "LoadError",
       "evalue": "PyError (PyImport_ImportModule) <type 'exceptions.ImportError'>\nImportError('No module named sympy',)\n\nwhile loading /Users/david/.julia/v0.3/SymPy/src/SymPy.jl, in expression starting on line 761\nwhile loading In[1], in expression starting on line 1",
       "output_type": "pyerr",
       "traceback": [
        "PyError (PyImport_ImportModule) <type 'exceptions.ImportError'>\nImportError('No module named sympy',)\n\nwhile loading /Users/david/.julia/v0.3/SymPy/src/SymPy.jl, in expression starting on line 761\nwhile loading In[1], in expression starting on line 1",
        "",
        " in pyerr_check at /Users/david/.julia/v0.3/PyCall/src/exception.jl:58",
        " in pyimport at /Users/david/.julia/v0.3/PyCall/src/PyCall.jl:85",
        " in include at ./boot.jl:245",
        " in include_from_node1 at ./loading.jl:128",
        " in reload_path at loading.jl:152",
        " in _require at loading.jl:67",
        " in require at loading.jl:51"
       ]
      }
     ],
     "prompt_number": 1
    },
    {
     "cell_type": "heading",
     "level": 1,
     "metadata": {},
     "source": [
      "\"Biblioteca\" o \"paquete\" en Julia"
     ]
    },
    {
     "cell_type": "code",
     "collapsed": false,
     "input": [
      ";touch ejemplo.jl"
     ],
     "language": "python",
     "metadata": {},
     "outputs": [],
     "prompt_number": 2
    },
    {
     "cell_type": "code",
     "collapsed": false,
     "input": [
      ";open ejemplo.jl"
     ],
     "language": "python",
     "metadata": {},
     "outputs": [],
     "prompt_number": 3
    },
    {
     "cell_type": "code",
     "collapsed": false,
     "input": [
      ";cat ejemplo.j"
     ],
     "language": "python",
     "metadata": {},
     "outputs": []
    }
   ],
   "metadata": {}
  }
 ]
}